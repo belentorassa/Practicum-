{
 "cells": [
  {
   "cell_type": "markdown",
   "metadata": {},
   "source": [
    "# Descripción del proyecto\n",
    "\n",
    "La tienda online Ice que vende videojuegos por todo el mundo ha encomendado identificar patrones que determinen si un juego tiene éxito o no con el fin de detectar proyectos prometedores y planificar campañas publicitarias. Contamos con todos los datos  de: las reseñas de usuarios y expertos, los géneros, las plataformas y los datos históricos sobre las ventas de juegos que están disponibles en fuentes abiertas (los datos se remontan a 2016).\n",
    "A continuación se detallan los pasos a seguir para completar el proyecto:\n",
    "\n",
    "### Carga de datos y evaluación general de la información\n",
    "Se cargará el archivo con los datos proporcionados y se realizará una evaluación general de la misma con el objetivo de detectar: datos ausentes, tipo de objetos incorrectos,  cantidad de datos proporcionados, etc.\n",
    "\n",
    "### Preparación de datos\n",
    "\n",
    "En función al análisis del primer paso, se procederá a realizar las correcciones necesarias de los tipos de datos y/o nombres de las columnas y a completar valores ausentes (si fuera posible). \n",
    "A su vez, se agregara columnas que fueran necesarias para realizar cálculos en el paso siguiente.\n",
    "\n",
    "###  Análisis de datos\n",
    "\n",
    "En este paso realizaremos distintos tipos de análisis para determinar:\n",
    "* Cuántos juegos fueron lanzados en diferentes años.\n",
    "* Cómo varían las ventas de una plataforma a otra: cuales tienen mayores y menores ventas, cuanto tardan en aparecer/desaparecer las distintas plataformas, cuáles crecen y cuáles se reducen, cuales son potencialmente rentables.\n",
    "* Las ventas globales de todos los juegos, desglosados por plataforma y la diferencia entre sus ventas promedio.\n",
    "* El impacto de las reseñas de usuarios y profesionales sobre  las ventas de una plataforma popular \n",
    "* Las ventas de los mismos juegos en distintas plataformas.\n",
    "* La distribución general de los juegos por género y la rentabilidad de los mismos\n",
    "\n",
    "###  Creación de un perfil de usuario para cada región\n",
    "\n",
    "Para cada región se analizarán:\n",
    "* Las cinco plataformas principales y sus cuotas de mercado\n",
    "* Los cinco géneros principales\n",
    "* El impacto de las clasificaciones de ESRB sobre las ventas\n",
    "\n",
    "###  Prueba de hipótesis:\n",
    "\n",
    "Se probarán las siguientes hipótesis para luego sacar conclusiones:\n",
    "\n",
    "* Las calificaciones promedio de los usuarios para las plataformas Xbox One y PC son las mismas.\n",
    "* Las calificaciones promedio de los usuarios para los géneros de Acción y Deportes son diferentes.\n",
    "\n",
    "### Conclusión general\n",
    "\n",
    "Se detallaran en este paso, todos los hallazgos resultante de los análisis de los pasos anteriores\n"
   ]
  },
  {
   "cell_type": "markdown",
   "metadata": {},
   "source": [
    " ##  Carga de datos y evaluación general de la información"
   ]
  },
  {
   "cell_type": "code",
   "execution_count": 3,
   "metadata": {},
   "outputs": [],
   "source": [
    "#importacion de librerias\n",
    "import pandas as pd\n",
    "import numpy as np\n",
    "import matplotlib.pyplot as plt\n",
    "from scipy import stats as st"
   ]
  },
  {
   "cell_type": "code",
   "execution_count": 4,
   "metadata": {},
   "outputs": [],
   "source": [
    "#cargamos los datos\n",
    "df= pd.read_csv('/datasets/games.csv')"
   ]
  },
  {
   "cell_type": "code",
   "execution_count": 5,
   "metadata": {},
   "outputs": [
    {
     "name": "stdout",
     "output_type": "stream",
     "text": [
      "<class 'pandas.core.frame.DataFrame'>\n",
      "RangeIndex: 16715 entries, 0 to 16714\n",
      "Data columns (total 11 columns):\n",
      " #   Column           Non-Null Count  Dtype  \n",
      "---  ------           --------------  -----  \n",
      " 0   Name             16713 non-null  object \n",
      " 1   Platform         16715 non-null  object \n",
      " 2   Year_of_Release  16446 non-null  float64\n",
      " 3   Genre            16713 non-null  object \n",
      " 4   NA_sales         16715 non-null  float64\n",
      " 5   EU_sales         16715 non-null  float64\n",
      " 6   JP_sales         16715 non-null  float64\n",
      " 7   Other_sales      16715 non-null  float64\n",
      " 8   Critic_Score     8137 non-null   float64\n",
      " 9   User_Score       10014 non-null  object \n",
      " 10  Rating           9949 non-null   object \n",
      "dtypes: float64(6), object(5)\n",
      "memory usage: 1.4+ MB\n"
     ]
    }
   ],
   "source": [
    "#informacion general\n",
    "df.info()\n"
   ]
  },
  {
   "cell_type": "markdown",
   "metadata": {},
   "source": [
    "- EL dataset presenta valores ausentes y tipo de datos incorrectos"
   ]
  },
  {
   "cell_type": "code",
   "execution_count": 6,
   "metadata": {},
   "outputs": [
    {
     "data": {
      "text/html": [
       "<div>\n",
       "<style scoped>\n",
       "    .dataframe tbody tr th:only-of-type {\n",
       "        vertical-align: middle;\n",
       "    }\n",
       "\n",
       "    .dataframe tbody tr th {\n",
       "        vertical-align: top;\n",
       "    }\n",
       "\n",
       "    .dataframe thead th {\n",
       "        text-align: right;\n",
       "    }\n",
       "</style>\n",
       "<table border=\"1\" class=\"dataframe\">\n",
       "  <thead>\n",
       "    <tr style=\"text-align: right;\">\n",
       "      <th></th>\n",
       "      <th>Name</th>\n",
       "      <th>Platform</th>\n",
       "      <th>Year_of_Release</th>\n",
       "      <th>Genre</th>\n",
       "      <th>NA_sales</th>\n",
       "      <th>EU_sales</th>\n",
       "      <th>JP_sales</th>\n",
       "      <th>Other_sales</th>\n",
       "      <th>Critic_Score</th>\n",
       "      <th>User_Score</th>\n",
       "      <th>Rating</th>\n",
       "    </tr>\n",
       "  </thead>\n",
       "  <tbody>\n",
       "    <tr>\n",
       "      <th>0</th>\n",
       "      <td>Wii Sports</td>\n",
       "      <td>Wii</td>\n",
       "      <td>2006.0</td>\n",
       "      <td>Sports</td>\n",
       "      <td>41.36</td>\n",
       "      <td>28.96</td>\n",
       "      <td>3.77</td>\n",
       "      <td>8.45</td>\n",
       "      <td>76.0</td>\n",
       "      <td>8</td>\n",
       "      <td>E</td>\n",
       "    </tr>\n",
       "    <tr>\n",
       "      <th>1</th>\n",
       "      <td>Super Mario Bros.</td>\n",
       "      <td>NES</td>\n",
       "      <td>1985.0</td>\n",
       "      <td>Platform</td>\n",
       "      <td>29.08</td>\n",
       "      <td>3.58</td>\n",
       "      <td>6.81</td>\n",
       "      <td>0.77</td>\n",
       "      <td>NaN</td>\n",
       "      <td>NaN</td>\n",
       "      <td>NaN</td>\n",
       "    </tr>\n",
       "    <tr>\n",
       "      <th>2</th>\n",
       "      <td>Mario Kart Wii</td>\n",
       "      <td>Wii</td>\n",
       "      <td>2008.0</td>\n",
       "      <td>Racing</td>\n",
       "      <td>15.68</td>\n",
       "      <td>12.76</td>\n",
       "      <td>3.79</td>\n",
       "      <td>3.29</td>\n",
       "      <td>82.0</td>\n",
       "      <td>8.3</td>\n",
       "      <td>E</td>\n",
       "    </tr>\n",
       "    <tr>\n",
       "      <th>3</th>\n",
       "      <td>Wii Sports Resort</td>\n",
       "      <td>Wii</td>\n",
       "      <td>2009.0</td>\n",
       "      <td>Sports</td>\n",
       "      <td>15.61</td>\n",
       "      <td>10.93</td>\n",
       "      <td>3.28</td>\n",
       "      <td>2.95</td>\n",
       "      <td>80.0</td>\n",
       "      <td>8</td>\n",
       "      <td>E</td>\n",
       "    </tr>\n",
       "    <tr>\n",
       "      <th>4</th>\n",
       "      <td>Pokemon Red/Pokemon Blue</td>\n",
       "      <td>GB</td>\n",
       "      <td>1996.0</td>\n",
       "      <td>Role-Playing</td>\n",
       "      <td>11.27</td>\n",
       "      <td>8.89</td>\n",
       "      <td>10.22</td>\n",
       "      <td>1.00</td>\n",
       "      <td>NaN</td>\n",
       "      <td>NaN</td>\n",
       "      <td>NaN</td>\n",
       "    </tr>\n",
       "  </tbody>\n",
       "</table>\n",
       "</div>"
      ],
      "text/plain": [
       "                       Name Platform  Year_of_Release         Genre  NA_sales  \\\n",
       "0                Wii Sports      Wii           2006.0        Sports     41.36   \n",
       "1         Super Mario Bros.      NES           1985.0      Platform     29.08   \n",
       "2            Mario Kart Wii      Wii           2008.0        Racing     15.68   \n",
       "3         Wii Sports Resort      Wii           2009.0        Sports     15.61   \n",
       "4  Pokemon Red/Pokemon Blue       GB           1996.0  Role-Playing     11.27   \n",
       "\n",
       "   EU_sales  JP_sales  Other_sales  Critic_Score User_Score Rating  \n",
       "0     28.96      3.77         8.45          76.0          8      E  \n",
       "1      3.58      6.81         0.77           NaN        NaN    NaN  \n",
       "2     12.76      3.79         3.29          82.0        8.3      E  \n",
       "3     10.93      3.28         2.95          80.0          8      E  \n",
       "4      8.89     10.22         1.00           NaN        NaN    NaN  "
      ]
     },
     "execution_count": 6,
     "metadata": {},
     "output_type": "execute_result"
    }
   ],
   "source": [
    "df.head()\n"
   ]
  },
  {
   "cell_type": "markdown",
   "metadata": {},
   "source": [
    " ## Preparación de los datos"
   ]
  },
  {
   "cell_type": "code",
   "execution_count": 7,
   "metadata": {},
   "outputs": [
    {
     "data": {
      "text/plain": [
       "Index(['name', 'platform', 'year_of_release', 'genre', 'na_sales', 'eu_sales',\n",
       "       'jp_sales', 'other_sales', 'critic_score', 'user_score', 'rating'],\n",
       "      dtype='object')"
      ]
     },
     "execution_count": 7,
     "metadata": {},
     "output_type": "execute_result"
    }
   ],
   "source": [
    "#Nombres de las columnas a minusculas\n",
    "df.columns= df.columns.str.lower()\n",
    "df.columns"
   ]
  },
  {
   "cell_type": "code",
   "execution_count": 8,
   "metadata": {},
   "outputs": [
    {
     "name": "stdout",
     "output_type": "stream",
     "text": [
      "<class 'pandas.core.frame.DataFrame'>\n",
      "RangeIndex: 16715 entries, 0 to 16714\n",
      "Data columns (total 11 columns):\n",
      " #   Column           Non-Null Count  Dtype  \n",
      "---  ------           --------------  -----  \n",
      " 0   name             16713 non-null  object \n",
      " 1   platform         16715 non-null  object \n",
      " 2   year_of_release  16446 non-null  Int64  \n",
      " 3   genre            16713 non-null  object \n",
      " 4   na_sales         16715 non-null  float64\n",
      " 5   eu_sales         16715 non-null  float64\n",
      " 6   jp_sales         16715 non-null  float64\n",
      " 7   other_sales      16715 non-null  float64\n",
      " 8   critic_score     8137 non-null   float64\n",
      " 9   user_score       7590 non-null   float64\n",
      " 10  rating           9949 non-null   object \n",
      "dtypes: Int64(1), float64(6), object(4)\n",
      "memory usage: 1.4+ MB\n"
     ]
    }
   ],
   "source": [
    "#cambiamos tipo de dato de user score y de year_of _release al tipo float e integer respectivamente\n",
    "\n",
    "df['year_of_release'] = df['year_of_release'].astype('Int64')\n",
    "\n",
    "# el valor TDB de user score se reemplaza por NAN par aluego poder convertir los datos al tipo float\n",
    "df['user_score']= df['user_score'].replace('tbd', np.nan)\n",
    "df['user_score'] = df['user_score'].astype('float64')\n",
    "df.info()"
   ]
  },
  {
   "cell_type": "code",
   "execution_count": 9,
   "metadata": {},
   "outputs": [],
   "source": [
    "#completamos los ausentes de categoricas con \"unknown\"\n",
    "df['name'] = df['name'].fillna('unknown')\n",
    "df['genre'] = df['genre'].fillna('unknown')"
   ]
  },
  {
   "cell_type": "markdown",
   "metadata": {},
   "source": [
    "- Los valores ausentes de score no pueden completarse a partir de datos del dataset, por lo que no se rellenan. Los valores ausentes de rating y año de lanzamiento tampoco pueden rellenarse con valores del dataset, podria evaluarse de ser necesario adquirir dicha informacion de una fuente externa\n",
    "   "
   ]
  },
  {
   "cell_type": "code",
   "execution_count": 10,
   "metadata": {},
   "outputs": [
    {
     "data": {
      "text/html": [
       "<div>\n",
       "<style scoped>\n",
       "    .dataframe tbody tr th:only-of-type {\n",
       "        vertical-align: middle;\n",
       "    }\n",
       "\n",
       "    .dataframe tbody tr th {\n",
       "        vertical-align: top;\n",
       "    }\n",
       "\n",
       "    .dataframe thead th {\n",
       "        text-align: right;\n",
       "    }\n",
       "</style>\n",
       "<table border=\"1\" class=\"dataframe\">\n",
       "  <thead>\n",
       "    <tr style=\"text-align: right;\">\n",
       "      <th></th>\n",
       "      <th>name</th>\n",
       "      <th>platform</th>\n",
       "      <th>year_of_release</th>\n",
       "      <th>genre</th>\n",
       "      <th>na_sales</th>\n",
       "      <th>eu_sales</th>\n",
       "      <th>jp_sales</th>\n",
       "      <th>other_sales</th>\n",
       "      <th>critic_score</th>\n",
       "      <th>user_score</th>\n",
       "      <th>rating</th>\n",
       "      <th>total_sales</th>\n",
       "    </tr>\n",
       "  </thead>\n",
       "  <tbody>\n",
       "    <tr>\n",
       "      <th>0</th>\n",
       "      <td>Wii Sports</td>\n",
       "      <td>Wii</td>\n",
       "      <td>2006</td>\n",
       "      <td>Sports</td>\n",
       "      <td>41.36</td>\n",
       "      <td>28.96</td>\n",
       "      <td>3.77</td>\n",
       "      <td>8.45</td>\n",
       "      <td>76.0</td>\n",
       "      <td>8.0</td>\n",
       "      <td>E</td>\n",
       "      <td>74.09</td>\n",
       "    </tr>\n",
       "    <tr>\n",
       "      <th>1</th>\n",
       "      <td>Super Mario Bros.</td>\n",
       "      <td>NES</td>\n",
       "      <td>1985</td>\n",
       "      <td>Platform</td>\n",
       "      <td>29.08</td>\n",
       "      <td>3.58</td>\n",
       "      <td>6.81</td>\n",
       "      <td>0.77</td>\n",
       "      <td>NaN</td>\n",
       "      <td>NaN</td>\n",
       "      <td>NaN</td>\n",
       "      <td>39.47</td>\n",
       "    </tr>\n",
       "    <tr>\n",
       "      <th>2</th>\n",
       "      <td>Mario Kart Wii</td>\n",
       "      <td>Wii</td>\n",
       "      <td>2008</td>\n",
       "      <td>Racing</td>\n",
       "      <td>15.68</td>\n",
       "      <td>12.76</td>\n",
       "      <td>3.79</td>\n",
       "      <td>3.29</td>\n",
       "      <td>82.0</td>\n",
       "      <td>8.3</td>\n",
       "      <td>E</td>\n",
       "      <td>32.23</td>\n",
       "    </tr>\n",
       "    <tr>\n",
       "      <th>3</th>\n",
       "      <td>Wii Sports Resort</td>\n",
       "      <td>Wii</td>\n",
       "      <td>2009</td>\n",
       "      <td>Sports</td>\n",
       "      <td>15.61</td>\n",
       "      <td>10.93</td>\n",
       "      <td>3.28</td>\n",
       "      <td>2.95</td>\n",
       "      <td>80.0</td>\n",
       "      <td>8.0</td>\n",
       "      <td>E</td>\n",
       "      <td>29.82</td>\n",
       "    </tr>\n",
       "    <tr>\n",
       "      <th>4</th>\n",
       "      <td>Pokemon Red/Pokemon Blue</td>\n",
       "      <td>GB</td>\n",
       "      <td>1996</td>\n",
       "      <td>Role-Playing</td>\n",
       "      <td>11.27</td>\n",
       "      <td>8.89</td>\n",
       "      <td>10.22</td>\n",
       "      <td>1.00</td>\n",
       "      <td>NaN</td>\n",
       "      <td>NaN</td>\n",
       "      <td>NaN</td>\n",
       "      <td>30.38</td>\n",
       "    </tr>\n",
       "  </tbody>\n",
       "</table>\n",
       "</div>"
      ],
      "text/plain": [
       "                       name platform  year_of_release         genre  na_sales  \\\n",
       "0                Wii Sports      Wii             2006        Sports     41.36   \n",
       "1         Super Mario Bros.      NES             1985      Platform     29.08   \n",
       "2            Mario Kart Wii      Wii             2008        Racing     15.68   \n",
       "3         Wii Sports Resort      Wii             2009        Sports     15.61   \n",
       "4  Pokemon Red/Pokemon Blue       GB             1996  Role-Playing     11.27   \n",
       "\n",
       "   eu_sales  jp_sales  other_sales  critic_score  user_score rating  \\\n",
       "0     28.96      3.77         8.45          76.0         8.0      E   \n",
       "1      3.58      6.81         0.77           NaN         NaN    NaN   \n",
       "2     12.76      3.79         3.29          82.0         8.3      E   \n",
       "3     10.93      3.28         2.95          80.0         8.0      E   \n",
       "4      8.89     10.22         1.00           NaN         NaN    NaN   \n",
       "\n",
       "   total_sales  \n",
       "0        74.09  \n",
       "1        39.47  \n",
       "2        32.23  \n",
       "3        29.82  \n",
       "4        30.38  "
      ]
     },
     "execution_count": 10,
     "metadata": {},
     "output_type": "execute_result"
    }
   ],
   "source": [
    "#calculo de ventas totales\n",
    "df['total_sales'] = df['na_sales']+df['eu_sales']+df['jp_sales']\n",
    "df.head()"
   ]
  },
  {
   "cell_type": "markdown",
   "metadata": {},
   "source": [
    "## Analisis de datos"
   ]
  },
  {
   "cell_type": "code",
   "execution_count": 11,
   "metadata": {},
   "outputs": [
    {
     "data": {
      "text/plain": [
       "Text(0.5, 1.0, 'Evolucion lanzamiento de juegos')"
      ]
     },
     "execution_count": 11,
     "metadata": {},
     "output_type": "execute_result"
    },
    {
     "data": {
      "image/png": "[encoded data removed]",
      "text/plain": [
       "<Figure size 432x288 with 1 Axes>"
      ]
     },
     "metadata": {
      "needs_background": "light"
     },
     "output_type": "display_data"
    }
   ],
   "source": [
    "#Evaluamos la cantidad de juegos lanzados por año\n",
    "df.groupby('year_of_release')['name'].count().plot()\n",
    "plt.xlabel('year')\n",
    "plt.ylabel('amount released')\n",
    "plt.legend('', frameon=False)\n",
    "plt.title('Evolucion lanzamiento de juegos')"
   ]
  },
  {
   "cell_type": "markdown",
   "metadata": {},
   "source": [
    "- Se observa una cantidad creciente desde 1980, un pico de cantidad de juegos lanzamos en el año 2008/ 2009 y luego una tendencia decreciente hacia 2016"
   ]
  },
  {
   "cell_type": "code",
   "execution_count": 12,
   "metadata": {},
   "outputs": [
    {
     "data": {
      "text/plain": [
       "<matplotlib.legend.Legend at 0x7f74c95d67c0>"
      ]
     },
     "execution_count": 12,
     "metadata": {},
     "output_type": "execute_result"
    },
    {
     "data": {
      "image/png": "[encoded data removed]",
      "text/plain": [
       "<Figure size 864x432 with 1 Axes>"
      ]
     },
     "metadata": {
      "needs_background": "light"
     },
     "output_type": "display_data"
    }
   ],
   "source": [
    "#Evaluamos la evolucionde lanzamientos por plataforma .\n",
    "\n",
    "df.pivot_table(index = 'year_of_release', columns = 'platform', values= 'name', aggfunc = 'count').plot(figsize = (12,6))\n",
    "plt.title(\"Evolucion de lanzamientos por plataforma\")\n",
    "plt.legend(loc = 0)\n",
    "plt.ylabel('amount released')\n",
    "plt.legend('', frameon=False)\n"
   ]
  },
  {
   "cell_type": "markdown",
   "metadata": {},
   "source": [
    " - Se observa en el grafico una vida media de las plataformas en torno a los 10 años. En la mayoria de los casos se observa un crecimiento de lanzamientos desde el inicio hasta el año cinco donde comienza a decrecer la cantidad hasta desaparecer por completo. Tomaremos entonces los datos de los ultimos años para realizar los analisis "
   ]
  },
  {
   "cell_type": "code",
   "execution_count": 13,
   "metadata": {},
   "outputs": [
    {
     "data": {
      "text/plain": [
       "Text(0, 0.5, 'total sales_$')"
      ]
     },
     "execution_count": 13,
     "metadata": {},
     "output_type": "execute_result"
    },
    {
     "data": {
      "image/png": "[encoded data removed]",
      "text/plain": [
       "<Figure size 576x288 with 1 Axes>"
      ]
     },
     "metadata": {
      "needs_background": "light"
     },
     "output_type": "display_data"
    }
   ],
   "source": [
    "#Evaluamos las ventas por plataforma\n",
    "df.groupby('platform')['total_sales'].sum().sort_values().plot(kind='bar', figsize = (8,4), title = 'Ventas por plataforma 2016')\n",
    "plt.xlabel('platform')\n",
    "plt.ylabel('total sales_$')\n",
    "\n",
    "\n"
   ]
  },
  {
   "cell_type": "markdown",
   "metadata": {},
   "source": [
    " - Las plataformas lideres en ventas en 2016 son: PS2, X360, Wii, PS3, DS y PS"
   ]
  },
  {
   "cell_type": "code",
   "execution_count": 14,
   "metadata": {},
   "outputs": [],
   "source": [
    "#segmentamos los datos de los ultimos años\n",
    "df_last_years = df[df['year_of_release']>=2014]"
   ]
  },
  {
   "cell_type": "code",
   "execution_count": 15,
   "metadata": {},
   "outputs": [
    {
     "name": "stderr",
     "output_type": "stream",
     "text": [
      "/tmp/ipykernel_27/3152523317.py:5: MatplotlibDeprecationWarning: Adding an axes using the same arguments as a previous axes currently reuses the earlier instance.  In a future version, a new instance will always be created and returned.  Meanwhile, this warning can be suppressed, and the future behavior ensured, by passing a unique label to each axes instance.\n",
      "  ax = plt.axes()\n"
     ]
    },
    {
     "data": {
      "text/plain": [
       "([<matplotlib.axis.XTick at 0x7f74c9203fa0>,\n",
       "  <matplotlib.axis.XTick at 0x7f74c9203f70>,\n",
       "  <matplotlib.axis.XTick at 0x7f74c91bd250>],\n",
       " [Text(0, 0, ''), Text(0, 0, ''), Text(0, 0, '')])"
      ]
     },
     "execution_count": 15,
     "metadata": {},
     "output_type": "execute_result"
    },
    {
     "data": {
      "image/png": "[encoded data removed]",
      "text/plain": [
       "<Figure size 864x432 with 1 Axes>"
      ]
     },
     "metadata": {
      "needs_background": "light"
     },
     "output_type": "display_data"
    }
   ],
   "source": [
    "df_last_years.pivot_table(index = 'year_of_release', columns = 'platform', values= 'name', aggfunc = 'count').plot(figsize = (12,6))\n",
    "plt.title(\"Evolución de lanzamientos por plataforma\")\n",
    "plt.legend(loc = 0)\n",
    "plt.ylabel('amount released')\n",
    "ax = plt.axes()\n",
    "ax.legend(loc='center left', bbox_to_anchor=(1, 0.5))\n",
    "plt.xticks([2014, 2015, 2016])\n",
    "\n"
   ]
  },
  {
   "cell_type": "markdown",
   "metadata": {},
   "source": [
    " - Se observa que las plataformas lideres en ventas no cuentan con lanzamientos en los ultimos años y  / o cuentan con una curva decreciente de los mismos por lo que es de esperar que sus ventas no aumenten en adelante. \n",
    " - La plataformas mas nuevas y que muestran una tendencia creciente de lanzamientos son PS4 y Xone, por lo que se perciben como potencialmente rentables"
   ]
  },
  {
   "cell_type": "code",
   "execution_count": 18,
   "metadata": {},
   "outputs": [
    {
     "data": {
      "text/plain": [
       "Text(0.5, 1.0, 'Ventas por plataforma')"
      ]
     },
     "execution_count": 18,
     "metadata": {},
     "output_type": "execute_result"
    },
    {
     "data": {
      "image/png": "[encoded data removed]",
      "text/plain": [
       "<Figure size 864x432 with 1 Axes>"
      ]
     },
     "metadata": {
      "needs_background": "light"
     },
     "output_type": "display_data"
    }
   ],
   "source": [
    "# Analisis de ventas por tipo de plataforma\n",
    "#Se dibuja un diagrama de cajas sin valores atipicos\n",
    "\n",
    "df_last_years.boxplot(column = 'total_sales', by = 'platform', showfliers=False, figsize = (12,6))\n",
    "plt.title(\"Ventas por plataforma\")"
   ]
  },
  {
   "cell_type": "markdown",
   "metadata": {},
   "source": [
    "- Al comparar las ventas promedio de distintas plataformas (con lanzamientos en los ultimos años), se observa que aquellas con mayores valor medio de ventas son: Xone, wii, wiiu y PS4, mientras que las de menores valores medio de venta son PSP y PSV"
   ]
  },
  {
   "cell_type": "code",
   "execution_count": null,
   "metadata": {
    "scrolled": true
   },
   "outputs": [],
   "source": [
    "# Evaluamos la relacion entre las reseñas y la ventas de una plataforma popular (\"PS4\")\n",
    "\n",
    "df_last_years.query('platform == \"PS4\"').plot(x= 'total_sales', y = 'user_score', kind='scatter')\n",
    "plt.title(\"Relacion entre ventas y critica de usuarios\")\n"
   ]
  },
  {
   "cell_type": "code",
   "execution_count": null,
   "metadata": {},
   "outputs": [],
   "source": [
    "#correlacion con USer score\n",
    "df_last_years.query('platform == \"PS4\"')['total_sales'].corr(df['user_score'])"
   ]
  },
  {
   "cell_type": "code",
   "execution_count": null,
   "metadata": {},
   "outputs": [],
   "source": [
    "#correlacion con critic score\n",
    "df_last_years.query('platform == \"PS4\"')['total_sales'].corr(df['critic_score'])"
   ]
  },
  {
   "cell_type": "markdown",
   "metadata": {},
   "source": [
    " - La correlacion entre las criticas de usuarios y las ventas en PS4 es placticamente nula. Para el casod e criticas de especialistas, existe un cierto impacto (leve) sobre las ventas"
   ]
  },
  {
   "cell_type": "code",
   "execution_count": null,
   "metadata": {
    "scrolled": false
   },
   "outputs": [],
   "source": [
    "#buscamos juegos con ventas en mas de una plataformas\n",
    "\n",
    "df_last_years.groupby('name').agg({'total_sales':['sum','size']}).sort_values(by= ('total_sales',  'sum'), ascending = False).head()\n",
    "\n"
   ]
  },
  {
   "cell_type": "code",
   "execution_count": null,
   "metadata": {},
   "outputs": [],
   "source": [
    "# Evaluamos las ventas de un juego popular (FIFA 15) en las distintas plsataformas\n",
    "\n",
    "df_last_years.query('name == \"FIFA 15\"').groupby('platform')['total_sales'].sum().sort_values().plot(kind='bar')\n",
    "plt.title(\"Ventas de FIFA 15\")\n",
    "\n",
    "\n"
   ]
  },
  {
   "cell_type": "code",
   "execution_count": null,
   "metadata": {},
   "outputs": [],
   "source": [
    "# Evaluamos las ventas de un juego popular ( Call of Duty) en las distintas plsataformas\n",
    "\n",
    "df_last_years.query('name == \"Call of Duty: Black Ops 3\"').groupby('platform')['total_sales'].sum().sort_values().plot(kind='bar')\n",
    "plt.title(\"Ventas de Call of Duty\")\n"
   ]
  },
  {
   "cell_type": "markdown",
   "metadata": {},
   "source": [
    " - En el caso de FIFA 15, la mayor cantidad de ventas en 2016 se dieron en la paltaforma PS4, seguida por PS3 y X360\n",
    " - La paltaforma mas popular para el juego \"call of duty\" , tambien fue PS4, pero en este caso el segundo lugar lo ocupa Xone\n"
   ]
  },
  {
   "cell_type": "code",
   "execution_count": null,
   "metadata": {},
   "outputs": [],
   "source": [
    "#Cuota de mercado por genero\n",
    "\n",
    "df_last_years.groupby('genre')['total_sales'].sum().plot(kind='pie', y = 'total_sales', autopct='%1.1f%%', title =\"Cuota de mercado por genero\",figsize = (12,6))\n",
    "ax = plt.axes()\n",
    "ax.set_ylabel(None)                                              \n",
    "                                              \n",
    "                                              \n",
    "                                              "
   ]
  },
  {
   "cell_type": "code",
   "execution_count": null,
   "metadata": {},
   "outputs": [],
   "source": [
    "##\n",
    "df_last_years.groupby('genre')['total_sales'].sum().sort_values()"
   ]
  },
  {
   "cell_type": "markdown",
   "metadata": {},
   "source": [
    "- Los generos mas rentables en 2016 fueron Action y Shooter, seguidos de Sports y Role playing, mientras que aquellos con menor cantidad de ventas fueron los generos de Puzzle y Strategy"
   ]
  },
  {
   "cell_type": "markdown",
   "metadata": {},
   "source": [
    "## Perfil de usuario por region"
   ]
  },
  {
   "cell_type": "code",
   "execution_count": null,
   "metadata": {
    "scrolled": true
   },
   "outputs": [],
   "source": [
    "#Perfil EU Popular genres\n",
    "\n",
    "df_pop_genres = df_last_years.query('genre in (\"Shooter\", \"Action\",\"Sports\", \"Role-Playing\", \"Misc\", \"Fighting\") ')\n",
    "df_pop_genres.groupby('genre')['eu_sales'].sum().plot(kind='pie', y = 'eu_sales', autopct='%1.1f%%', title =\"Cuota de mercado por genero en EU\",figsize = (12,6))\n",
    "ax = plt.axes()\n",
    "ax.set_ylabel(None)"
   ]
  },
  {
   "cell_type": "code",
   "execution_count": null,
   "metadata": {
    "scrolled": true
   },
   "outputs": [],
   "source": [
    "#mercado na\n",
    "df_pop_genres.groupby('genre')['na_sales'].sum().plot(kind='pie', y = 'na_sales', autopct='%1.1f%%', title =\"Cuota de mercado por genero en NA\",figsize = (12,6))\n",
    "ax = plt.axes()\n",
    "ax.set_ylabel(None)"
   ]
  },
  {
   "cell_type": "code",
   "execution_count": null,
   "metadata": {},
   "outputs": [],
   "source": [
    "#MErcado JP \n",
    "\n",
    "df_pop_genres.groupby('genre')['jp_sales'].sum().plot(kind='pie', y = 'jp_sales', autopct='%1.1f%%', title =\"Cuota de mercado por genero en JP\",figsize = (12,6))\n",
    "ax = plt.axes()\n",
    "ax.set_ylabel(None)"
   ]
  },
  {
   "cell_type": "markdown",
   "metadata": {},
   "source": [
    " - Los generos más populares tanto en el mercado de eu como en na, son Action, Shooters y Sports con cerca del 80% de cuota de mercado. En el caso del mercado de JP, el genero mas popular es Role - playing.\\, con cerca del 40% de cuota de mercado, seguido por Action"
   ]
  },
  {
   "cell_type": "code",
   "execution_count": null,
   "metadata": {},
   "outputs": [],
   "source": [
    "# Analis de plataformas principales \n",
    "\n",
    "df_last_years.groupby('platform')['total_sales'].sum().sort_values(ascending= False)"
   ]
  },
  {
   "cell_type": "code",
   "execution_count": null,
   "metadata": {},
   "outputs": [],
   "source": [
    "#Cuota de mercado por plataforma JP\n",
    "df_pop_platform = df_last_years.query('platform in (\"PS4\",\"XOne\", \"3DS\", \"PS3\",\"X360\")')\n",
    "df_pop_platform.groupby('platform')['jp_sales'].sum().plot(kind='pie', y = 'jp_sales', autopct='%1.1f%%', title =\"Cuota de mercado por Plataforma en JP\",figsize = (12,6))\n",
    "ax = plt.axes()\n",
    "ax.set_ylabel(None)"
   ]
  },
  {
   "cell_type": "code",
   "execution_count": null,
   "metadata": {},
   "outputs": [],
   "source": [
    "#\n",
    "df_pop_platform.groupby('platform')['eu_sales'].sum().plot(kind='pie', y = 'eu_sales', autopct='%1.1f%%', title =\"Cuota de mercado por Plataforma en EU\",figsize = (12,6))\n",
    "ax = plt.axes()\n",
    "ax.set_ylabel(None)"
   ]
  },
  {
   "cell_type": "code",
   "execution_count": null,
   "metadata": {
    "scrolled": true
   },
   "outputs": [],
   "source": [
    "#Cuota de mercado por plataforma na\n",
    "df_pop_platform .groupby('platform')['na_sales'].sum().plot(kind='pie', y = 'na_sales', autopct='%1.1f%%', title =\"Cuota de mercado por Plataforma en NA\",figsize = (12,6))\n",
    "ax = plt.axes()\n",
    "ax.set_ylabel(None)"
   ]
  },
  {
   "cell_type": "markdown",
   "metadata": {},
   "source": [
    " - Las plataformas mas populares tanto en Eu como en NA son Ps4 y Xone, con más del 70% del cuuota del mercado\n",
    " - En el caso de JP, la plataforma mas popular es 3DS con mas del 60% de cuota de mercado. EL segundo lugar en ventas lo ocupa PS4 con 21%"
   ]
  },
  {
   "cell_type": "code",
   "execution_count": null,
   "metadata": {
    "scrolled": true
   },
   "outputs": [],
   "source": [
    "# Impacto de las clasificaciones sobre las ventas\n",
    "\n",
    "df_last_years.groupby('rating')['eu_sales'].sum().sort_values().plot(kind='bar',figsize=(6,3), title = 'Ventas EU por categoría')"
   ]
  },
  {
   "cell_type": "code",
   "execution_count": null,
   "metadata": {},
   "outputs": [],
   "source": [
    "\n",
    "df_last_years.groupby('rating')['na_sales'].sum().sort_values().plot(kind='bar',figsize=(6,3), title = 'Ventas NA por categoría')\n",
    "\n"
   ]
  },
  {
   "cell_type": "code",
   "execution_count": null,
   "metadata": {},
   "outputs": [],
   "source": [
    "\n",
    "df_last_years.groupby('rating')['jp_sales'].sum().sort_values().plot(kind='bar',figsize=(6,3), title = 'Ventas JP por categoría')\n",
    "\n"
   ]
  },
  {
   "cell_type": "markdown",
   "metadata": {},
   "source": [
    " - Tanto en el mercado de EU como en el mercado de NA, las mayores ventas de dan en la categoía \"M\"\n",
    " - En el caso del mercado de JP, la categoría mas popular es la \"T\""
   ]
  },
  {
   "cell_type": "markdown",
   "metadata": {},
   "source": [
    "## Prueba de Hipotesis"
   ]
  },
  {
   "cell_type": "markdown",
   "metadata": {},
   "source": [
    "Caso 1: \n",
    " - hipotesis nula: Las calificaciones promedio de los usuarios para las plataformas Xbox One y PC son las mismas.\n",
    " - hipotesis alternativa: Las calificaciones promedio de los usuarios para las plataformas Xbox One y PC son las distintas"
   ]
  },
  {
   "cell_type": "code",
   "execution_count": null,
   "metadata": {},
   "outputs": [],
   "source": [
    "\n",
    "df_sin_nan = df_last_years[~(df_last_years['user_score'].isna())]\n",
    "df_sin_nan_xone = df_sin_nan.query('platform == \"XOne\"')\n",
    "df_sin_nan_pc =  df_sin_nan.query('platform == \"PC\"')\n",
    "\n",
    "results_platform = st.ttest_ind(df_sin_nan_pc['user_score'] ,df_sin_nan_xone['user_score'] )\n",
    "\n",
    "alpha = 0.05\n",
    "print('p-value: ', results_platform.pvalue)\n",
    "\n",
    "if (results_platform.pvalue  < alpha):\n",
    "    print(\"Rechazamos la hipótesis nula\")\n",
    "else:\n",
    "    print(\"No rechazamos la hipótesis nula\") "
   ]
  },
  {
   "cell_type": "markdown",
   "metadata": {},
   "source": [
    "- Dado que pvalue > alpha , no se rechaza la hipotesis nula. Por lo tanto no podemos concluir que las calificaciones promedio de los usuarios para las plataformas Xbox One y PC sean las mismas."
   ]
  },
  {
   "cell_type": "markdown",
   "metadata": {},
   "source": [
    "— Caso 2:\n",
    "\n",
    "Hipotesis nula: Las calificaciones promedio de los usuarios para los géneros de Acción y Deportes son iguales.\n",
    "\n",
    "Hipotesis alternativa: Las calificaciones promedio de los usuarios para los géneros de Acción y Deportes son diferentes"
   ]
  },
  {
   "cell_type": "code",
   "execution_count": null,
   "metadata": {},
   "outputs": [],
   "source": [
    "df_sin_nan = df_last_years[~(df_last_years['user_score'].isna())]\n",
    "df_sin_nan_sport = df_sin_nan.query('genre == \"Sports\"')\n",
    "df_sin_nan_action =  df_sin_nan.query('genre == \"Action\"')\n",
    "\n",
    "results_genre = st.ttest_ind(df_sin_nan_sport['user_score'] , df_sin_nan_action['user_score'] )\n",
    "\n",
    "alpha = 0.05\n",
    "print('p-value: ', results_genre.pvalue)\n",
    "\n",
    "if (results_genre.pvalue  < alpha):\n",
    "    print(\"Rechazamos la hipótesis nula\")\n",
    "else:\n",
    "    print(\"No rechazamos la hipótesis nula\")"
   ]
  },
  {
   "cell_type": "markdown",
   "metadata": {},
   "source": [
    "- Dado que pvalue < alpha , se rechaza la hipotesis nula y se acepta la hipotesis alternativa. Por lo tanto no podemos concluir con un nivel de confianza del 95% que  las calificaciones promedio de los usuarios para los géneros de Acción y Deportes son diferentes."
   ]
  },
  {
   "cell_type": "markdown",
   "metadata": {},
   "source": [
    "## Conclusiones"
   ]
  },
  {
   "cell_type": "markdown",
   "metadata": {},
   "source": [
    "- Se detectaron valores ausentes en los datos.\n",
    "- Los valores ausentes de score , rating y año de lanzamiento , no pueden completarse a partir de los datos del dataset, por lo que no se rellenaron.\n",
    "- Los valores ausentes de las columnas categóricas “name” y “genre” se rellenaron con “unknown”\n",
    "- Se detectaron tipo de datos incorrectos: \n",
    "    - Se cambiaron tipo de dato de “user score” y de “year_of _release” al tipo float e integer respectivamente\n",
    "    - El valor TDB de “user score” se reemplaza por NAN para luego poder convertir los datos al tipo float\n",
    "- Se llevaron los nombres de las columnas a minúsculas\n",
    "- Se agregó una columna con el cálculo de ventas totales ya que era necesaria para poder realizar los análisis basados en ventas totales\n"
   ]
  },
  {
   "cell_type": "markdown",
   "metadata": {},
   "source": [
    "\n",
    "Análisis de datos. \n",
    "\n",
    "* En el gráfico de evolución de cantidad de juegos lanzados por año, se observa una cantidad creciente desde 1980, un pico de cantidad de juegos lanzamos en el año 2008/ 2009 y luego una tendencia decreciente hacia el 2016\n",
    "Se observa en el gráfico de evolución de lanzamientos por plataforma, una vida media de las plataformas en torno a los 10 años. En la mayoría de los casos se observa una un crecimiento de lanzamientos desde el inicio hasta el año cinco donde comienza a decrecer la cantidad hasta desaparecer por completo. \n",
    "Del grafico de barras de ventas por plataforma, se concluye que  las plataformas lideres en ventas en 2016 fueron: S2, X360, Wii, PS3, DS y PS, en ese orden\n",
    "\n",
    "* Se trazó en el gráfico de evolución de lanzamientos por plataforma para los últimos años (excluyendo datos de años anteriores), y se observó que: \n",
    "    * Las plataformas lideres en ventas no cuentan con lanzamientos en los últimos años y o cuentan con una curva decreciente de los mismos por lo que es de esperar que sus ventas no aumenten en adelante.\n",
    "    * La plataformas más nuevas y que muestran una tendencia creciente de lanzamientos son PS4 y Xone, por lo que se perciben como potencialmente rentables\n",
    "Por este motivo, se toman los datos de los últimos años para realizar los análisis y proyecciones.\n",
    "\n",
    "* Se trazaron diagramas de caja para las ventas totales por plataforma (de los últimos años) y se observó que aquellas con mayores ventas promedio son: Ps4, Wii y Xone, mientras que las de menores ventas promedio son PSP y PSV\n",
    "\n",
    "* Se trazaron diagramas de dispersión para evaluar la relación entre las críticas de usuarios y expertos y las ventas. De las observación de los mismos y del cálculo de coeficiente de Pearson se concluye que: la relación entre las críticas de usuarios y las ventas es prácticamente nula, es decir que no impactan en el volumen de ventas. En el caso de las críticas de expertos, existe un cierto impacto sobre ventas, aunque leve.  Aquí vale destacar que las criticas cuentan con gran cantidad de valores ausentes por lo que es una conclusión parcial y no determinante.\n",
    "\n",
    "* Se tomaron 2 juegos populares y de analizaron las ventas en las distintas plataformas. Para el caso de Fifa 15, la plataforma más popular resulto ser PS4, seguida por PS3y luego por X360. Para el caso de “call of duty”, la plataforma más popular fue PS4, al igual que para FIFA 15, pero en este caso la segunda plataforma más popular fue XOne.\n",
    "\n",
    "* A nivel ventas totales, los géneros más rentables en 2016 fueron Action y Shooter, seguidos de Sports y Role playing, mientras que aquellos con menor cantidad de ventas fueron los generos de Puzzle y Strategy. \n",
    "\n",
    "* Del análisis de géneros por región surge que los géneros más populares tanto en el mercado de eu como en na, son Action, Shooters y Sports con cerca del 80% de cuota de mercado, mientras que, en el caso del mercado de JP, el género más popular es Role - playing., con cerca del 40% de cuota de mercado, seguido por Action\n",
    "\n",
    "* Del análisis de cuota de mercado por tipo de plataforma y región surge que: las plataformas más populares tanto en Eu como en NA son Ps4 y Xone, con más del 70% del cuota del mercado. En el caso de JP, la plataforma más popular es 3DS con más del 60% de cuota de mercado. EL segundo lugar en ventas lo ocupa PS4 con 21%\n",
    "\n",
    "* Al analizar las ventas por categoría, se concluye que: tanto en el mercado de EU como en el mercado de NA, las mayores ventas de dan en la categoría \"M\", mientras que en la región de JP, la categoría más popular es la \"T\"\n",
    "\n",
    "\n",
    "Prueba de hipótesis. \n",
    "\n",
    "Se realizo una prueba de ttest de igualdad de medias para probar 2 hipótesis. Se tomo un nivel de significancia de 5%:\n",
    "\n",
    "Caso 1: \n",
    " - Hipótesis nula: Las calificaciones promedio de los usuarios para las plataformas Xbox One y PC son las mismas.\n",
    " \n",
    " - Hipótesis alternativa: Las calificaciones promedio de los usuarios para las plataformas Xbox One y PC son las distintas.\n",
    " \n",
    "Resultado: dado que pvalue resulto mayor a alpha , no se rechaza la hipótesis nula. Por lo tanto no podemos concluir que las calificaciones promedio de los usuarios para las plataformas Xbox One y PC sean las mismas.\n",
    "\n",
    "Caso 2:\n",
    "\n",
    "- Hipótesis nula: Las calificaciones promedio de los usuarios para los géneros de Acción y Deportes son iguales.\n",
    "- Hipótesis alternativa: Las calificaciones promedio de los usuarios para los géneros de Acción y Deportes son diferentes\n",
    " \n",
    "Resultado: dado  que pvalue resulto menor que  alpha , se rechaza la hipótesis nula y se acepta la hipótesis alternativa. Por lo tanto no podemos concluir con un nivel de confianza del 95% que las calificaciones promedio de los usuarios para los géneros de Acción y Deportes son diferentes.\n"
   ]
  }
 ],
 "metadata": {
  "kernelspec": {
   "display_name": "Python 3 (ipykernel)",
   "language": "python",
   "name": "python3"
  },
  "language_info": {
   "codemirror_mode": {
    "name": "ipython",
    "version": 3
   },
   "file_extension": ".py",
   "mimetype": "text/x-python",
   "name": "python",
   "nbconvert_exporter": "python",
   "pygments_lexer": "ipython3",
   "version": "3.9.5"
  },
  "toc": {
   "base_numbering": 1,
   "nav_menu": {},
   "number_sections": true,
   "sideBar": true,
   "skip_h1_title": true,
   "title_cell": "Table of Contents",
   "title_sidebar": "Contents",
   "toc_cell": false,
   "toc_position": {},
   "toc_section_display": true,
   "toc_window_display": false
  }
 },
 "nbformat": 4,
 "nbformat_minor": 2
}
