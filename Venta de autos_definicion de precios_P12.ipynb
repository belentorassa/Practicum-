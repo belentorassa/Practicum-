{
 "cells": [
  {
   "cell_type": "markdown",
   "metadata": {},
   "source": [
    "# Introduccion\n",
    "\n",
    "El servicio de venta de autos usados Rusty Bargain está desarrollando una aplicación para atraer nuevos clientes. Gracias a esa app, puedes averiguar rápidamente el valor de mercado de tu coche. Se tiene acceso al historial: especificaciones técnicas, versiones de equipamiento y precios. Se creará un modelo que determine el valor de mercado.\n",
    "A Rusty Bargain le interesa:\n",
    "- la calidad de la predicción;\n",
    "- la velocidad de la predicción;\n",
    "- el tiempo requerido para el entrenamiento"
   ]
  },
  {
   "cell_type": "markdown",
   "metadata": {},
   "source": [
    "## Preparación de datos"
   ]
  },
  {
   "cell_type": "code",
   "execution_count": 98,
   "metadata": {},
   "outputs": [],
   "source": [
    "# importacion de librerias\n",
    "import pandas as pd\n",
    "from sklearn.model_selection import train_test_split\n",
    "from sklearn.linear_model import LinearRegression\n",
    "from sklearn.ensemble import RandomForestRegressor\n",
    "from sklearn.preprocessing import StandardScaler\n",
    "from sklearn.preprocessing import OrdinalEncoder\n",
    "from sklearn.metrics import mean_squared_error\n",
    "import lightgbm as lgb\n",
    "import numpy as np\n",
    "\n"
   ]
  },
  {
   "cell_type": "markdown",
   "metadata": {},
   "source": [
    "### Revision general de datos"
   ]
  },
  {
   "cell_type": "code",
   "execution_count": 99,
   "metadata": {},
   "outputs": [
    {
     "data": {
      "text/html": [
       "<div>\n",
       "<style scoped>\n",
       "    .dataframe tbody tr th:only-of-type {\n",
       "        vertical-align: middle;\n",
       "    }\n",
       "\n",
       "    .dataframe tbody tr th {\n",
       "        vertical-align: top;\n",
       "    }\n",
       "\n",
       "    .dataframe thead th {\n",
       "        text-align: right;\n",
       "    }\n",
       "</style>\n",
       "<table border=\"1\" class=\"dataframe\">\n",
       "  <thead>\n",
       "    <tr style=\"text-align: right;\">\n",
       "      <th></th>\n",
       "      <th>DateCrawled</th>\n",
       "      <th>Price</th>\n",
       "      <th>VehicleType</th>\n",
       "      <th>RegistrationYear</th>\n",
       "      <th>Gearbox</th>\n",
       "      <th>Power</th>\n",
       "      <th>Model</th>\n",
       "      <th>Mileage</th>\n",
       "      <th>RegistrationMonth</th>\n",
       "      <th>FuelType</th>\n",
       "      <th>Brand</th>\n",
       "      <th>NotRepaired</th>\n",
       "      <th>DateCreated</th>\n",
       "      <th>NumberOfPictures</th>\n",
       "      <th>PostalCode</th>\n",
       "      <th>LastSeen</th>\n",
       "    </tr>\n",
       "  </thead>\n",
       "  <tbody>\n",
       "    <tr>\n",
       "      <th>0</th>\n",
       "      <td>24/03/2016 11:52</td>\n",
       "      <td>480</td>\n",
       "      <td>NaN</td>\n",
       "      <td>1993</td>\n",
       "      <td>manual</td>\n",
       "      <td>0</td>\n",
       "      <td>golf</td>\n",
       "      <td>150000</td>\n",
       "      <td>0</td>\n",
       "      <td>petrol</td>\n",
       "      <td>volkswagen</td>\n",
       "      <td>NaN</td>\n",
       "      <td>24/03/2016 00:00</td>\n",
       "      <td>0</td>\n",
       "      <td>70435</td>\n",
       "      <td>07/04/2016 03:16</td>\n",
       "    </tr>\n",
       "    <tr>\n",
       "      <th>1</th>\n",
       "      <td>24/03/2016 10:58</td>\n",
       "      <td>18300</td>\n",
       "      <td>coupe</td>\n",
       "      <td>2011</td>\n",
       "      <td>manual</td>\n",
       "      <td>190</td>\n",
       "      <td>NaN</td>\n",
       "      <td>125000</td>\n",
       "      <td>5</td>\n",
       "      <td>gasoline</td>\n",
       "      <td>audi</td>\n",
       "      <td>yes</td>\n",
       "      <td>24/03/2016 00:00</td>\n",
       "      <td>0</td>\n",
       "      <td>66954</td>\n",
       "      <td>07/04/2016 01:46</td>\n",
       "    </tr>\n",
       "    <tr>\n",
       "      <th>2</th>\n",
       "      <td>14/03/2016 12:52</td>\n",
       "      <td>9800</td>\n",
       "      <td>suv</td>\n",
       "      <td>2004</td>\n",
       "      <td>auto</td>\n",
       "      <td>163</td>\n",
       "      <td>grand</td>\n",
       "      <td>125000</td>\n",
       "      <td>8</td>\n",
       "      <td>gasoline</td>\n",
       "      <td>jeep</td>\n",
       "      <td>NaN</td>\n",
       "      <td>14/03/2016 00:00</td>\n",
       "      <td>0</td>\n",
       "      <td>90480</td>\n",
       "      <td>05/04/2016 12:47</td>\n",
       "    </tr>\n",
       "    <tr>\n",
       "      <th>3</th>\n",
       "      <td>17/03/2016 16:54</td>\n",
       "      <td>1500</td>\n",
       "      <td>small</td>\n",
       "      <td>2001</td>\n",
       "      <td>manual</td>\n",
       "      <td>75</td>\n",
       "      <td>golf</td>\n",
       "      <td>150000</td>\n",
       "      <td>6</td>\n",
       "      <td>petrol</td>\n",
       "      <td>volkswagen</td>\n",
       "      <td>no</td>\n",
       "      <td>17/03/2016 00:00</td>\n",
       "      <td>0</td>\n",
       "      <td>91074</td>\n",
       "      <td>17/03/2016 17:40</td>\n",
       "    </tr>\n",
       "    <tr>\n",
       "      <th>4</th>\n",
       "      <td>31/03/2016 17:25</td>\n",
       "      <td>3600</td>\n",
       "      <td>small</td>\n",
       "      <td>2008</td>\n",
       "      <td>manual</td>\n",
       "      <td>69</td>\n",
       "      <td>fabia</td>\n",
       "      <td>90000</td>\n",
       "      <td>7</td>\n",
       "      <td>gasoline</td>\n",
       "      <td>skoda</td>\n",
       "      <td>no</td>\n",
       "      <td>31/03/2016 00:00</td>\n",
       "      <td>0</td>\n",
       "      <td>60437</td>\n",
       "      <td>06/04/2016 10:17</td>\n",
       "    </tr>\n",
       "  </tbody>\n",
       "</table>\n",
       "</div>"
      ],
      "text/plain": [
       "        DateCrawled  Price VehicleType  RegistrationYear Gearbox  Power  \\\n",
       "0  24/03/2016 11:52    480         NaN              1993  manual      0   \n",
       "1  24/03/2016 10:58  18300       coupe              2011  manual    190   \n",
       "2  14/03/2016 12:52   9800         suv              2004    auto    163   \n",
       "3  17/03/2016 16:54   1500       small              2001  manual     75   \n",
       "4  31/03/2016 17:25   3600       small              2008  manual     69   \n",
       "\n",
       "   Model  Mileage  RegistrationMonth  FuelType       Brand NotRepaired  \\\n",
       "0   golf   150000                  0    petrol  volkswagen         NaN   \n",
       "1    NaN   125000                  5  gasoline        audi         yes   \n",
       "2  grand   125000                  8  gasoline        jeep         NaN   \n",
       "3   golf   150000                  6    petrol  volkswagen          no   \n",
       "4  fabia    90000                  7  gasoline       skoda          no   \n",
       "\n",
       "        DateCreated  NumberOfPictures  PostalCode          LastSeen  \n",
       "0  24/03/2016 00:00                 0       70435  07/04/2016 03:16  \n",
       "1  24/03/2016 00:00                 0       66954  07/04/2016 01:46  \n",
       "2  14/03/2016 00:00                 0       90480  05/04/2016 12:47  \n",
       "3  17/03/2016 00:00                 0       91074  17/03/2016 17:40  \n",
       "4  31/03/2016 00:00                 0       60437  06/04/2016 10:17  "
      ]
     },
     "execution_count": 99,
     "metadata": {},
     "output_type": "execute_result"
    }
   ],
   "source": [
    "#Carga de Datos\n",
    "\n",
    "df = pd.read_csv('/datasets/car_data.csv')\n",
    "df.head()"
   ]
  },
  {
   "cell_type": "code",
   "execution_count": 100,
   "metadata": {},
   "outputs": [
    {
     "name": "stdout",
     "output_type": "stream",
     "text": [
      "<class 'pandas.core.frame.DataFrame'>\n",
      "RangeIndex: 354369 entries, 0 to 354368\n",
      "Data columns (total 16 columns):\n",
      " #   Column             Non-Null Count   Dtype \n",
      "---  ------             --------------   ----- \n",
      " 0   DateCrawled        354369 non-null  object\n",
      " 1   Price              354369 non-null  int64 \n",
      " 2   VehicleType        316879 non-null  object\n",
      " 3   RegistrationYear   354369 non-null  int64 \n",
      " 4   Gearbox            334536 non-null  object\n",
      " 5   Power              354369 non-null  int64 \n",
      " 6   Model              334664 non-null  object\n",
      " 7   Mileage            354369 non-null  int64 \n",
      " 8   RegistrationMonth  354369 non-null  int64 \n",
      " 9   FuelType           321474 non-null  object\n",
      " 10  Brand              354369 non-null  object\n",
      " 11  NotRepaired        283215 non-null  object\n",
      " 12  DateCreated        354369 non-null  object\n",
      " 13  NumberOfPictures   354369 non-null  int64 \n",
      " 14  PostalCode         354369 non-null  int64 \n",
      " 15  LastSeen           354369 non-null  object\n",
      "dtypes: int64(7), object(9)\n",
      "memory usage: 43.3+ MB\n"
     ]
    }
   ],
   "source": [
    "df.info()"
   ]
  },
  {
   "cell_type": "markdown",
   "metadata": {},
   "source": [
    " - Los datos presentan valores ausentes que deberam ser tratados previo al analisis. \n",
    " - El tipo de datos es correcto para cada caracteristica"
   ]
  },
  {
   "cell_type": "code",
   "execution_count": 101,
   "metadata": {},
   "outputs": [
    {
     "data": {
      "text/plain": [
       "262"
      ]
     },
     "execution_count": 101,
     "metadata": {},
     "output_type": "execute_result"
    }
   ],
   "source": [
    "# Analisis de suplicados\n",
    "df.duplicated().sum()"
   ]
  },
  {
   "cell_type": "code",
   "execution_count": 102,
   "metadata": {},
   "outputs": [
    {
     "data": {
      "text/plain": [
       "(354107, 16)"
      ]
     },
     "execution_count": 102,
     "metadata": {},
     "output_type": "execute_result"
    }
   ],
   "source": [
    "# ELiminacion de duplicados\n",
    "\n",
    "df = df.drop_duplicates(ignore_index = True)\n",
    "df.shape"
   ]
  },
  {
   "cell_type": "code",
   "execution_count": 103,
   "metadata": {},
   "outputs": [],
   "source": [
    "#Se eliminan las caracteristicas que no aportan informacion al analisis (no estan relacionadas con el precio):('DateCrawled', 'DateCreated', 'NumberOfPictures', 'PostalCode', 'LastSeen')\n",
    "\n",
    "df = df.drop(['DateCrawled', 'DateCreated', 'NumberOfPictures', 'PostalCode', 'LastSeen'], axis=1)\n",
    "\n",
    "        "
   ]
  },
  {
   "cell_type": "markdown",
   "metadata": {},
   "source": [
    "<div class=\"alert alert-block alert-success\">\n",
    "    <b>Buen trabajo! </div>"
   ]
  },
  {
   "cell_type": "code",
   "execution_count": 104,
   "metadata": {},
   "outputs": [],
   "source": [
    "#se cambian los nombres de las columnas a minusculas\n",
    "\n",
    "df.columns = df.columns.str.lower()"
   ]
  },
  {
   "cell_type": "code",
   "execution_count": null,
   "metadata": {},
   "outputs": [],
   "source": []
  },
  {
   "cell_type": "markdown",
   "metadata": {},
   "source": [
    "\n",
    "### Tratamiento de valores ausentes\n"
   ]
  },
  {
   "cell_type": "code",
   "execution_count": 105,
   "metadata": {},
   "outputs": [
    {
     "data": {
      "text/plain": [
       "(334406, 11)"
      ]
     },
     "execution_count": 105,
     "metadata": {},
     "output_type": "execute_result"
    }
   ],
   "source": [
    "#Dado que la mayoria de los datos con valores ausentes estan relacionados con el modelo del vehiculo, se utilizara este ultimo para predecir los valores ausentes. \n",
    "#Dado que el tipo de modelo no se puede inferir directamente de los datos disponibles, se eliminan dichos ausentes y luego se utilizan los datos resultantes para predecir \n",
    "\n",
    "df['model'].isna()\n",
    "\n",
    "df = df.dropna(subset=['model'])\n",
    "\n",
    "df.shape"
   ]
  },
  {
   "cell_type": "code",
   "execution_count": 106,
   "metadata": {},
   "outputs": [],
   "source": [
    "# Se rellenan valores ausentes de \"fueltype\" a partir del modelo y marca del vehiculo"
   ]
  },
  {
   "cell_type": "code",
   "execution_count": 107,
   "metadata": {},
   "outputs": [],
   "source": [
    "\n",
    "\n",
    "df_sin_fuel_nan =  df.dropna(subset=['fueltype']) # datos sin vacios en \"fueltype\"\n",
    "dicc_fuel = dict(zip(zip(df_sin_fuel_nan['model'], df_sin_fuel_nan['brand']), df_sin_fuel_nan['fueltype']))#diccionario que mapea modelo y marca con fuel\n",
    "\n",
    "\n"
   ]
  },
  {
   "cell_type": "code",
   "execution_count": 108,
   "metadata": {},
   "outputs": [],
   "source": [
    "df['fueltype'] = df['fueltype'] .fillna(df.apply(lambda x: dicc_fuel.get((x['model'], x['brand']), x['fueltype']), axis=1))\n",
    "\n",
    "\n",
    "\n"
   ]
  },
  {
   "cell_type": "code",
   "execution_count": 109,
   "metadata": {},
   "outputs": [
    {
     "data": {
      "text/plain": [
       "0"
      ]
     },
     "execution_count": 109,
     "metadata": {},
     "output_type": "execute_result"
    }
   ],
   "source": [
    "df['fueltype'].isna().sum()"
   ]
  },
  {
   "cell_type": "markdown",
   "metadata": {},
   "source": [
    " - se eliminarion los ausentes de fuel type"
   ]
  },
  {
   "cell_type": "code",
   "execution_count": 110,
   "metadata": {},
   "outputs": [],
   "source": [
    "# Se rellenan valores ausentes de \"tipo de vehiculo\" a partir del modelo y marca del vehiculo"
   ]
  },
  {
   "cell_type": "code",
   "execution_count": 111,
   "metadata": {},
   "outputs": [
    {
     "data": {
      "text/plain": [
       "1251"
      ]
     },
     "execution_count": 111,
     "metadata": {},
     "output_type": "execute_result"
    }
   ],
   "source": [
    "\n",
    "df_sin_tipo_nan =  df.dropna(subset=['vehicletype']) # datos sin vacios en \"tipo de vehiculo\"\n",
    "dicc_tipo = dict(zip(zip(df_sin_fuel_nan['model'], df_sin_fuel_nan['brand']), df_sin_fuel_nan['vehicletype']))#diccionario que mapea modelo y marca con fuel\n",
    "\n",
    "df['vehicletype'] = df['vehicletype'].fillna(df.apply(lambda x: dicc_tipo.get((x['model'], x['brand']), x['vehicletype']), axis=1))\n",
    "df['vehicletype'].isna().sum()\n"
   ]
  },
  {
   "cell_type": "markdown",
   "metadata": {},
   "source": [
    "- Aun quedan valores NAN en tipo de vehiculos pero se redujo a solo 1251 registros"
   ]
  },
  {
   "cell_type": "code",
   "execution_count": null,
   "metadata": {},
   "outputs": [],
   "source": []
  },
  {
   "cell_type": "code",
   "execution_count": 112,
   "metadata": {},
   "outputs": [],
   "source": [
    "# Se rellenan valores ausentes de \"gearbox\" a partir del modelo y marca del vehiculo"
   ]
  },
  {
   "cell_type": "code",
   "execution_count": 113,
   "metadata": {},
   "outputs": [
    {
     "data": {
      "text/plain": [
       "269"
      ]
     },
     "execution_count": 113,
     "metadata": {},
     "output_type": "execute_result"
    }
   ],
   "source": [
    "\n",
    "df_sin_box_nan =  df.dropna(subset=['gearbox']) # datos sin vacios en \"tipo de caja\"\n",
    "dicc_box = dict(zip(zip(df_sin_fuel_nan['model'], df_sin_fuel_nan['brand']), df_sin_fuel_nan['gearbox']))#diccionario que mapea modelo y marca con fuel\n",
    "\n",
    "df['gearbox'] = df['gearbox'].fillna(df.apply(lambda x: dicc_box.get((x['model'], x['brand']), x['gearbox']), axis=1))\n",
    "df['gearbox'].isna().sum()\n",
    "\n"
   ]
  },
  {
   "cell_type": "markdown",
   "metadata": {},
   "source": [
    "- Aun quedan algunos valores ausentes en tipo de transmision pero se redujeron a tan solo 269 registros"
   ]
  },
  {
   "cell_type": "code",
   "execution_count": 114,
   "metadata": {},
   "outputs": [
    {
     "data": {
      "text/html": [
       "<div>\n",
       "<style scoped>\n",
       "    .dataframe tbody tr th:only-of-type {\n",
       "        vertical-align: middle;\n",
       "    }\n",
       "\n",
       "    .dataframe tbody tr th {\n",
       "        vertical-align: top;\n",
       "    }\n",
       "\n",
       "    .dataframe thead th {\n",
       "        text-align: right;\n",
       "    }\n",
       "</style>\n",
       "<table border=\"1\" class=\"dataframe\">\n",
       "  <thead>\n",
       "    <tr style=\"text-align: right;\">\n",
       "      <th></th>\n",
       "      <th>price</th>\n",
       "      <th>vehicletype</th>\n",
       "      <th>registrationyear</th>\n",
       "      <th>gearbox</th>\n",
       "      <th>power</th>\n",
       "      <th>model</th>\n",
       "      <th>mileage</th>\n",
       "      <th>registrationmonth</th>\n",
       "      <th>fueltype</th>\n",
       "      <th>brand</th>\n",
       "      <th>notrepaired</th>\n",
       "    </tr>\n",
       "  </thead>\n",
       "  <tbody>\n",
       "    <tr>\n",
       "      <th>0</th>\n",
       "      <td>480</td>\n",
       "      <td>wagon</td>\n",
       "      <td>1993</td>\n",
       "      <td>manual</td>\n",
       "      <td>0</td>\n",
       "      <td>golf</td>\n",
       "      <td>150000</td>\n",
       "      <td>0</td>\n",
       "      <td>petrol</td>\n",
       "      <td>volkswagen</td>\n",
       "      <td>NaN</td>\n",
       "    </tr>\n",
       "    <tr>\n",
       "      <th>2</th>\n",
       "      <td>9800</td>\n",
       "      <td>suv</td>\n",
       "      <td>2004</td>\n",
       "      <td>auto</td>\n",
       "      <td>163</td>\n",
       "      <td>grand</td>\n",
       "      <td>125000</td>\n",
       "      <td>8</td>\n",
       "      <td>gasoline</td>\n",
       "      <td>jeep</td>\n",
       "      <td>NaN</td>\n",
       "    </tr>\n",
       "    <tr>\n",
       "      <th>3</th>\n",
       "      <td>1500</td>\n",
       "      <td>small</td>\n",
       "      <td>2001</td>\n",
       "      <td>manual</td>\n",
       "      <td>75</td>\n",
       "      <td>golf</td>\n",
       "      <td>150000</td>\n",
       "      <td>6</td>\n",
       "      <td>petrol</td>\n",
       "      <td>volkswagen</td>\n",
       "      <td>no</td>\n",
       "    </tr>\n",
       "    <tr>\n",
       "      <th>4</th>\n",
       "      <td>3600</td>\n",
       "      <td>small</td>\n",
       "      <td>2008</td>\n",
       "      <td>manual</td>\n",
       "      <td>69</td>\n",
       "      <td>fabia</td>\n",
       "      <td>90000</td>\n",
       "      <td>7</td>\n",
       "      <td>gasoline</td>\n",
       "      <td>skoda</td>\n",
       "      <td>no</td>\n",
       "    </tr>\n",
       "    <tr>\n",
       "      <th>5</th>\n",
       "      <td>650</td>\n",
       "      <td>sedan</td>\n",
       "      <td>1995</td>\n",
       "      <td>manual</td>\n",
       "      <td>102</td>\n",
       "      <td>3er</td>\n",
       "      <td>150000</td>\n",
       "      <td>10</td>\n",
       "      <td>petrol</td>\n",
       "      <td>bmw</td>\n",
       "      <td>yes</td>\n",
       "    </tr>\n",
       "    <tr>\n",
       "      <th>...</th>\n",
       "      <td>...</td>\n",
       "      <td>...</td>\n",
       "      <td>...</td>\n",
       "      <td>...</td>\n",
       "      <td>...</td>\n",
       "      <td>...</td>\n",
       "      <td>...</td>\n",
       "      <td>...</td>\n",
       "      <td>...</td>\n",
       "      <td>...</td>\n",
       "      <td>...</td>\n",
       "    </tr>\n",
       "    <tr>\n",
       "      <th>354101</th>\n",
       "      <td>1150</td>\n",
       "      <td>bus</td>\n",
       "      <td>2000</td>\n",
       "      <td>manual</td>\n",
       "      <td>0</td>\n",
       "      <td>zafira</td>\n",
       "      <td>150000</td>\n",
       "      <td>3</td>\n",
       "      <td>petrol</td>\n",
       "      <td>opel</td>\n",
       "      <td>no</td>\n",
       "    </tr>\n",
       "    <tr>\n",
       "      <th>354102</th>\n",
       "      <td>0</td>\n",
       "      <td>NaN</td>\n",
       "      <td>2005</td>\n",
       "      <td>manual</td>\n",
       "      <td>0</td>\n",
       "      <td>colt</td>\n",
       "      <td>150000</td>\n",
       "      <td>7</td>\n",
       "      <td>petrol</td>\n",
       "      <td>mitsubishi</td>\n",
       "      <td>yes</td>\n",
       "    </tr>\n",
       "    <tr>\n",
       "      <th>354104</th>\n",
       "      <td>1199</td>\n",
       "      <td>convertible</td>\n",
       "      <td>2000</td>\n",
       "      <td>auto</td>\n",
       "      <td>101</td>\n",
       "      <td>fortwo</td>\n",
       "      <td>125000</td>\n",
       "      <td>3</td>\n",
       "      <td>petrol</td>\n",
       "      <td>smart</td>\n",
       "      <td>no</td>\n",
       "    </tr>\n",
       "    <tr>\n",
       "      <th>354105</th>\n",
       "      <td>9200</td>\n",
       "      <td>bus</td>\n",
       "      <td>1996</td>\n",
       "      <td>manual</td>\n",
       "      <td>102</td>\n",
       "      <td>transporter</td>\n",
       "      <td>150000</td>\n",
       "      <td>3</td>\n",
       "      <td>gasoline</td>\n",
       "      <td>volkswagen</td>\n",
       "      <td>no</td>\n",
       "    </tr>\n",
       "    <tr>\n",
       "      <th>354106</th>\n",
       "      <td>3400</td>\n",
       "      <td>wagon</td>\n",
       "      <td>2002</td>\n",
       "      <td>manual</td>\n",
       "      <td>100</td>\n",
       "      <td>golf</td>\n",
       "      <td>150000</td>\n",
       "      <td>6</td>\n",
       "      <td>gasoline</td>\n",
       "      <td>volkswagen</td>\n",
       "      <td>NaN</td>\n",
       "    </tr>\n",
       "  </tbody>\n",
       "</table>\n",
       "<p>334406 rows × 11 columns</p>\n",
       "</div>"
      ],
      "text/plain": [
       "        price  vehicletype  registrationyear gearbox  power        model  \\\n",
       "0         480        wagon              1993  manual      0         golf   \n",
       "2        9800          suv              2004    auto    163        grand   \n",
       "3        1500        small              2001  manual     75         golf   \n",
       "4        3600        small              2008  manual     69        fabia   \n",
       "5         650        sedan              1995  manual    102          3er   \n",
       "...       ...          ...               ...     ...    ...          ...   \n",
       "354101   1150          bus              2000  manual      0       zafira   \n",
       "354102      0          NaN              2005  manual      0         colt   \n",
       "354104   1199  convertible              2000    auto    101       fortwo   \n",
       "354105   9200          bus              1996  manual    102  transporter   \n",
       "354106   3400        wagon              2002  manual    100         golf   \n",
       "\n",
       "        mileage  registrationmonth  fueltype       brand notrepaired  \n",
       "0        150000                  0    petrol  volkswagen         NaN  \n",
       "2        125000                  8  gasoline        jeep         NaN  \n",
       "3        150000                  6    petrol  volkswagen          no  \n",
       "4         90000                  7  gasoline       skoda          no  \n",
       "5        150000                 10    petrol         bmw         yes  \n",
       "...         ...                ...       ...         ...         ...  \n",
       "354101   150000                  3    petrol        opel          no  \n",
       "354102   150000                  7    petrol  mitsubishi         yes  \n",
       "354104   125000                  3    petrol       smart          no  \n",
       "354105   150000                  3  gasoline  volkswagen          no  \n",
       "354106   150000                  6  gasoline  volkswagen         NaN  \n",
       "\n",
       "[334406 rows x 11 columns]"
      ]
     },
     "execution_count": 114,
     "metadata": {},
     "output_type": "execute_result"
    }
   ],
   "source": [
    "#se rellenan valores ausentes de reparaciones\n",
    "df"
   ]
  },
  {
   "cell_type": "code",
   "execution_count": 115,
   "metadata": {},
   "outputs": [
    {
     "data": {
      "text/html": [
       "<div>\n",
       "<style scoped>\n",
       "    .dataframe tbody tr th:only-of-type {\n",
       "        vertical-align: middle;\n",
       "    }\n",
       "\n",
       "    .dataframe tbody tr th {\n",
       "        vertical-align: top;\n",
       "    }\n",
       "\n",
       "    .dataframe thead th {\n",
       "        text-align: right;\n",
       "    }\n",
       "</style>\n",
       "<table border=\"1\" class=\"dataframe\">\n",
       "  <thead>\n",
       "    <tr style=\"text-align: right;\">\n",
       "      <th></th>\n",
       "      <th>mileage</th>\n",
       "      <th>notrepaired</th>\n",
       "    </tr>\n",
       "  </thead>\n",
       "  <tbody>\n",
       "    <tr>\n",
       "      <th>0</th>\n",
       "      <td>5000</td>\n",
       "      <td>no</td>\n",
       "    </tr>\n",
       "    <tr>\n",
       "      <th>1</th>\n",
       "      <td>10000</td>\n",
       "      <td>no</td>\n",
       "    </tr>\n",
       "    <tr>\n",
       "      <th>2</th>\n",
       "      <td>20000</td>\n",
       "      <td>no</td>\n",
       "    </tr>\n",
       "    <tr>\n",
       "      <th>3</th>\n",
       "      <td>30000</td>\n",
       "      <td>no</td>\n",
       "    </tr>\n",
       "    <tr>\n",
       "      <th>4</th>\n",
       "      <td>40000</td>\n",
       "      <td>no</td>\n",
       "    </tr>\n",
       "    <tr>\n",
       "      <th>5</th>\n",
       "      <td>50000</td>\n",
       "      <td>no</td>\n",
       "    </tr>\n",
       "    <tr>\n",
       "      <th>6</th>\n",
       "      <td>60000</td>\n",
       "      <td>no</td>\n",
       "    </tr>\n",
       "    <tr>\n",
       "      <th>7</th>\n",
       "      <td>70000</td>\n",
       "      <td>no</td>\n",
       "    </tr>\n",
       "    <tr>\n",
       "      <th>8</th>\n",
       "      <td>80000</td>\n",
       "      <td>no</td>\n",
       "    </tr>\n",
       "    <tr>\n",
       "      <th>9</th>\n",
       "      <td>90000</td>\n",
       "      <td>no</td>\n",
       "    </tr>\n",
       "    <tr>\n",
       "      <th>10</th>\n",
       "      <td>100000</td>\n",
       "      <td>no</td>\n",
       "    </tr>\n",
       "    <tr>\n",
       "      <th>11</th>\n",
       "      <td>125000</td>\n",
       "      <td>no</td>\n",
       "    </tr>\n",
       "    <tr>\n",
       "      <th>12</th>\n",
       "      <td>150000</td>\n",
       "      <td>no</td>\n",
       "    </tr>\n",
       "  </tbody>\n",
       "</table>\n",
       "</div>"
      ],
      "text/plain": [
       "    mileage notrepaired\n",
       "0      5000          no\n",
       "1     10000          no\n",
       "2     20000          no\n",
       "3     30000          no\n",
       "4     40000          no\n",
       "5     50000          no\n",
       "6     60000          no\n",
       "7     70000          no\n",
       "8     80000          no\n",
       "9     90000          no\n",
       "10   100000          no\n",
       "11   125000          no\n",
       "12   150000          no"
      ]
     },
     "execution_count": 115,
     "metadata": {},
     "output_type": "execute_result"
    }
   ],
   "source": [
    "#se crea una tabla con los kilometrajes y el valor de reparacion que aparece con mayor frecuncia\n",
    "tabla = df.groupby('mileage')['notrepaired'].apply(lambda x: x.mode()[0]).reset_index()\n",
    "tabla"
   ]
  },
  {
   "cell_type": "code",
   "execution_count": 116,
   "metadata": {},
   "outputs": [
    {
     "data": {
      "text/plain": [
       "array(['no'], dtype=object)"
      ]
     },
     "execution_count": 116,
     "metadata": {},
     "output_type": "execute_result"
    }
   ],
   "source": [
    "# Unir el DataFrame original con la tabla de moda utilizando el método merge()\n",
    "df = pd.merge(df, tabla, on='mileage', how='left', suffixes=('_original', '_moda'))\n",
    "df['notrepaired_moda'].unique()\n"
   ]
  },
  {
   "cell_type": "code",
   "execution_count": 117,
   "metadata": {},
   "outputs": [],
   "source": [
    "df['notrepaired']=df['notrepaired_original'].fillna(df['notrepaired_moda'])\n",
    "\n",
    "#dfbt['notrepaired_original'].unique()\n",
    "# df['notrepaired']=df['notrepaired'].fillna(dfbt['notrepaired_original'])\n"
   ]
  },
  {
   "cell_type": "code",
   "execution_count": 118,
   "metadata": {},
   "outputs": [
    {
     "data": {
      "text/plain": [
       "no     300715\n",
       "yes     33691\n",
       "Name: notrepaired, dtype: int64"
      ]
     },
     "execution_count": 118,
     "metadata": {},
     "output_type": "execute_result"
    }
   ],
   "source": [
    "\n",
    "df['notrepaired'].value_counts()"
   ]
  },
  {
   "cell_type": "code",
   "execution_count": 119,
   "metadata": {},
   "outputs": [
    {
     "data": {
      "text/html": [
       "<div>\n",
       "<style scoped>\n",
       "    .dataframe tbody tr th:only-of-type {\n",
       "        vertical-align: middle;\n",
       "    }\n",
       "\n",
       "    .dataframe tbody tr th {\n",
       "        vertical-align: top;\n",
       "    }\n",
       "\n",
       "    .dataframe thead th {\n",
       "        text-align: right;\n",
       "    }\n",
       "</style>\n",
       "<table border=\"1\" class=\"dataframe\">\n",
       "  <thead>\n",
       "    <tr style=\"text-align: right;\">\n",
       "      <th></th>\n",
       "      <th>price</th>\n",
       "      <th>vehicletype</th>\n",
       "      <th>registrationyear</th>\n",
       "      <th>gearbox</th>\n",
       "      <th>power</th>\n",
       "      <th>model</th>\n",
       "      <th>mileage</th>\n",
       "      <th>registrationmonth</th>\n",
       "      <th>fueltype</th>\n",
       "      <th>brand</th>\n",
       "      <th>notrepaired_original</th>\n",
       "      <th>notrepaired_moda</th>\n",
       "      <th>notrepaired</th>\n",
       "    </tr>\n",
       "  </thead>\n",
       "  <tbody>\n",
       "    <tr>\n",
       "      <th>0</th>\n",
       "      <td>480</td>\n",
       "      <td>wagon</td>\n",
       "      <td>1993</td>\n",
       "      <td>manual</td>\n",
       "      <td>0</td>\n",
       "      <td>golf</td>\n",
       "      <td>150000</td>\n",
       "      <td>0</td>\n",
       "      <td>petrol</td>\n",
       "      <td>volkswagen</td>\n",
       "      <td>NaN</td>\n",
       "      <td>no</td>\n",
       "      <td>no</td>\n",
       "    </tr>\n",
       "    <tr>\n",
       "      <th>1</th>\n",
       "      <td>9800</td>\n",
       "      <td>suv</td>\n",
       "      <td>2004</td>\n",
       "      <td>auto</td>\n",
       "      <td>163</td>\n",
       "      <td>grand</td>\n",
       "      <td>125000</td>\n",
       "      <td>8</td>\n",
       "      <td>gasoline</td>\n",
       "      <td>jeep</td>\n",
       "      <td>NaN</td>\n",
       "      <td>no</td>\n",
       "      <td>no</td>\n",
       "    </tr>\n",
       "    <tr>\n",
       "      <th>2</th>\n",
       "      <td>1500</td>\n",
       "      <td>small</td>\n",
       "      <td>2001</td>\n",
       "      <td>manual</td>\n",
       "      <td>75</td>\n",
       "      <td>golf</td>\n",
       "      <td>150000</td>\n",
       "      <td>6</td>\n",
       "      <td>petrol</td>\n",
       "      <td>volkswagen</td>\n",
       "      <td>no</td>\n",
       "      <td>no</td>\n",
       "      <td>no</td>\n",
       "    </tr>\n",
       "    <tr>\n",
       "      <th>3</th>\n",
       "      <td>3600</td>\n",
       "      <td>small</td>\n",
       "      <td>2008</td>\n",
       "      <td>manual</td>\n",
       "      <td>69</td>\n",
       "      <td>fabia</td>\n",
       "      <td>90000</td>\n",
       "      <td>7</td>\n",
       "      <td>gasoline</td>\n",
       "      <td>skoda</td>\n",
       "      <td>no</td>\n",
       "      <td>no</td>\n",
       "      <td>no</td>\n",
       "    </tr>\n",
       "    <tr>\n",
       "      <th>4</th>\n",
       "      <td>650</td>\n",
       "      <td>sedan</td>\n",
       "      <td>1995</td>\n",
       "      <td>manual</td>\n",
       "      <td>102</td>\n",
       "      <td>3er</td>\n",
       "      <td>150000</td>\n",
       "      <td>10</td>\n",
       "      <td>petrol</td>\n",
       "      <td>bmw</td>\n",
       "      <td>yes</td>\n",
       "      <td>no</td>\n",
       "      <td>yes</td>\n",
       "    </tr>\n",
       "    <tr>\n",
       "      <th>...</th>\n",
       "      <td>...</td>\n",
       "      <td>...</td>\n",
       "      <td>...</td>\n",
       "      <td>...</td>\n",
       "      <td>...</td>\n",
       "      <td>...</td>\n",
       "      <td>...</td>\n",
       "      <td>...</td>\n",
       "      <td>...</td>\n",
       "      <td>...</td>\n",
       "      <td>...</td>\n",
       "      <td>...</td>\n",
       "      <td>...</td>\n",
       "    </tr>\n",
       "    <tr>\n",
       "      <th>334401</th>\n",
       "      <td>1150</td>\n",
       "      <td>bus</td>\n",
       "      <td>2000</td>\n",
       "      <td>manual</td>\n",
       "      <td>0</td>\n",
       "      <td>zafira</td>\n",
       "      <td>150000</td>\n",
       "      <td>3</td>\n",
       "      <td>petrol</td>\n",
       "      <td>opel</td>\n",
       "      <td>no</td>\n",
       "      <td>no</td>\n",
       "      <td>no</td>\n",
       "    </tr>\n",
       "    <tr>\n",
       "      <th>334402</th>\n",
       "      <td>0</td>\n",
       "      <td>NaN</td>\n",
       "      <td>2005</td>\n",
       "      <td>manual</td>\n",
       "      <td>0</td>\n",
       "      <td>colt</td>\n",
       "      <td>150000</td>\n",
       "      <td>7</td>\n",
       "      <td>petrol</td>\n",
       "      <td>mitsubishi</td>\n",
       "      <td>yes</td>\n",
       "      <td>no</td>\n",
       "      <td>yes</td>\n",
       "    </tr>\n",
       "    <tr>\n",
       "      <th>334403</th>\n",
       "      <td>1199</td>\n",
       "      <td>convertible</td>\n",
       "      <td>2000</td>\n",
       "      <td>auto</td>\n",
       "      <td>101</td>\n",
       "      <td>fortwo</td>\n",
       "      <td>125000</td>\n",
       "      <td>3</td>\n",
       "      <td>petrol</td>\n",
       "      <td>smart</td>\n",
       "      <td>no</td>\n",
       "      <td>no</td>\n",
       "      <td>no</td>\n",
       "    </tr>\n",
       "    <tr>\n",
       "      <th>334404</th>\n",
       "      <td>9200</td>\n",
       "      <td>bus</td>\n",
       "      <td>1996</td>\n",
       "      <td>manual</td>\n",
       "      <td>102</td>\n",
       "      <td>transporter</td>\n",
       "      <td>150000</td>\n",
       "      <td>3</td>\n",
       "      <td>gasoline</td>\n",
       "      <td>volkswagen</td>\n",
       "      <td>no</td>\n",
       "      <td>no</td>\n",
       "      <td>no</td>\n",
       "    </tr>\n",
       "    <tr>\n",
       "      <th>334405</th>\n",
       "      <td>3400</td>\n",
       "      <td>wagon</td>\n",
       "      <td>2002</td>\n",
       "      <td>manual</td>\n",
       "      <td>100</td>\n",
       "      <td>golf</td>\n",
       "      <td>150000</td>\n",
       "      <td>6</td>\n",
       "      <td>gasoline</td>\n",
       "      <td>volkswagen</td>\n",
       "      <td>NaN</td>\n",
       "      <td>no</td>\n",
       "      <td>no</td>\n",
       "    </tr>\n",
       "  </tbody>\n",
       "</table>\n",
       "<p>334406 rows × 13 columns</p>\n",
       "</div>"
      ],
      "text/plain": [
       "        price  vehicletype  registrationyear gearbox  power        model  \\\n",
       "0         480        wagon              1993  manual      0         golf   \n",
       "1        9800          suv              2004    auto    163        grand   \n",
       "2        1500        small              2001  manual     75         golf   \n",
       "3        3600        small              2008  manual     69        fabia   \n",
       "4         650        sedan              1995  manual    102          3er   \n",
       "...       ...          ...               ...     ...    ...          ...   \n",
       "334401   1150          bus              2000  manual      0       zafira   \n",
       "334402      0          NaN              2005  manual      0         colt   \n",
       "334403   1199  convertible              2000    auto    101       fortwo   \n",
       "334404   9200          bus              1996  manual    102  transporter   \n",
       "334405   3400        wagon              2002  manual    100         golf   \n",
       "\n",
       "        mileage  registrationmonth  fueltype       brand notrepaired_original  \\\n",
       "0        150000                  0    petrol  volkswagen                  NaN   \n",
       "1        125000                  8  gasoline        jeep                  NaN   \n",
       "2        150000                  6    petrol  volkswagen                   no   \n",
       "3         90000                  7  gasoline       skoda                   no   \n",
       "4        150000                 10    petrol         bmw                  yes   \n",
       "...         ...                ...       ...         ...                  ...   \n",
       "334401   150000                  3    petrol        opel                   no   \n",
       "334402   150000                  7    petrol  mitsubishi                  yes   \n",
       "334403   125000                  3    petrol       smart                   no   \n",
       "334404   150000                  3  gasoline  volkswagen                   no   \n",
       "334405   150000                  6  gasoline  volkswagen                  NaN   \n",
       "\n",
       "       notrepaired_moda notrepaired  \n",
       "0                    no          no  \n",
       "1                    no          no  \n",
       "2                    no          no  \n",
       "3                    no          no  \n",
       "4                    no         yes  \n",
       "...                 ...         ...  \n",
       "334401               no          no  \n",
       "334402               no         yes  \n",
       "334403               no          no  \n",
       "334404               no          no  \n",
       "334405               no          no  \n",
       "\n",
       "[334406 rows x 13 columns]"
      ]
     },
     "execution_count": 119,
     "metadata": {},
     "output_type": "execute_result"
    }
   ],
   "source": [
    "df"
   ]
  },
  {
   "cell_type": "code",
   "execution_count": 120,
   "metadata": {},
   "outputs": [
    {
     "data": {
      "text/plain": [
       "Index(['price', 'vehicletype', 'registrationyear', 'gearbox', 'power', 'model',\n",
       "       'mileage', 'registrationmonth', 'fueltype', 'brand',\n",
       "       'notrepaired_original', 'notrepaired_moda', 'notrepaired'],\n",
       "      dtype='object')"
      ]
     },
     "execution_count": 120,
     "metadata": {},
     "output_type": "execute_result"
    }
   ],
   "source": [
    "df.columns"
   ]
  },
  {
   "cell_type": "code",
   "execution_count": 121,
   "metadata": {},
   "outputs": [],
   "source": [
    "df = df.drop(['notrepaired_moda', 'notrepaired_original'], axis=1)\n"
   ]
  },
  {
   "cell_type": "code",
   "execution_count": 122,
   "metadata": {},
   "outputs": [
    {
     "name": "stdout",
     "output_type": "stream",
     "text": [
      "<class 'pandas.core.frame.DataFrame'>\n",
      "Int64Index: 334406 entries, 0 to 334405\n",
      "Data columns (total 11 columns):\n",
      " #   Column             Non-Null Count   Dtype \n",
      "---  ------             --------------   ----- \n",
      " 0   price              334406 non-null  int64 \n",
      " 1   vehicletype        333155 non-null  object\n",
      " 2   registrationyear   334406 non-null  int64 \n",
      " 3   gearbox            334137 non-null  object\n",
      " 4   power              334406 non-null  int64 \n",
      " 5   model              334406 non-null  object\n",
      " 6   mileage            334406 non-null  int64 \n",
      " 7   registrationmonth  334406 non-null  int64 \n",
      " 8   fueltype           334406 non-null  object\n",
      " 9   brand              334406 non-null  object\n",
      " 10  notrepaired        334406 non-null  object\n",
      "dtypes: int64(5), object(6)\n",
      "memory usage: 30.6+ MB\n"
     ]
    }
   ],
   "source": [
    "df.info()"
   ]
  },
  {
   "cell_type": "code",
   "execution_count": 123,
   "metadata": {},
   "outputs": [],
   "source": [
    "# LUEGO DEHABER COMPLETADO la mayoria de los datos ausentes eliminamos los pocos que no pudieron completarse\n",
    "df = df.dropna(subset=['vehicletype','gearbox'])"
   ]
  },
  {
   "cell_type": "code",
   "execution_count": 124,
   "metadata": {},
   "outputs": [
    {
     "name": "stdout",
     "output_type": "stream",
     "text": [
      "<class 'pandas.core.frame.DataFrame'>\n",
      "Int64Index: 332906 entries, 0 to 334405\n",
      "Data columns (total 11 columns):\n",
      " #   Column             Non-Null Count   Dtype \n",
      "---  ------             --------------   ----- \n",
      " 0   price              332906 non-null  int64 \n",
      " 1   vehicletype        332906 non-null  object\n",
      " 2   registrationyear   332906 non-null  int64 \n",
      " 3   gearbox            332906 non-null  object\n",
      " 4   power              332906 non-null  int64 \n",
      " 5   model              332906 non-null  object\n",
      " 6   mileage            332906 non-null  int64 \n",
      " 7   registrationmonth  332906 non-null  int64 \n",
      " 8   fueltype           332906 non-null  object\n",
      " 9   brand              332906 non-null  object\n",
      " 10  notrepaired        332906 non-null  object\n",
      "dtypes: int64(5), object(6)\n",
      "memory usage: 30.5+ MB\n"
     ]
    }
   ],
   "source": [
    "df.info()"
   ]
  },
  {
   "cell_type": "markdown",
   "metadata": {},
   "source": [
    "### Analisis de datos contenidos"
   ]
  },
  {
   "cell_type": "code",
   "execution_count": 125,
   "metadata": {},
   "outputs": [
    {
     "data": {
      "text/plain": [
       "manual    267789\n",
       "auto       65117\n",
       "Name: gearbox, dtype: int64"
      ]
     },
     "execution_count": 125,
     "metadata": {},
     "output_type": "execute_result"
    }
   ],
   "source": [
    "# Se analiza dato tipo de vehiculo\n",
    "df['gearbox'].value_counts()"
   ]
  },
  {
   "cell_type": "code",
   "execution_count": 126,
   "metadata": {},
   "outputs": [
    {
     "data": {
      "text/plain": [
       "0       33186\n",
       "75      22710\n",
       "60      14982\n",
       "150     13937\n",
       "101     12754\n",
       "        ...  \n",
       "540         1\n",
       "416         1\n",
       "1288        1\n",
       "6045        1\n",
       "551         1\n",
       "Name: power, Length: 683, dtype: int64"
      ]
     },
     "execution_count": 126,
     "metadata": {},
     "output_type": "execute_result"
    }
   ],
   "source": [
    "# Se analizan los datos de la potencia\n",
    "df['power'].value_counts()\n"
   ]
  },
  {
   "cell_type": "code",
   "execution_count": 127,
   "metadata": {},
   "outputs": [],
   "source": [
    "# Se eliminan los valores de potencia mayores a 2000 y menores a 10 ya que carecen de sentido\n",
    "\n",
    "df = df[(df['power']>= 2000) | (df['power']<= 10)]\n"
   ]
  },
  {
   "cell_type": "code",
   "execution_count": 128,
   "metadata": {},
   "outputs": [],
   "source": [
    "# Se analizan los datos de modelos\n"
   ]
  },
  {
   "cell_type": "code",
   "execution_count": 129,
   "metadata": {},
   "outputs": [
    {
     "data": {
      "text/plain": [
       "array(['golf', 'ka', 'kangoo', 'corsa', 'signum', 'astra', 'polo', 'a4',\n",
       "       'insignia', 'combo', '3er', '100', 'other', 'v40', 'a3', '7er',\n",
       "       'zafira', 'e_klasse', 'c_klasse', 'espace', 'sharan', 'a_klasse',\n",
       "       'seicento', 'transporter', 'c1', 'fox', '6_reihe', 'c_max',\n",
       "       '2_reihe', '5er', 'cooper', '500', 'lupo', 'x_reihe', 'punto',\n",
       "       'mondeo', 'a2', 'twingo', 'fiesta', 'qashqai', 'fabia', 's_klasse',\n",
       "       'focus', 'ibiza', 'civic', '1er', 'megane', 'caddy', 'kalos',\n",
       "       'laguna', 'transit', 'omega', 'cayenne', 'b_klasse', 'micra',\n",
       "       'corolla', 'clio', 'vito', 'touran', 'cr_reihe', 'clk', 'meriva',\n",
       "       'fortwo', 'escort', 'cordoba', 'sprinter', 'passat', 'modus', 'a5',\n",
       "       '3_reihe', 'v70', 'octavia', 'kaefer', 'agila', 'a6', 'antara',\n",
       "       'arosa', 'touareg', 'primera', 'picanto', 'stilo', 'bora',\n",
       "       'scenic', 'q7', 'berlingo', 'yaris', '1_reihe', 'leon', 'jetta',\n",
       "       'almera', 'tigra', 'ptcruiser', 'samara', 'c3', 'galant', 'verso',\n",
       "       '601', 'swift', 'vectra', 'i_reihe', 'mx_reihe', 's_max',\n",
       "       'roadster', '147', 'sandero', 'beetle', 'carnival', 'cherokee',\n",
       "       'rav', 'galaxy', 'matiz', 'pajero', 'rio', 'accord', 'grand',\n",
       "       'carisma', 'niva', 'logan', '850', 'cuore', 'getz', 'superb',\n",
       "       'ypsilon', 'm_klasse', 'tt', 'v_klasse', 'one', 'c2', '911', 'c5',\n",
       "       'lancer', '80', 'jimny', '4_reihe', 'auris', 'forester', 'altea',\n",
       "       '156', 'panda', 'move', 'ducato', 'toledo', 'doblo', 'sl', '145',\n",
       "       'duster', 'tiguan', 'tucson', 'aygo', 'roomster', 'ceed', 'fusion',\n",
       "       'vivaro', 'g_klasse', 'lanos', '900', 'forfour', 'sirion', 'colt',\n",
       "       'rx_reihe', 'lybra', 'slk', 'croma', 'z_reihe', 'a8', 'spider',\n",
       "       'cl', 'c_reihe', 'scirocco', '5_reihe', 'x_type', 'jazz', 'terios',\n",
       "       'viano', 'kadett', 'm_reihe', 'juke', 'phaeton', '6er', '159',\n",
       "       'justy', 'bravo', 'x_trail', 'mustang', '300c', 'freelander',\n",
       "       'voyager', 'crossfire', 'boxster', '90', 'sorento', 'avensis',\n",
       "       'santa', 'alhambra', 'navara', 'wrangler', 'yeti', 'up', 'impreza',\n",
       "       'r19', 'glk', 'a1', 'calibra', 'c4', 'amarok', 'aveo', 'charade',\n",
       "       'defender', 'note', 'sportage', 'legacy', 'delta', 'v50', 'nubira',\n",
       "       'lodgy', 'v60', 'musa', 'kuga', 'xc_reihe', 'discovery', 'eos',\n",
       "       's60', 'range_rover', 'outlander', 's_type', 'b_max', 'spark',\n",
       "       'captiva', 'serie_2', 'citigo', 'i3', 'range_rover_sport',\n",
       "       'cx_reihe', 'kappa', 'serie_3', 'gl', 'clubman', 'rangerover',\n",
       "       'q5', 'kalina', 'cc', 'materia', '200', 'serie_1', '9000', 'q3',\n",
       "       'elefantino'], dtype=object)"
      ]
     },
     "execution_count": 129,
     "metadata": {},
     "output_type": "execute_result"
    }
   ],
   "source": [
    "df['model'].unique()"
   ]
  },
  {
   "cell_type": "code",
   "execution_count": 130,
   "metadata": {},
   "outputs": [],
   "source": [
    "# SE anlaizan los datos contenidos en millaje\n"
   ]
  },
  {
   "cell_type": "code",
   "execution_count": 131,
   "metadata": {},
   "outputs": [
    {
     "data": {
      "text/plain": [
       "array([150000,   5000, 100000,  10000,  90000,  60000, 125000,  80000,\n",
       "        40000,  20000,  30000,  70000,  50000])"
      ]
     },
     "execution_count": 131,
     "metadata": {},
     "output_type": "execute_result"
    }
   ],
   "source": [
    "df['mileage'].unique()"
   ]
  },
  {
   "cell_type": "code",
   "execution_count": 132,
   "metadata": {},
   "outputs": [],
   "source": [
    "# Se analizan los datos del mes de registracion\n"
   ]
  },
  {
   "cell_type": "code",
   "execution_count": 133,
   "metadata": {},
   "outputs": [
    {
     "data": {
      "text/plain": [
       "array([ 0,  2,  1,  8,  3,  9, 12, 10,  4,  7,  6, 11,  5])"
      ]
     },
     "execution_count": 133,
     "metadata": {},
     "output_type": "execute_result"
    }
   ],
   "source": [
    "df['registrationmonth'].unique()"
   ]
  },
  {
   "cell_type": "code",
   "execution_count": 134,
   "metadata": {},
   "outputs": [
    {
     "data": {
      "text/plain": [
       "0     0.337459\n",
       "3     0.068661\n",
       "6     0.065124\n",
       "5     0.058681\n",
       "4     0.058261\n",
       "7     0.057062\n",
       "11    0.056913\n",
       "10    0.055924\n",
       "9     0.051278\n",
       "12    0.051158\n",
       "8     0.050289\n",
       "1     0.049150\n",
       "2     0.040040\n",
       "Name: registrationmonth, dtype: float64"
      ]
     },
     "execution_count": 134,
     "metadata": {},
     "output_type": "execute_result"
    }
   ],
   "source": [
    "# \n",
    "df['registrationmonth'].value_counts(normalize = True)"
   ]
  },
  {
   "cell_type": "markdown",
   "metadata": {},
   "source": [
    "- Dado que hay un alto porcentaje con valor de mes = 0 que carece de sentido y que el mes no tiene un alta correlacion con el precio, se eliminara esta caracateristica pra el analisis\n",
    "    \n",
    "   "
   ]
  },
  {
   "cell_type": "code",
   "execution_count": null,
   "metadata": {},
   "outputs": [],
   "source": [
    "\n",
    "df = df.drop(['registrationmonth'],axis=1)"
   ]
  },
  {
   "cell_type": "code",
   "execution_count": 136,
   "metadata": {},
   "outputs": [
    {
     "data": {
      "text/plain": [
       "array(['petrol', 'gasoline', 'other', 'lpg', 'hybrid', 'cng', 'electric'],\n",
       "      dtype=object)"
      ]
     },
     "execution_count": 136,
     "metadata": {},
     "output_type": "execute_result"
    }
   ],
   "source": [
    "# Se analizan los datos de tipo de combustible\n",
    "df['fueltype'].unique()"
   ]
  },
  {
   "cell_type": "code",
   "execution_count": 137,
   "metadata": {},
   "outputs": [
    {
     "data": {
      "text/plain": [
       "array(['volkswagen', 'ford', 'renault', 'opel', 'audi', 'bmw', 'fiat',\n",
       "       'mitsubishi', 'volvo', 'mercedes_benz', 'nissan', 'chevrolet',\n",
       "       'citroen', 'peugeot', 'mazda', 'mini', 'skoda', 'seat', 'porsche',\n",
       "       'honda', 'daewoo', 'toyota', 'hyundai', 'lancia', 'smart',\n",
       "       'jaguar', 'kia', 'chrysler', 'rover', 'lada', 'trabant', 'suzuki',\n",
       "       'alfa_romeo', 'dacia', 'jeep', 'daihatsu', 'saab', 'subaru',\n",
       "       'land_rover'], dtype=object)"
      ]
     },
     "execution_count": 137,
     "metadata": {},
     "output_type": "execute_result"
    }
   ],
   "source": [
    "#Se analizan los datos de marca\n",
    "df['brand'].unique()"
   ]
  },
  {
   "cell_type": "code",
   "execution_count": 138,
   "metadata": {},
   "outputs": [
    {
     "data": {
      "text/plain": [
       "array(['no', 'yes'], dtype=object)"
      ]
     },
     "execution_count": 138,
     "metadata": {},
     "output_type": "execute_result"
    }
   ],
   "source": [
    "df['notrepaired'].unique()"
   ]
  },
  {
   "cell_type": "markdown",
   "metadata": {},
   "source": [
    "### Analisis de correlacion con el precio"
   ]
  },
  {
   "cell_type": "code",
   "execution_count": 139,
   "metadata": {},
   "outputs": [
    {
     "data": {
      "text/html": [
       "<div>\n",
       "<style scoped>\n",
       "    .dataframe tbody tr th:only-of-type {\n",
       "        vertical-align: middle;\n",
       "    }\n",
       "\n",
       "    .dataframe tbody tr th {\n",
       "        vertical-align: top;\n",
       "    }\n",
       "\n",
       "    .dataframe thead th {\n",
       "        text-align: right;\n",
       "    }\n",
       "</style>\n",
       "<table border=\"1\" class=\"dataframe\">\n",
       "  <thead>\n",
       "    <tr style=\"text-align: right;\">\n",
       "      <th></th>\n",
       "      <th>price</th>\n",
       "      <th>registrationyear</th>\n",
       "      <th>power</th>\n",
       "      <th>mileage</th>\n",
       "    </tr>\n",
       "  </thead>\n",
       "  <tbody>\n",
       "    <tr>\n",
       "      <th>price</th>\n",
       "      <td>1.000000</td>\n",
       "      <td>0.019421</td>\n",
       "      <td>0.024823</td>\n",
       "      <td>-0.105795</td>\n",
       "    </tr>\n",
       "    <tr>\n",
       "      <th>registrationyear</th>\n",
       "      <td>0.019421</td>\n",
       "      <td>1.000000</td>\n",
       "      <td>0.003813</td>\n",
       "      <td>-0.079645</td>\n",
       "    </tr>\n",
       "    <tr>\n",
       "      <th>power</th>\n",
       "      <td>0.024823</td>\n",
       "      <td>0.003813</td>\n",
       "      <td>1.000000</td>\n",
       "      <td>-0.009342</td>\n",
       "    </tr>\n",
       "    <tr>\n",
       "      <th>mileage</th>\n",
       "      <td>-0.105795</td>\n",
       "      <td>-0.079645</td>\n",
       "      <td>-0.009342</td>\n",
       "      <td>1.000000</td>\n",
       "    </tr>\n",
       "  </tbody>\n",
       "</table>\n",
       "</div>"
      ],
      "text/plain": [
       "                     price  registrationyear     power   mileage\n",
       "price             1.000000          0.019421  0.024823 -0.105795\n",
       "registrationyear  0.019421          1.000000  0.003813 -0.079645\n",
       "power             0.024823          0.003813  1.000000 -0.009342\n",
       "mileage          -0.105795         -0.079645 -0.009342  1.000000"
      ]
     },
     "execution_count": 139,
     "metadata": {},
     "output_type": "execute_result"
    }
   ],
   "source": [
    "\n",
    "df.corr()"
   ]
  },
  {
   "cell_type": "markdown",
   "metadata": {},
   "source": [
    "## Entrenamiento del modelo "
   ]
  },
  {
   "cell_type": "markdown",
   "metadata": {},
   "source": [
    "### Modelo bosque aleatorio random forest regressor\n"
   ]
  },
  {
   "cell_type": "code",
   "execution_count": 140,
   "metadata": {},
   "outputs": [],
   "source": [
    "# se transforman las caracteristicas categoricas (con ordinal encoder)"
   ]
  },
  {
   "cell_type": "code",
   "execution_count": 141,
   "metadata": {},
   "outputs": [
    {
     "data": {
      "text/html": [
       "<div>\n",
       "<style scoped>\n",
       "    .dataframe tbody tr th:only-of-type {\n",
       "        vertical-align: middle;\n",
       "    }\n",
       "\n",
       "    .dataframe tbody tr th {\n",
       "        vertical-align: top;\n",
       "    }\n",
       "\n",
       "    .dataframe thead th {\n",
       "        text-align: right;\n",
       "    }\n",
       "</style>\n",
       "<table border=\"1\" class=\"dataframe\">\n",
       "  <thead>\n",
       "    <tr style=\"text-align: right;\">\n",
       "      <th></th>\n",
       "      <th>price</th>\n",
       "      <th>vehicletype</th>\n",
       "      <th>registrationyear</th>\n",
       "      <th>gearbox</th>\n",
       "      <th>power</th>\n",
       "      <th>model</th>\n",
       "      <th>mileage</th>\n",
       "      <th>fueltype</th>\n",
       "      <th>brand</th>\n",
       "      <th>notrepaired</th>\n",
       "    </tr>\n",
       "  </thead>\n",
       "  <tbody>\n",
       "    <tr>\n",
       "      <th>0</th>\n",
       "      <td>165.0</td>\n",
       "      <td>7.0</td>\n",
       "      <td>66.0</td>\n",
       "      <td>1.0</td>\n",
       "      <td>0.0</td>\n",
       "      <td>115.0</td>\n",
       "      <td>12.0</td>\n",
       "      <td>6.0</td>\n",
       "      <td>37.0</td>\n",
       "      <td>0.0</td>\n",
       "    </tr>\n",
       "    <tr>\n",
       "      <th>1</th>\n",
       "      <td>156.0</td>\n",
       "      <td>5.0</td>\n",
       "      <td>7.0</td>\n",
       "      <td>1.0</td>\n",
       "      <td>0.0</td>\n",
       "      <td>127.0</td>\n",
       "      <td>0.0</td>\n",
       "      <td>6.0</td>\n",
       "      <td>10.0</td>\n",
       "      <td>0.0</td>\n",
       "    </tr>\n",
       "    <tr>\n",
       "      <th>2</th>\n",
       "      <td>95.0</td>\n",
       "      <td>4.0</td>\n",
       "      <td>67.0</td>\n",
       "      <td>1.0</td>\n",
       "      <td>0.0</td>\n",
       "      <td>115.0</td>\n",
       "      <td>12.0</td>\n",
       "      <td>6.0</td>\n",
       "      <td>37.0</td>\n",
       "      <td>0.0</td>\n",
       "    </tr>\n",
       "    <tr>\n",
       "      <th>3</th>\n",
       "      <td>360.0</td>\n",
       "      <td>7.0</td>\n",
       "      <td>89.0</td>\n",
       "      <td>1.0</td>\n",
       "      <td>0.0</td>\n",
       "      <td>132.0</td>\n",
       "      <td>12.0</td>\n",
       "      <td>2.0</td>\n",
       "      <td>27.0</td>\n",
       "      <td>0.0</td>\n",
       "    </tr>\n",
       "    <tr>\n",
       "      <th>4</th>\n",
       "      <td>0.0</td>\n",
       "      <td>5.0</td>\n",
       "      <td>63.0</td>\n",
       "      <td>1.0</td>\n",
       "      <td>0.0</td>\n",
       "      <td>83.0</td>\n",
       "      <td>12.0</td>\n",
       "      <td>6.0</td>\n",
       "      <td>24.0</td>\n",
       "      <td>0.0</td>\n",
       "    </tr>\n",
       "    <tr>\n",
       "      <th>...</th>\n",
       "      <td>...</td>\n",
       "      <td>...</td>\n",
       "      <td>...</td>\n",
       "      <td>...</td>\n",
       "      <td>...</td>\n",
       "      <td>...</td>\n",
       "      <td>...</td>\n",
       "      <td>...</td>\n",
       "      <td>...</td>\n",
       "      <td>...</td>\n",
       "    </tr>\n",
       "    <tr>\n",
       "      <th>33362</th>\n",
       "      <td>806.0</td>\n",
       "      <td>0.0</td>\n",
       "      <td>80.0</td>\n",
       "      <td>1.0</td>\n",
       "      <td>0.0</td>\n",
       "      <td>47.0</td>\n",
       "      <td>11.0</td>\n",
       "      <td>6.0</td>\n",
       "      <td>20.0</td>\n",
       "      <td>0.0</td>\n",
       "    </tr>\n",
       "    <tr>\n",
       "      <th>33363</th>\n",
       "      <td>142.0</td>\n",
       "      <td>5.0</td>\n",
       "      <td>70.0</td>\n",
       "      <td>0.0</td>\n",
       "      <td>0.0</td>\n",
       "      <td>83.0</td>\n",
       "      <td>10.0</td>\n",
       "      <td>6.0</td>\n",
       "      <td>24.0</td>\n",
       "      <td>1.0</td>\n",
       "    </tr>\n",
       "    <tr>\n",
       "      <th>33364</th>\n",
       "      <td>479.0</td>\n",
       "      <td>4.0</td>\n",
       "      <td>78.0</td>\n",
       "      <td>0.0</td>\n",
       "      <td>0.0</td>\n",
       "      <td>59.0</td>\n",
       "      <td>12.0</td>\n",
       "      <td>6.0</td>\n",
       "      <td>20.0</td>\n",
       "      <td>0.0</td>\n",
       "    </tr>\n",
       "    <tr>\n",
       "      <th>33365</th>\n",
       "      <td>600.0</td>\n",
       "      <td>7.0</td>\n",
       "      <td>78.0</td>\n",
       "      <td>1.0</td>\n",
       "      <td>3.0</td>\n",
       "      <td>11.0</td>\n",
       "      <td>12.0</td>\n",
       "      <td>2.0</td>\n",
       "      <td>2.0</td>\n",
       "      <td>0.0</td>\n",
       "    </tr>\n",
       "    <tr>\n",
       "      <th>33366</th>\n",
       "      <td>302.0</td>\n",
       "      <td>0.0</td>\n",
       "      <td>73.0</td>\n",
       "      <td>1.0</td>\n",
       "      <td>0.0</td>\n",
       "      <td>246.0</td>\n",
       "      <td>12.0</td>\n",
       "      <td>6.0</td>\n",
       "      <td>24.0</td>\n",
       "      <td>0.0</td>\n",
       "    </tr>\n",
       "  </tbody>\n",
       "</table>\n",
       "<p>33367 rows × 10 columns</p>\n",
       "</div>"
      ],
      "text/plain": [
       "       price  vehicletype  registrationyear  gearbox  power  model  mileage  \\\n",
       "0      165.0          7.0              66.0      1.0    0.0  115.0     12.0   \n",
       "1      156.0          5.0               7.0      1.0    0.0  127.0      0.0   \n",
       "2       95.0          4.0              67.0      1.0    0.0  115.0     12.0   \n",
       "3      360.0          7.0              89.0      1.0    0.0  132.0     12.0   \n",
       "4        0.0          5.0              63.0      1.0    0.0   83.0     12.0   \n",
       "...      ...          ...               ...      ...    ...    ...      ...   \n",
       "33362  806.0          0.0              80.0      1.0    0.0   47.0     11.0   \n",
       "33363  142.0          5.0              70.0      0.0    0.0   83.0     10.0   \n",
       "33364  479.0          4.0              78.0      0.0    0.0   59.0     12.0   \n",
       "33365  600.0          7.0              78.0      1.0    3.0   11.0     12.0   \n",
       "33366  302.0          0.0              73.0      1.0    0.0  246.0     12.0   \n",
       "\n",
       "       fueltype  brand  notrepaired  \n",
       "0           6.0   37.0          0.0  \n",
       "1           6.0   10.0          0.0  \n",
       "2           6.0   37.0          0.0  \n",
       "3           2.0   27.0          0.0  \n",
       "4           6.0   24.0          0.0  \n",
       "...         ...    ...          ...  \n",
       "33362       6.0   20.0          0.0  \n",
       "33363       6.0   24.0          1.0  \n",
       "33364       6.0   20.0          0.0  \n",
       "33365       2.0    2.0          0.0  \n",
       "33366       6.0   24.0          0.0  \n",
       "\n",
       "[33367 rows x 10 columns]"
      ]
     },
     "execution_count": 141,
     "metadata": {},
     "output_type": "execute_result"
    }
   ],
   "source": [
    "# Se utiiza  OrdinalEncoder para transformar variables categoricas\n",
    "\n",
    "encoder =  OrdinalEncoder()\n",
    "df_ordinal = pd.DataFrame(encoder.fit_transform(df), columns = df.columns)\n",
    "df_ordinal"
   ]
  },
  {
   "cell_type": "code",
   "execution_count": 142,
   "metadata": {},
   "outputs": [],
   "source": [
    "# Se segmentan los datos en tres conjuntos (entrenamiento (60%), validacion (20%)y prueba (20%)). El precio es la variable objetivo\n",
    "features_ord = df_ordinal.drop('price', axis=1)\n",
    "target_ord = df_ordinal['price']\n",
    "features_ord_train, features_ord_valid, target_ord_train, target_ord_valid = train_test_split(features_ord, target_ord, test_size = 0.4, random_state= 12345)\n",
    "features_ord_test, features_ord_valid, target_ord_test, target_ord_valid  = train_test_split(features_ord_valid, target_ord_valid, test_size = 0.5, random_state= 12345)\n"
   ]
  },
  {
   "cell_type": "code",
   "execution_count": 143,
   "metadata": {},
   "outputs": [
    {
     "name": "stdout",
     "output_type": "stream",
     "text": [
      "Mejor modelo 'Bosque Aleatorio':\n",
      "RSME: 32914.25379719474  Profundidad: 11 n_estimators: 11\n"
     ]
    }
   ],
   "source": [
    "#Entrenamiento y seleccion del mejor modelo de bosque aleatorio\n",
    "\n",
    "best_score_random_forest = 10000000000\n",
    "best_est_random_forest = 0\n",
    "best_depth_random_forest = 0\n",
    "for est in range(1, 12): # selecciona el rango del hiperparámetro\n",
    "    for depth in range(1,12):\n",
    "        model_forest = RandomForestRegressor(random_state=54321, max_depth= depth, n_estimators=est) # configura el número de árboles\n",
    "        model_forest.fit(features_ord_train, target_ord_train) # entrena el modelo en el conjunto de entrenamiento\n",
    "        predictions_forest = model_forest.predict(features_ord_valid) \n",
    "        \n",
    "        rsme = mean_squared_error(target_ord_valid, predictions_forest)# calcula la puntuación de rsme en el conjunto de validación\n",
    "        if rsme < best_score_random_forest:\n",
    "            best_model_forest = model_forest\n",
    "            best_score_random_forest =  rsme# guarda la mejor puntuación RSME en el conjunto de validación\n",
    "            best_est_random_forest = est# guarda el número de estimadores que corresponden a la mejor puntuación de RSME\n",
    "            best_depth_random_forest = depth # guarda la la profundidad que corresponde a la mejor puntacion de RSME\n",
    "\n",
    "print(\"Mejor modelo 'Bosque Aleatorio':\")\n",
    "print(\"RSME:\", best_score_random_forest, \"\", \"Profundidad:\",  best_depth_random_forest, \"n_estimators:\", best_est_random_forest)\n",
    "\n",
    "\n",
    "\n",
    "\n"
   ]
  },
  {
   "cell_type": "code",
   "execution_count": 144,
   "metadata": {},
   "outputs": [
    {
     "name": "stdout",
     "output_type": "stream",
     "text": [
      "Valores del mejor modelo de bosque aleatorio\n",
      "tiempo de ejecucion: 0.349564790725708\n",
      "RSME: 32914.25379719474\n"
     ]
    }
   ],
   "source": [
    "\n",
    "#best model\n",
    "\n",
    "import time\n",
    "inicio = time.time()\n",
    "    \n",
    "model_forest = RandomForestRegressor(random_state=54321, max_depth= best_depth_random_forest, n_estimators=best_est_random_forest)\n",
    "    \n",
    "model_forest.fit(features_ord_train, target_ord_train)\n",
    "predictions_forest = model_forest.predict(features_ord_valid) \n",
    "rsme = mean_squared_error(target_ord_valid, predictions_forest)\n",
    "\n",
    "\n",
    "# Registrar el tiempo actual después del bloque de código\n",
    "fin = time.time()\n",
    "# Calcular la diferencia de tiempo\n",
    "tiempo_total = fin - inicio\n",
    "print(\"Valores del mejor modelo de bosque aleatorio\")\n",
    "print(\"tiempo de ejecucion:\" , tiempo_total)\n",
    "print(\"RSME:\", rsme)"
   ]
  },
  {
   "cell_type": "markdown",
   "metadata": {},
   "source": [
    "### Modelo LIGHT gvm"
   ]
  },
  {
   "cell_type": "code",
   "execution_count": 146,
   "metadata": {},
   "outputs": [
    {
     "name": "stdout",
     "output_type": "stream",
     "text": [
      "Mejor modelo 'LGVM':\n",
      "RSME: 78737.86469883128  Leaves: 32 n_estimators: 3  Learning rate 0.30000000000000004\n"
     ]
    }
   ],
   "source": [
    "#Entrenamiento del modelo LGVM\n",
    "\n",
    "best_rsme_lgb = 10000000000\n",
    "best_est_lgb = 0\n",
    "best_num_leaves_lgb = 0\n",
    "best_learning_rate_lgb = 0\n",
    "\n",
    "for est in range(2, 5): # selecciona el rango del hiperparámetro\n",
    "    for leaves in range(32, 35):\n",
    "        for rate in np.linspace(0.1,0.5,3):\n",
    "            clf = lgb.LGBMClassifier(learning_rate=rate, num_leaves = leaves, n_estimators = est)\n",
    "            clf.fit(features_ord_train, target_ord_train)\n",
    "            predictions_lgb =clf.predict(features_ord_valid)\n",
    "            rsme_lgb = mean_squared_error(target_ord_valid, predictions_lgb)\n",
    "\n",
    "            if rsme_lgb < best_rsme_lgb:\n",
    "                best_clft = clf\n",
    "                best_rsme_lgb  =  rsme_lgb # guarda la mejor puntuación RSME en el conjunto de validación\n",
    "                best_est_lgb = est# guarda el número de estimadores que corresponden a la mejor puntuación de RSME\n",
    "                best_num_leaves_lgb = leaves # guarda la la profundidad que corresponde a la mejor puntacion de RSME\n",
    "                best_learning_rate_lgb = rate\n",
    "\n",
    "\n",
    "print(\"Mejor modelo 'LGVM':\")\n",
    "print(\"RSME:\", best_rsme_lgb, \"\", \"Leaves:\",  best_num_leaves_lgb, \"n_estimators:\", best_est_lgb, \"\", 'Learning rate', best_learning_rate_lgb)\n",
    "\n",
    "\n"
   ]
  },
  {
   "cell_type": "code",
   "execution_count": 147,
   "metadata": {},
   "outputs": [
    {
     "name": "stdout",
     "output_type": "stream",
     "text": [
      "Valores del mejor modelo Lgvm\n",
      "tiempo de ejecucion: 26.642438650131226\n",
      "RSME: 78737.86469883128\n"
     ]
    }
   ],
   "source": [
    "## Modelo Lgvm con los mejores parametros\n",
    "\n",
    "inicio_lgvm = time.time()\n",
    "    \n",
    "clf = lgb.LGBMClassifier(learning_rate=best_learning_rate_lgb, num_leaves = best_num_leaves_lgb, n_estimators = best_est_lgb)\n",
    "clf.fit(features_ord_train, target_ord_train)\n",
    "predictions_lgb =clf.predict(features_ord_valid)\n",
    "rsme_lgb = mean_squared_error(target_ord_valid, predictions_lgb)\n",
    "            \n",
    "\n",
    "# Registrar el tiempo actual después del bloque de código\n",
    "fin_lgvm = time.time()\n",
    "# Calcular la diferencia de tiempo\n",
    "tiempo_total_lgvm = fin_lgvm - inicio_lgvm\n",
    "print(\"Valores del mejor modelo Lgvm\")\n",
    "print(\"tiempo de ejecucion:\" , tiempo_total_lgvm)\n",
    "print(\"RSME:\", rsme_lgb)   \n",
    "    \n",
    "    \n",
    "            "
   ]
  },
  {
   "cell_type": "markdown",
   "metadata": {},
   "source": [
    "\n",
    "LGBMClassifier(boosting_type='gbdt', class_weight=None, colsample_bytree=1.0,\n",
    "               importance_type='split', learning_rate=0.1, max_depth=-1,\n",
    "               min_child_samples=20, min_child_weight=0.001, min_split_gain=0.0,\n",
    "               n_estimators=100, n_jobs=-1, num_leaves=31, objective=None,\n",
    "               random_state=None, reg_alpha=0.0, reg_lambda=0.0, silent=True,\n",
    "               subsample=1.0, subsample_for_bin=200000, subsample_freq=0)"
   ]
  },
  {
   "cell_type": "code",
   "execution_count": 148,
   "metadata": {},
   "outputs": [],
   "source": [
    "  del features_ord_train"
   ]
  },
  {
   "cell_type": "markdown",
   "metadata": {},
   "source": [
    "### Modelo regresion lineal"
   ]
  },
  {
   "cell_type": "code",
   "execution_count": 149,
   "metadata": {},
   "outputs": [],
   "source": [
    "# se transforman las caracteristicas categoricas (con OHE)"
   ]
  },
  {
   "cell_type": "code",
   "execution_count": 150,
   "metadata": {},
   "outputs": [
    {
     "data": {
      "text/html": [
       "<div>\n",
       "<style scoped>\n",
       "    .dataframe tbody tr th:only-of-type {\n",
       "        vertical-align: middle;\n",
       "    }\n",
       "\n",
       "    .dataframe tbody tr th {\n",
       "        vertical-align: top;\n",
       "    }\n",
       "\n",
       "    .dataframe thead th {\n",
       "        text-align: right;\n",
       "    }\n",
       "</style>\n",
       "<table border=\"1\" class=\"dataframe\">\n",
       "  <thead>\n",
       "    <tr style=\"text-align: right;\">\n",
       "      <th></th>\n",
       "      <th>price</th>\n",
       "      <th>registrationyear</th>\n",
       "      <th>power</th>\n",
       "      <th>mileage</th>\n",
       "      <th>vehicletype_bus</th>\n",
       "      <th>vehicletype_convertible</th>\n",
       "      <th>vehicletype_coupe</th>\n",
       "      <th>vehicletype_other</th>\n",
       "      <th>vehicletype_sedan</th>\n",
       "      <th>vehicletype_small</th>\n",
       "      <th>...</th>\n",
       "      <th>brand_skoda</th>\n",
       "      <th>brand_smart</th>\n",
       "      <th>brand_subaru</th>\n",
       "      <th>brand_suzuki</th>\n",
       "      <th>brand_toyota</th>\n",
       "      <th>brand_trabant</th>\n",
       "      <th>brand_volkswagen</th>\n",
       "      <th>brand_volvo</th>\n",
       "      <th>notrepaired_no</th>\n",
       "      <th>notrepaired_yes</th>\n",
       "    </tr>\n",
       "  </thead>\n",
       "  <tbody>\n",
       "    <tr>\n",
       "      <th>0</th>\n",
       "      <td>480</td>\n",
       "      <td>1993</td>\n",
       "      <td>0</td>\n",
       "      <td>150000</td>\n",
       "      <td>0</td>\n",
       "      <td>0</td>\n",
       "      <td>0</td>\n",
       "      <td>0</td>\n",
       "      <td>0</td>\n",
       "      <td>0</td>\n",
       "      <td>...</td>\n",
       "      <td>0</td>\n",
       "      <td>0</td>\n",
       "      <td>0</td>\n",
       "      <td>0</td>\n",
       "      <td>0</td>\n",
       "      <td>0</td>\n",
       "      <td>1</td>\n",
       "      <td>0</td>\n",
       "      <td>1</td>\n",
       "      <td>0</td>\n",
       "    </tr>\n",
       "    <tr>\n",
       "      <th>14</th>\n",
       "      <td>450</td>\n",
       "      <td>1910</td>\n",
       "      <td>0</td>\n",
       "      <td>5000</td>\n",
       "      <td>0</td>\n",
       "      <td>0</td>\n",
       "      <td>0</td>\n",
       "      <td>0</td>\n",
       "      <td>0</td>\n",
       "      <td>1</td>\n",
       "      <td>...</td>\n",
       "      <td>0</td>\n",
       "      <td>0</td>\n",
       "      <td>0</td>\n",
       "      <td>0</td>\n",
       "      <td>0</td>\n",
       "      <td>0</td>\n",
       "      <td>0</td>\n",
       "      <td>0</td>\n",
       "      <td>1</td>\n",
       "      <td>0</td>\n",
       "    </tr>\n",
       "    <tr>\n",
       "      <th>31</th>\n",
       "      <td>245</td>\n",
       "      <td>1994</td>\n",
       "      <td>0</td>\n",
       "      <td>150000</td>\n",
       "      <td>0</td>\n",
       "      <td>0</td>\n",
       "      <td>0</td>\n",
       "      <td>0</td>\n",
       "      <td>1</td>\n",
       "      <td>0</td>\n",
       "      <td>...</td>\n",
       "      <td>0</td>\n",
       "      <td>0</td>\n",
       "      <td>0</td>\n",
       "      <td>0</td>\n",
       "      <td>0</td>\n",
       "      <td>0</td>\n",
       "      <td>1</td>\n",
       "      <td>0</td>\n",
       "      <td>1</td>\n",
       "      <td>0</td>\n",
       "    </tr>\n",
       "    <tr>\n",
       "      <th>36</th>\n",
       "      <td>1500</td>\n",
       "      <td>2016</td>\n",
       "      <td>0</td>\n",
       "      <td>150000</td>\n",
       "      <td>0</td>\n",
       "      <td>0</td>\n",
       "      <td>0</td>\n",
       "      <td>0</td>\n",
       "      <td>0</td>\n",
       "      <td>0</td>\n",
       "      <td>...</td>\n",
       "      <td>0</td>\n",
       "      <td>0</td>\n",
       "      <td>0</td>\n",
       "      <td>0</td>\n",
       "      <td>0</td>\n",
       "      <td>0</td>\n",
       "      <td>0</td>\n",
       "      <td>0</td>\n",
       "      <td>1</td>\n",
       "      <td>0</td>\n",
       "    </tr>\n",
       "    <tr>\n",
       "      <th>39</th>\n",
       "      <td>0</td>\n",
       "      <td>1990</td>\n",
       "      <td>0</td>\n",
       "      <td>150000</td>\n",
       "      <td>0</td>\n",
       "      <td>0</td>\n",
       "      <td>0</td>\n",
       "      <td>0</td>\n",
       "      <td>0</td>\n",
       "      <td>1</td>\n",
       "      <td>...</td>\n",
       "      <td>0</td>\n",
       "      <td>0</td>\n",
       "      <td>0</td>\n",
       "      <td>0</td>\n",
       "      <td>0</td>\n",
       "      <td>0</td>\n",
       "      <td>0</td>\n",
       "      <td>0</td>\n",
       "      <td>1</td>\n",
       "      <td>0</td>\n",
       "    </tr>\n",
       "  </tbody>\n",
       "</table>\n",
       "<p>5 rows × 309 columns</p>\n",
       "</div>"
      ],
      "text/plain": [
       "    price  registrationyear  power  mileage  vehicletype_bus  \\\n",
       "0     480              1993      0   150000                0   \n",
       "14    450              1910      0     5000                0   \n",
       "31    245              1994      0   150000                0   \n",
       "36   1500              2016      0   150000                0   \n",
       "39      0              1990      0   150000                0   \n",
       "\n",
       "    vehicletype_convertible  vehicletype_coupe  vehicletype_other  \\\n",
       "0                         0                  0                  0   \n",
       "14                        0                  0                  0   \n",
       "31                        0                  0                  0   \n",
       "36                        0                  0                  0   \n",
       "39                        0                  0                  0   \n",
       "\n",
       "    vehicletype_sedan  vehicletype_small  ...  brand_skoda  brand_smart  \\\n",
       "0                   0                  0  ...            0            0   \n",
       "14                  0                  1  ...            0            0   \n",
       "31                  1                  0  ...            0            0   \n",
       "36                  0                  0  ...            0            0   \n",
       "39                  0                  1  ...            0            0   \n",
       "\n",
       "    brand_subaru  brand_suzuki  brand_toyota  brand_trabant  brand_volkswagen  \\\n",
       "0              0             0             0              0                 1   \n",
       "14             0             0             0              0                 0   \n",
       "31             0             0             0              0                 1   \n",
       "36             0             0             0              0                 0   \n",
       "39             0             0             0              0                 0   \n",
       "\n",
       "    brand_volvo  notrepaired_no  notrepaired_yes  \n",
       "0             0               1                0  \n",
       "14            0               1                0  \n",
       "31            0               1                0  \n",
       "36            0               1                0  \n",
       "39            0               1                0  \n",
       "\n",
       "[5 rows x 309 columns]"
      ]
     },
     "execution_count": 150,
     "metadata": {},
     "output_type": "execute_result"
    }
   ],
   "source": [
    "# Se aplica OHE a las columnas categoricas\n",
    "\n",
    "df_ohe = pd.get_dummies(df, drop_first = False, columns = ['vehicletype', 'gearbox', 'model', 'fueltype', 'brand', 'notrepaired'])\n",
    "df_ohe.head()\n"
   ]
  },
  {
   "cell_type": "code",
   "execution_count": 151,
   "metadata": {},
   "outputs": [],
   "source": [
    "# Se separan las caracteristicas del objetivo. \n",
    "\n",
    "target_ohe = df_ohe['price']\n",
    "features_ohe = df_ohe.drop(['price'], axis=1)"
   ]
  },
  {
   "cell_type": "code",
   "execution_count": 152,
   "metadata": {},
   "outputs": [],
   "source": [
    "# Se segmentan los datos en tres conjuntos (entrenamiento (60%), validacion (20%)y prueba (20%)). \n",
    "\n",
    "features_ohe_train, features_ohe_valid, target_ohe_train, target_ohe_valid = train_test_split(features_ohe, target_ohe, test_size = 0.4, random_state= 12345)\n",
    "features_ohe_test, features_ohe_valid, target_ohe_test, target_ohe_valid  = train_test_split(features_ohe_valid, target_ohe_valid, test_size = 0.5, random_state= 12345)\n"
   ]
  },
  {
   "cell_type": "code",
   "execution_count": 154,
   "metadata": {},
   "outputs": [
    {
     "name": "stderr",
     "output_type": "stream",
     "text": [
      "/tmp/ipykernel_26/1838371082.py:8: SettingWithCopyWarning: \n",
      "A value is trying to be set on a copy of a slice from a DataFrame.\n",
      "Try using .loc[row_indexer,col_indexer] = value instead\n",
      "\n",
      "See the caveats in the documentation: https://pandas.pydata.org/pandas-docs/stable/user_guide/indexing.html#returning-a-view-versus-a-copy\n",
      "  features_ohe_train[numeric] = scaler.transform(features_ohe_train[numeric])\n",
      "/opt/conda/lib/python3.9/site-packages/pandas/core/indexing.py:1738: SettingWithCopyWarning: \n",
      "A value is trying to be set on a copy of a slice from a DataFrame.\n",
      "Try using .loc[row_indexer,col_indexer] = value instead\n",
      "\n",
      "See the caveats in the documentation: https://pandas.pydata.org/pandas-docs/stable/user_guide/indexing.html#returning-a-view-versus-a-copy\n",
      "  self._setitem_single_column(loc, value[:, i].tolist(), pi)\n"
     ]
    }
   ],
   "source": [
    "# Se escalan las caracteristicas numericas\n",
    "\n",
    "# Se escalan las caracteristicas numericas (por ser un modelo basado en regresion)\n",
    "\n",
    "numeric = ['registrationyear', 'power','mileage']\n",
    "scaler = StandardScaler()\n",
    "scaler.fit(features_ohe_train[numeric])\n",
    "features_ohe_train[numeric] = scaler.transform(features_ohe_train[numeric])\n",
    "features_ohe_valid[numeric] = scaler.transform(features_ohe_valid[numeric])\n",
    "features_ohe_test[numeric] = scaler.transform(features_ohe_test[numeric])"
   ]
  },
  {
   "cell_type": "code",
   "execution_count": 155,
   "metadata": {},
   "outputs": [
    {
     "name": "stdout",
     "output_type": "stream",
     "text": [
      "tiempo de ejecucion Modelo de regresion: 1.5386395454406738\n",
      "RSME: 9.401039361129412e+24\n"
     ]
    }
   ],
   "source": [
    "# Se entrena el modelo y se calculan (RECM y velocidad)\n",
    "\n",
    "inicio_lr = time.time()\n",
    "\n",
    "model_linear = LinearRegression()# inicializacion del constructor de modelo\n",
    "model_linear.fit(features_ohe_train, target_ohe_train) # entrenamiento del modelo en el conjunto de entrenamiento\n",
    "predictions_linear = model_linear.predict(features_ohe_valid) #  predicciones del modelo en el conjunto de validación\n",
    "rsme_lr=mean_squared_error(target_ohe_valid, predictions_linear)\n",
    "\n",
    "fin_lr = time.time()\n",
    "tiempo_total_lr = fin_lr - inicio_lr\n",
    "\n",
    "print(\"tiempo de ejecucion Modelo de regresion:\" , tiempo_total_lr)\n",
    "print(\"RSME:\", rsme_lr) \n"
   ]
  },
  {
   "cell_type": "markdown",
   "metadata": {},
   "source": [
    "## Análisis del modelo"
   ]
  },
  {
   "cell_type": "markdown",
   "metadata": {},
   "source": [
    "- Del analisis de RSME y tiempos de ejecucion requeridos, se deduce que el mejor modelo es el de bisque aleatorio ya que cuenta con el menor valor de RSME y de tiempo de ejecución con los mejores parametros encontrados"
   ]
  },
  {
   "cell_type": "markdown",
   "metadata": {},
   "source": [
    "# Lista de control"
   ]
  },
  {
   "cell_type": "markdown",
   "metadata": {},
   "source": [
    "Escribe 'x' para verificar. Luego presiona Shift+Enter"
   ]
  },
  {
   "cell_type": "markdown",
   "metadata": {},
   "source": [
    "- [x]  Jupyter Notebook está abierto\n",
    "- [ ]  El código no tiene errores- [ ]  Las celdas con el código han sido colocadas en orden de ejecución- [ ]  Los datos han sido descargados y preparados- [ ]  Los modelos han sido entrenados\n",
    "- [ ]  Se realizó el análisis de velocidad y calidad de los modelos"
   ]
  },
  {
   "cell_type": "code",
   "execution_count": null,
   "metadata": {},
   "outputs": [],
   "source": []
  }
 ],
 "metadata": {
  "kernelspec": {
   "display_name": "Python 3 (ipykernel)",
   "language": "python",
   "name": "python3"
  },
  "language_info": {
   "codemirror_mode": {
    "name": "ipython",
    "version": 3
   },
   "file_extension": ".py",
   "mimetype": "text/x-python",
   "name": "python",
   "nbconvert_exporter": "python",
   "pygments_lexer": "ipython3",
   "version": "3.9.5"
  },
  "toc": {
   "base_numbering": 1,
   "nav_menu": {},
   "number_sections": true,
   "sideBar": true,
   "skip_h1_title": true,
   "title_cell": "Table of Contents",
   "title_sidebar": "Contents",
   "toc_cell": false,
   "toc_position": {},
   "toc_section_display": true,
   "toc_window_display": false
  }
 },
 "nbformat": 4,
 "nbformat_minor": 2
}
