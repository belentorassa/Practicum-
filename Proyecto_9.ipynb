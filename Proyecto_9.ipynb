{
 "cells": [
  {
   "cell_type": "markdown",
   "metadata": {},
   "source": [
    "# Introducción\n",
    "\n",
    "Descripción del proyecto\n",
    "La compañía minera OilyGiant requiere encontrar el mejor lugar para un nuevo pozo.\n",
    "Para elegir la ubicación se llevan a cabo los siguientes pasos:\n",
    "- Se recolectan los parámetros del pozo de petróleo en la región seleccionada: calidad del petróleo y volumen de reservas\n",
    "- Se construye un modelo para predecir el volumen de reservas en los nuevos pozos\n",
    "- Se seleccionan los pozos de petróleo con los valores estimados más altos;\n",
    "- Se elige la región con el mayor beneficio total para los pozos de petróleo seleccionados.\n",
    "\n",
    "Se cuenta con datos sobre muestras de crudo de tres regiones. Ya se conocen los parámetros de cada pozo petrolero de la región. Se creará un modelo que ayude a elegir la región con el mayor margen de beneficio. Se analizarán los beneficios y riesgos potenciales utilizando la técnica bootstrapping\n"
   ]
  },
  {
   "cell_type": "markdown",
   "metadata": {},
   "source": [
    "# Tabla de contenidos\n",
    "\n",
    "* [1- Importación de librerias y carga de datos](#chapter1)\n",
    "\n",
    "    \n",
    "* [2 - Entrenamiento y prueba del modelo para cada región](#chapter2)\n",
    "\n",
    " \n",
    "* [3- Cálculo de ganancias](#chapter3)\n",
    "\n",
    "  \n",
    "* [4- Calculo de ganancia de pozos de petróleo seleccionados](#chapter4)\n",
    "\n",
    "\n",
    "* [5-  Calculo de riesgos y ganancias para cada región](#chapter5)\n",
    "\n",
    "\n",
    "* [6- Conclusiones](#chapter6)\n",
    "\n"
   ]
  },
  {
   "cell_type": "markdown",
   "metadata": {},
   "source": [
    "## Importación de librerias y carga de datos <a class=\"anchor\" id=\"chapter1\"></a>\n"
   ]
  },
  {
   "cell_type": "code",
   "execution_count": 46,
   "metadata": {},
   "outputs": [],
   "source": [
    "# importacion de librerias\n",
    "\n",
    "import pandas as pd\n",
    "from sklearn.model_selection import train_test_split\n",
    "from sklearn.preprocessing import StandardScaler\n",
    "from sklearn.linear_model import LinearRegression\n",
    "from sklearn.metrics import mean_squared_error\n",
    "import numpy as np"
   ]
  },
  {
   "cell_type": "code",
   "execution_count": 47,
   "metadata": {},
   "outputs": [],
   "source": [
    "#CArga de datos\n",
    "geo_data_0 = pd.read_csv('/datasets/geo_data_0.csv')\n",
    "geo_data_1 = pd.read_csv('/datasets/geo_data_1.csv')\n",
    "geo_data_2 = pd.read_csv('/datasets/geo_data_2.csv')\n"
   ]
  },
  {
   "cell_type": "code",
   "execution_count": 48,
   "metadata": {},
   "outputs": [
    {
     "name": "stdout",
     "output_type": "stream",
     "text": [
      "      id        f0        f1       f2     product\n",
      "0  txEyH  0.705745 -0.497823  1.22117  105.280062\n",
      "1  2acmU  1.334711 -0.340164  4.36508   73.037750\n",
      "      id         f0        f1        f2    product\n",
      "0  kBEdx -15.001348 -8.276000 -0.005876   3.179103\n",
      "1  62mP7  14.272088 -3.475083  0.999183  26.953261\n",
      "      id        f0        f1        f2    product\n",
      "0  fwXo0 -1.146987  0.963328 -0.828965  27.758673\n",
      "1  WJtFt  0.262778  0.269839 -2.530187  56.069697\n"
     ]
    }
   ],
   "source": [
    "#Observacion general de datos\n",
    "print(geo_data_0.head(2))\n",
    "print(geo_data_1.head(2))\n",
    "print(geo_data_2.head(2))"
   ]
  },
  {
   "cell_type": "code",
   "execution_count": 49,
   "metadata": {},
   "outputs": [
    {
     "name": "stdout",
     "output_type": "stream",
     "text": [
      "<class 'pandas.core.frame.DataFrame'>\n",
      "RangeIndex: 100000 entries, 0 to 99999\n",
      "Data columns (total 5 columns):\n",
      " #   Column   Non-Null Count   Dtype  \n",
      "---  ------   --------------   -----  \n",
      " 0   id       100000 non-null  object \n",
      " 1   f0       100000 non-null  float64\n",
      " 2   f1       100000 non-null  float64\n",
      " 3   f2       100000 non-null  float64\n",
      " 4   product  100000 non-null  float64\n",
      "dtypes: float64(4), object(1)\n",
      "memory usage: 3.8+ MB\n",
      "None\n",
      "<class 'pandas.core.frame.DataFrame'>\n",
      "RangeIndex: 100000 entries, 0 to 99999\n",
      "Data columns (total 5 columns):\n",
      " #   Column   Non-Null Count   Dtype  \n",
      "---  ------   --------------   -----  \n",
      " 0   id       100000 non-null  object \n",
      " 1   f0       100000 non-null  float64\n",
      " 2   f1       100000 non-null  float64\n",
      " 3   f2       100000 non-null  float64\n",
      " 4   product  100000 non-null  float64\n",
      "dtypes: float64(4), object(1)\n",
      "memory usage: 3.8+ MB\n",
      "None\n",
      "<class 'pandas.core.frame.DataFrame'>\n",
      "RangeIndex: 100000 entries, 0 to 99999\n",
      "Data columns (total 5 columns):\n",
      " #   Column   Non-Null Count   Dtype  \n",
      "---  ------   --------------   -----  \n",
      " 0   id       100000 non-null  object \n",
      " 1   f0       100000 non-null  float64\n",
      " 2   f1       100000 non-null  float64\n",
      " 3   f2       100000 non-null  float64\n",
      " 4   product  100000 non-null  float64\n",
      "dtypes: float64(4), object(1)\n",
      "memory usage: 3.8+ MB\n",
      "None\n"
     ]
    }
   ],
   "source": [
    "print(geo_data_0.info())\n",
    "print(geo_data_1.info())\n",
    "print(geo_data_2.info())"
   ]
  },
  {
   "cell_type": "markdown",
   "metadata": {},
   "source": [
    "- No hay valores ausentes en los datos y son del tipo correcto"
   ]
  },
  {
   "cell_type": "code",
   "execution_count": 50,
   "metadata": {},
   "outputs": [],
   "source": [
    "# Se separan los datos en caracteristicas y objetivos ( se excluyen los datos de ID)\n",
    "\n",
    "features_0 = geo_data_0.drop(['id', 'product'], axis=1)\n",
    "target_0= geo_data_0['product']\n",
    "\n",
    "features_1 = geo_data_1.drop(['id', 'product'], axis=1)\n",
    "target_1 = geo_data_1['product']\n",
    "\n",
    "features_2 = geo_data_2.drop(['id', 'product'], axis=1)\n",
    "target_2 = geo_data_2['product']"
   ]
  },
  {
   "cell_type": "code",
   "execution_count": 51,
   "metadata": {},
   "outputs": [],
   "source": [
    "# Se dividen los datos en conjunto de entrenamiento y validacion "
   ]
  },
  {
   "cell_type": "code",
   "execution_count": 52,
   "metadata": {},
   "outputs": [],
   "source": [
    "features_train_0, features_valid_0, target_train_0, target_valid_0 = train_test_split(features_0, target_0, test_size = 0.25, random_state= 12345)\n",
    "\n",
    "features_train_1, features_valid_1, target_train_1, target_valid_1 = train_test_split(features_1, target_1, test_size = 0.25, random_state= 12345)\n",
    "\n",
    "features_train_2, features_valid_2, target_train_2, target_valid_2 = train_test_split(features_2, target_2, test_size = 0.25, random_state= 12345)\n",
    "\n",
    "\n"
   ]
  },
  {
   "cell_type": "code",
   "execution_count": 53,
   "metadata": {},
   "outputs": [],
   "source": [
    "# Se escalan las caracteristicas numericas (por ser que se utilizara un modelo basado en regresion)\n",
    "\n",
    "scaler_0 = StandardScaler()\n",
    "scaler_0.fit(features_train_0)\n",
    "features_train_0 = scaler_0.transform(features_train_0)\n",
    "features_valid_0 = scaler_0.transform(features_valid_0)\n",
    "\n",
    "scaler_1 = StandardScaler()\n",
    "scaler_1.fit(features_train_1)\n",
    "features_train_1 = scaler_1.transform(features_train_1)\n",
    "features_valid_1 = scaler_1.transform(features_valid_1)\n",
    "\n",
    "scaler_2 = StandardScaler()\n",
    "scaler_2.fit(features_train_2)\n",
    "features_train_2 = scaler_2.transform(features_train_2)\n",
    "features_valid_2 = scaler_2.transform(features_valid_2)\n"
   ]
  },
  {
   "cell_type": "markdown",
   "metadata": {},
   "source": [
    "## Entrenamiento y prueba del modelo para cada región <a class=\"anchor\" id=\"chapter2\"></a>"
   ]
  },
  {
   "cell_type": "code",
   "execution_count": 54,
   "metadata": {},
   "outputs": [
    {
     "name": "stdout",
     "output_type": "stream",
     "text": [
      "RECM del modelo de region_0 en el conjunto de validación: 37.5794217150813\n",
      "RECM del modelo de region_1 en el conjunto de validación: 0.893099286775617\n",
      "RECM del modelo de region_2 en el conjunto de validación: 69.2732377722098\n"
     ]
    }
   ],
   "source": [
    "#Funcion para el entrenamiento y cálculo de predicciones con modelo de regresion lineal\n",
    "\n",
    "def predictions (features_train, target_train, features_valid):\n",
    "    model = LinearRegression()# inicializacion del constructor de modelo\n",
    "    model.fit(features_train, target_train) # entrenamiento del modelo en el conjunto de entrenamiento\n",
    "    predictions_valid = model.predict(features_valid) #  predicciones del modelo en el conjunto de validación\n",
    "    return predictions_valid\n",
    "\n",
    "#Aplicacion de la funcion a las 3 regiones y calculo del RECM\n",
    "\n",
    "predictions_valid_0 = predictions(features_train_0, target_train_0, features_valid_0)\n",
    "result_0 = mean_squared_error(target_valid_0, predictions_valid_0)**0.5\n",
    "print( \"RECM del modelo de region_0 en el conjunto de validación:\", result_0)\n",
    "\n",
    "predictions_valid_1 = predictions(features_train_1, target_train_1, features_valid_1)\n",
    "result_1 = mean_squared_error(target_valid_1, predictions_valid_1)**0.5\n",
    "print( \"RECM del modelo de region_1 en el conjunto de validación:\", result_1)\n",
    "\n",
    "predictions_valid_2 = predictions(features_train_2, target_train_2, features_valid_2)\n",
    "result_2 = mean_squared_error(target_valid_2, predictions_valid_1)**0.5\n",
    "print( \"RECM del modelo de region_2 en el conjunto de validación:\", result_2)"
   ]
  },
  {
   "cell_type": "markdown",
   "metadata": {},
   "source": [
    " - El modelo de la region 1 cuenta con el menor valor de RECM"
   ]
  },
  {
   "cell_type": "markdown",
   "metadata": {},
   "source": [
    "## Cálculo de ganancias <a class=\"anchor\" id=\"chapter3\"></a>"
   ]
  },
  {
   "cell_type": "code",
   "execution_count": 55,
   "metadata": {},
   "outputs": [
    {
     "name": "stdout",
     "output_type": "stream",
     "text": [
      "Reservas mínimas requeridas para desarrollar pozo sin perdida: 111\n"
     ]
    }
   ],
   "source": [
    "#Calculo del volumen de reservas suficiente para desarrollar un nuevo pozo sin pérdidas\n",
    "\n",
    "inversion_por_pozo = 100000000/200\n",
    "ingreso_unidad_reserva = 4500\n",
    "reservas_minima_req_pozo = inversion_por_pozo/ingreso_unidad_reserva\n",
    "print(\"Reservas mínimas requeridas para desarrollar pozo sin perdida:\" , round(reservas_minima_req_pozo))\n"
   ]
  },
  {
   "cell_type": "code",
   "execution_count": 56,
   "metadata": {},
   "outputs": [
    {
     "name": "stdout",
     "output_type": "stream",
     "text": [
      "Volumen medio de reservas por pozo en Region 0: 93\n",
      "Volumen medio de reservas por pozo en Region 1: 69\n",
      "Volumen medio de reservas por pozo en Region 2: 95\n"
     ]
    }
   ],
   "source": [
    "#Calculo de media de reservas por pozo por region\n",
    "\n",
    "print('Volumen medio de reservas por pozo en Region 0:', round(predictions_valid_0.mean()))\n",
    "print('Volumen medio de reservas por pozo en Region 1:', round(predictions_valid_1.mean()))\n",
    "print('Volumen medio de reservas por pozo en Region 2:', round(predictions_valid_2.mean()))"
   ]
  },
  {
   "cell_type": "markdown",
   "metadata": {},
   "source": [
    "- El volumen medio de reservas por pozo estimado por el modelo (regresion lineal) para cada region no supera el minimo requerido para desarrollar un pozo sin perdida"
   ]
  },
  {
   "cell_type": "markdown",
   "metadata": {},
   "source": [
    "## Calculo de ganancia de pozos de petróleo seleccionados <a class=\"anchor\" id=\"chapter4\"></a>"
   ]
  },
  {
   "cell_type": "code",
   "execution_count": 57,
   "metadata": {},
   "outputs": [],
   "source": [
    "#FUncion para el calculo de ingresos estimados para los pozos de mayor reservas\n",
    "\n",
    "def revenues (predicted_valid, target_valid, count, unit_income, cost_pozo):\n",
    "    predicted_valid_sorted = predicted_valid.sort_values(ascending = False)\n",
    "    total_reservas_seleccion = target_valid.reset_index(drop=True).iloc[predicted_valid_sorted.index][:count].sum()\n",
    "    income_total = total_reservas_seleccion*unit_income\n",
    "    total_cost = cost_pozo *count\n",
    "    revenues = income_total - total_cost\n",
    "    return revenues\n",
    "\n",
    "\n"
   ]
  },
  {
   "cell_type": "code",
   "execution_count": 58,
   "metadata": {},
   "outputs": [
    {
     "name": "stdout",
     "output_type": "stream",
     "text": [
      "Ingresos por región de los pozos más rentables 'Modelo de regresion lineal':\n",
      "Región 0: 33208260\n",
      "Región 1: 24150867\n",
      "Región 2: 27103500\n"
     ]
    }
   ],
   "source": [
    "## Calculo de ganancia para los 200 pozos mas rentables de cada región\n",
    "ingreso_unitario = 4500\n",
    "pozos_count = 200\n",
    "costo_por_pozo = 100000000/200\n",
    "\n",
    "print(\"Ingresos por región de los pozos más rentables 'Modelo de regresion lineal':\")\n",
    "     \n",
    "print(\"Región 0:\", round(revenues(pd.Series(predictions_valid_0), pd.Series(target_valid_0), pozos_count, ingreso_unitario, costo_por_pozo)))\n",
    "\n",
    "print(\"Región 1:\", round(revenues(pd.Series(predictions_valid_1), pd.Series(target_valid_1), pozos_count, ingreso_unitario, costo_por_pozo)))\n",
    "\n",
    "print(\"Región 2:\", round(revenues(pd.Series(predictions_valid_2), pd.Series(target_valid_2), pozos_count, ingreso_unitario, costo_por_pozo)))\n"
   ]
  },
  {
   "cell_type": "markdown",
   "metadata": {},
   "source": [
    " - Si se toman los 200 pozos mas rentable , la región con mayores ingresos en la region 0, seguida por la región 3 \n",
    " \n",
    " "
   ]
  },
  {
   "cell_type": "markdown",
   "metadata": {},
   "source": [
    "## Calculo de riesgos y ganancias para cada región <a class=\"anchor\" id=\"chapter5\"></a>"
   ]
  },
  {
   "cell_type": "code",
   "execution_count": 59,
   "metadata": {},
   "outputs": [
    {
     "name": "stdout",
     "output_type": "stream",
     "text": [
      "La media de ingresos para los mejores pozos de la region 0 es de 3,961,650\n",
      "Con un intervalo de confianza del 95% -1,112,155  -  9,097,669\n",
      "Probabilidad de perdida%: 6.9\n"
     ]
    }
   ],
   "source": [
    "#Calculo de ganancias e intervalos de confianza mediante bootstrapping\n",
    "\n",
    "#region 0\n",
    "\n",
    "values_0=[]\n",
    "state = np.random.RandomState(12345)\n",
    "for i in range(1000):\n",
    "    subsample = pd.Series(predictions_valid_0).sample(500, replace = True, random_state = state)#generacion de muestra\n",
    "    values_0.append(revenues(subsample,pd.Series(target_valid_0), 200, 4500, costo_por_pozo)) #calculo de ingreso para 200 pozos mas rentables de la muestra\n",
    "\n",
    "    \n",
    "#intervalo de confianza\n",
    "values_0 = pd.Series(values_0)   \n",
    "lower_0 = values_0.quantile(0.025) \n",
    "upper_0 = values_0.quantile(0.975)\n",
    "mean_0= values_0.mean()\n",
    "loss_prob_0 = (values_0 < 0).mean() * 100 # porcentaje de predicciones negativas\n",
    "\n",
    "print(\"La media de ingresos para los mejores pozos de la region 0 es de\", \"{:,}\".format(round(mean_0)))\n",
    "print(\"Con un intervalo de confianza del 95%\", \"{:,}\".format(round(lower_0)), ' - ',\"{:,}\".format(round(upper_0)))\n",
    "print(\"Probabilidad de perdida%:\", loss_prob_0)\n",
    "\n",
    "\n"
   ]
  },
  {
   "cell_type": "code",
   "execution_count": 60,
   "metadata": {},
   "outputs": [
    {
     "name": "stdout",
     "output_type": "stream",
     "text": [
      "La media de ingresos para los mejores pozos de la region 0 es de 4,560,451\n",
      "Con un intervalo de confianza del 95% 338,205  -  8,522,895\n",
      "Probabilidad de perdida%: 1.5\n"
     ]
    }
   ],
   "source": [
    "#Calculo de ganancias e intervalos de confianza mediante bootstrapping\n",
    "\n",
    "#region 1\n",
    "\n",
    "values_1=[]\n",
    "state = np.random.RandomState(12345)\n",
    "for i in range(1000):\n",
    "    subsample = pd.Series(predictions_valid_1).sample(500, replace = True, random_state = state)#generacion de muestra\n",
    "    values_1.append(revenues(subsample,pd.Series(target_valid_1), 200, 4500, costo_por_pozo)) #calculo de ingreso para 200 pozos mas rentables de la muestra\n",
    "\n",
    "    \n",
    "#intervalo de confianza\n",
    "values_1 = pd.Series(values_1)   \n",
    "lower_1 = values_1.quantile(0.025) \n",
    "upper_1 = values_1.quantile(0.975)\n",
    "mean_1 = values_1.mean()\n",
    "loss_prob_1 = (values_1 < 0).mean() * 100 #promedio de predicciones negativas\n",
    "\n",
    "print(\"La media de ingresos para los mejores pozos de la region 0 es de\", \"{:,}\".format(round(mean_1)))\n",
    "print(\"Con un intervalo de confianza del 95%\", \"{:,}\".format(round(lower_1)), ' - ',\"{:,}\".format(round(upper_1)))\n",
    "print(\"Probabilidad de perdida%:\", loss_prob_1)\n",
    "\n"
   ]
  },
  {
   "cell_type": "code",
   "execution_count": 61,
   "metadata": {},
   "outputs": [
    {
     "name": "stdout",
     "output_type": "stream",
     "text": [
      "La media de ingresos para los mejores pozos de la region 0 es de 4,044,039\n",
      "Con un intervalo de confianza del 95% -1,633,504  -  9,503,596\n",
      "Probabilidad de perdida%: 7.6\n"
     ]
    }
   ],
   "source": [
    "#region 2\n",
    "\n",
    "values_2=[]\n",
    "state = np.random.RandomState(12345)\n",
    "for i in range(1000):\n",
    "    subsample = pd.Series(predictions_valid_2).sample(500, replace = True, random_state = state)#generacion de muestra\n",
    "    values_2.append(revenues(subsample, pd.Series(target_valid_2), 200, 4500, costo_por_pozo)) #calculo de ingreso para 200 pozos mas rentables de la muestra\n",
    "\n",
    "    \n",
    "#intervalo de confianza\n",
    "values_2 = pd.Series(values_2)   \n",
    "lower_2 = values_2.quantile(0.025) \n",
    "upper_2 = values_2.quantile(0.975)\n",
    "mean_2 = values_2.mean()\n",
    "loss_prob_2 = (values_2 < 0).mean() * 100 #promedio de predicciones negativas\n",
    "\n",
    "print(\"La media de ingresos para los mejores pozos de la region 0 es de\", \"{:,}\".format(round(mean_2)))\n",
    "print(\"Con un intervalo de confianza del 95%\", \"{:,}\".format(round(lower_2)), ' - ',\"{:,}\".format(round(upper_2)))\n",
    "print(\"Probabilidad de perdida%:\", loss_prob_2)\n",
    "\n",
    "\n"
   ]
  },
  {
   "cell_type": "markdown",
   "metadata": {},
   "source": [
    "- La region 1 es la que cuenta con la menor probabilidad de perdida y el mayor beneficio promedio"
   ]
  },
  {
   "cell_type": "markdown",
   "metadata": {},
   "source": [
    "## Conclusiones <a class=\"anchor\" id=\"chapter6\"></a>"
   ]
  },
  {
   "cell_type": "markdown",
   "metadata": {},
   "source": [
    "- En un primer paso: se cargaron los datos, se separaron los datos de cada region en conjunto de entrenamiento y validación, y se escalaron las características numericas para entrenar al modelo\n",
    "\n",
    "- Se entrenó un modelo de regresión lineal para cada región y se calculó el RECM, resultando el menor valor de RECN el correspndiente a la region 1. LOs valores de RECM para las regiones 0 y 2, resultaron muy altos (casi la mitad de la media)\n",
    " \n",
    "- La media de reservas por pozo predecida por el modelo, en los 3 casos, resulto inferior al valor minimo de reservas requerida para superar la inversión por pozo  \n",
    "\n",
    "- Sin embargo, al considerar los 200 pozos más rentables estimados por los modelos, la ganancia total estimada resulto ser positiva en las 3 regiones\n",
    "\n",
    "- La region con la mayor ganancia estimada para los 200 pozos mas rentables resulto ser la region 0, con un valor cercano a los 33 millones de usd, seguida por la región 2 con 27 millones de uds  y luego la 1 24 Millones de usd estimados de ingreso total \n",
    " \n",
    "- Utilizando la tecnica de bootstrapping, el mayor beneficio medio obtenido para los 200 pozos más rentables, es el que corresponde a la región 1 con un valor en torno a 4,5 millones de dolares y un con un intervalo de confianza positivo, es decir que arroja ganancia con una certeza del 95%. El riesgo de perdida calculado es del 1,5%\n",
    " \n",
    "- Se concluye que la region 1 es la más indicada para el desarrollo de pozoz petroleros"
   ]
  }
 ],
 "metadata": {
  "kernelspec": {
   "display_name": "Python 3 (ipykernel)",
   "language": "python",
   "name": "python3"
  },
  "language_info": {
   "codemirror_mode": {
    "name": "ipython",
    "version": 3
   },
   "file_extension": ".py",
   "mimetype": "text/x-python",
   "name": "python",
   "nbconvert_exporter": "python",
   "pygments_lexer": "ipython3",
   "version": "3.9.5"
  },
  "toc": {
   "base_numbering": 1,
   "nav_menu": {},
   "number_sections": true,
   "sideBar": true,
   "skip_h1_title": true,
   "title_cell": "Table of Contents",
   "title_sidebar": "Contents",
   "toc_cell": false,
   "toc_position": {},
   "toc_section_display": true,
   "toc_window_display": false
  }
 },
 "nbformat": 4,
 "nbformat_minor": 2
}
