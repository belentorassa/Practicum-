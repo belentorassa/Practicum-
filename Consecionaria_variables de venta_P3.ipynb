{
  "cells": [
    {
      "cell_type": "markdown",
      "metadata": {
        "id": "jCvSlXzD3DJj"
      },
      "source": [
        "# ¿Qué vende un coche?\n",
        "\n",
        "Eres un analista en Crankshaft List. Cientos de anuncios gratuitos de vehículos se publican en tu sitio web cada día. Necesitas estudiar los datos recopilados durante los últimos años y determinar qué factores influyen en el precio de un vehículo."
      ]
    },
    {
      "cell_type": "markdown",
      "metadata": {
        "id": "k0WiATDT3DJt"
      },
      "source": [
        "## Inicialización"
      ]
    },
    {
      "cell_type": "code",
      "execution_count": null,
      "metadata": {
        "id": "pQdkmfE03DJu"
      },
      "outputs": [],
      "source": [
        "# Cargar todas las librerías\n",
        "import pandas as pd\n",
        "import matplotlib.pyplot as plt\n",
        "import numpy as np\n"
      ]
    },
    {
      "cell_type": "markdown",
      "metadata": {
        "id": "T0i4TzL33DJu"
      },
      "source": [
        "### Cargar datos"
      ]
    },
    {
      "cell_type": "code",
      "execution_count": null,
      "metadata": {
        "id": "EGDu-HV23DJu"
      },
      "outputs": [],
      "source": [
        "# Carga el archivo de datos en un DataFrame\n",
        "df = pd.read_csv('/datasets/vehicles_us.csv')\n"
      ]
    },
    {
      "cell_type": "markdown",
      "metadata": {
        "id": "LrAmEdYj3DJu"
      },
      "source": [
        "### Explorar datos iniciales"
      ]
    },
    {
      "cell_type": "markdown",
      "metadata": {
        "id": "FZuN_uDY3DJv"
      },
      "source": [
        "El dataset contiene los siguientes campos:\n",
        "- `price`\n",
        "- `model_year`\n",
        "- `model`\n",
        "- `condition`\n",
        "- `cylinders`\n",
        "- `fuel` — gasolina, diesel, etc.\n",
        "- `odometer` — el millaje del vehículo cuando el anuncio fue publicado\n",
        "- `transmission`\n",
        "- `paint_color`\n",
        "- `is_4wd` — si el vehículo tiene tracción a las 4 ruedas (tipo Booleano)\n",
        "- `date_posted` — la fecha en la que el anuncio fue publicado\n",
        "- `days_listed` — desde la publicación hasta que se elimina\n",
        "\n"
      ]
    },
    {
      "cell_type": "code",
      "execution_count": null,
      "metadata": {
        "id": "ckmArbbZ3DJv",
        "outputId": "63e4c805-0317-477e-8a17-751caecad31c"
      },
      "outputs": [
        {
          "name": "stdout",
          "output_type": "stream",
          "text": [
            "<class 'pandas.core.frame.DataFrame'>\n",
            "RangeIndex: 51525 entries, 0 to 51524\n",
            "Data columns (total 13 columns):\n",
            " #   Column        Non-Null Count  Dtype  \n",
            "---  ------        --------------  -----  \n",
            " 0   price         51525 non-null  int64  \n",
            " 1   model_year    47906 non-null  float64\n",
            " 2   model         51525 non-null  object \n",
            " 3   condition     51525 non-null  object \n",
            " 4   cylinders     46265 non-null  float64\n",
            " 5   fuel          51525 non-null  object \n",
            " 6   odometer      43633 non-null  float64\n",
            " 7   transmission  51525 non-null  object \n",
            " 8   type          51525 non-null  object \n",
            " 9   paint_color   42258 non-null  object \n",
            " 10  is_4wd        25572 non-null  float64\n",
            " 11  date_posted   51525 non-null  object \n",
            " 12  days_listed   51525 non-null  int64  \n",
            "dtypes: float64(4), int64(2), object(7)\n",
            "memory usage: 5.1+ MB\n"
          ]
        }
      ],
      "source": [
        "# imprime la información general/resumida sobre el DataFrame\n",
        "df.info()\n"
      ]
    },
    {
      "cell_type": "code",
      "execution_count": null,
      "metadata": {
        "id": "msAEIVrd3DJv",
        "outputId": "54624084-e9f7-41ef-e706-83b128b2b022"
      },
      "outputs": [
        {
          "data": {
            "text/html": [
              "<div>\n",
              "<style scoped>\n",
              "    .dataframe tbody tr th:only-of-type {\n",
              "        vertical-align: middle;\n",
              "    }\n",
              "\n",
              "    .dataframe tbody tr th {\n",
              "        vertical-align: top;\n",
              "    }\n",
              "\n",
              "    .dataframe thead th {\n",
              "        text-align: right;\n",
              "    }\n",
              "</style>\n",
              "<table border=\"1\" class=\"dataframe\">\n",
              "  <thead>\n",
              "    <tr style=\"text-align: right;\">\n",
              "      <th></th>\n",
              "      <th>price</th>\n",
              "      <th>model_year</th>\n",
              "      <th>model</th>\n",
              "      <th>condition</th>\n",
              "      <th>cylinders</th>\n",
              "      <th>fuel</th>\n",
              "      <th>odometer</th>\n",
              "      <th>transmission</th>\n",
              "      <th>type</th>\n",
              "      <th>paint_color</th>\n",
              "      <th>is_4wd</th>\n",
              "      <th>date_posted</th>\n",
              "      <th>days_listed</th>\n",
              "    </tr>\n",
              "  </thead>\n",
              "  <tbody>\n",
              "    <tr>\n",
              "      <th>0</th>\n",
              "      <td>9400</td>\n",
              "      <td>2011.0</td>\n",
              "      <td>bmw x5</td>\n",
              "      <td>good</td>\n",
              "      <td>6.0</td>\n",
              "      <td>gas</td>\n",
              "      <td>145000.0</td>\n",
              "      <td>automatic</td>\n",
              "      <td>SUV</td>\n",
              "      <td>NaN</td>\n",
              "      <td>1.0</td>\n",
              "      <td>2018-06-23</td>\n",
              "      <td>19</td>\n",
              "    </tr>\n",
              "    <tr>\n",
              "      <th>1</th>\n",
              "      <td>25500</td>\n",
              "      <td>NaN</td>\n",
              "      <td>ford f-150</td>\n",
              "      <td>good</td>\n",
              "      <td>6.0</td>\n",
              "      <td>gas</td>\n",
              "      <td>88705.0</td>\n",
              "      <td>automatic</td>\n",
              "      <td>pickup</td>\n",
              "      <td>white</td>\n",
              "      <td>1.0</td>\n",
              "      <td>2018-10-19</td>\n",
              "      <td>50</td>\n",
              "    </tr>\n",
              "    <tr>\n",
              "      <th>2</th>\n",
              "      <td>5500</td>\n",
              "      <td>2013.0</td>\n",
              "      <td>hyundai sonata</td>\n",
              "      <td>like new</td>\n",
              "      <td>4.0</td>\n",
              "      <td>gas</td>\n",
              "      <td>110000.0</td>\n",
              "      <td>automatic</td>\n",
              "      <td>sedan</td>\n",
              "      <td>red</td>\n",
              "      <td>NaN</td>\n",
              "      <td>2019-02-07</td>\n",
              "      <td>79</td>\n",
              "    </tr>\n",
              "    <tr>\n",
              "      <th>3</th>\n",
              "      <td>1500</td>\n",
              "      <td>2003.0</td>\n",
              "      <td>ford f-150</td>\n",
              "      <td>fair</td>\n",
              "      <td>8.0</td>\n",
              "      <td>gas</td>\n",
              "      <td>NaN</td>\n",
              "      <td>automatic</td>\n",
              "      <td>pickup</td>\n",
              "      <td>NaN</td>\n",
              "      <td>NaN</td>\n",
              "      <td>2019-03-22</td>\n",
              "      <td>9</td>\n",
              "    </tr>\n",
              "    <tr>\n",
              "      <th>4</th>\n",
              "      <td>14900</td>\n",
              "      <td>2017.0</td>\n",
              "      <td>chrysler 200</td>\n",
              "      <td>excellent</td>\n",
              "      <td>4.0</td>\n",
              "      <td>gas</td>\n",
              "      <td>80903.0</td>\n",
              "      <td>automatic</td>\n",
              "      <td>sedan</td>\n",
              "      <td>black</td>\n",
              "      <td>NaN</td>\n",
              "      <td>2019-04-02</td>\n",
              "      <td>28</td>\n",
              "    </tr>\n",
              "  </tbody>\n",
              "</table>\n",
              "</div>"
            ],
            "text/plain": [
              "   price  model_year           model  condition  cylinders fuel  odometer  \\\n",
              "0   9400      2011.0          bmw x5       good        6.0  gas  145000.0   \n",
              "1  25500         NaN      ford f-150       good        6.0  gas   88705.0   \n",
              "2   5500      2013.0  hyundai sonata   like new        4.0  gas  110000.0   \n",
              "3   1500      2003.0      ford f-150       fair        8.0  gas       NaN   \n",
              "4  14900      2017.0    chrysler 200  excellent        4.0  gas   80903.0   \n",
              "\n",
              "  transmission    type paint_color  is_4wd date_posted  days_listed  \n",
              "0    automatic     SUV         NaN     1.0  2018-06-23           19  \n",
              "1    automatic  pickup       white     1.0  2018-10-19           50  \n",
              "2    automatic   sedan         red     NaN  2019-02-07           79  \n",
              "3    automatic  pickup         NaN     NaN  2019-03-22            9  \n",
              "4    automatic   sedan       black     NaN  2019-04-02           28  "
            ]
          },
          "execution_count": 222,
          "metadata": {},
          "output_type": "execute_result"
        }
      ],
      "source": [
        "# imprimir una muestra de datos\n",
        "df.head()\n",
        "\n"
      ]
    },
    {
      "cell_type": "markdown",
      "metadata": {
        "id": "3wQvmsc13DJw"
      },
      "source": [
        "- El dataset cuenta con 13 columnas y 51525 filas"
      ]
    },
    {
      "cell_type": "markdown",
      "metadata": {
        "id": "39EUU_MX3DJw"
      },
      "source": [
        "- El dataset presenta varias columnas con valores ausentes: model year, cilinder, odometer, paint color, is4wd. En el caso de iswd, la cantidad de datos ausentes representa casi la mitad del total de valores"
      ]
    },
    {
      "cell_type": "markdown",
      "metadata": {
        "id": "VpTflZki3DJw"
      },
      "source": [
        "### Conclusiones y siguientes pasos\n",
        "\n"
      ]
    },
    {
      "cell_type": "markdown",
      "metadata": {
        "id": "Ri_GcPVC3DJw"
      },
      "source": [
        "- Los datos presentan tipos de variables que deben ser corregidas:\n",
        "    - El tipo de datos de 'date posted' debera convertirse a daytime \n",
        "    - El tipo de datos de  'model_year', 'cylinders' y 'odometer' seran convertidas al tipo int\n",
        "    - EL tipo de datos de 'is_wd' sera convertido a float\n",
        "\n",
        "- Debera estudiarse los valores ausentes en profundidad para poder definir su tratamiento. En el caso de is_4wd la ausencia de valores tan elevada aparenta coincidir con los valores que corresponden a ceros. "
      ]
    },
    {
      "cell_type": "markdown",
      "metadata": {
        "id": "Dywn9-zT3DJw"
      },
      "source": [
        "## Tratar los valores ausentes (si hay)"
      ]
    },
    {
      "cell_type": "code",
      "execution_count": null,
      "metadata": {
        "id": "Dou_Km0k3DJw",
        "outputId": "43bcb5c7-31ba-494c-a586-2a6e1e3a3100"
      },
      "outputs": [
        {
          "data": {
            "text/plain": [
              "price               0\n",
              "model_year       3619\n",
              "model               0\n",
              "condition           0\n",
              "cylinders        5260\n",
              "fuel                0\n",
              "odometer         7892\n",
              "transmission        0\n",
              "type                0\n",
              "paint_color      9267\n",
              "is_4wd          25953\n",
              "date_posted         0\n",
              "days_listed         0\n",
              "dtype: int64"
            ]
          },
          "execution_count": 223,
          "metadata": {},
          "output_type": "execute_result"
        }
      ],
      "source": [
        "df.isna().sum()"
      ]
    },
    {
      "cell_type": "markdown",
      "metadata": {
        "id": "E7WE-Gll3DJw"
      },
      "source": [
        "1.2.1 Estudiamos los ausentes de is_4wd."
      ]
    },
    {
      "cell_type": "code",
      "execution_count": null,
      "metadata": {
        "id": "6tZVGA8X3DJw",
        "outputId": "16a140dd-5d43-4cab-d396-a7c6c6e4e2b5"
      },
      "outputs": [
        {
          "data": {
            "text/plain": [
              "array([ 1., nan])"
            ]
          },
          "execution_count": 224,
          "metadata": {},
          "output_type": "execute_result"
        }
      ],
      "source": [
        "df['is_4wd'].unique()\n"
      ]
    },
    {
      "cell_type": "code",
      "execution_count": null,
      "metadata": {
        "scrolled": true,
        "id": "a4D9qkUo3DJx",
        "outputId": "6bc6a0e5-01a5-4c6e-ed3b-2121162857e4"
      },
      "outputs": [
        {
          "data": {
            "text/html": [
              "<div>\n",
              "<style scoped>\n",
              "    .dataframe tbody tr th:only-of-type {\n",
              "        vertical-align: middle;\n",
              "    }\n",
              "\n",
              "    .dataframe tbody tr th {\n",
              "        vertical-align: top;\n",
              "    }\n",
              "\n",
              "    .dataframe thead th {\n",
              "        text-align: right;\n",
              "    }\n",
              "</style>\n",
              "<table border=\"1\" class=\"dataframe\">\n",
              "  <thead>\n",
              "    <tr style=\"text-align: right;\">\n",
              "      <th></th>\n",
              "      <th>price</th>\n",
              "      <th>model_year</th>\n",
              "      <th>model</th>\n",
              "      <th>condition</th>\n",
              "      <th>cylinders</th>\n",
              "      <th>fuel</th>\n",
              "      <th>odometer</th>\n",
              "      <th>transmission</th>\n",
              "      <th>type</th>\n",
              "      <th>paint_color</th>\n",
              "      <th>is_4wd</th>\n",
              "      <th>date_posted</th>\n",
              "      <th>days_listed</th>\n",
              "    </tr>\n",
              "  </thead>\n",
              "  <tbody>\n",
              "    <tr>\n",
              "      <th>2</th>\n",
              "      <td>5500</td>\n",
              "      <td>2013.0</td>\n",
              "      <td>hyundai sonata</td>\n",
              "      <td>like new</td>\n",
              "      <td>4.0</td>\n",
              "      <td>gas</td>\n",
              "      <td>110000.0</td>\n",
              "      <td>automatic</td>\n",
              "      <td>sedan</td>\n",
              "      <td>red</td>\n",
              "      <td>NaN</td>\n",
              "      <td>2019-02-07</td>\n",
              "      <td>79</td>\n",
              "    </tr>\n",
              "    <tr>\n",
              "      <th>3</th>\n",
              "      <td>1500</td>\n",
              "      <td>2003.0</td>\n",
              "      <td>ford f-150</td>\n",
              "      <td>fair</td>\n",
              "      <td>8.0</td>\n",
              "      <td>gas</td>\n",
              "      <td>NaN</td>\n",
              "      <td>automatic</td>\n",
              "      <td>pickup</td>\n",
              "      <td>NaN</td>\n",
              "      <td>NaN</td>\n",
              "      <td>2019-03-22</td>\n",
              "      <td>9</td>\n",
              "    </tr>\n",
              "    <tr>\n",
              "      <th>4</th>\n",
              "      <td>14900</td>\n",
              "      <td>2017.0</td>\n",
              "      <td>chrysler 200</td>\n",
              "      <td>excellent</td>\n",
              "      <td>4.0</td>\n",
              "      <td>gas</td>\n",
              "      <td>80903.0</td>\n",
              "      <td>automatic</td>\n",
              "      <td>sedan</td>\n",
              "      <td>black</td>\n",
              "      <td>NaN</td>\n",
              "      <td>2019-04-02</td>\n",
              "      <td>28</td>\n",
              "    </tr>\n",
              "    <tr>\n",
              "      <th>6</th>\n",
              "      <td>12990</td>\n",
              "      <td>2015.0</td>\n",
              "      <td>toyota camry</td>\n",
              "      <td>excellent</td>\n",
              "      <td>4.0</td>\n",
              "      <td>gas</td>\n",
              "      <td>79212.0</td>\n",
              "      <td>automatic</td>\n",
              "      <td>sedan</td>\n",
              "      <td>white</td>\n",
              "      <td>NaN</td>\n",
              "      <td>2018-12-27</td>\n",
              "      <td>73</td>\n",
              "    </tr>\n",
              "    <tr>\n",
              "      <th>11</th>\n",
              "      <td>8990</td>\n",
              "      <td>2012.0</td>\n",
              "      <td>honda accord</td>\n",
              "      <td>excellent</td>\n",
              "      <td>4.0</td>\n",
              "      <td>gas</td>\n",
              "      <td>111142.0</td>\n",
              "      <td>automatic</td>\n",
              "      <td>sedan</td>\n",
              "      <td>grey</td>\n",
              "      <td>NaN</td>\n",
              "      <td>2019-03-28</td>\n",
              "      <td>29</td>\n",
              "    </tr>\n",
              "  </tbody>\n",
              "</table>\n",
              "</div>"
            ],
            "text/plain": [
              "    price  model_year           model  condition  cylinders fuel  odometer  \\\n",
              "2    5500      2013.0  hyundai sonata   like new        4.0  gas  110000.0   \n",
              "3    1500      2003.0      ford f-150       fair        8.0  gas       NaN   \n",
              "4   14900      2017.0    chrysler 200  excellent        4.0  gas   80903.0   \n",
              "6   12990      2015.0    toyota camry  excellent        4.0  gas   79212.0   \n",
              "11   8990      2012.0    honda accord  excellent        4.0  gas  111142.0   \n",
              "\n",
              "   transmission    type paint_color  is_4wd date_posted  days_listed  \n",
              "2     automatic   sedan         red     NaN  2019-02-07           79  \n",
              "3     automatic  pickup         NaN     NaN  2019-03-22            9  \n",
              "4     automatic   sedan       black     NaN  2019-04-02           28  \n",
              "6     automatic   sedan       white     NaN  2018-12-27           73  \n",
              "11    automatic   sedan        grey     NaN  2019-03-28           29  "
            ]
          },
          "execution_count": 225,
          "metadata": {},
          "output_type": "execute_result"
        }
      ],
      "source": [
        "df[df['is_4wd'].isna()].head()"
      ]
    },
    {
      "cell_type": "markdown",
      "metadata": {
        "id": "9hjysujd3DJx"
      },
      "source": [
        "- Los valores ausentes Nan, parecieran ser los correspondientes a valores 0. Reemplazamos los NaN por 0"
      ]
    },
    {
      "cell_type": "code",
      "execution_count": null,
      "metadata": {
        "id": "qXj6PXio3DJx"
      },
      "outputs": [],
      "source": [
        "df['is_4wd'] = df['is_4wd'].fillna(int(0))\n",
        "\n"
      ]
    },
    {
      "cell_type": "markdown",
      "metadata": {
        "id": "OL-t74B03DJx"
      },
      "source": [
        "- Verificamos que se han completado todos los valores nulos de 'is_4wd'"
      ]
    },
    {
      "cell_type": "code",
      "execution_count": null,
      "metadata": {
        "id": "_G0YtTho3DJx",
        "outputId": "a9f87ca9-ca12-48be-a397-a449d0413e58"
      },
      "outputs": [
        {
          "data": {
            "text/plain": [
              "array([1., 0.])"
            ]
          },
          "execution_count": 227,
          "metadata": {},
          "output_type": "execute_result"
        }
      ],
      "source": [
        "df['is_4wd'].unique()"
      ]
    },
    {
      "cell_type": "code",
      "execution_count": null,
      "metadata": {
        "id": "C1m2iP793DJx",
        "outputId": "548d89e6-2a23-4b98-fd38-a5db9359336f"
      },
      "outputs": [
        {
          "data": {
            "text/plain": [
              "0"
            ]
          },
          "execution_count": 228,
          "metadata": {},
          "output_type": "execute_result"
        }
      ],
      "source": [
        "df['is_4wd'].isna().sum()"
      ]
    },
    {
      "cell_type": "markdown",
      "metadata": {
        "id": "pXGbhL8E3DJx"
      },
      "source": [
        "1.2.2- Reemplazamos los valores ausentes de  'paint color' por \"unknown\""
      ]
    },
    {
      "cell_type": "code",
      "execution_count": null,
      "metadata": {
        "id": "YBj0B5KO3DJx",
        "outputId": "237dfc83-701d-43df-c188-ce85a9bd6f2d"
      },
      "outputs": [
        {
          "data": {
            "text/html": [
              "<div>\n",
              "<style scoped>\n",
              "    .dataframe tbody tr th:only-of-type {\n",
              "        vertical-align: middle;\n",
              "    }\n",
              "\n",
              "    .dataframe tbody tr th {\n",
              "        vertical-align: top;\n",
              "    }\n",
              "\n",
              "    .dataframe thead th {\n",
              "        text-align: right;\n",
              "    }\n",
              "</style>\n",
              "<table border=\"1\" class=\"dataframe\">\n",
              "  <thead>\n",
              "    <tr style=\"text-align: right;\">\n",
              "      <th></th>\n",
              "      <th>price</th>\n",
              "      <th>model_year</th>\n",
              "      <th>model</th>\n",
              "      <th>condition</th>\n",
              "      <th>cylinders</th>\n",
              "      <th>fuel</th>\n",
              "      <th>odometer</th>\n",
              "      <th>transmission</th>\n",
              "      <th>type</th>\n",
              "      <th>paint_color</th>\n",
              "      <th>is_4wd</th>\n",
              "      <th>date_posted</th>\n",
              "      <th>days_listed</th>\n",
              "    </tr>\n",
              "  </thead>\n",
              "  <tbody>\n",
              "    <tr>\n",
              "      <th>0</th>\n",
              "      <td>9400</td>\n",
              "      <td>2011.0</td>\n",
              "      <td>bmw x5</td>\n",
              "      <td>good</td>\n",
              "      <td>6.0</td>\n",
              "      <td>gas</td>\n",
              "      <td>145000.0</td>\n",
              "      <td>automatic</td>\n",
              "      <td>SUV</td>\n",
              "      <td>unknown</td>\n",
              "      <td>1.0</td>\n",
              "      <td>2018-06-23</td>\n",
              "      <td>19</td>\n",
              "    </tr>\n",
              "    <tr>\n",
              "      <th>1</th>\n",
              "      <td>25500</td>\n",
              "      <td>NaN</td>\n",
              "      <td>ford f-150</td>\n",
              "      <td>good</td>\n",
              "      <td>6.0</td>\n",
              "      <td>gas</td>\n",
              "      <td>88705.0</td>\n",
              "      <td>automatic</td>\n",
              "      <td>pickup</td>\n",
              "      <td>white</td>\n",
              "      <td>1.0</td>\n",
              "      <td>2018-10-19</td>\n",
              "      <td>50</td>\n",
              "    </tr>\n",
              "    <tr>\n",
              "      <th>2</th>\n",
              "      <td>5500</td>\n",
              "      <td>2013.0</td>\n",
              "      <td>hyundai sonata</td>\n",
              "      <td>like new</td>\n",
              "      <td>4.0</td>\n",
              "      <td>gas</td>\n",
              "      <td>110000.0</td>\n",
              "      <td>automatic</td>\n",
              "      <td>sedan</td>\n",
              "      <td>red</td>\n",
              "      <td>0.0</td>\n",
              "      <td>2019-02-07</td>\n",
              "      <td>79</td>\n",
              "    </tr>\n",
              "    <tr>\n",
              "      <th>3</th>\n",
              "      <td>1500</td>\n",
              "      <td>2003.0</td>\n",
              "      <td>ford f-150</td>\n",
              "      <td>fair</td>\n",
              "      <td>8.0</td>\n",
              "      <td>gas</td>\n",
              "      <td>NaN</td>\n",
              "      <td>automatic</td>\n",
              "      <td>pickup</td>\n",
              "      <td>unknown</td>\n",
              "      <td>0.0</td>\n",
              "      <td>2019-03-22</td>\n",
              "      <td>9</td>\n",
              "    </tr>\n",
              "    <tr>\n",
              "      <th>4</th>\n",
              "      <td>14900</td>\n",
              "      <td>2017.0</td>\n",
              "      <td>chrysler 200</td>\n",
              "      <td>excellent</td>\n",
              "      <td>4.0</td>\n",
              "      <td>gas</td>\n",
              "      <td>80903.0</td>\n",
              "      <td>automatic</td>\n",
              "      <td>sedan</td>\n",
              "      <td>black</td>\n",
              "      <td>0.0</td>\n",
              "      <td>2019-04-02</td>\n",
              "      <td>28</td>\n",
              "    </tr>\n",
              "  </tbody>\n",
              "</table>\n",
              "</div>"
            ],
            "text/plain": [
              "   price  model_year           model  condition  cylinders fuel  odometer  \\\n",
              "0   9400      2011.0          bmw x5       good        6.0  gas  145000.0   \n",
              "1  25500         NaN      ford f-150       good        6.0  gas   88705.0   \n",
              "2   5500      2013.0  hyundai sonata   like new        4.0  gas  110000.0   \n",
              "3   1500      2003.0      ford f-150       fair        8.0  gas       NaN   \n",
              "4  14900      2017.0    chrysler 200  excellent        4.0  gas   80903.0   \n",
              "\n",
              "  transmission    type paint_color  is_4wd date_posted  days_listed  \n",
              "0    automatic     SUV     unknown     1.0  2018-06-23           19  \n",
              "1    automatic  pickup       white     1.0  2018-10-19           50  \n",
              "2    automatic   sedan         red     0.0  2019-02-07           79  \n",
              "3    automatic  pickup     unknown     0.0  2019-03-22            9  \n",
              "4    automatic   sedan       black     0.0  2019-04-02           28  "
            ]
          },
          "execution_count": 229,
          "metadata": {},
          "output_type": "execute_result"
        }
      ],
      "source": [
        "df['paint_color'] = df['paint_color'].fillna('unknown')\n",
        "df.head()"
      ]
    },
    {
      "cell_type": "markdown",
      "metadata": {
        "id": "wA9i7L9A3DJx"
      },
      "source": [
        "1.2.3- Rellenamos los valores ausentes de 'cylinder' por promedio de cilindrada por tipo de modelo"
      ]
    },
    {
      "cell_type": "code",
      "execution_count": null,
      "metadata": {
        "id": "tgbMH8vB3DJy",
        "outputId": "e8cba81e-6cb2-42e2-bda2-919c16c476ca"
      },
      "outputs": [
        {
          "data": {
            "text/plain": [
              "array([ 6.,  4.,  8., nan,  5., 10.,  3., 12.])"
            ]
          },
          "execution_count": 230,
          "metadata": {},
          "output_type": "execute_result"
        }
      ],
      "source": [
        "df['cylinders'].unique()"
      ]
    },
    {
      "cell_type": "code",
      "execution_count": null,
      "metadata": {
        "id": "5DBdh5wO3DJy",
        "outputId": "fbee4944-91ac-4730-b1b6-18c5d355edc0"
      },
      "outputs": [
        {
          "data": {
            "text/plain": [
              "array([ 6.,  4.,  8.,  5.,  7., 10.,  3.,  9., 12.])"
            ]
          },
          "execution_count": 231,
          "metadata": {},
          "output_type": "execute_result"
        }
      ],
      "source": [
        "#Creamos una funcion para rellenar valores ausentes de cylinders a partir del tipo de modelo\n",
        "\n",
        "df_aux_cylinder = df.groupby('model')['cylinders'].mean()\n",
        "\n",
        "\n",
        "def nan_odometer (row, series_groupby):\n",
        "  cylinders_i = row['cylinders']\n",
        "  modelo_i = row['model']\n",
        "\n",
        "  if np.isnan(cylinders_i):\n",
        "    return round(series_groupby[modelo_i])\n",
        "  else:\n",
        "    return cylinders_i\n",
        "\n",
        "df['cylinders'] = df.apply(lambda var:nan_odometer(var, df_aux_cylinder), axis = 1)\n",
        "df['cylinders'].unique()"
      ]
    },
    {
      "cell_type": "markdown",
      "metadata": {
        "id": "bu1pPdIN3DJy"
      },
      "source": [
        "1.2.4 - Rellenamos valores ausentes de model year a partir del nombre del modelo"
      ]
    },
    {
      "cell_type": "code",
      "execution_count": null,
      "metadata": {
        "id": "UlcfhSlV3DJy",
        "outputId": "8cbe2940-f016-43a2-92e9-09abba8496b2"
      },
      "outputs": [
        {
          "data": {
            "text/plain": [
              "array([2011., 2009., 2013., 2003., 2017., 2014., 2015., 2012., 2008.,\n",
              "       2018., 2010., 2007., 2004., 2005., 2001., 2006., 1966., 1994.,\n",
              "       2019., 2000., 2016., 1993., 1999., 1997., 2002., 1981., 1995.,\n",
              "       1996., 1975., 1998., 1985., 1977., 1987., 1974., 1990., 1992.,\n",
              "       1991., 1972., 1967., 1988., 1969., 1989., 1978., 1965., 1979.,\n",
              "       1968., 1986., 1980., 1964., 1963., 1984., 1982., 1973., 1970.,\n",
              "       1955., 1971., 1976., 1983., 1954., 1962., 1948., 1960., 1908.,\n",
              "       1961., 1936., 1949., 1958., 1929.])"
            ]
          },
          "execution_count": 232,
          "metadata": {},
          "output_type": "execute_result"
        }
      ],
      "source": [
        "df_aux_model_year = df.groupby('model')['model_year'].mean()\n",
        "\n",
        "\n",
        "def nan_model_year (row, series_groupby):\n",
        "  model_year_i = row['model_year']\n",
        "  modelo_i = row['model']\n",
        "\n",
        "  if np.isnan(model_year_i):\n",
        "    return round(series_groupby[modelo_i])\n",
        "  else:\n",
        "    return model_year_i\n",
        "\n",
        "df['model_year'] = df.apply(lambda var:nan_model_year(var, df_aux_model_year), axis = 1)\n",
        "df['model_year'].unique()"
      ]
    },
    {
      "cell_type": "markdown",
      "metadata": {
        "id": "XDGUULuH3DJy"
      },
      "source": [
        "1.2.5 - Rellenamos valores ausentes de 'odometer' a partir 'condition'"
      ]
    },
    {
      "cell_type": "code",
      "execution_count": null,
      "metadata": {
        "id": "lqugL97y3DJz",
        "outputId": "df91ea07-f49e-4c49-e8ac-294b03df8582"
      },
      "outputs": [
        {
          "data": {
            "text/plain": [
              "array([145000.,  88705., 110000., ..., 121778., 181500., 139573.])"
            ]
          },
          "execution_count": 233,
          "metadata": {},
          "output_type": "execute_result"
        }
      ],
      "source": [
        "df_aux_odometer = df.groupby('condition')['odometer'].mean()\n",
        "\n",
        "\n",
        "def nan_odometer (row, series_groupby):\n",
        "  odometer_i = row['odometer']\n",
        "  condition_i = row['condition']\n",
        "\n",
        "  if np.isnan(odometer_i):\n",
        "    return round(series_groupby[condition_i])\n",
        "  else:\n",
        "    return odometer_i\n",
        "\n",
        "df['odometer'] = df.apply(lambda var:nan_odometer(var, df_aux_odometer), axis = 1)\n",
        "df['odometer'].unique()"
      ]
    },
    {
      "cell_type": "markdown",
      "metadata": {
        "id": "Au8EDD0_3DJz"
      },
      "source": [
        "## Corregir los tipos de datos"
      ]
    },
    {
      "cell_type": "markdown",
      "metadata": {
        "id": "ovdYEPSn3DJz"
      },
      "source": [
        "- Corregimos el tipo de dato de las columnas days_posted, model_year, cylinders y is_4wd"
      ]
    },
    {
      "cell_type": "code",
      "execution_count": null,
      "metadata": {
        "id": "1odJ4hC83DJz"
      },
      "outputs": [],
      "source": [
        "#\"date posted\" to datetime\n",
        "df['date_posted']= pd.to_datetime(df['date_posted'], format = '%Y-%m-%d')\n"
      ]
    },
    {
      "cell_type": "code",
      "execution_count": null,
      "metadata": {
        "id": "M-nMrnO43DJz",
        "outputId": "b84f810b-9720-4334-8613-8f2ca58b13bf"
      },
      "outputs": [
        {
          "data": {
            "text/plain": [
              "array([2011, 2009, 2013, 2003, 2017, 2014, 2015, 2012, 2008, 2018, 2010,\n",
              "       2007, 2004, 2005, 2001, 2006, 1966, 1994, 2019, 2000, 2016, 1993,\n",
              "       1999, 1997, 2002, 1981, 1995, 1996, 1975, 1998, 1985, 1977, 1987,\n",
              "       1974, 1990, 1992, 1991, 1972, 1967, 1988, 1969, 1989, 1978, 1965,\n",
              "       1979, 1968, 1986, 1980, 1964, 1963, 1984, 1982, 1973, 1970, 1955,\n",
              "       1971, 1976, 1983, 1954, 1962, 1948, 1960, 1908, 1961, 1936, 1949,\n",
              "       1958, 1929])"
            ]
          },
          "execution_count": 235,
          "metadata": {},
          "output_type": "execute_result"
        }
      ],
      "source": [
        "#\"model year\" to integer\n",
        "df['model_year'] = df['model_year'].astype('int')\n",
        "df['model_year'].unique()"
      ]
    },
    {
      "cell_type": "code",
      "execution_count": null,
      "metadata": {
        "id": "fLSOoH4g3DJz",
        "outputId": "e130a44f-d107-45ba-b983-cf662c91fa72"
      },
      "outputs": [
        {
          "data": {
            "text/plain": [
              "array([ 6,  4,  8,  5,  7, 10,  3,  9, 12])"
            ]
          },
          "execution_count": 236,
          "metadata": {},
          "output_type": "execute_result"
        }
      ],
      "source": [
        "#\"cylinders\" to integer\n",
        "df['cylinders'] = df['cylinders'].astype('int')\n",
        "df['cylinders'].unique()"
      ]
    },
    {
      "cell_type": "code",
      "execution_count": null,
      "metadata": {
        "id": "EQt2At3T3DJz",
        "outputId": "b7cc52ee-1f60-4505-c18c-5c5c5a1dbc14"
      },
      "outputs": [
        {
          "data": {
            "text/plain": [
              "array([ True, False])"
            ]
          },
          "execution_count": 237,
          "metadata": {},
          "output_type": "execute_result"
        }
      ],
      "source": [
        "#\"is_wd4\" to boolean\n",
        "df['is_4wd'] = df['is_4wd'].astype('bool')\n",
        "df['is_4wd'].unique()"
      ]
    },
    {
      "cell_type": "code",
      "execution_count": null,
      "metadata": {
        "id": "l1CLMpAl3DJ0",
        "outputId": "c09f7515-6f89-4ef2-a8fe-2c56574ca81a"
      },
      "outputs": [
        {
          "name": "stdout",
          "output_type": "stream",
          "text": [
            "<class 'pandas.core.frame.DataFrame'>\n",
            "RangeIndex: 51525 entries, 0 to 51524\n",
            "Data columns (total 13 columns):\n",
            " #   Column        Non-Null Count  Dtype         \n",
            "---  ------        --------------  -----         \n",
            " 0   price         51525 non-null  int64         \n",
            " 1   model_year    51525 non-null  int64         \n",
            " 2   model         51525 non-null  object        \n",
            " 3   condition     51525 non-null  object        \n",
            " 4   cylinders     51525 non-null  int64         \n",
            " 5   fuel          51525 non-null  object        \n",
            " 6   odometer      51525 non-null  float64       \n",
            " 7   transmission  51525 non-null  object        \n",
            " 8   type          51525 non-null  object        \n",
            " 9   paint_color   51525 non-null  object        \n",
            " 10  is_4wd        51525 non-null  bool          \n",
            " 11  date_posted   51525 non-null  datetime64[ns]\n",
            " 12  days_listed   51525 non-null  int64         \n",
            "dtypes: bool(1), datetime64[ns](1), float64(1), int64(4), object(6)\n",
            "memory usage: 4.8+ MB\n"
          ]
        }
      ],
      "source": [
        "#comprobando correcciones de tipo de datos y valores ausentes\n",
        "df.info()"
      ]
    },
    {
      "cell_type": "markdown",
      "metadata": {
        "id": "R6ihQu8P3DJ0"
      },
      "source": [
        "## Enriquecer datos"
      ]
    },
    {
      "cell_type": "markdown",
      "metadata": {
        "id": "F00zK3Vy3DJ0"
      },
      "source": [
        "- Agregamos Columnas con, dia de la semana, año y mes en que se coloco el anuncio\n"
      ]
    },
    {
      "cell_type": "code",
      "execution_count": null,
      "metadata": {
        "id": "6t_yTvzf3DJ0",
        "outputId": "af27bc1b-3af9-403e-8c27-edfc1f6ee1eb"
      },
      "outputs": [
        {
          "data": {
            "text/plain": [
              "array([5, 4, 3, 1, 2, 0, 6])"
            ]
          },
          "execution_count": 239,
          "metadata": {},
          "output_type": "execute_result"
        }
      ],
      "source": [
        "\n",
        "df['weekday_posted'] = pd.DatetimeIndex(df['date_posted']).dayofweek\n",
        "df['weekday_posted'].unique()"
      ]
    },
    {
      "cell_type": "code",
      "execution_count": null,
      "metadata": {
        "id": "TWvBiUMZ3DJ0",
        "outputId": "040f813e-0832-4031-e1ce-dc5e1076dc94"
      },
      "outputs": [
        {
          "data": {
            "text/plain": [
              "array([2018, 2019])"
            ]
          },
          "execution_count": 240,
          "metadata": {},
          "output_type": "execute_result"
        }
      ],
      "source": [
        "\n",
        "df['year_posted'] = pd.DatetimeIndex(df['date_posted']).year\n",
        "df['year_posted'].unique()\n"
      ]
    },
    {
      "cell_type": "code",
      "execution_count": null,
      "metadata": {
        "id": "0Mbx-2Zk3DJ0",
        "outputId": "c4788e5a-78d9-454b-fe39-11c44d64ce2a"
      },
      "outputs": [
        {
          "data": {
            "text/plain": [
              "array([ 6, 10,  2,  3,  4, 12,  1,  7,  9,  5,  8, 11])"
            ]
          },
          "execution_count": 241,
          "metadata": {},
          "output_type": "execute_result"
        }
      ],
      "source": [
        "df['month_posted'] = pd.DatetimeIndex(df['date_posted']).month\n",
        "df['month_posted'].unique()\n"
      ]
    },
    {
      "cell_type": "markdown",
      "metadata": {
        "id": "Sm04oAqO3DJ0"
      },
      "source": [
        "- Creamos una columna con los años del vehiculo cuando se publico\n"
      ]
    },
    {
      "cell_type": "code",
      "execution_count": null,
      "metadata": {
        "id": "0R4jmGbx3DJ0",
        "outputId": "3e1ebfbd-aa55-41e3-b605-9761f78d81bc"
      },
      "outputs": [
        {
          "data": {
            "text/html": [
              "<div>\n",
              "<style scoped>\n",
              "    .dataframe tbody tr th:only-of-type {\n",
              "        vertical-align: middle;\n",
              "    }\n",
              "\n",
              "    .dataframe tbody tr th {\n",
              "        vertical-align: top;\n",
              "    }\n",
              "\n",
              "    .dataframe thead th {\n",
              "        text-align: right;\n",
              "    }\n",
              "</style>\n",
              "<table border=\"1\" class=\"dataframe\">\n",
              "  <thead>\n",
              "    <tr style=\"text-align: right;\">\n",
              "      <th></th>\n",
              "      <th>price</th>\n",
              "      <th>model_year</th>\n",
              "      <th>model</th>\n",
              "      <th>condition</th>\n",
              "      <th>cylinders</th>\n",
              "      <th>fuel</th>\n",
              "      <th>odometer</th>\n",
              "      <th>transmission</th>\n",
              "      <th>type</th>\n",
              "      <th>paint_color</th>\n",
              "      <th>is_4wd</th>\n",
              "      <th>date_posted</th>\n",
              "      <th>days_listed</th>\n",
              "      <th>weekday_posted</th>\n",
              "      <th>year_posted</th>\n",
              "      <th>month_posted</th>\n",
              "      <th>years_when_published</th>\n",
              "    </tr>\n",
              "  </thead>\n",
              "  <tbody>\n",
              "    <tr>\n",
              "      <th>0</th>\n",
              "      <td>9400</td>\n",
              "      <td>2011</td>\n",
              "      <td>bmw x5</td>\n",
              "      <td>good</td>\n",
              "      <td>6</td>\n",
              "      <td>gas</td>\n",
              "      <td>145000.0</td>\n",
              "      <td>automatic</td>\n",
              "      <td>SUV</td>\n",
              "      <td>unknown</td>\n",
              "      <td>True</td>\n",
              "      <td>2018-06-23</td>\n",
              "      <td>19</td>\n",
              "      <td>5</td>\n",
              "      <td>2018</td>\n",
              "      <td>6</td>\n",
              "      <td>7</td>\n",
              "    </tr>\n",
              "    <tr>\n",
              "      <th>1</th>\n",
              "      <td>25500</td>\n",
              "      <td>2009</td>\n",
              "      <td>ford f-150</td>\n",
              "      <td>good</td>\n",
              "      <td>6</td>\n",
              "      <td>gas</td>\n",
              "      <td>88705.0</td>\n",
              "      <td>automatic</td>\n",
              "      <td>pickup</td>\n",
              "      <td>white</td>\n",
              "      <td>True</td>\n",
              "      <td>2018-10-19</td>\n",
              "      <td>50</td>\n",
              "      <td>4</td>\n",
              "      <td>2018</td>\n",
              "      <td>10</td>\n",
              "      <td>9</td>\n",
              "    </tr>\n",
              "    <tr>\n",
              "      <th>2</th>\n",
              "      <td>5500</td>\n",
              "      <td>2013</td>\n",
              "      <td>hyundai sonata</td>\n",
              "      <td>like new</td>\n",
              "      <td>4</td>\n",
              "      <td>gas</td>\n",
              "      <td>110000.0</td>\n",
              "      <td>automatic</td>\n",
              "      <td>sedan</td>\n",
              "      <td>red</td>\n",
              "      <td>False</td>\n",
              "      <td>2019-02-07</td>\n",
              "      <td>79</td>\n",
              "      <td>3</td>\n",
              "      <td>2019</td>\n",
              "      <td>2</td>\n",
              "      <td>6</td>\n",
              "    </tr>\n",
              "    <tr>\n",
              "      <th>3</th>\n",
              "      <td>1500</td>\n",
              "      <td>2003</td>\n",
              "      <td>ford f-150</td>\n",
              "      <td>fair</td>\n",
              "      <td>8</td>\n",
              "      <td>gas</td>\n",
              "      <td>183062.0</td>\n",
              "      <td>automatic</td>\n",
              "      <td>pickup</td>\n",
              "      <td>unknown</td>\n",
              "      <td>False</td>\n",
              "      <td>2019-03-22</td>\n",
              "      <td>9</td>\n",
              "      <td>4</td>\n",
              "      <td>2019</td>\n",
              "      <td>3</td>\n",
              "      <td>16</td>\n",
              "    </tr>\n",
              "    <tr>\n",
              "      <th>4</th>\n",
              "      <td>14900</td>\n",
              "      <td>2017</td>\n",
              "      <td>chrysler 200</td>\n",
              "      <td>excellent</td>\n",
              "      <td>4</td>\n",
              "      <td>gas</td>\n",
              "      <td>80903.0</td>\n",
              "      <td>automatic</td>\n",
              "      <td>sedan</td>\n",
              "      <td>black</td>\n",
              "      <td>False</td>\n",
              "      <td>2019-04-02</td>\n",
              "      <td>28</td>\n",
              "      <td>1</td>\n",
              "      <td>2019</td>\n",
              "      <td>4</td>\n",
              "      <td>2</td>\n",
              "    </tr>\n",
              "  </tbody>\n",
              "</table>\n",
              "</div>"
            ],
            "text/plain": [
              "   price  model_year           model  condition  cylinders fuel  odometer  \\\n",
              "0   9400        2011          bmw x5       good          6  gas  145000.0   \n",
              "1  25500        2009      ford f-150       good          6  gas   88705.0   \n",
              "2   5500        2013  hyundai sonata   like new          4  gas  110000.0   \n",
              "3   1500        2003      ford f-150       fair          8  gas  183062.0   \n",
              "4  14900        2017    chrysler 200  excellent          4  gas   80903.0   \n",
              "\n",
              "  transmission    type paint_color  is_4wd date_posted  days_listed  \\\n",
              "0    automatic     SUV     unknown    True  2018-06-23           19   \n",
              "1    automatic  pickup       white    True  2018-10-19           50   \n",
              "2    automatic   sedan         red   False  2019-02-07           79   \n",
              "3    automatic  pickup     unknown   False  2019-03-22            9   \n",
              "4    automatic   sedan       black   False  2019-04-02           28   \n",
              "\n",
              "   weekday_posted  year_posted  month_posted  years_when_published  \n",
              "0               5         2018             6                     7  \n",
              "1               4         2018            10                     9  \n",
              "2               3         2019             2                     6  \n",
              "3               4         2019             3                    16  \n",
              "4               1         2019             4                     2  "
            ]
          },
          "execution_count": 242,
          "metadata": {},
          "output_type": "execute_result"
        }
      ],
      "source": [
        "df['years_when_published'] = df['year_posted']- df['model_year']\n",
        "df.head()"
      ]
    },
    {
      "cell_type": "markdown",
      "metadata": {
        "id": "yCU5Z4KA3DJ0"
      },
      "source": [
        "- Calculamos el promdeio de millaje segun el año"
      ]
    },
    {
      "cell_type": "code",
      "execution_count": null,
      "metadata": {
        "id": "ZCixzJ4v3DJ0",
        "outputId": "cad91176-de4b-4c00-849b-bd7ef4945b1f"
      },
      "outputs": [
        {
          "data": {
            "text/html": [
              "<div>\n",
              "<style scoped>\n",
              "    .dataframe tbody tr th:only-of-type {\n",
              "        vertical-align: middle;\n",
              "    }\n",
              "\n",
              "    .dataframe tbody tr th {\n",
              "        vertical-align: top;\n",
              "    }\n",
              "\n",
              "    .dataframe thead th {\n",
              "        text-align: right;\n",
              "    }\n",
              "</style>\n",
              "<table border=\"1\" class=\"dataframe\">\n",
              "  <thead>\n",
              "    <tr style=\"text-align: right;\">\n",
              "      <th></th>\n",
              "      <th>price</th>\n",
              "      <th>model_year</th>\n",
              "      <th>model</th>\n",
              "      <th>condition</th>\n",
              "      <th>cylinders</th>\n",
              "      <th>fuel</th>\n",
              "      <th>odometer</th>\n",
              "      <th>transmission</th>\n",
              "      <th>type</th>\n",
              "      <th>paint_color</th>\n",
              "      <th>is_4wd</th>\n",
              "      <th>date_posted</th>\n",
              "      <th>days_listed</th>\n",
              "      <th>weekday_posted</th>\n",
              "      <th>year_posted</th>\n",
              "      <th>month_posted</th>\n",
              "      <th>years_when_published</th>\n",
              "      <th>average_odometer</th>\n",
              "    </tr>\n",
              "  </thead>\n",
              "  <tbody>\n",
              "    <tr>\n",
              "      <th>0</th>\n",
              "      <td>9400</td>\n",
              "      <td>2011</td>\n",
              "      <td>bmw x5</td>\n",
              "      <td>good</td>\n",
              "      <td>6</td>\n",
              "      <td>gas</td>\n",
              "      <td>145000.0</td>\n",
              "      <td>automatic</td>\n",
              "      <td>SUV</td>\n",
              "      <td>unknown</td>\n",
              "      <td>True</td>\n",
              "      <td>2018-06-23</td>\n",
              "      <td>19</td>\n",
              "      <td>5</td>\n",
              "      <td>2018</td>\n",
              "      <td>6</td>\n",
              "      <td>7</td>\n",
              "      <td>122071.619629</td>\n",
              "    </tr>\n",
              "    <tr>\n",
              "      <th>1</th>\n",
              "      <td>25500</td>\n",
              "      <td>2009</td>\n",
              "      <td>ford f-150</td>\n",
              "      <td>good</td>\n",
              "      <td>6</td>\n",
              "      <td>gas</td>\n",
              "      <td>88705.0</td>\n",
              "      <td>automatic</td>\n",
              "      <td>pickup</td>\n",
              "      <td>white</td>\n",
              "      <td>True</td>\n",
              "      <td>2018-10-19</td>\n",
              "      <td>50</td>\n",
              "      <td>4</td>\n",
              "      <td>2018</td>\n",
              "      <td>10</td>\n",
              "      <td>9</td>\n",
              "      <td>128858.696873</td>\n",
              "    </tr>\n",
              "    <tr>\n",
              "      <th>2</th>\n",
              "      <td>5500</td>\n",
              "      <td>2013</td>\n",
              "      <td>hyundai sonata</td>\n",
              "      <td>like new</td>\n",
              "      <td>4</td>\n",
              "      <td>gas</td>\n",
              "      <td>110000.0</td>\n",
              "      <td>automatic</td>\n",
              "      <td>sedan</td>\n",
              "      <td>red</td>\n",
              "      <td>False</td>\n",
              "      <td>2019-02-07</td>\n",
              "      <td>79</td>\n",
              "      <td>3</td>\n",
              "      <td>2019</td>\n",
              "      <td>2</td>\n",
              "      <td>6</td>\n",
              "      <td>104904.128579</td>\n",
              "    </tr>\n",
              "    <tr>\n",
              "      <th>3</th>\n",
              "      <td>1500</td>\n",
              "      <td>2003</td>\n",
              "      <td>ford f-150</td>\n",
              "      <td>fair</td>\n",
              "      <td>8</td>\n",
              "      <td>gas</td>\n",
              "      <td>183062.0</td>\n",
              "      <td>automatic</td>\n",
              "      <td>pickup</td>\n",
              "      <td>unknown</td>\n",
              "      <td>False</td>\n",
              "      <td>2019-03-22</td>\n",
              "      <td>9</td>\n",
              "      <td>4</td>\n",
              "      <td>2019</td>\n",
              "      <td>3</td>\n",
              "      <td>16</td>\n",
              "      <td>156303.847423</td>\n",
              "    </tr>\n",
              "    <tr>\n",
              "      <th>4</th>\n",
              "      <td>14900</td>\n",
              "      <td>2017</td>\n",
              "      <td>chrysler 200</td>\n",
              "      <td>excellent</td>\n",
              "      <td>4</td>\n",
              "      <td>gas</td>\n",
              "      <td>80903.0</td>\n",
              "      <td>automatic</td>\n",
              "      <td>sedan</td>\n",
              "      <td>black</td>\n",
              "      <td>False</td>\n",
              "      <td>2019-04-02</td>\n",
              "      <td>28</td>\n",
              "      <td>1</td>\n",
              "      <td>2019</td>\n",
              "      <td>4</td>\n",
              "      <td>2</td>\n",
              "      <td>56753.936275</td>\n",
              "    </tr>\n",
              "  </tbody>\n",
              "</table>\n",
              "</div>"
            ],
            "text/plain": [
              "   price  model_year           model  condition  cylinders fuel  odometer  \\\n",
              "0   9400        2011          bmw x5       good          6  gas  145000.0   \n",
              "1  25500        2009      ford f-150       good          6  gas   88705.0   \n",
              "2   5500        2013  hyundai sonata   like new          4  gas  110000.0   \n",
              "3   1500        2003      ford f-150       fair          8  gas  183062.0   \n",
              "4  14900        2017    chrysler 200  excellent          4  gas   80903.0   \n",
              "\n",
              "  transmission    type paint_color  is_4wd date_posted  days_listed  \\\n",
              "0    automatic     SUV     unknown    True  2018-06-23           19   \n",
              "1    automatic  pickup       white    True  2018-10-19           50   \n",
              "2    automatic   sedan         red   False  2019-02-07           79   \n",
              "3    automatic  pickup     unknown   False  2019-03-22            9   \n",
              "4    automatic   sedan       black   False  2019-04-02           28   \n",
              "\n",
              "   weekday_posted  year_posted  month_posted  years_when_published  \\\n",
              "0               5         2018             6                     7   \n",
              "1               4         2018            10                     9   \n",
              "2               3         2019             2                     6   \n",
              "3               4         2019             3                    16   \n",
              "4               1         2019             4                     2   \n",
              "\n",
              "   average_odometer  \n",
              "0     122071.619629  \n",
              "1     128858.696873  \n",
              "2     104904.128579  \n",
              "3     156303.847423  \n",
              "4      56753.936275  "
            ]
          },
          "execution_count": 243,
          "metadata": {},
          "output_type": "execute_result"
        }
      ],
      "source": [
        "# Agrega el millaje promedio del vehículo por año\n",
        "\n",
        "df_aux_avg_odo = df.groupby('model_year')['odometer'].mean()\n",
        "\n",
        "def average_odo (model_year_i):\n",
        "  return df_aux_avg_odo[model_year_i]\n",
        "\n",
        "df['average_odometer'] = df['model_year'].apply(average_odo)\n",
        "df.head()"
      ]
    },
    {
      "cell_type": "markdown",
      "metadata": {
        "id": "v10QXVHn3DJ1"
      },
      "source": [
        "- Creamos una funcion para crear la columna \"condition_id\""
      ]
    },
    {
      "cell_type": "code",
      "execution_count": null,
      "metadata": {
        "id": "TqihabAd3DJ1",
        "outputId": "ee182be3-93f4-4b91-df18-3216dd48eb38"
      },
      "outputs": [
        {
          "data": {
            "text/html": [
              "<div>\n",
              "<style scoped>\n",
              "    .dataframe tbody tr th:only-of-type {\n",
              "        vertical-align: middle;\n",
              "    }\n",
              "\n",
              "    .dataframe tbody tr th {\n",
              "        vertical-align: top;\n",
              "    }\n",
              "\n",
              "    .dataframe thead th {\n",
              "        text-align: right;\n",
              "    }\n",
              "</style>\n",
              "<table border=\"1\" class=\"dataframe\">\n",
              "  <thead>\n",
              "    <tr style=\"text-align: right;\">\n",
              "      <th></th>\n",
              "      <th>price</th>\n",
              "      <th>model_year</th>\n",
              "      <th>model</th>\n",
              "      <th>condition</th>\n",
              "      <th>cylinders</th>\n",
              "      <th>fuel</th>\n",
              "      <th>odometer</th>\n",
              "      <th>transmission</th>\n",
              "      <th>type</th>\n",
              "      <th>paint_color</th>\n",
              "      <th>is_4wd</th>\n",
              "      <th>date_posted</th>\n",
              "      <th>days_listed</th>\n",
              "      <th>weekday_posted</th>\n",
              "      <th>year_posted</th>\n",
              "      <th>month_posted</th>\n",
              "      <th>years_when_published</th>\n",
              "      <th>average_odometer</th>\n",
              "      <th>condition_id</th>\n",
              "    </tr>\n",
              "  </thead>\n",
              "  <tbody>\n",
              "    <tr>\n",
              "      <th>0</th>\n",
              "      <td>9400</td>\n",
              "      <td>2011</td>\n",
              "      <td>bmw x5</td>\n",
              "      <td>good</td>\n",
              "      <td>6</td>\n",
              "      <td>gas</td>\n",
              "      <td>145000.0</td>\n",
              "      <td>automatic</td>\n",
              "      <td>SUV</td>\n",
              "      <td>unknown</td>\n",
              "      <td>True</td>\n",
              "      <td>2018-06-23</td>\n",
              "      <td>19</td>\n",
              "      <td>5</td>\n",
              "      <td>2018</td>\n",
              "      <td>6</td>\n",
              "      <td>7</td>\n",
              "      <td>122071.619629</td>\n",
              "      <td>2</td>\n",
              "    </tr>\n",
              "    <tr>\n",
              "      <th>1</th>\n",
              "      <td>25500</td>\n",
              "      <td>2009</td>\n",
              "      <td>ford f-150</td>\n",
              "      <td>good</td>\n",
              "      <td>6</td>\n",
              "      <td>gas</td>\n",
              "      <td>88705.0</td>\n",
              "      <td>automatic</td>\n",
              "      <td>pickup</td>\n",
              "      <td>white</td>\n",
              "      <td>True</td>\n",
              "      <td>2018-10-19</td>\n",
              "      <td>50</td>\n",
              "      <td>4</td>\n",
              "      <td>2018</td>\n",
              "      <td>10</td>\n",
              "      <td>9</td>\n",
              "      <td>128858.696873</td>\n",
              "      <td>2</td>\n",
              "    </tr>\n",
              "    <tr>\n",
              "      <th>2</th>\n",
              "      <td>5500</td>\n",
              "      <td>2013</td>\n",
              "      <td>hyundai sonata</td>\n",
              "      <td>like new</td>\n",
              "      <td>4</td>\n",
              "      <td>gas</td>\n",
              "      <td>110000.0</td>\n",
              "      <td>automatic</td>\n",
              "      <td>sedan</td>\n",
              "      <td>red</td>\n",
              "      <td>False</td>\n",
              "      <td>2019-02-07</td>\n",
              "      <td>79</td>\n",
              "      <td>3</td>\n",
              "      <td>2019</td>\n",
              "      <td>2</td>\n",
              "      <td>6</td>\n",
              "      <td>104904.128579</td>\n",
              "      <td>4</td>\n",
              "    </tr>\n",
              "    <tr>\n",
              "      <th>3</th>\n",
              "      <td>1500</td>\n",
              "      <td>2003</td>\n",
              "      <td>ford f-150</td>\n",
              "      <td>fair</td>\n",
              "      <td>8</td>\n",
              "      <td>gas</td>\n",
              "      <td>183062.0</td>\n",
              "      <td>automatic</td>\n",
              "      <td>pickup</td>\n",
              "      <td>unknown</td>\n",
              "      <td>False</td>\n",
              "      <td>2019-03-22</td>\n",
              "      <td>9</td>\n",
              "      <td>4</td>\n",
              "      <td>2019</td>\n",
              "      <td>3</td>\n",
              "      <td>16</td>\n",
              "      <td>156303.847423</td>\n",
              "      <td>1</td>\n",
              "    </tr>\n",
              "    <tr>\n",
              "      <th>4</th>\n",
              "      <td>14900</td>\n",
              "      <td>2017</td>\n",
              "      <td>chrysler 200</td>\n",
              "      <td>excellent</td>\n",
              "      <td>4</td>\n",
              "      <td>gas</td>\n",
              "      <td>80903.0</td>\n",
              "      <td>automatic</td>\n",
              "      <td>sedan</td>\n",
              "      <td>black</td>\n",
              "      <td>False</td>\n",
              "      <td>2019-04-02</td>\n",
              "      <td>28</td>\n",
              "      <td>1</td>\n",
              "      <td>2019</td>\n",
              "      <td>4</td>\n",
              "      <td>2</td>\n",
              "      <td>56753.936275</td>\n",
              "      <td>3</td>\n",
              "    </tr>\n",
              "  </tbody>\n",
              "</table>\n",
              "</div>"
            ],
            "text/plain": [
              "   price  model_year           model  condition  cylinders fuel  odometer  \\\n",
              "0   9400        2011          bmw x5       good          6  gas  145000.0   \n",
              "1  25500        2009      ford f-150       good          6  gas   88705.0   \n",
              "2   5500        2013  hyundai sonata   like new          4  gas  110000.0   \n",
              "3   1500        2003      ford f-150       fair          8  gas  183062.0   \n",
              "4  14900        2017    chrysler 200  excellent          4  gas   80903.0   \n",
              "\n",
              "  transmission    type paint_color  is_4wd date_posted  days_listed  \\\n",
              "0    automatic     SUV     unknown    True  2018-06-23           19   \n",
              "1    automatic  pickup       white    True  2018-10-19           50   \n",
              "2    automatic   sedan         red   False  2019-02-07           79   \n",
              "3    automatic  pickup     unknown   False  2019-03-22            9   \n",
              "4    automatic   sedan       black   False  2019-04-02           28   \n",
              "\n",
              "   weekday_posted  year_posted  month_posted  years_when_published  \\\n",
              "0               5         2018             6                     7   \n",
              "1               4         2018            10                     9   \n",
              "2               3         2019             2                     6   \n",
              "3               4         2019             3                    16   \n",
              "4               1         2019             4                     2   \n",
              "\n",
              "   average_odometer  condition_id  \n",
              "0     122071.619629             2  \n",
              "1     128858.696873             2  \n",
              "2     104904.128579             4  \n",
              "3     156303.847423             1  \n",
              "4      56753.936275             3  "
            ]
          },
          "execution_count": 244,
          "metadata": {},
          "output_type": "execute_result"
        }
      ],
      "source": [
        "diccionario = {'new': 5,'like new': 4, 'excellent': 3, 'good': 2, 'fair': 1, 'salvage': 0}\n",
        "def correccion_condition (i):\n",
        "  return diccionario[i]\n",
        "df['condition_id'] = df['condition'].apply(correccion_condition)\n",
        "\n",
        "df.head()\n"
      ]
    },
    {
      "cell_type": "markdown",
      "metadata": {
        "id": "OStfqb4S3DJ1"
      },
      "source": [
        "## Comprobar datos limpios"
      ]
    },
    {
      "cell_type": "markdown",
      "metadata": {
        "id": "3Og7mb5p3DJ1"
      },
      "source": [
        "- Comprobamos que los datos quedaron correctamente corregidos: sin valores ausentes y con el tipod e dato correcto"
      ]
    },
    {
      "cell_type": "code",
      "execution_count": null,
      "metadata": {
        "id": "bJG3LarL3DJ1",
        "outputId": "27eb13ab-9de7-4245-9da3-f98aec1bcef2"
      },
      "outputs": [
        {
          "name": "stdout",
          "output_type": "stream",
          "text": [
            "<class 'pandas.core.frame.DataFrame'>\n",
            "RangeIndex: 51525 entries, 0 to 51524\n",
            "Data columns (total 19 columns):\n",
            " #   Column                Non-Null Count  Dtype         \n",
            "---  ------                --------------  -----         \n",
            " 0   price                 51525 non-null  int64         \n",
            " 1   model_year            51525 non-null  int64         \n",
            " 2   model                 51525 non-null  object        \n",
            " 3   condition             51525 non-null  object        \n",
            " 4   cylinders             51525 non-null  int64         \n",
            " 5   fuel                  51525 non-null  object        \n",
            " 6   odometer              51525 non-null  float64       \n",
            " 7   transmission          51525 non-null  object        \n",
            " 8   type                  51525 non-null  object        \n",
            " 9   paint_color           51525 non-null  object        \n",
            " 10  is_4wd                51525 non-null  bool          \n",
            " 11  date_posted           51525 non-null  datetime64[ns]\n",
            " 12  days_listed           51525 non-null  int64         \n",
            " 13  weekday_posted        51525 non-null  int64         \n",
            " 14  year_posted           51525 non-null  int64         \n",
            " 15  month_posted          51525 non-null  int64         \n",
            " 16  years_when_published  51525 non-null  int64         \n",
            " 17  average_odometer      51525 non-null  float64       \n",
            " 18  condition_id          51525 non-null  int64         \n",
            "dtypes: bool(1), datetime64[ns](1), float64(2), int64(9), object(6)\n",
            "memory usage: 7.1+ MB\n"
          ]
        }
      ],
      "source": [
        "# imprime la información general/resumida sobre el DataFrame\n",
        "df.info()\n",
        "\n"
      ]
    },
    {
      "cell_type": "code",
      "execution_count": null,
      "metadata": {
        "id": "9c98uDSL3DJ1",
        "outputId": "95a0ed74-a7a8-44f4-dda7-710977a59d21"
      },
      "outputs": [
        {
          "data": {
            "text/html": [
              "<div>\n",
              "<style scoped>\n",
              "    .dataframe tbody tr th:only-of-type {\n",
              "        vertical-align: middle;\n",
              "    }\n",
              "\n",
              "    .dataframe tbody tr th {\n",
              "        vertical-align: top;\n",
              "    }\n",
              "\n",
              "    .dataframe thead th {\n",
              "        text-align: right;\n",
              "    }\n",
              "</style>\n",
              "<table border=\"1\" class=\"dataframe\">\n",
              "  <thead>\n",
              "    <tr style=\"text-align: right;\">\n",
              "      <th></th>\n",
              "      <th>price</th>\n",
              "      <th>model_year</th>\n",
              "      <th>model</th>\n",
              "      <th>condition</th>\n",
              "      <th>cylinders</th>\n",
              "      <th>fuel</th>\n",
              "      <th>odometer</th>\n",
              "      <th>transmission</th>\n",
              "      <th>type</th>\n",
              "      <th>paint_color</th>\n",
              "      <th>is_4wd</th>\n",
              "      <th>date_posted</th>\n",
              "      <th>days_listed</th>\n",
              "      <th>weekday_posted</th>\n",
              "      <th>year_posted</th>\n",
              "      <th>month_posted</th>\n",
              "      <th>years_when_published</th>\n",
              "      <th>average_odometer</th>\n",
              "      <th>condition_id</th>\n",
              "    </tr>\n",
              "  </thead>\n",
              "  <tbody>\n",
              "    <tr>\n",
              "      <th>0</th>\n",
              "      <td>9400</td>\n",
              "      <td>2011</td>\n",
              "      <td>bmw x5</td>\n",
              "      <td>good</td>\n",
              "      <td>6</td>\n",
              "      <td>gas</td>\n",
              "      <td>145000.0</td>\n",
              "      <td>automatic</td>\n",
              "      <td>SUV</td>\n",
              "      <td>unknown</td>\n",
              "      <td>True</td>\n",
              "      <td>2018-06-23</td>\n",
              "      <td>19</td>\n",
              "      <td>5</td>\n",
              "      <td>2018</td>\n",
              "      <td>6</td>\n",
              "      <td>7</td>\n",
              "      <td>122071.619629</td>\n",
              "      <td>2</td>\n",
              "    </tr>\n",
              "    <tr>\n",
              "      <th>1</th>\n",
              "      <td>25500</td>\n",
              "      <td>2009</td>\n",
              "      <td>ford f-150</td>\n",
              "      <td>good</td>\n",
              "      <td>6</td>\n",
              "      <td>gas</td>\n",
              "      <td>88705.0</td>\n",
              "      <td>automatic</td>\n",
              "      <td>pickup</td>\n",
              "      <td>white</td>\n",
              "      <td>True</td>\n",
              "      <td>2018-10-19</td>\n",
              "      <td>50</td>\n",
              "      <td>4</td>\n",
              "      <td>2018</td>\n",
              "      <td>10</td>\n",
              "      <td>9</td>\n",
              "      <td>128858.696873</td>\n",
              "      <td>2</td>\n",
              "    </tr>\n",
              "    <tr>\n",
              "      <th>2</th>\n",
              "      <td>5500</td>\n",
              "      <td>2013</td>\n",
              "      <td>hyundai sonata</td>\n",
              "      <td>like new</td>\n",
              "      <td>4</td>\n",
              "      <td>gas</td>\n",
              "      <td>110000.0</td>\n",
              "      <td>automatic</td>\n",
              "      <td>sedan</td>\n",
              "      <td>red</td>\n",
              "      <td>False</td>\n",
              "      <td>2019-02-07</td>\n",
              "      <td>79</td>\n",
              "      <td>3</td>\n",
              "      <td>2019</td>\n",
              "      <td>2</td>\n",
              "      <td>6</td>\n",
              "      <td>104904.128579</td>\n",
              "      <td>4</td>\n",
              "    </tr>\n",
              "    <tr>\n",
              "      <th>3</th>\n",
              "      <td>1500</td>\n",
              "      <td>2003</td>\n",
              "      <td>ford f-150</td>\n",
              "      <td>fair</td>\n",
              "      <td>8</td>\n",
              "      <td>gas</td>\n",
              "      <td>183062.0</td>\n",
              "      <td>automatic</td>\n",
              "      <td>pickup</td>\n",
              "      <td>unknown</td>\n",
              "      <td>False</td>\n",
              "      <td>2019-03-22</td>\n",
              "      <td>9</td>\n",
              "      <td>4</td>\n",
              "      <td>2019</td>\n",
              "      <td>3</td>\n",
              "      <td>16</td>\n",
              "      <td>156303.847423</td>\n",
              "      <td>1</td>\n",
              "    </tr>\n",
              "    <tr>\n",
              "      <th>4</th>\n",
              "      <td>14900</td>\n",
              "      <td>2017</td>\n",
              "      <td>chrysler 200</td>\n",
              "      <td>excellent</td>\n",
              "      <td>4</td>\n",
              "      <td>gas</td>\n",
              "      <td>80903.0</td>\n",
              "      <td>automatic</td>\n",
              "      <td>sedan</td>\n",
              "      <td>black</td>\n",
              "      <td>False</td>\n",
              "      <td>2019-04-02</td>\n",
              "      <td>28</td>\n",
              "      <td>1</td>\n",
              "      <td>2019</td>\n",
              "      <td>4</td>\n",
              "      <td>2</td>\n",
              "      <td>56753.936275</td>\n",
              "      <td>3</td>\n",
              "    </tr>\n",
              "  </tbody>\n",
              "</table>\n",
              "</div>"
            ],
            "text/plain": [
              "   price  model_year           model  condition  cylinders fuel  odometer  \\\n",
              "0   9400        2011          bmw x5       good          6  gas  145000.0   \n",
              "1  25500        2009      ford f-150       good          6  gas   88705.0   \n",
              "2   5500        2013  hyundai sonata   like new          4  gas  110000.0   \n",
              "3   1500        2003      ford f-150       fair          8  gas  183062.0   \n",
              "4  14900        2017    chrysler 200  excellent          4  gas   80903.0   \n",
              "\n",
              "  transmission    type paint_color  is_4wd date_posted  days_listed  \\\n",
              "0    automatic     SUV     unknown    True  2018-06-23           19   \n",
              "1    automatic  pickup       white    True  2018-10-19           50   \n",
              "2    automatic   sedan         red   False  2019-02-07           79   \n",
              "3    automatic  pickup     unknown   False  2019-03-22            9   \n",
              "4    automatic   sedan       black   False  2019-04-02           28   \n",
              "\n",
              "   weekday_posted  year_posted  month_posted  years_when_published  \\\n",
              "0               5         2018             6                     7   \n",
              "1               4         2018            10                     9   \n",
              "2               3         2019             2                     6   \n",
              "3               4         2019             3                    16   \n",
              "4               1         2019             4                     2   \n",
              "\n",
              "   average_odometer  condition_id  \n",
              "0     122071.619629             2  \n",
              "1     128858.696873             2  \n",
              "2     104904.128579             4  \n",
              "3     156303.847423             1  \n",
              "4      56753.936275             3  "
            ]
          },
          "execution_count": 246,
          "metadata": {},
          "output_type": "execute_result"
        }
      ],
      "source": [
        "# imprimir una muestra de datos\n",
        "\n",
        "df.head()"
      ]
    },
    {
      "cell_type": "markdown",
      "metadata": {
        "id": "JsVDTEJf3DJ1"
      },
      "source": [
        "## Estudiar parámetros principales\n",
        "\n",
        "\n",
        "\n",
        "Los parámetros a estudiar son:\n",
        "- Precio\n",
        "- Los años del vehículo cuando el anuncio se colocó\n",
        "- Millaje\n",
        "- Número de cilindros\n",
        "- Estado"
      ]
    },
    {
      "cell_type": "code",
      "execution_count": null,
      "metadata": {
        "id": "GmmoicOb3DJ1",
        "outputId": "575b5c20-0681-4ea6-fc93-7afc1c91bf2e"
      },
      "outputs": [
        {
          "data": {
            "image/png": "[encoded data removed]",
            "text/plain": [
              "<Figure size 432x288 with 1 Axes>"
            ]
          },
          "metadata": {
            "needs_background": "light"
          },
          "output_type": "display_data"
        },
        {
          "data": {
            "image/png": "[encoded data removed]",
            "text/plain": [
              "<Figure size 432x288 with 1 Axes>"
            ]
          },
          "metadata": {
            "needs_background": "light"
          },
          "output_type": "display_data"
        },
        {
          "data": {
            "image/png": "[encoded data removed]",
            "text/plain": [
              "<Figure size 432x288 with 1 Axes>"
            ]
          },
          "metadata": {
            "needs_background": "light"
          },
          "output_type": "display_data"
        },
        {
          "data": {
            "image/png": "[encoded data removed]",
            "text/plain": [
              "<Figure size 432x288 with 1 Axes>"
            ]
          },
          "metadata": {
            "needs_background": "light"
          },
          "output_type": "display_data"
        },
        {
          "data": {
            "image/png": "[encoded data removed]",
            "text/plain": [
              "<Figure size 432x288 with 1 Axes>"
            ]
          },
          "metadata": {
            "needs_background": "light"
          },
          "output_type": "display_data"
        }
      ],
      "source": [
        "##Creamos histogramas para cada una de las variables de interes (utilizando un bucle para no repetir codigo)\n",
        "\n",
        "lista = ['cylinders', 'price', 'odometer', 'years_when_published', 'condition_id']\n",
        "for i in lista:\n",
        "    df.hist( column = i)"
      ]
    },
    {
      "cell_type": "markdown",
      "metadata": {
        "id": "Gt4jOzPq3DJ1"
      },
      "source": [
        "## Estudiar y tratar valores atípicos\n",
        "\n"
      ]
    },
    {
      "cell_type": "markdown",
      "metadata": {
        "id": "Nhgfui4P3DJ2"
      },
      "source": [
        "A partir de los histogramas anteriores, se puede inferir que las variables de precio, millaje y año de publicacion cuentan con valoes atipicos. \n",
        "Calculamos para cada variable los limites para el rango normal de valores"
      ]
    },
    {
      "cell_type": "code",
      "execution_count": null,
      "metadata": {
        "id": "DxETIflO3DJ2",
        "outputId": "bb5008c3-1ed8-4690-90f6-5510f06b28d8"
      },
      "outputs": [
        {
          "name": "stdout",
          "output_type": "stream",
          "text": [
            "Q2_price= 9000.0\n",
            "Q1_price= 5000.0\n",
            "Q3_price= 16795.0\n",
            "IQR_price= 11795.0\n",
            "Limite inferior precio 0\n",
            "Limite superior precio 34487.5\n"
          ]
        }
      ],
      "source": [
        "#Price Limits\n",
        "\n",
        "Q2_price = df['price'].median()\n",
        "print(\"Q2_price=\", Q2_price)\n",
        "Q1_price = df[df['price']<=Q2_price]['price'].median()\n",
        "print(\"Q1_price=\", Q1_price)\n",
        "Q3_price = df[df['price']>=Q2_price]['price'].median()\n",
        "print(\"Q3_price=\", Q3_price)\n",
        "IQR_price = Q3_price-Q1_price\n",
        "print(\"IQR_price=\", IQR_price)\n",
        "print('Limite inferior precio', max(0,Q1_price-1.5*IQR_price))\n",
        "print('Limite superior precio', Q3_price+1.5*IQR_price)"
      ]
    },
    {
      "cell_type": "code",
      "execution_count": null,
      "metadata": {
        "id": "XNQjo8fN3DJ2",
        "outputId": "a039f072-2141-4458-d52e-44a668d4fe63"
      },
      "outputs": [
        {
          "name": "stdout",
          "output_type": "stream",
          "text": [
            "Q2_odometer= 110908.0\n",
            "Q1_odometer= 79009.0\n",
            "Q3_odometer= 147821.0\n",
            "IQR_odometer= 68812.0\n",
            "Limite inferior odometer 0\n",
            "Limite superior odometer 251039.0\n"
          ]
        }
      ],
      "source": [
        "#ODOMETER LIMITS\n",
        "Q2_odometer = df['odometer'].median()\n",
        "print(\"Q2_odometer=\", Q2_odometer )\n",
        "Q1_odometer = df[df['odometer']<=Q2_odometer]['odometer'].median()\n",
        "print(\"Q1_odometer=\", Q1_odometer)\n",
        "Q3_odometer = df[df['odometer']>=Q2_odometer]['odometer'].median()\n",
        "print(\"Q3_odometer=\", Q3_odometer)\n",
        "IQR_odometer = Q3_odometer-Q1_odometer\n",
        "print(\"IQR_odometer=\", IQR_odometer)\n",
        "print('Limite inferior odometer', max(0,Q1_odometer-1.5*IQR_odometer))\n",
        "print('Limite superior odometer', Q3_odometer+1.5*IQR_odometer)\n"
      ]
    },
    {
      "cell_type": "code",
      "execution_count": null,
      "metadata": {
        "id": "j_i58Frz3DJ2",
        "outputId": "fed9051f-0d7e-459c-c399-42242a5512a4"
      },
      "outputs": [
        {
          "name": "stdout",
          "output_type": "stream",
          "text": [
            "Q2_years_when_published= 8.0\n",
            "Q1_years_when_published= 5.0\n",
            "Q3_years_when_published= 12.0\n",
            "IQR_years_when_published= 7.0\n",
            "Limite inferior years_when_published 0\n",
            "Limite superior years_when_published 22.5\n"
          ]
        }
      ],
      "source": [
        "##years_when_published  LIMITS\n",
        "Q2_years_when_published = df['years_when_published'].median()\n",
        "print(\"Q2_years_when_published=\", Q2_years_when_published )\n",
        "Q1_years_when_published = df[df['years_when_published']<=Q2_years_when_published]['years_when_published'].median()\n",
        "print(\"Q1_years_when_published=\", Q1_years_when_published)\n",
        "Q3_years_when_published = df[df['years_when_published']>=Q2_years_when_published]['years_when_published'].median()\n",
        "print(\"Q3_years_when_published=\", Q3_years_when_published)\n",
        "IQR_years_when_published = Q3_years_when_published-Q1_years_when_published\n",
        "print(\"IQR_years_when_published=\", IQR_years_when_published)\n",
        "print('Limite inferior years_when_published', max(0,Q1_years_when_published-1.5*IQR_years_when_published))\n",
        "print('Limite superior years_when_published', Q3_years_when_published+1.5*IQR_years_when_published)"
      ]
    },
    {
      "cell_type": "code",
      "execution_count": null,
      "metadata": {
        "id": "fL1k04nW3DJ2",
        "outputId": "ccd03b2f-7678-48e0-b6a3-d8e150c40ec7"
      },
      "outputs": [
        {
          "name": "stdout",
          "output_type": "stream",
          "text": [
            "Q2_cylinders= 6.0\n",
            "Q1_cylinders= 6.0\n",
            "Q3_cylinders= 8.0\n",
            "IQR_cylinders= 2.0\n",
            "Limite inferior precio 3.0\n",
            "Limite superior precio 11.0\n"
          ]
        }
      ],
      "source": [
        "###cylinders limits\n",
        "Q2_cylinders = df['cylinders'].median()\n",
        "print(\"Q2_cylinders=\", Q2_cylinders)\n",
        "Q1_cylinders = df[df['cylinders']<=Q2_cylinders]['cylinders'].median()\n",
        "print(\"Q1_cylinders=\", Q1_cylinders)\n",
        "Q3_cylinders = df[df['cylinders']>=Q2_cylinders]['cylinders'].median()\n",
        "print(\"Q3_cylinders=\", Q3_cylinders)\n",
        "IQR_cylinders = Q3_cylinders-Q1_cylinders\n",
        "print(\"IQR_cylinders=\", IQR_cylinders)\n",
        "print('Limite inferior precio', max(0,Q1_cylinders-1.5*IQR_cylinders))\n",
        "print('Limite superior precio', Q3_cylinders+1.5*IQR_cylinders)"
      ]
    },
    {
      "cell_type": "markdown",
      "metadata": {
        "id": "zlUJI6Qw3DJ2"
      },
      "source": [
        "\n",
        "- Almacenamos los datos sin valores atipicos\n"
      ]
    },
    {
      "cell_type": "code",
      "execution_count": null,
      "metadata": {
        "id": "w_8mb_af3DJ2",
        "outputId": "01e2b7bf-3fb1-4e01-c3a2-390215e77203"
      },
      "outputs": [
        {
          "data": {
            "text/plain": [
              "price                                 34429\n",
              "model_year                             2019\n",
              "model                     volkswagen passat\n",
              "condition                           salvage\n",
              "cylinders                                10\n",
              "fuel                                  other\n",
              "odometer                           251000.0\n",
              "transmission                          other\n",
              "type                                  wagon\n",
              "paint_color                          yellow\n",
              "is_4wd                                 True\n",
              "date_posted             2019-04-19 00:00:00\n",
              "days_listed                             271\n",
              "weekday_posted                            6\n",
              "year_posted                            2019\n",
              "month_posted                             12\n",
              "years_when_published                     22\n",
              "average_odometer              175260.761905\n",
              "condition_id                              5\n",
              "dtype: object"
            ]
          },
          "execution_count": 252,
          "metadata": {},
          "output_type": "execute_result"
        }
      ],
      "source": [
        "df_filtered= df.query(f'price<={Q3_price+1.5*IQR_price} and odometer <= {Q3_odometer+1.5*IQR_odometer} and years_when_published <= {Q3_years_when_published+1.5*IQR_years_when_published} and cylinders <={Q3_cylinders+1.5*IQR_cylinders}')\n",
        "df_filtered.max()"
      ]
    },
    {
      "cell_type": "markdown",
      "metadata": {
        "id": "DGmp5RtB3DJ2"
      },
      "source": [
        "## Estudiar parámetros principales sin valores atípicos"
      ]
    },
    {
      "cell_type": "markdown",
      "metadata": {
        "id": "FUdRwZTL3DJ3"
      },
      "source": [
        "- Creamos histogramas para cada variable con los datos sin valores atipicos"
      ]
    },
    {
      "cell_type": "code",
      "execution_count": null,
      "metadata": {
        "id": "nFmAo3PO3DJ3",
        "outputId": "d65526f5-2143-4148-ee4b-3d907163aa71"
      },
      "outputs": [
        {
          "data": {
            "image/png": "[encoded data removed]",
            "text/plain": [
              "<Figure size 432x288 with 1 Axes>"
            ]
          },
          "metadata": {
            "needs_background": "light"
          },
          "output_type": "display_data"
        },
        {
          "data": {
            "image/png": "[encoded data removed]",
            "text/plain": [
              "<Figure size 432x288 with 1 Axes>"
            ]
          },
          "metadata": {
            "needs_background": "light"
          },
          "output_type": "display_data"
        },
        {
          "data": {
            "image/png": "[encoded data removed]",
            "text/plain": [
              "<Figure size 432x288 with 1 Axes>"
            ]
          },
          "metadata": {
            "needs_background": "light"
          },
          "output_type": "display_data"
        },
        {
          "data": {
            "image/png": "[encoded data removed]",
            "text/plain": [
              "<Figure size 432x288 with 1 Axes>"
            ]
          },
          "metadata": {
            "needs_background": "light"
          },
          "output_type": "display_data"
        },
        {
          "data": {
            "image/png": "[encoded data removed]",
            "text/plain": [
              "<Figure size 432x288 with 1 Axes>"
            ]
          },
          "metadata": {
            "needs_background": "light"
          },
          "output_type": "display_data"
        }
      ],
      "source": [
        "for i in lista:\n",
        "    df_filtered.hist( column = i)"
      ]
    },
    {
      "cell_type": "markdown",
      "metadata": {
        "id": "hjt_F1az3DJ3"
      },
      "source": [
        "## Periodo de colocación de los anuncios\n",
        "\n"
      ]
    },
    {
      "cell_type": "markdown",
      "metadata": {
        "id": "Kl2X4V4k3DJ3"
      },
      "source": [
        "- Estudiamos cuántos días los anuncios fueron mostrados (days_listed)."
      ]
    },
    {
      "cell_type": "code",
      "execution_count": null,
      "metadata": {
        "id": "twRtVdPa3DJ3",
        "outputId": "6ba2dcfb-fa74-4abe-edb9-549f02d99eb7"
      },
      "outputs": [
        {
          "data": {
            "text/plain": [
              "<AxesSubplot:>"
            ]
          },
          "execution_count": 254,
          "metadata": {},
          "output_type": "execute_result"
        },
        {
          "data": {
            "image/png": "[encoded data removed]",
            "text/plain": [
              "<Figure size 432x288 with 1 Axes>"
            ]
          },
          "metadata": {
            "needs_background": "light"
          },
          "output_type": "display_data"
        }
      ],
      "source": [
        "df_filtered['days_listed'].hist()"
      ]
    },
    {
      "cell_type": "markdown",
      "metadata": {
        "id": "e7XeFuc33DJ3"
      },
      "source": [
        "- Calculamos la media y la mediana"
      ]
    },
    {
      "cell_type": "code",
      "execution_count": null,
      "metadata": {
        "id": "aOakC_gl3DJ3",
        "outputId": "e3e24439-88c9-4356-c057-286ad766d914"
      },
      "outputs": [
        {
          "data": {
            "text/plain": [
              "39.5477648435704"
            ]
          },
          "execution_count": 255,
          "metadata": {},
          "output_type": "execute_result"
        }
      ],
      "source": [
        "df_filtered['days_listed'].mean()"
      ]
    },
    {
      "cell_type": "code",
      "execution_count": null,
      "metadata": {
        "id": "bcqRTzYm3DJ3",
        "outputId": "73944115-49ac-43b2-bfe4-d47b0e2f8208"
      },
      "outputs": [
        {
          "data": {
            "text/plain": [
              "33.0"
            ]
          },
          "execution_count": 256,
          "metadata": {},
          "output_type": "execute_result"
        }
      ],
      "source": [
        "df_filtered['days_listed'].median()"
      ]
    },
    {
      "cell_type": "markdown",
      "metadata": {
        "id": "36CexM-S3DJ3"
      },
      "source": [
        "- Calculamos el rango de valores normales"
      ]
    },
    {
      "cell_type": "code",
      "execution_count": null,
      "metadata": {
        "id": "pJY8xUuH3DJ3",
        "outputId": "17658b73-1d60-41ff-a8fb-d1473ad41522"
      },
      "outputs": [
        {
          "name": "stdout",
          "output_type": "stream",
          "text": [
            "Limite inferior days_listed 0\n",
            "Limite superior days_listed 54.0\n"
          ]
        }
      ],
      "source": [
        "##calculamos el rango de valores habituales\n",
        "\n",
        "Q2_days_listed = df_filtered['days_listed'].median()\n",
        "\n",
        "Q1_days_listed = df_filtered[df_filtered['days_listed']<=Q2_days_listed]['days_listed'].median()\n",
        "\n",
        "Q3_days_listed = df_filtered[df_filtered['price']>=Q2_days_listed]['days_listed'].median()\n",
        "\n",
        "IQR_days_listed = Q3_days_listed-Q1_days_listed\n",
        "\n",
        "print('Limite inferior days_listed', max(0,Q1_days_listed-1.5*IQR_days_listed))\n",
        "print('Limite superior days_listed', Q3_days_listed+1.5*IQR_days_listed)"
      ]
    },
    {
      "cell_type": "markdown",
      "metadata": {
        "id": "0cNxWyS83DJ4"
      },
      "source": [
        "- El limite superiors de valores normales es 54. Tomamos dicho rango para evaluar la media de dias publicados"
      ]
    },
    {
      "cell_type": "code",
      "execution_count": null,
      "metadata": {
        "id": "znKTIzAU3DJ4",
        "outputId": "1ce6f8eb-08ce-4eee-ee77-8ce92d58d9f2"
      },
      "outputs": [
        {
          "data": {
            "text/plain": [
              "26.561759305625106"
            ]
          },
          "execution_count": 258,
          "metadata": {},
          "output_type": "execute_result"
        },
        {
          "data": {
            "image/png": "[encoded data removed]",
            "text/plain": [
              "<Figure size 432x288 with 1 Axes>"
            ]
          },
          "metadata": {
            "needs_background": "light"
          },
          "output_type": "display_data"
        }
      ],
      "source": [
        "df_filtered[df_filtered['days_listed'] < 54]['days_listed'].hist()\n",
        "df_filtered[df_filtered['days_listed'] < 54]['days_listed'].mean()"
      ]
    },
    {
      "cell_type": "markdown",
      "metadata": {
        "id": "5ffF1usP3DJ4"
      },
      "source": [
        "- La media de dias de publicacion es de 26,5 dias"
      ]
    },
    {
      "cell_type": "markdown",
      "metadata": {
        "id": "uvqUopmm3DJ4"
      },
      "source": [
        "## Precio promedio por cada tipo de vehículo"
      ]
    },
    {
      "cell_type": "code",
      "execution_count": null,
      "metadata": {
        "id": "lfURFN8a3DJ4"
      },
      "outputs": [],
      "source": [
        "#Calculamos precio promedio por cada tipo de vehiculo \n",
        "price_table = df.groupby('model').agg({'price':['count', 'mean']})\n",
        "price_table=price_table.reset_index()\n",
        "\n"
      ]
    },
    {
      "cell_type": "code",
      "execution_count": null,
      "metadata": {
        "id": "-dDOJ97w3DJ4",
        "outputId": "328d2765-7cca-44e0-9db5-c5652e9b8b59"
      },
      "outputs": [
        {
          "data": {
            "text/html": [
              "<div>\n",
              "<style scoped>\n",
              "    .dataframe tbody tr th:only-of-type {\n",
              "        vertical-align: middle;\n",
              "    }\n",
              "\n",
              "    .dataframe tbody tr th {\n",
              "        vertical-align: top;\n",
              "    }\n",
              "\n",
              "    .dataframe thead th {\n",
              "        text-align: right;\n",
              "    }\n",
              "</style>\n",
              "<table border=\"1\" class=\"dataframe\">\n",
              "  <thead>\n",
              "    <tr style=\"text-align: right;\">\n",
              "      <th></th>\n",
              "      <th>model</th>\n",
              "      <th>amount</th>\n",
              "      <th>price</th>\n",
              "    </tr>\n",
              "  </thead>\n",
              "  <tbody>\n",
              "    <tr>\n",
              "      <th>0</th>\n",
              "      <td>acura tl</td>\n",
              "      <td>236</td>\n",
              "      <td>6474.500000</td>\n",
              "    </tr>\n",
              "    <tr>\n",
              "      <th>1</th>\n",
              "      <td>bmw x5</td>\n",
              "      <td>267</td>\n",
              "      <td>10695.891386</td>\n",
              "    </tr>\n",
              "    <tr>\n",
              "      <th>2</th>\n",
              "      <td>buick enclave</td>\n",
              "      <td>271</td>\n",
              "      <td>11439.612546</td>\n",
              "    </tr>\n",
              "    <tr>\n",
              "      <th>3</th>\n",
              "      <td>cadillac escalade</td>\n",
              "      <td>322</td>\n",
              "      <td>17032.059006</td>\n",
              "    </tr>\n",
              "    <tr>\n",
              "      <th>4</th>\n",
              "      <td>chevrolet camaro</td>\n",
              "      <td>414</td>\n",
              "      <td>13284.961353</td>\n",
              "    </tr>\n",
              "    <tr>\n",
              "      <th>...</th>\n",
              "      <td>...</td>\n",
              "      <td>...</td>\n",
              "      <td>...</td>\n",
              "    </tr>\n",
              "    <tr>\n",
              "      <th>95</th>\n",
              "      <td>toyota sienna</td>\n",
              "      <td>329</td>\n",
              "      <td>9046.838906</td>\n",
              "    </tr>\n",
              "    <tr>\n",
              "      <th>96</th>\n",
              "      <td>toyota tacoma</td>\n",
              "      <td>827</td>\n",
              "      <td>15473.817412</td>\n",
              "    </tr>\n",
              "    <tr>\n",
              "      <th>97</th>\n",
              "      <td>toyota tundra</td>\n",
              "      <td>603</td>\n",
              "      <td>14715.633499</td>\n",
              "    </tr>\n",
              "    <tr>\n",
              "      <th>98</th>\n",
              "      <td>volkswagen jetta</td>\n",
              "      <td>519</td>\n",
              "      <td>6426.240848</td>\n",
              "    </tr>\n",
              "    <tr>\n",
              "      <th>99</th>\n",
              "      <td>volkswagen passat</td>\n",
              "      <td>350</td>\n",
              "      <td>8489.905714</td>\n",
              "    </tr>\n",
              "  </tbody>\n",
              "</table>\n",
              "<p>100 rows × 3 columns</p>\n",
              "</div>"
            ],
            "text/plain": [
              "                model  amount         price\n",
              "0            acura tl     236   6474.500000\n",
              "1              bmw x5     267  10695.891386\n",
              "2       buick enclave     271  11439.612546\n",
              "3   cadillac escalade     322  17032.059006\n",
              "4    chevrolet camaro     414  13284.961353\n",
              "..                ...     ...           ...\n",
              "95      toyota sienna     329   9046.838906\n",
              "96      toyota tacoma     827  15473.817412\n",
              "97      toyota tundra     603  14715.633499\n",
              "98   volkswagen jetta     519   6426.240848\n",
              "99  volkswagen passat     350   8489.905714\n",
              "\n",
              "[100 rows x 3 columns]"
            ]
          },
          "execution_count": 260,
          "metadata": {},
          "output_type": "execute_result"
        }
      ],
      "source": [
        "price_table.columns=['model', 'amount','price']\n",
        "price_table"
      ]
    },
    {
      "cell_type": "code",
      "execution_count": null,
      "metadata": {
        "id": "ElaZWmUy3DJ4",
        "outputId": "e782de5e-e845-4356-b2f7-b65b713493c7"
      },
      "outputs": [
        {
          "data": {
            "text/plain": [
              "<AxesSubplot:xlabel='model', ylabel='amount'>"
            ]
          },
          "execution_count": 261,
          "metadata": {},
          "output_type": "execute_result"
        },
        {
          "data": {
            "image/png": "[encoded data removed]",
            "text/plain": [
              "<Figure size 432x288 with 1 Axes>"
            ]
          },
          "metadata": {
            "needs_background": "light"
          },
          "output_type": "display_data"
        }
      ],
      "source": [
        "#trazamos grafico de dispersion para evaluar la relacion entre variables\n",
        "price_table.plot(x='model', y='amount', kind='scatter')"
      ]
    },
    {
      "cell_type": "code",
      "execution_count": null,
      "metadata": {
        "id": "qIN2t5OT3DJ4",
        "outputId": "8e4afbb6-bada-462c-ffc1-5efebe0157cd"
      },
      "outputs": [
        {
          "data": {
            "text/html": [
              "<div>\n",
              "<style scoped>\n",
              "    .dataframe tbody tr th:only-of-type {\n",
              "        vertical-align: middle;\n",
              "    }\n",
              "\n",
              "    .dataframe tbody tr th {\n",
              "        vertical-align: top;\n",
              "    }\n",
              "\n",
              "    .dataframe thead th {\n",
              "        text-align: right;\n",
              "    }\n",
              "</style>\n",
              "<table border=\"1\" class=\"dataframe\">\n",
              "  <thead>\n",
              "    <tr style=\"text-align: right;\">\n",
              "      <th></th>\n",
              "      <th>model</th>\n",
              "      <th>amount</th>\n",
              "      <th>price</th>\n",
              "      <th>porcentaje</th>\n",
              "    </tr>\n",
              "  </thead>\n",
              "  <tbody>\n",
              "    <tr>\n",
              "      <th>32</th>\n",
              "      <td>ford f-150</td>\n",
              "      <td>2796</td>\n",
              "      <td>14105.922747</td>\n",
              "      <td>0.054265</td>\n",
              "    </tr>\n",
              "    <tr>\n",
              "      <th>13</th>\n",
              "      <td>chevrolet silverado 1500</td>\n",
              "      <td>2171</td>\n",
              "      <td>15629.868263</td>\n",
              "      <td>0.042135</td>\n",
              "    </tr>\n",
              "  </tbody>\n",
              "</table>\n",
              "</div>"
            ],
            "text/plain": [
              "                       model  amount         price  porcentaje\n",
              "32                ford f-150    2796  14105.922747    0.054265\n",
              "13  chevrolet silverado 1500    2171  15629.868263    0.042135"
            ]
          },
          "execution_count": 262,
          "metadata": {},
          "output_type": "execute_result"
        }
      ],
      "source": [
        "#Calculamos los modelos con mayor cantidad de anuncios\n",
        "price_table.sort_values(by='amount', ascending = False).head(2)\n",
        "total_amount = price_table['amount'].sum()\n",
        "price_table['porcentaje'] = price_table['amount']/total_amount\n",
        "price_table.sort_values(by='amount', ascending = False).head(2)"
      ]
    },
    {
      "cell_type": "markdown",
      "metadata": {
        "id": "CCmHtLzG3DJ4"
      },
      "source": [
        "- Los modelos con mas cantidad de anuncions son ford f-150 (5,4%) y chevrolet silverado 1500 (4,2%)"
      ]
    },
    {
      "cell_type": "markdown",
      "metadata": {
        "id": "IKYNTwmF3DJ4"
      },
      "source": [
        "## Factores de precio"
      ]
    },
    {
      "cell_type": "code",
      "execution_count": null,
      "metadata": {
        "id": "GLvU63t83DJ4",
        "outputId": "670af682-474b-48ae-a3df-f194411715ea"
      },
      "outputs": [
        {
          "data": {
            "image/png": "[encoded data removed]",
            "text/plain": [
              "<Figure size 432x288 with 1 Axes>"
            ]
          },
          "metadata": {
            "needs_background": "light"
          },
          "output_type": "display_data"
        },
        {
          "data": {
            "image/png": "[encoded data removed]",
            "text/plain": [
              "<Figure size 432x288 with 1 Axes>"
            ]
          },
          "metadata": {
            "needs_background": "light"
          },
          "output_type": "display_data"
        },
        {
          "data": {
            "image/png": "[encoded data removed]",
            "text/plain": [
              "<Figure size 432x288 with 1 Axes>"
            ]
          },
          "metadata": {
            "needs_background": "light"
          },
          "output_type": "display_data"
        }
      ],
      "source": [
        "#Graficamos dispersion para modelo ford para las variables no categoricas utilizando el df sin valores atipicos (df_filtered)\n",
        "\n",
        "df_ford = df_filtered[df_filtered['model']==\"ford f-150\"]\n",
        "list_ford_stats = ['years_when_published', 'odometer', 'condition_id']\n",
        "for i in list_ford_stats:\n",
        "    df_ford.plot(x = 'price', y = i , kind = 'scatter', title = 'Ford f-150')"
      ]
    },
    {
      "cell_type": "code",
      "execution_count": null,
      "metadata": {
        "id": "zl2sbfDj3DJ5",
        "outputId": "2d8de697-e936-4c69-d00c-535e93ebeadc"
      },
      "outputs": [
        {
          "data": {
            "text/html": [
              "<div>\n",
              "<style scoped>\n",
              "    .dataframe tbody tr th:only-of-type {\n",
              "        vertical-align: middle;\n",
              "    }\n",
              "\n",
              "    .dataframe tbody tr th {\n",
              "        vertical-align: top;\n",
              "    }\n",
              "\n",
              "    .dataframe thead th {\n",
              "        text-align: right;\n",
              "    }\n",
              "</style>\n",
              "<table border=\"1\" class=\"dataframe\">\n",
              "  <thead>\n",
              "    <tr style=\"text-align: right;\">\n",
              "      <th></th>\n",
              "      <th>price</th>\n",
              "      <th>years_when_published</th>\n",
              "      <th>odometer</th>\n",
              "      <th>condition_id</th>\n",
              "    </tr>\n",
              "  </thead>\n",
              "  <tbody>\n",
              "    <tr>\n",
              "      <th>price</th>\n",
              "      <td>1.000000</td>\n",
              "      <td>-0.675145</td>\n",
              "      <td>-0.484214</td>\n",
              "      <td>0.359728</td>\n",
              "    </tr>\n",
              "    <tr>\n",
              "      <th>years_when_published</th>\n",
              "      <td>-0.675145</td>\n",
              "      <td>1.000000</td>\n",
              "      <td>0.486251</td>\n",
              "      <td>-0.379565</td>\n",
              "    </tr>\n",
              "    <tr>\n",
              "      <th>odometer</th>\n",
              "      <td>-0.484214</td>\n",
              "      <td>0.486251</td>\n",
              "      <td>1.000000</td>\n",
              "      <td>-0.348171</td>\n",
              "    </tr>\n",
              "    <tr>\n",
              "      <th>condition_id</th>\n",
              "      <td>0.359728</td>\n",
              "      <td>-0.379565</td>\n",
              "      <td>-0.348171</td>\n",
              "      <td>1.000000</td>\n",
              "    </tr>\n",
              "  </tbody>\n",
              "</table>\n",
              "</div>"
            ],
            "text/plain": [
              "                         price  years_when_published  odometer  condition_id\n",
              "price                 1.000000             -0.675145 -0.484214      0.359728\n",
              "years_when_published -0.675145              1.000000  0.486251     -0.379565\n",
              "odometer             -0.484214              0.486251  1.000000     -0.348171\n",
              "condition_id          0.359728             -0.379565 -0.348171      1.000000"
            ]
          },
          "execution_count": 264,
          "metadata": {},
          "output_type": "execute_result"
        }
      ],
      "source": [
        "#Calculamos indices de correlacion\n",
        "df_ford[['price','years_when_published', 'odometer', 'condition_id']].corr()"
      ]
    },
    {
      "cell_type": "markdown",
      "metadata": {
        "id": "mh-RoySR3DJ5"
      },
      "source": [
        "- Trazamos diagramas de cajas para los colores con mas de 50 anuncios (de ford f-150)"
      ]
    },
    {
      "cell_type": "code",
      "execution_count": null,
      "metadata": {
        "id": "yV0LGB-e3DJ5",
        "outputId": "ff1286be-7275-4259-d36a-d1317b06a4ff"
      },
      "outputs": [
        {
          "data": {
            "text/html": [
              "<div>\n",
              "<style scoped>\n",
              "    .dataframe tbody tr th:only-of-type {\n",
              "        vertical-align: middle;\n",
              "    }\n",
              "\n",
              "    .dataframe tbody tr th {\n",
              "        vertical-align: top;\n",
              "    }\n",
              "\n",
              "    .dataframe thead th {\n",
              "        text-align: right;\n",
              "    }\n",
              "</style>\n",
              "<table border=\"1\" class=\"dataframe\">\n",
              "  <thead>\n",
              "    <tr style=\"text-align: right;\">\n",
              "      <th></th>\n",
              "      <th>paint_color</th>\n",
              "      <th>amount</th>\n",
              "    </tr>\n",
              "  </thead>\n",
              "  <tbody>\n",
              "    <tr>\n",
              "      <th>0</th>\n",
              "      <td>black</td>\n",
              "      <td>357</td>\n",
              "    </tr>\n",
              "    <tr>\n",
              "      <th>1</th>\n",
              "      <td>blue</td>\n",
              "      <td>190</td>\n",
              "    </tr>\n",
              "    <tr>\n",
              "      <th>2</th>\n",
              "      <td>brown</td>\n",
              "      <td>57</td>\n",
              "    </tr>\n",
              "    <tr>\n",
              "      <th>3</th>\n",
              "      <td>custom</td>\n",
              "      <td>52</td>\n",
              "    </tr>\n",
              "    <tr>\n",
              "      <th>4</th>\n",
              "      <td>green</td>\n",
              "      <td>73</td>\n",
              "    </tr>\n",
              "    <tr>\n",
              "      <th>5</th>\n",
              "      <td>grey</td>\n",
              "      <td>201</td>\n",
              "    </tr>\n",
              "    <tr>\n",
              "      <th>6</th>\n",
              "      <td>orange</td>\n",
              "      <td>1</td>\n",
              "    </tr>\n",
              "    <tr>\n",
              "      <th>7</th>\n",
              "      <td>purple</td>\n",
              "      <td>1</td>\n",
              "    </tr>\n",
              "    <tr>\n",
              "      <th>8</th>\n",
              "      <td>red</td>\n",
              "      <td>309</td>\n",
              "    </tr>\n",
              "    <tr>\n",
              "      <th>9</th>\n",
              "      <td>silver</td>\n",
              "      <td>197</td>\n",
              "    </tr>\n",
              "    <tr>\n",
              "      <th>10</th>\n",
              "      <td>unknown</td>\n",
              "      <td>446</td>\n",
              "    </tr>\n",
              "    <tr>\n",
              "      <th>11</th>\n",
              "      <td>white</td>\n",
              "      <td>685</td>\n",
              "    </tr>\n",
              "    <tr>\n",
              "      <th>12</th>\n",
              "      <td>yellow</td>\n",
              "      <td>4</td>\n",
              "    </tr>\n",
              "  </tbody>\n",
              "</table>\n",
              "</div>"
            ],
            "text/plain": [
              "   paint_color  amount\n",
              "0        black     357\n",
              "1         blue     190\n",
              "2        brown      57\n",
              "3       custom      52\n",
              "4        green      73\n",
              "5         grey     201\n",
              "6       orange       1\n",
              "7       purple       1\n",
              "8          red     309\n",
              "9       silver     197\n",
              "10     unknown     446\n",
              "11       white     685\n",
              "12      yellow       4"
            ]
          },
          "execution_count": 265,
          "metadata": {},
          "output_type": "execute_result"
        }
      ],
      "source": [
        "#Calculamos la cantidad de anuncios por color (para el modelo ford)\n",
        "\n",
        "aux_colors = df_ford.groupby('paint_color')['price'].count()\n",
        "aux_colors = aux_colors.reset_index()\n",
        "aux_colors.columns=['paint_color', 'amount']\n",
        "aux_colors\n"
      ]
    },
    {
      "cell_type": "code",
      "execution_count": null,
      "metadata": {
        "id": "aATkQD153DJ5",
        "outputId": "869bfccf-d2af-4b6b-ffd4-04c4f65c17b0"
      },
      "outputs": [
        {
          "data": {
            "text/plain": [
              "array(['black', 'blue', 'brown', 'custom', 'green', 'grey', 'red',\n",
              "       'silver', 'unknown', 'white'], dtype=object)"
            ]
          },
          "execution_count": 266,
          "metadata": {},
          "output_type": "execute_result"
        }
      ],
      "source": [
        "#buscamos los colores con mas de 50 anuncios\n",
        "color_list = aux_colors.query('amount > 50')['paint_color'].unique()\n",
        "color_list"
      ]
    },
    {
      "cell_type": "code",
      "execution_count": null,
      "metadata": {
        "id": "XcYDdA-33DJ5",
        "outputId": "2f6bc189-f759-4b1f-c98b-a4c7a08fe823"
      },
      "outputs": [
        {
          "data": {
            "text/plain": [
              "<AxesSubplot:title={'center':'price'}, xlabel='paint_color'>"
            ]
          },
          "execution_count": 267,
          "metadata": {},
          "output_type": "execute_result"
        },
        {
          "data": {
            "image/png": "[encoded data removed]",
            "text/plain": [
              "<Figure size 864x432 with 1 Axes>"
            ]
          },
          "metadata": {
            "needs_background": "light"
          },
          "output_type": "display_data"
        }
      ],
      "source": [
        "#Diagrama de caja para la lista de colores (que contienen mas de 50 anuncios)\n",
        "df_ford.query('paint_color in @color_list').boxplot(column = 'price', by = 'paint_color', figsize = (12, 6))\n",
        "\n",
        "\n",
        "\n"
      ]
    },
    {
      "cell_type": "markdown",
      "metadata": {
        "id": "rO3uxDX53DJ5"
      },
      "source": [
        "- Se observan valores atipico, por lo que procedemos a calcular el rango de valores normales"
      ]
    },
    {
      "cell_type": "code",
      "execution_count": null,
      "metadata": {
        "id": "b__pPrXj3DJ6",
        "outputId": "204c7977-d769-46cd-f513-0976147e1626"
      },
      "outputs": [
        {
          "name": "stdout",
          "output_type": "stream",
          "text": [
            "Limite inferior Ford custom color 7025.0\n",
            "Limite superior Ford custom color 14825.0\n"
          ]
        }
      ],
      "source": [
        "#Calculando rango de valores normales para color custom y green\n",
        "\n",
        "df_custom = df_ford.query('paint_color == \"custom\"')\n",
        "Q2_custom = df_custom['price'].median()\n",
        "Q1_custom = df_custom[df_custom['price']<=Q2_custom]['price'].median()\n",
        "Q3_custom = df_custom[df_custom['price']>=Q2_custom]['price'].median()\n",
        "IQR_custom = Q3_custom-Q1_custom\n",
        "\n",
        "print('Limite inferior Ford custom color', max(0,Q1_custom-1.5*IQR_custom))\n",
        "print('Limite superior Ford custom color',Q3_custom+1.5*IQR_custom)"
      ]
    },
    {
      "cell_type": "code",
      "execution_count": null,
      "metadata": {
        "id": "txobhTDH3DJ6",
        "outputId": "97127d79-e48f-4574-f9a5-f507e206356d"
      },
      "outputs": [
        {
          "name": "stdout",
          "output_type": "stream",
          "text": [
            "Limite inferior Ford green color 0\n",
            "Limite superior Ford green color 25047.5\n"
          ]
        }
      ],
      "source": [
        "#Calculando rango de valores normales para color  green\n",
        "\n",
        "df_green = df_ford.query('paint_color == \"green\"')\n",
        "Q2_green = df_green['price'].median()\n",
        "Q1_green = df_green[df_green['price']<=Q2_green]['price'].median()\n",
        "Q3_green = df_green[df_green['price']>=Q2_green]['price'].median()\n",
        "IQR_green = Q3_green-Q1_green\n",
        "\n",
        "print('Limite inferior Ford green color', max(0,Q1_green-1.5*IQR_green))\n",
        "print('Limite superior Ford green color',Q3_green+1.5*IQR_green)"
      ]
    },
    {
      "cell_type": "code",
      "execution_count": null,
      "metadata": {
        "id": "JTxzDwBx3DJ6",
        "outputId": "9ffc0c39-8364-4b7d-8b5d-37cba1045f31"
      },
      "outputs": [
        {
          "data": {
            "text/plain": [
              "<AxesSubplot:title={'center':'price'}, xlabel='paint_color'>"
            ]
          },
          "execution_count": 270,
          "metadata": {},
          "output_type": "execute_result"
        },
        {
          "data": {
            "image/png": "[encoded data removed]",
            "text/plain": [
              "<Figure size 864x432 with 1 Axes>"
            ]
          },
          "metadata": {
            "needs_background": "light"
          },
          "output_type": "display_data"
        }
      ],
      "source": [
        "#Filtramos los valores atipico y trazamos nuevamente diagramas de cajas\n",
        "df_aux_custom = df_ford.loc[~((df_ford['paint_color']=='custom')&(df_ford['price']>= Q3_custom+1.5*IQR_custom))]\n",
        "df_aux_green =  df_aux_custom.loc[~((df_aux_custom['paint_color']=='green')&(df_aux_custom['price']>= Q3_green+1.5*IQR_green))]\n",
        "\n",
        "df_aux_green.query('paint_color in @color_list').boxplot(column = 'price', by = 'paint_color', figsize = (12, 6))\n",
        "\n",
        "\n"
      ]
    },
    {
      "cell_type": "markdown",
      "metadata": {
        "id": "nrJGxCej3DJ6"
      },
      "source": [
        "-Trazamos diagamas de caja para el tipo de trasmision con mas de 50 anuncios(el modelo FOrd f -150)"
      ]
    },
    {
      "cell_type": "code",
      "execution_count": null,
      "metadata": {
        "id": "upGHDjEb3DJ6",
        "outputId": "d015d504-fd68-43d3-9fab-d142c551def2"
      },
      "outputs": [
        {
          "data": {
            "text/plain": [
              "is_4wd\n",
              "False     666\n",
              "True     1907\n",
              "Name: price, dtype: int64"
            ]
          },
          "execution_count": 271,
          "metadata": {},
          "output_type": "execute_result"
        }
      ],
      "source": [
        "#comprobamos que las categorias de transmision tengan mas de 50 anuncion\n",
        "aux_4wd = df_ford.groupby('is_4wd')['price'].count()\n",
        "aux_4wd"
      ]
    },
    {
      "cell_type": "code",
      "execution_count": null,
      "metadata": {
        "scrolled": false,
        "id": "f_ZrYRh93DJ6",
        "outputId": "8c34c824-e120-4272-ca34-bd28020de63e"
      },
      "outputs": [
        {
          "data": {
            "text/plain": [
              "<AxesSubplot:title={'center':'price'}, xlabel='is_4wd'>"
            ]
          },
          "execution_count": 272,
          "metadata": {},
          "output_type": "execute_result"
        },
        {
          "data": {
            "image/png": "[encoded data removed]",
            "text/plain": [
              "<Figure size 864x432 with 1 Axes>"
            ]
          },
          "metadata": {
            "needs_background": "light"
          },
          "output_type": "display_data"
        }
      ],
      "source": [
        "df_ford.boxplot(column = 'price', by = 'is_4wd', figsize = (12, 6))"
      ]
    },
    {
      "cell_type": "code",
      "execution_count": null,
      "metadata": {
        "id": "j7zuirEu3DJ6",
        "outputId": "46925395-6829-48ae-bd4d-6b357a1f45f4"
      },
      "outputs": [
        {
          "name": "stdout",
          "output_type": "stream",
          "text": [
            "Limite inferior Ford is4wd False 0\n",
            "Limite superior Ford is4wd False 24500.0\n"
          ]
        }
      ],
      "source": [
        "## calculamos rango de valores normales para tipo de transmision del modelo FOrd = False\n",
        "\n",
        "\n",
        "df_is4wd = df_ford.query('is_4wd == False')\n",
        "Q2_is4wd = df_is4wd['price'].median()\n",
        "Q1_is4wd = df_is4wd[df_is4wd['price']<=Q2_is4wd]['price'].median()\n",
        "Q3_is4wd = df_is4wd[df_is4wd['price']>=Q2_is4wd]['price'].median()\n",
        "IQR_is4wd = Q3_is4wd-Q1_is4wd\n",
        "\n",
        "print('Limite inferior Ford is4wd False', max(0,Q1_is4wd-1.5*IQR_is4wd))\n",
        "print('Limite superior Ford is4wd False',Q3_is4wd+1.5*IQR_is4wd)\n",
        "\n"
      ]
    },
    {
      "cell_type": "code",
      "execution_count": null,
      "metadata": {
        "id": "XGhLlxp13DJ6",
        "outputId": "daf41b78-0698-4cb7-cca0-231fc64fb06b"
      },
      "outputs": [
        {
          "data": {
            "text/plain": [
              "<AxesSubplot:title={'center':'price'}, xlabel='is_4wd'>"
            ]
          },
          "execution_count": 274,
          "metadata": {},
          "output_type": "execute_result"
        },
        {
          "data": {
            "image/png": "[encoded data removed]",
            "text/plain": [
              "<Figure size 864x432 with 1 Axes>"
            ]
          },
          "metadata": {
            "needs_background": "light"
          },
          "output_type": "display_data"
        }
      ],
      "source": [
        "## filtrando valores atipicos\n",
        "\n",
        "df_aux_true = df_ford.loc[~((df_ford['is_4wd']== False)&(df_ford['price']>= Q3_is4wd+1.5*IQR_is4wd))]\n",
        "\n",
        "df_aux_true.boxplot(column = 'price', by = 'is_4wd', figsize = (12, 6))\n",
        "\n",
        "\n",
        "\n"
      ]
    },
    {
      "cell_type": "markdown",
      "metadata": {
        "id": "8dx89dQh3DJ7"
      },
      "source": [
        "- El grafico de cajas sin valores atipico permite concluir que aquellos vehiculos de la marca ford con transmision 4wd tienen una media de precio superior a la de aquellos que no la tienen"
      ]
    },
    {
      "cell_type": "markdown",
      "metadata": {
        "id": "2yUGXq7Y3DJ7"
      },
      "source": [
        "- Analizamos las variables para Chevrolet"
      ]
    },
    {
      "cell_type": "code",
      "execution_count": null,
      "metadata": {
        "id": "MYyYzCL03DJ7",
        "outputId": "d01ebf6e-41cd-41a2-e5ce-55e7d6098f78"
      },
      "outputs": [
        {
          "data": {
            "image/png": "[encoded data removed]",
            "text/plain": [
              "<Figure size 432x288 with 1 Axes>"
            ]
          },
          "metadata": {
            "needs_background": "light"
          },
          "output_type": "display_data"
        },
        {
          "data": {
            "image/png": "[encoded data removed]",
            "text/plain": [
              "<Figure size 432x288 with 1 Axes>"
            ]
          },
          "metadata": {
            "needs_background": "light"
          },
          "output_type": "display_data"
        },
        {
          "data": {
            "image/png": "[encoded data removed]",
            "text/plain": [
              "<Figure size 432x288 with 1 Axes>"
            ]
          },
          "metadata": {
            "needs_background": "light"
          },
          "output_type": "display_data"
        }
      ],
      "source": [
        "#Graficamos dispersion para modelo ford para las variables no categoricas utilizando el df sin valores atipicos (df_filtered)\n",
        "\n",
        "\n",
        "df_chev = df_filtered[df_filtered['model']==\"chevrolet silverado 1500\"]\n",
        "list_chev_stats = ['years_when_published', 'odometer', 'condition_id']\n",
        "for i in list_chev_stats:\n",
        "    df_chev.plot(x = 'price', y = i , kind = 'scatter', title = 'chevrolet silverado 1500\"')"
      ]
    },
    {
      "cell_type": "markdown",
      "source": [
        "Se observa una correlacion negativa entre el precio y el milllaje y la antiguedad"
      ],
      "metadata": {
        "id": "M7NMeLOU4Adw"
      }
    },
    {
      "cell_type": "code",
      "execution_count": null,
      "metadata": {
        "id": "N-Nc4FPn3DJ7",
        "outputId": "60a13611-da54-40e0-fd1a-745f3846e352"
      },
      "outputs": [
        {
          "data": {
            "text/html": [
              "<div>\n",
              "<style scoped>\n",
              "    .dataframe tbody tr th:only-of-type {\n",
              "        vertical-align: middle;\n",
              "    }\n",
              "\n",
              "    .dataframe tbody tr th {\n",
              "        vertical-align: top;\n",
              "    }\n",
              "\n",
              "    .dataframe thead th {\n",
              "        text-align: right;\n",
              "    }\n",
              "</style>\n",
              "<table border=\"1\" class=\"dataframe\">\n",
              "  <thead>\n",
              "    <tr style=\"text-align: right;\">\n",
              "      <th></th>\n",
              "      <th>price</th>\n",
              "      <th>years_when_published</th>\n",
              "      <th>odometer</th>\n",
              "      <th>condition_id</th>\n",
              "    </tr>\n",
              "  </thead>\n",
              "  <tbody>\n",
              "    <tr>\n",
              "      <th>price</th>\n",
              "      <td>1.000000</td>\n",
              "      <td>-0.750609</td>\n",
              "      <td>-0.629762</td>\n",
              "      <td>0.323451</td>\n",
              "    </tr>\n",
              "    <tr>\n",
              "      <th>years_when_published</th>\n",
              "      <td>-0.750609</td>\n",
              "      <td>1.000000</td>\n",
              "      <td>0.546899</td>\n",
              "      <td>-0.279242</td>\n",
              "    </tr>\n",
              "    <tr>\n",
              "      <th>odometer</th>\n",
              "      <td>-0.629762</td>\n",
              "      <td>0.546899</td>\n",
              "      <td>1.000000</td>\n",
              "      <td>-0.323690</td>\n",
              "    </tr>\n",
              "    <tr>\n",
              "      <th>condition_id</th>\n",
              "      <td>0.323451</td>\n",
              "      <td>-0.279242</td>\n",
              "      <td>-0.323690</td>\n",
              "      <td>1.000000</td>\n",
              "    </tr>\n",
              "  </tbody>\n",
              "</table>\n",
              "</div>"
            ],
            "text/plain": [
              "                         price  years_when_published  odometer  condition_id\n",
              "price                 1.000000             -0.750609 -0.629762      0.323451\n",
              "years_when_published -0.750609              1.000000  0.546899     -0.279242\n",
              "odometer             -0.629762              0.546899  1.000000     -0.323690\n",
              "condition_id          0.323451             -0.279242 -0.323690      1.000000"
            ]
          },
          "execution_count": 276,
          "metadata": {},
          "output_type": "execute_result"
        }
      ],
      "source": [
        "#Calculamos indices de correlacion\n",
        "df_chev[['price','years_when_published', 'odometer', 'condition_id']].corr()"
      ]
    },
    {
      "cell_type": "code",
      "execution_count": null,
      "metadata": {
        "id": "fgLT8BsY3DJ7",
        "outputId": "695e9c3f-3eab-4bf8-fbb8-cf73fc0a6f73"
      },
      "outputs": [
        {
          "data": {
            "text/html": [
              "<div>\n",
              "<style scoped>\n",
              "    .dataframe tbody tr th:only-of-type {\n",
              "        vertical-align: middle;\n",
              "    }\n",
              "\n",
              "    .dataframe tbody tr th {\n",
              "        vertical-align: top;\n",
              "    }\n",
              "\n",
              "    .dataframe thead th {\n",
              "        text-align: right;\n",
              "    }\n",
              "</style>\n",
              "<table border=\"1\" class=\"dataframe\">\n",
              "  <thead>\n",
              "    <tr style=\"text-align: right;\">\n",
              "      <th></th>\n",
              "      <th>paint_color</th>\n",
              "      <th>amount</th>\n",
              "    </tr>\n",
              "  </thead>\n",
              "  <tbody>\n",
              "    <tr>\n",
              "      <th>0</th>\n",
              "      <td>black</td>\n",
              "      <td>292</td>\n",
              "    </tr>\n",
              "    <tr>\n",
              "      <th>1</th>\n",
              "      <td>blue</td>\n",
              "      <td>170</td>\n",
              "    </tr>\n",
              "    <tr>\n",
              "      <th>2</th>\n",
              "      <td>brown</td>\n",
              "      <td>36</td>\n",
              "    </tr>\n",
              "    <tr>\n",
              "      <th>3</th>\n",
              "      <td>custom</td>\n",
              "      <td>51</td>\n",
              "    </tr>\n",
              "    <tr>\n",
              "      <th>4</th>\n",
              "      <td>green</td>\n",
              "      <td>36</td>\n",
              "    </tr>\n",
              "    <tr>\n",
              "      <th>5</th>\n",
              "      <td>grey</td>\n",
              "      <td>185</td>\n",
              "    </tr>\n",
              "    <tr>\n",
              "      <th>6</th>\n",
              "      <td>orange</td>\n",
              "      <td>2</td>\n",
              "    </tr>\n",
              "    <tr>\n",
              "      <th>7</th>\n",
              "      <td>purple</td>\n",
              "      <td>2</td>\n",
              "    </tr>\n",
              "    <tr>\n",
              "      <th>8</th>\n",
              "      <td>red</td>\n",
              "      <td>195</td>\n",
              "    </tr>\n",
              "    <tr>\n",
              "      <th>9</th>\n",
              "      <td>silver</td>\n",
              "      <td>193</td>\n",
              "    </tr>\n",
              "    <tr>\n",
              "      <th>10</th>\n",
              "      <td>unknown</td>\n",
              "      <td>363</td>\n",
              "    </tr>\n",
              "    <tr>\n",
              "      <th>11</th>\n",
              "      <td>white</td>\n",
              "      <td>499</td>\n",
              "    </tr>\n",
              "    <tr>\n",
              "      <th>12</th>\n",
              "      <td>yellow</td>\n",
              "      <td>4</td>\n",
              "    </tr>\n",
              "  </tbody>\n",
              "</table>\n",
              "</div>"
            ],
            "text/plain": [
              "   paint_color  amount\n",
              "0        black     292\n",
              "1         blue     170\n",
              "2        brown      36\n",
              "3       custom      51\n",
              "4        green      36\n",
              "5         grey     185\n",
              "6       orange       2\n",
              "7       purple       2\n",
              "8          red     195\n",
              "9       silver     193\n",
              "10     unknown     363\n",
              "11       white     499\n",
              "12      yellow       4"
            ]
          },
          "execution_count": 277,
          "metadata": {},
          "output_type": "execute_result"
        }
      ],
      "source": [
        "## Calculamos la cantidad de anuncios por tipo de color para chevrolet\n",
        "\n",
        "aux_chev_color = df_chev.groupby('paint_color')['price'].count()\n",
        "aux_chev_color = aux_chev_color.reset_index()\n",
        "aux_chev_color.columns=['paint_color', 'amount']\n",
        "aux_chev_color"
      ]
    },
    {
      "cell_type": "code",
      "execution_count": null,
      "metadata": {
        "id": "Y698En-B3DJ7",
        "outputId": "bea66fc1-cd14-46d1-f157-d161acd6fc66"
      },
      "outputs": [
        {
          "data": {
            "text/plain": [
              "array(['black', 'blue', 'custom', 'grey', 'red', 'silver', 'unknown',\n",
              "       'white'], dtype=object)"
            ]
          },
          "execution_count": 278,
          "metadata": {},
          "output_type": "execute_result"
        }
      ],
      "source": [
        "color_chev_list = aux_chev_color.query('amount > 50')['paint_color'].unique()\n",
        "color_chev_list"
      ]
    },
    {
      "cell_type": "code",
      "execution_count": null,
      "metadata": {
        "id": "y1mqfjpN3DJ7",
        "outputId": "f467e75a-209a-47c2-fc8b-c482d3974e30"
      },
      "outputs": [
        {
          "data": {
            "text/plain": [
              "<AxesSubplot:title={'center':'price'}, xlabel='paint_color'>"
            ]
          },
          "execution_count": 279,
          "metadata": {},
          "output_type": "execute_result"
        },
        {
          "data": {
            "image/png": "[encoded data removed]",
            "text/plain": [
              "<Figure size 864x432 with 1 Axes>"
            ]
          },
          "metadata": {
            "needs_background": "light"
          },
          "output_type": "display_data"
        }
      ],
      "source": [
        "df_chev.query('paint_color in @color_chev_list').boxplot(column = 'price', by = 'paint_color', figsize = (12, 6))\n",
        "\n"
      ]
    },
    {
      "cell_type": "raw",
      "metadata": {
        "id": "0hRIVqno3DJ7"
      },
      "source": [
        "- El color grey cuenta con una gran cantidad de valores atipico. Calculamos el rango de valores normales para luego volver a graficar sin valores atipicos"
      ]
    },
    {
      "cell_type": "code",
      "execution_count": null,
      "metadata": {
        "id": "OJsLuhtL3DJ7",
        "outputId": "e477d7dd-2c2b-41af-828b-bdcb2e092d24"
      },
      "outputs": [
        {
          "name": "stdout",
          "output_type": "stream",
          "text": [
            "Limite inferior Ford grey color 382.5\n",
            "Limite superior Ford grey color 25362.5\n"
          ]
        }
      ],
      "source": [
        "#Calculamos limites de valores normales para el color grey\n",
        "\n",
        "df_grey = df_chev.query('paint_color == \"grey\"')\n",
        "Q2_grey = df_grey['price'].median()\n",
        "Q1_grey = df_grey[df_grey['price']<=Q2_grey]['price'].median()\n",
        "Q3_grey = df_grey[df_grey['price']>=Q2_grey]['price'].median()\n",
        "IQR_grey = Q3_grey-Q1_grey\n",
        "\n",
        "print('Limite inferior Ford grey color', max(0,Q1_grey-1.5*IQR_grey))\n",
        "print('Limite superior Ford grey color',Q3_grey+1.5*IQR_grey)"
      ]
    },
    {
      "cell_type": "code",
      "execution_count": null,
      "metadata": {
        "id": "1t7puIEv3DJ8",
        "outputId": "d3703817-7809-457c-f7a0-4b5ef15a12bc"
      },
      "outputs": [
        {
          "data": {
            "text/plain": [
              "<AxesSubplot:title={'center':'price'}, xlabel='paint_color'>"
            ]
          },
          "execution_count": 281,
          "metadata": {},
          "output_type": "execute_result"
        },
        {
          "data": {
            "image/png": "[encoded data removed]",
            "text/plain": [
              "<Figure size 864x432 with 1 Axes>"
            ]
          },
          "metadata": {
            "needs_background": "light"
          },
          "output_type": "display_data"
        }
      ],
      "source": [
        "#Trazamos diagramas de caja sin valores atipicos\n",
        "\n",
        "df_aux_grey = df_chev.loc[~((df_chev['paint_color']== \"grey\")&(df_chev['price']>= Q3_grey+1.5*IQR_grey))]\n",
        "df_aux_grey.query('paint_color in @color_chev_list').boxplot(column = 'price', by = 'paint_color', figsize = (12, 6))\n",
        "\n",
        "\n"
      ]
    },
    {
      "cell_type": "markdown",
      "metadata": {
        "id": "Zz-ux9PL3DJ8"
      },
      "source": [
        "- Analizamos el precio por tipo de transmision para Chevrolet silverado"
      ]
    },
    {
      "cell_type": "code",
      "execution_count": null,
      "metadata": {
        "id": "eZkoor5e3DJ8",
        "outputId": "e6c16a17-7704-4dce-de7b-5955d24fef28"
      },
      "outputs": [
        {
          "data": {
            "text/plain": [
              "<AxesSubplot:title={'center':'price'}, xlabel='is_4wd'>"
            ]
          },
          "execution_count": 282,
          "metadata": {},
          "output_type": "execute_result"
        },
        {
          "data": {
            "image/png": "[encoded data removed]",
            "text/plain": [
              "<Figure size 864x432 with 1 Axes>"
            ]
          },
          "metadata": {
            "needs_background": "light"
          },
          "output_type": "display_data"
        }
      ],
      "source": [
        "df_chev.boxplot(column = 'price', by = 'is_4wd', figsize = (12, 6))"
      ]
    },
    {
      "cell_type": "code",
      "execution_count": null,
      "metadata": {
        "id": "roVHB7pr3DJ8",
        "outputId": "2162c97a-d7f3-4713-83d9-95fee4b52643"
      },
      "outputs": [
        {
          "name": "stdout",
          "output_type": "stream",
          "text": [
            "Limite inferior Ford is4wd_chev False 0\n",
            "Limite superior Ford is4wd_chev False 29751.5\n"
          ]
        }
      ],
      "source": [
        "##Calculamos limites rangos normalos para is_4wd False\n",
        "\n",
        "df_is4wd_chev = df_chev.query('is_4wd == False')\n",
        "Q2_is4wd_chev = df_is4wd_chev['price'].median()\n",
        "Q1_is4wd_chev = df_is4wd_chev[df_is4wd_chev['price']<=Q2_is4wd_chev]['price'].median()\n",
        "Q3_is4wd_chev = df_is4wd_chev[df_is4wd_chev['price']>=Q2_is4wd_chev]['price'].median()\n",
        "IQR_is4wd_chev = Q3_is4wd_chev-Q1_is4wd_chev\n",
        "\n",
        "print('Limite inferior Ford is4wd_chev False', max(0,Q1_is4wd_chev-1.5*IQR_is4wd_chev))\n",
        "print('Limite superior Ford is4wd_chev False',Q3_is4wd_chev+1.5*IQR_is4wd_chev)\n"
      ]
    },
    {
      "cell_type": "code",
      "execution_count": null,
      "metadata": {
        "id": "y87UuCj03DJ8",
        "outputId": "b13400d7-3f9c-405e-b26f-aa567bc1796d"
      },
      "outputs": [
        {
          "data": {
            "text/plain": [
              "<AxesSubplot:title={'center':'price'}, xlabel='is_4wd'>"
            ]
          },
          "execution_count": 284,
          "metadata": {},
          "output_type": "execute_result"
        },
        {
          "data": {
            "image/png": "[encoded data removed]",
            "text/plain": [
              "<Figure size 864x432 with 1 Axes>"
            ]
          },
          "metadata": {
            "needs_background": "light"
          },
          "output_type": "display_data"
        }
      ],
      "source": [
        "#dibujamos diagrama de caja para valores normales\n",
        "\n",
        "\n",
        "df_chev_false = df_chev.loc[~((df_chev['is_4wd']== False)&(df_chev['price']>= Q3_is4wd_chev+1.5*IQR_is4wd_chev))]\n",
        "df_chev_false.boxplot(column = 'price', by = 'is_4wd', figsize = (12, 6))\n",
        "\n",
        "\n"
      ]
    },
    {
      "cell_type": "markdown",
      "metadata": {
        "id": "qWwuHTsW3DJ8"
      },
      "source": [
        "- El modelo chevrolet silverado con transmision 4wd cuenta con un precio promedio superior a la version sin la misma "
      ]
    },
    {
      "cell_type": "markdown",
      "metadata": {
        "id": "kZI525G93DJ8"
      },
      "source": [
        "## Conclusión general\n",
        "\n"
      ]
    },
    {
      "cell_type": "markdown",
      "metadata": {
        "id": "B62QN8E83DJ8"
      },
      "source": []
    },
    {
      "cell_type": "markdown",
      "metadata": {
        "id": "FHo1QZwt3DJ8"
      },
      "source": [
        "-\tEl dataset original contaba con columnas cuyo tipo de dato no se correspondían a las variables contenidas en ellas. Se porcedio a corregir el tipo de datos de:\n",
        "o\tDate posted: del tipo string al tipo dayTIme\n",
        "o\tModel_year, cylinders y odometer: del tipo float al integer \n",
        "o\tIs_4wd: del tipo float al tipo boolean\n",
        "-\tEl dataset original contaba con valores ausentes en varias de sus columnas. Para el tratamiento de los mismo se procedió de la siguiente manera:\n",
        "o\tIs_4wd: se detectó que los valores ausentes correspondían a los valores “0” de la variable booleana por lo que se reemplazaron por dicho valor\n",
        "o\tPaint_color: los valores faltantes se reemplazaron por “unkown”\n",
        "o\tCylinders: se calculó el promedio de cilindrada por tipo de modelo para rellenar los valores ausentes de dicha variable\n",
        "o\tModel_year: se calculó el promedio de antigüedad por tipo de modelo para rellenar los valores ausentes de dicha variable\n",
        "o\tOdometer: se calculó el promedio de odometer por tipo condición del vehículo para rellenar los valores ausentes de dicha variable\n",
        "-\tAl dataset original se le agregaron algunas columnas adicionales que resultaban de utilidad para el análisis de los datos: dia de la semana, mes y año en que se publicó el anuncio (‘weekday_posted’,’month_posted’, ‘year_posted’), años que tenía el vehículo cuando se publico (‘years_when_posted’), promedio de millaje según el año, id para la condición del vehículo (‘condition_id’)\n",
        "-\tAnálisis de parámetros principales:\n",
        "o\tSe trazaron histogramas para cada uno de los parámetros principales: precio, años del vehículo cuando se publicó, millaje, cilindrada y estado\n",
        "o\tA partir de dichos histogramas se comprobó que las variables precio, años del vehículo cuando se publicó y millaje contaban con valores atípicos\n",
        "o\tSe calcularon los rangos de valores normales para las variables que presentaban valores atipicos y se almacenaron los datos SIN valores atipico en un nuevo dataframe: ‘df_filtered’\n",
        "o\tSe trazaron nuevos histogramas a partir de “df_filtered”, observándose que:\n",
        "\tEl rango de precio más frecuente es el que va entre los 5.000 y los 10.000\n",
        "\tEl millaje más común de los vehículos es el rango entre 100.000 y 150.000\n",
        "\tLa mayoría de los vehículos tienen un estado ‘excelente’ y en segundo lugar un estado ‘bueno’\n",
        "\tLa gran mayoría de los autos tienen una antigüedad menor a 12 años\n",
        "\tCilindros: se distribuyen de manera pareja entre 4, 6 y 8 cilindros\n",
        "o\tPeríodo de colocación de los anuncios: Al trazar histograma de este parámetro, se observan valores atípicos. Se calculan entonces los rangos normales y contemplando los mismo se vuelve a trazar histogramas, concluyéndose que:\n",
        "\tEl período de colocación habitual es de 26,5 días\n",
        "\tLos anuncios que se publicaron por un tiempo anormalmente largo son aquellos que duraron más de 54 días son pero y los que se eliminaron muy rápido lo hicieron en el mismo día de publicados\n",
        "\tLa cantidad de días de publicación habitualmente se distribuyen entre los 0 y 54 días con un pico de frecuencia cercano a los 20 días de duración \n",
        "o\tPrecio promedio para cada tipo de modelo de vehículo: se traza un gráfico de correlación entre dichos parámetros. Se determina los dos modelos con mayor cantidad de anuncios: Ford f-150 y Chevrolet silverado 1500\n",
        "\n",
        "o\tFactores de precio: se toman el caso de los dos tipos de modelo más populares mencionados en el punto anterior y se estudia la correlación del precio con distintas variables: millaje, antigüedad y condición utilizando gráficos  de correlación y matriz de correlación. A su vez se analizan las variables categóricas color de pintura y tipo de transmisión mediante diagramas de cajas (tomando solo aquellos que contienen más de 50 anuncios)\n",
        "\n",
        "o\tCaso Ford:\n",
        "\tSe detecta una correlación inversa relativamente fuerte entre el precio y la antigüedad (-0,67) y un poco menos fuerte entre el precio y el millaje (-0,48).\n",
        "\tLa correlación entre el estado y el precio es positiva y bastante más leve que las anteriores (+o,35)\n",
        "\tAL analizar la variable categórica de color y tipo de transmisión, se detectan valores atípico en los colores custom y verde y en los vehículos sin 4wd. Se procede a eliminar los mismos y volver a trazar diagramas de cajas. Se concluye que:\n",
        "•\tEl color que cuenta con una mediana de precio mayor es el negro y el que se vende mas barato es el verde\n",
        "•\tEl grafico de cajas sin valores atípico permite concluir que aquellos vehículos de la marca ford con transmisión 4wd tienen una mediana de precio superior a la de aquellos que no la tienen (casi el doble )\n",
        "\n",
        "o\tCaso Chevrolet:\n",
        "\tSe detecta una correlación inversa fuerte entre el precio y la antigüedad (-0,75) y entre el precio y el millaje (-0,63). En ambos casos la correlación de variables es más fuerte que para el modelo Ford\n",
        "\tLa correlación entre el estado y el precio es positiva y bastante más leve que las anteriores y parecida a la del modelo Ford (+0,32)\n",
        "\tAL analizar la variable categórica de color y tipo de transmisión, se detectan valores atípico en el color gris y en los vehículos sin 4wd. Se procede a eliminar los mismos y volver a trazar diagramas de cajas. Se concluye que:\n",
        "•\tEl igual que en el modelo Ford, el color negro es el que cuenta con una mediana de precio mayor. El color customizado por su parte es el que tiene una mediana de precio menor para este modelo\n",
        "•\tLA versión de Chevrolet silverado con 4wd tiene un precio medio cerca de un 50% superior a la versión sin \n"
      ]
    },
    {
      "cell_type": "code",
      "source": [],
      "metadata": {
        "id": "Defq7kqT3QB8"
      },
      "execution_count": null,
      "outputs": []
    },
    {
      "cell_type": "code",
      "execution_count": null,
      "metadata": {
        "id": "QizcgHSO3DJ9"
      },
      "outputs": [],
      "source": []
    }
  ],
  "metadata": {
    "ExecuteTimeLog": [
      {
        "duration": 828,
        "start_time": "2021-11-16T09:21:11.304Z"
      },
      {
        "duration": 893,
        "start_time": "2021-11-16T09:21:17.728Z"
      },
      {
        "duration": 1150,
        "start_time": "2021-11-16T09:21:29.568Z"
      },
      {
        "duration": 3,
        "start_time": "2021-11-16T09:24:14.495Z"
      },
      {
        "duration": 120,
        "start_time": "2021-11-16T09:24:46.630Z"
      },
      {
        "duration": 3,
        "start_time": "2021-11-16T09:28:27.882Z"
      },
      {
        "duration": 4,
        "start_time": "2021-11-16T09:29:54.281Z"
      },
      {
        "duration": 3,
        "start_time": "2021-11-16T09:30:45.936Z"
      },
      {
        "duration": 4,
        "start_time": "2021-11-16T09:31:06.300Z"
      },
      {
        "duration": 113,
        "start_time": "2021-11-16T09:31:37.208Z"
      },
      {
        "duration": 143,
        "start_time": "2021-11-16T09:31:48.656Z"
      },
      {
        "duration": 98,
        "start_time": "2021-11-16T09:31:55.678Z"
      },
      {
        "duration": 3,
        "start_time": "2021-11-16T09:32:08.535Z"
      },
      {
        "duration": 111,
        "start_time": "2021-11-16T09:32:10.120Z"
      },
      {
        "duration": 3,
        "start_time": "2021-11-16T09:32:15.732Z"
      },
      {
        "duration": 4,
        "start_time": "2021-11-16T09:32:29.423Z"
      },
      {
        "duration": 3,
        "start_time": "2021-11-16T10:03:03.074Z"
      },
      {
        "duration": 3,
        "start_time": "2021-11-16T10:10:01.288Z"
      },
      {
        "duration": 3,
        "start_time": "2021-11-16T10:10:46.923Z"
      },
      {
        "duration": 121,
        "start_time": "2021-11-16T10:37:46.494Z"
      },
      {
        "duration": 125,
        "start_time": "2021-11-16T10:38:20.632Z"
      },
      {
        "duration": 112,
        "start_time": "2021-11-16T10:46:53.001Z"
      },
      {
        "duration": 110,
        "start_time": "2021-11-16T10:48:25.775Z"
      },
      {
        "duration": 3,
        "start_time": "2021-11-16T10:50:18.720Z"
      },
      {
        "duration": 4,
        "start_time": "2021-11-16T10:50:37.649Z"
      },
      {
        "duration": 2,
        "start_time": "2021-11-16T10:50:51.884Z"
      },
      {
        "duration": 3,
        "start_time": "2021-11-16T10:51:56.237Z"
      },
      {
        "duration": 101,
        "start_time": "2021-11-16T10:53:13.791Z"
      },
      {
        "duration": 3,
        "start_time": "2021-11-16T10:55:59.186Z"
      },
      {
        "duration": 3,
        "start_time": "2021-11-16T10:56:10.751Z"
      },
      {
        "duration": 3,
        "start_time": "2021-11-16T10:56:49.038Z"
      },
      {
        "duration": 3,
        "start_time": "2021-11-16T10:56:49.174Z"
      },
      {
        "duration": 4,
        "start_time": "2021-11-16T10:56:49.414Z"
      },
      {
        "duration": 3,
        "start_time": "2021-11-16T10:56:49.680Z"
      },
      {
        "duration": 3,
        "start_time": "2021-11-16T10:56:50.370Z"
      },
      {
        "duration": 114,
        "start_time": "2021-11-16T10:59:34.518Z"
      },
      {
        "duration": 3,
        "start_time": "2021-11-16T11:01:41.201Z"
      },
      {
        "duration": 116,
        "start_time": "2021-11-16T11:01:48.754Z"
      },
      {
        "duration": 3,
        "start_time": "2021-11-16T11:02:16.685Z"
      },
      {
        "duration": 3,
        "start_time": "2021-11-16T11:02:19.479Z"
      },
      {
        "duration": 3,
        "start_time": "2021-11-16T11:02:47.067Z"
      },
      {
        "duration": 3,
        "start_time": "2021-11-16T11:02:49.353Z"
      },
      {
        "duration": 3,
        "start_time": "2021-11-16T11:03:07.835Z"
      },
      {
        "duration": 3,
        "start_time": "2021-11-16T11:03:07.953Z"
      },
      {
        "duration": 112,
        "start_time": "2021-11-16T11:07:52.072Z"
      },
      {
        "duration": 187,
        "start_time": "2021-11-16T11:09:23.468Z"
      },
      {
        "duration": 4,
        "start_time": "2021-11-16T11:10:01.455Z"
      },
      {
        "duration": 3,
        "start_time": "2021-11-16T11:10:05.069Z"
      },
      {
        "duration": 4,
        "start_time": "2021-11-16T11:10:13.376Z"
      },
      {
        "duration": 3,
        "start_time": "2021-11-16T11:10:14.434Z"
      },
      {
        "duration": 3,
        "start_time": "2021-11-16T11:10:22.853Z"
      },
      {
        "duration": 4,
        "start_time": "2021-11-16T11:27:29.279Z"
      },
      {
        "duration": 4,
        "start_time": "2021-11-16T11:29:08.919Z"
      },
      {
        "duration": 118,
        "start_time": "2021-11-16T11:29:46.703Z"
      },
      {
        "duration": 437,
        "start_time": "2021-11-16T11:36:02.181Z"
      },
      {
        "duration": 157,
        "start_time": "2021-11-16T11:36:14.388Z"
      },
      {
        "duration": 207,
        "start_time": "2021-11-16T11:47:15.898Z"
      },
      {
        "duration": 3,
        "start_time": "2021-11-16T11:53:52.092Z"
      },
      {
        "duration": 3,
        "start_time": "2021-11-16T11:53:52.236Z"
      },
      {
        "duration": 3,
        "start_time": "2021-11-16T11:59:12.005Z"
      },
      {
        "duration": 112,
        "start_time": "2021-11-16T12:00:33.446Z"
      },
      {
        "duration": 3,
        "start_time": "2021-11-16T12:02:14.453Z"
      },
      {
        "duration": 3,
        "start_time": "2021-11-16T12:02:39.512Z"
      },
      {
        "duration": 106,
        "start_time": "2021-11-16T12:03:03.460Z"
      }
    ],
    "kernelspec": {
      "display_name": "Python 3 (ipykernel)",
      "language": "python",
      "name": "python3"
    },
    "language_info": {
      "codemirror_mode": {
        "name": "ipython",
        "version": 3
      },
      "file_extension": ".py",
      "mimetype": "text/x-python",
      "name": "python",
      "nbconvert_exporter": "python",
      "pygments_lexer": "ipython3",
      "version": "3.9.5"
    },
    "toc": {
      "base_numbering": 1,
      "nav_menu": {},
      "number_sections": true,
      "sideBar": true,
      "skip_h1_title": false,
      "title_cell": "Table of Contents",
      "title_sidebar": "Contents",
      "toc_cell": false,
      "toc_position": {
        "height": "calc(100% - 180px)",
        "left": "10px",
        "top": "150px",
        "width": "232.246px"
      },
      "toc_section_display": true,
      "toc_window_display": true
    },
    "colab": {
      "provenance": []
    }
  },
  "nbformat": 4,
  "nbformat_minor": 0
}
