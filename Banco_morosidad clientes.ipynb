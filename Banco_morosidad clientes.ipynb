{
  "cells": [
    {
      "cell_type": "markdown",
      "metadata": {
        "colab_type": "text",
        "id": "view-in-github"
      },
      "source": [
        "<a href=\"https://colab.research.google.com/github/belentorassa/Practicum-/blob/main/Proyecto_sprint2_.ipynb\" target=\"_parent\"><img src=\"https://colab.research.google.com/assets/colab-badge.svg\" alt=\"Open In Colab\"/></a>"
      ]
    },
    {
      "cell_type": "markdown",
      "metadata": {
        "id": "BYT4LoyfcUx_"
      },
      "source": [
        "# Análisis del riesgo de incumplimiento de los prestatarios\n",
        "\n",
        "El obejtivo es preparar un informe para la división de préstamos de un banco para el cual se averiguará si el estado civil y el número de hijos de un cliente tienen un impacto en el incumplimiento de pago de un préstamo. El banco ya tiene algunos datos sobre la solvencia crediticia de los clientes.\n",
        "\n",
        "Se tendrá en cuenta al crear una **puntuación de crédito** para un cliente potencial. La **puntuación de crédito** se utiliza para evaluar la capacidad de un prestatario potencial para pagar su préstamo.\n",
        "\n"
      ]
    },
    {
      "cell_type": "markdown",
      "metadata": {
        "id": "m7M-VlKDcUyA"
      },
      "source": [
        "Para llevar adelante el proyecto, comenzaremos por analizar los datos. Evaluar datos faltantes, repetidos, y formatos.\n"
      ]
    },
    {
      "cell_type": "markdown",
      "metadata": {
        "id": "CXhFenMCcUyA"
      },
      "source": [
        "# Introducción\n",
        "\n",
        "En base a los datos de solvencia crediticia proporcionados por el banco, se buscará establecer que caracteristicas de los clientes se realcionan con el cumplimiento de pago de los creditos tomados.\n",
        "El informe resultante de este estudio se tendrá en cuenta al crear una puntuación de crédito para un cliente potencial. La puntuación de crédito se utiliza para evaluar la capacidad de un prestatario potencial para pagar su préstamo.\n",
        "\n",
        "# Etapas:\n",
        "\n",
        "1) Comenzaremos por evaluar dos datos proporcionados: existencia de datos faltantes o repetidos, coherencia de formatos etc.\n",
        "\n",
        "2) Luego procesaremos los datos para solucionar los posible inconvenientes detectados \n",
        "\n",
        "3) Posteriormente se buscará aceptar o rechazar las siguietnes hipotesis:\n",
        "\n",
        "    - El estado civil de un cliente tienen un impacto en el incumplimiento de pago de un préstamo\n",
        "    \n",
        "    - La cantidad de hijos de un cliente tienen un impacto en el incumplimiento de pago de un préstamo\n",
        "    \n",
        "    - El nivel de ingresos de un cliente tienen un impacto en el incumplimiento de pago de un préstamo\n",
        "    \n",
        "    - El proposito de un cliente tienen un impacto en el incumplimiento de pago de un préstamo\n",
        "    \n",
        "4) Finalmente se resumirán las conslusiones a modo de informe"
      ]
    },
    {
      "cell_type": "markdown",
      "metadata": {
        "id": "-k-T-x6bcUyB"
      },
      "source": [
        "## Abre el archivo de datos y mira la información general. \n",
        "\n",
        "Comenzamos con la importación de las librerías y la carga de los datos."
      ]
    },
    {
      "cell_type": "code",
      "execution_count": null,
      "metadata": {
        "id": "_ZhdDKLgcUyB"
      },
      "outputs": [],
      "source": [
        "# Cargar todas las librerías\n",
        "import numpy as np\n",
        "import pandas as pd\n",
        "\n"
      ]
    },
    {
      "cell_type": "code",
      "execution_count": null,
      "metadata": {
        "id": "n3-I-haecUyC"
      },
      "outputs": [],
      "source": [
        "# Carga los datos\n",
        "\n",
        "df = pd.read_csv('/datasets/credit_scoring_eng.csv')"
      ]
    },
    {
      "cell_type": "markdown",
      "metadata": {
        "id": "MlfTUWqAcUyC"
      },
      "source": [
        "## Ejercicio 1. Exploración de datos\n",
        "\n",
        "**Descripción de los datos**\n",
        "- `children` - el número de hijos en la familia\n",
        "- `days_employed` - experiencia laboral en días\n",
        "- `dob_years` - la edad del cliente en años\n",
        "- `education` - la educación del cliente\n",
        "- `education_id` - identificador de educación\n",
        "- `family_status` - estado civil\n",
        "- `family_status_id` - identificador de estado civil\n",
        "- `gender` - género del cliente\n",
        "- `income_type` - tipo de empleo\n",
        "- `debt` - ¿había alguna deuda en el pago de un préstamo?\n",
        "- `total_income` - ingreso mensual\n",
        "- `purpose` - el propósito de obtener un préstamo\n",
        "\n"
      ]
    },
    {
      "cell_type": "code",
      "execution_count": null,
      "metadata": {
        "id": "d8qJFR7UcUyC",
        "outputId": "142f0a97-e009-4ac3-d20b-c5d788a3a6f1"
      },
      "outputs": [
        {
          "data": {
            "text/plain": [
              "(21525, 12)"
            ]
          },
          "execution_count": 4,
          "metadata": {},
          "output_type": "execute_result"
        }
      ],
      "source": [
        "# Vamos a ver cuántas filas y columnas tiene nuestro conjunto de datos\n",
        "\n",
        "df.shape\n",
        "\n"
      ]
    },
    {
      "cell_type": "code",
      "execution_count": null,
      "metadata": {
        "id": "R5H-meJzcUyD",
        "outputId": "c43aa85b-e2a6-4a6d-9a25-5876938680de",
        "scrolled": false
      },
      "outputs": [
        {
          "data": {
            "text/html": [
              "<div>\n",
              "<style scoped>\n",
              "    .dataframe tbody tr th:only-of-type {\n",
              "        vertical-align: middle;\n",
              "    }\n",
              "\n",
              "    .dataframe tbody tr th {\n",
              "        vertical-align: top;\n",
              "    }\n",
              "\n",
              "    .dataframe thead th {\n",
              "        text-align: right;\n",
              "    }\n",
              "</style>\n",
              "<table border=\"1\" class=\"dataframe\">\n",
              "  <thead>\n",
              "    <tr style=\"text-align: right;\">\n",
              "      <th></th>\n",
              "      <th>children</th>\n",
              "      <th>days_employed</th>\n",
              "      <th>dob_years</th>\n",
              "      <th>education</th>\n",
              "      <th>education_id</th>\n",
              "      <th>family_status</th>\n",
              "      <th>family_status_id</th>\n",
              "      <th>gender</th>\n",
              "      <th>income_type</th>\n",
              "      <th>debt</th>\n",
              "      <th>total_income</th>\n",
              "      <th>purpose</th>\n",
              "    </tr>\n",
              "  </thead>\n",
              "  <tbody>\n",
              "    <tr>\n",
              "      <th>0</th>\n",
              "      <td>1</td>\n",
              "      <td>-8437.673028</td>\n",
              "      <td>42</td>\n",
              "      <td>bachelor's degree</td>\n",
              "      <td>0</td>\n",
              "      <td>married</td>\n",
              "      <td>0</td>\n",
              "      <td>F</td>\n",
              "      <td>employee</td>\n",
              "      <td>0</td>\n",
              "      <td>40620.102</td>\n",
              "      <td>purchase of the house</td>\n",
              "    </tr>\n",
              "    <tr>\n",
              "      <th>1</th>\n",
              "      <td>1</td>\n",
              "      <td>-4024.803754</td>\n",
              "      <td>36</td>\n",
              "      <td>secondary education</td>\n",
              "      <td>1</td>\n",
              "      <td>married</td>\n",
              "      <td>0</td>\n",
              "      <td>F</td>\n",
              "      <td>employee</td>\n",
              "      <td>0</td>\n",
              "      <td>17932.802</td>\n",
              "      <td>car purchase</td>\n",
              "    </tr>\n",
              "    <tr>\n",
              "      <th>2</th>\n",
              "      <td>0</td>\n",
              "      <td>-5623.422610</td>\n",
              "      <td>33</td>\n",
              "      <td>Secondary Education</td>\n",
              "      <td>1</td>\n",
              "      <td>married</td>\n",
              "      <td>0</td>\n",
              "      <td>M</td>\n",
              "      <td>employee</td>\n",
              "      <td>0</td>\n",
              "      <td>23341.752</td>\n",
              "      <td>purchase of the house</td>\n",
              "    </tr>\n",
              "    <tr>\n",
              "      <th>3</th>\n",
              "      <td>3</td>\n",
              "      <td>-4124.747207</td>\n",
              "      <td>32</td>\n",
              "      <td>secondary education</td>\n",
              "      <td>1</td>\n",
              "      <td>married</td>\n",
              "      <td>0</td>\n",
              "      <td>M</td>\n",
              "      <td>employee</td>\n",
              "      <td>0</td>\n",
              "      <td>42820.568</td>\n",
              "      <td>supplementary education</td>\n",
              "    </tr>\n",
              "    <tr>\n",
              "      <th>4</th>\n",
              "      <td>0</td>\n",
              "      <td>340266.072047</td>\n",
              "      <td>53</td>\n",
              "      <td>secondary education</td>\n",
              "      <td>1</td>\n",
              "      <td>civil partnership</td>\n",
              "      <td>1</td>\n",
              "      <td>F</td>\n",
              "      <td>retiree</td>\n",
              "      <td>0</td>\n",
              "      <td>25378.572</td>\n",
              "      <td>to have a wedding</td>\n",
              "    </tr>\n",
              "    <tr>\n",
              "      <th>5</th>\n",
              "      <td>0</td>\n",
              "      <td>-926.185831</td>\n",
              "      <td>27</td>\n",
              "      <td>bachelor's degree</td>\n",
              "      <td>0</td>\n",
              "      <td>civil partnership</td>\n",
              "      <td>1</td>\n",
              "      <td>M</td>\n",
              "      <td>business</td>\n",
              "      <td>0</td>\n",
              "      <td>40922.170</td>\n",
              "      <td>purchase of the house</td>\n",
              "    </tr>\n",
              "    <tr>\n",
              "      <th>6</th>\n",
              "      <td>0</td>\n",
              "      <td>-2879.202052</td>\n",
              "      <td>43</td>\n",
              "      <td>bachelor's degree</td>\n",
              "      <td>0</td>\n",
              "      <td>married</td>\n",
              "      <td>0</td>\n",
              "      <td>F</td>\n",
              "      <td>business</td>\n",
              "      <td>0</td>\n",
              "      <td>38484.156</td>\n",
              "      <td>housing transactions</td>\n",
              "    </tr>\n",
              "    <tr>\n",
              "      <th>7</th>\n",
              "      <td>0</td>\n",
              "      <td>-152.779569</td>\n",
              "      <td>50</td>\n",
              "      <td>SECONDARY EDUCATION</td>\n",
              "      <td>1</td>\n",
              "      <td>married</td>\n",
              "      <td>0</td>\n",
              "      <td>M</td>\n",
              "      <td>employee</td>\n",
              "      <td>0</td>\n",
              "      <td>21731.829</td>\n",
              "      <td>education</td>\n",
              "    </tr>\n",
              "    <tr>\n",
              "      <th>8</th>\n",
              "      <td>2</td>\n",
              "      <td>-6929.865299</td>\n",
              "      <td>35</td>\n",
              "      <td>BACHELOR'S DEGREE</td>\n",
              "      <td>0</td>\n",
              "      <td>civil partnership</td>\n",
              "      <td>1</td>\n",
              "      <td>F</td>\n",
              "      <td>employee</td>\n",
              "      <td>0</td>\n",
              "      <td>15337.093</td>\n",
              "      <td>having a wedding</td>\n",
              "    </tr>\n",
              "    <tr>\n",
              "      <th>9</th>\n",
              "      <td>0</td>\n",
              "      <td>-2188.756445</td>\n",
              "      <td>41</td>\n",
              "      <td>secondary education</td>\n",
              "      <td>1</td>\n",
              "      <td>married</td>\n",
              "      <td>0</td>\n",
              "      <td>M</td>\n",
              "      <td>employee</td>\n",
              "      <td>0</td>\n",
              "      <td>23108.150</td>\n",
              "      <td>purchase of the house for my family</td>\n",
              "    </tr>\n",
              "  </tbody>\n",
              "</table>\n",
              "</div>"
            ],
            "text/plain": [
              "   children  days_employed  dob_years            education  education_id  \\\n",
              "0         1   -8437.673028         42    bachelor's degree             0   \n",
              "1         1   -4024.803754         36  secondary education             1   \n",
              "2         0   -5623.422610         33  Secondary Education             1   \n",
              "3         3   -4124.747207         32  secondary education             1   \n",
              "4         0  340266.072047         53  secondary education             1   \n",
              "5         0    -926.185831         27    bachelor's degree             0   \n",
              "6         0   -2879.202052         43    bachelor's degree             0   \n",
              "7         0    -152.779569         50  SECONDARY EDUCATION             1   \n",
              "8         2   -6929.865299         35    BACHELOR'S DEGREE             0   \n",
              "9         0   -2188.756445         41  secondary education             1   \n",
              "\n",
              "       family_status  family_status_id gender income_type  debt  total_income  \\\n",
              "0            married                 0      F    employee     0     40620.102   \n",
              "1            married                 0      F    employee     0     17932.802   \n",
              "2            married                 0      M    employee     0     23341.752   \n",
              "3            married                 0      M    employee     0     42820.568   \n",
              "4  civil partnership                 1      F     retiree     0     25378.572   \n",
              "5  civil partnership                 1      M    business     0     40922.170   \n",
              "6            married                 0      F    business     0     38484.156   \n",
              "7            married                 0      M    employee     0     21731.829   \n",
              "8  civil partnership                 1      F    employee     0     15337.093   \n",
              "9            married                 0      M    employee     0     23108.150   \n",
              "\n",
              "                               purpose  \n",
              "0                purchase of the house  \n",
              "1                         car purchase  \n",
              "2                purchase of the house  \n",
              "3              supplementary education  \n",
              "4                    to have a wedding  \n",
              "5                purchase of the house  \n",
              "6                 housing transactions  \n",
              "7                            education  \n",
              "8                     having a wedding  \n",
              "9  purchase of the house for my family  "
            ]
          },
          "execution_count": 5,
          "metadata": {},
          "output_type": "execute_result"
        }
      ],
      "source": [
        "# vamos a mostrar las primeras filas \n",
        "df.head(10)\n"
      ]
    },
    {
      "cell_type": "markdown",
      "metadata": {
        "id": "zS_MgipKcUyE"
      },
      "source": [
        "\n",
        "- Los datos de experiencia laboral en días presentan valores negativos que deberan analizarse y ajustarse para poder obtener informacion relevante del dataset.\n",
        "\n",
        "- Los datos de educacion del cliente se muestran en algunos casos en minúscula y otros en mayúscula, lo que podría dificultar en análisis por grupos\n"
      ]
    },
    {
      "cell_type": "code",
      "execution_count": null,
      "metadata": {
        "id": "ExJ26BtBcUyE",
        "outputId": "09603e1e-f531-44f2-f9bb-ffa5b07064e7",
        "scrolled": false
      },
      "outputs": [
        {
          "name": "stdout",
          "output_type": "stream",
          "text": [
            "<class 'pandas.core.frame.DataFrame'>\n",
            "RangeIndex: 21525 entries, 0 to 21524\n",
            "Data columns (total 12 columns):\n",
            " #   Column            Non-Null Count  Dtype  \n",
            "---  ------            --------------  -----  \n",
            " 0   children          21525 non-null  int64  \n",
            " 1   days_employed     19351 non-null  float64\n",
            " 2   dob_years         21525 non-null  int64  \n",
            " 3   education         21525 non-null  object \n",
            " 4   education_id      21525 non-null  int64  \n",
            " 5   family_status     21525 non-null  object \n",
            " 6   family_status_id  21525 non-null  int64  \n",
            " 7   gender            21525 non-null  object \n",
            " 8   income_type       21525 non-null  object \n",
            " 9   debt              21525 non-null  int64  \n",
            " 10  total_income      19351 non-null  float64\n",
            " 11  purpose           21525 non-null  object \n",
            "dtypes: float64(2), int64(5), object(5)\n",
            "memory usage: 2.0+ MB\n"
          ]
        }
      ],
      "source": [
        "# Obtener información sobre los datos\n",
        "df.info()"
      ]
    },
    {
      "cell_type": "markdown",
      "metadata": {
        "id": "n2OIQyVJcUyE"
      },
      "source": [
        "\n",
        "- El dataset presenta 2174 valores ausentes tanto en los datos de 'days_employed' como en 'total_income'\n",
        "- El tipo de objeto de cada columna aparenta ser el correcto"
      ]
    },
    {
      "cell_type": "code",
      "execution_count": null,
      "metadata": {
        "id": "reCDQ4eWcUyE",
        "outputId": "9b05b0e2-7fb0-41de-c62d-2df99436635c",
        "scrolled": true
      },
      "outputs": [
        {
          "data": {
            "text/html": [
              "<div>\n",
              "<style scoped>\n",
              "    .dataframe tbody tr th:only-of-type {\n",
              "        vertical-align: middle;\n",
              "    }\n",
              "\n",
              "    .dataframe tbody tr th {\n",
              "        vertical-align: top;\n",
              "    }\n",
              "\n",
              "    .dataframe thead th {\n",
              "        text-align: right;\n",
              "    }\n",
              "</style>\n",
              "<table border=\"1\" class=\"dataframe\">\n",
              "  <thead>\n",
              "    <tr style=\"text-align: right;\">\n",
              "      <th></th>\n",
              "      <th>children</th>\n",
              "      <th>days_employed</th>\n",
              "      <th>dob_years</th>\n",
              "      <th>education</th>\n",
              "      <th>education_id</th>\n",
              "      <th>family_status</th>\n",
              "      <th>family_status_id</th>\n",
              "      <th>gender</th>\n",
              "      <th>income_type</th>\n",
              "      <th>debt</th>\n",
              "      <th>total_income</th>\n",
              "      <th>purpose</th>\n",
              "    </tr>\n",
              "  </thead>\n",
              "  <tbody>\n",
              "    <tr>\n",
              "      <th>12</th>\n",
              "      <td>0</td>\n",
              "      <td>NaN</td>\n",
              "      <td>65</td>\n",
              "      <td>secondary education</td>\n",
              "      <td>1</td>\n",
              "      <td>civil partnership</td>\n",
              "      <td>1</td>\n",
              "      <td>M</td>\n",
              "      <td>retiree</td>\n",
              "      <td>0</td>\n",
              "      <td>NaN</td>\n",
              "      <td>to have a wedding</td>\n",
              "    </tr>\n",
              "    <tr>\n",
              "      <th>26</th>\n",
              "      <td>0</td>\n",
              "      <td>NaN</td>\n",
              "      <td>41</td>\n",
              "      <td>secondary education</td>\n",
              "      <td>1</td>\n",
              "      <td>married</td>\n",
              "      <td>0</td>\n",
              "      <td>M</td>\n",
              "      <td>civil servant</td>\n",
              "      <td>0</td>\n",
              "      <td>NaN</td>\n",
              "      <td>education</td>\n",
              "    </tr>\n",
              "    <tr>\n",
              "      <th>29</th>\n",
              "      <td>0</td>\n",
              "      <td>NaN</td>\n",
              "      <td>63</td>\n",
              "      <td>secondary education</td>\n",
              "      <td>1</td>\n",
              "      <td>unmarried</td>\n",
              "      <td>4</td>\n",
              "      <td>F</td>\n",
              "      <td>retiree</td>\n",
              "      <td>0</td>\n",
              "      <td>NaN</td>\n",
              "      <td>building a real estate</td>\n",
              "    </tr>\n",
              "    <tr>\n",
              "      <th>41</th>\n",
              "      <td>0</td>\n",
              "      <td>NaN</td>\n",
              "      <td>50</td>\n",
              "      <td>secondary education</td>\n",
              "      <td>1</td>\n",
              "      <td>married</td>\n",
              "      <td>0</td>\n",
              "      <td>F</td>\n",
              "      <td>civil servant</td>\n",
              "      <td>0</td>\n",
              "      <td>NaN</td>\n",
              "      <td>second-hand car purchase</td>\n",
              "    </tr>\n",
              "    <tr>\n",
              "      <th>55</th>\n",
              "      <td>0</td>\n",
              "      <td>NaN</td>\n",
              "      <td>54</td>\n",
              "      <td>secondary education</td>\n",
              "      <td>1</td>\n",
              "      <td>civil partnership</td>\n",
              "      <td>1</td>\n",
              "      <td>F</td>\n",
              "      <td>retiree</td>\n",
              "      <td>1</td>\n",
              "      <td>NaN</td>\n",
              "      <td>to have a wedding</td>\n",
              "    </tr>\n",
              "    <tr>\n",
              "      <th>...</th>\n",
              "      <td>...</td>\n",
              "      <td>...</td>\n",
              "      <td>...</td>\n",
              "      <td>...</td>\n",
              "      <td>...</td>\n",
              "      <td>...</td>\n",
              "      <td>...</td>\n",
              "      <td>...</td>\n",
              "      <td>...</td>\n",
              "      <td>...</td>\n",
              "      <td>...</td>\n",
              "      <td>...</td>\n",
              "    </tr>\n",
              "    <tr>\n",
              "      <th>21489</th>\n",
              "      <td>2</td>\n",
              "      <td>NaN</td>\n",
              "      <td>47</td>\n",
              "      <td>Secondary Education</td>\n",
              "      <td>1</td>\n",
              "      <td>married</td>\n",
              "      <td>0</td>\n",
              "      <td>M</td>\n",
              "      <td>business</td>\n",
              "      <td>0</td>\n",
              "      <td>NaN</td>\n",
              "      <td>purchase of a car</td>\n",
              "    </tr>\n",
              "    <tr>\n",
              "      <th>21495</th>\n",
              "      <td>1</td>\n",
              "      <td>NaN</td>\n",
              "      <td>50</td>\n",
              "      <td>secondary education</td>\n",
              "      <td>1</td>\n",
              "      <td>civil partnership</td>\n",
              "      <td>1</td>\n",
              "      <td>F</td>\n",
              "      <td>employee</td>\n",
              "      <td>0</td>\n",
              "      <td>NaN</td>\n",
              "      <td>wedding ceremony</td>\n",
              "    </tr>\n",
              "    <tr>\n",
              "      <th>21497</th>\n",
              "      <td>0</td>\n",
              "      <td>NaN</td>\n",
              "      <td>48</td>\n",
              "      <td>BACHELOR'S DEGREE</td>\n",
              "      <td>0</td>\n",
              "      <td>married</td>\n",
              "      <td>0</td>\n",
              "      <td>F</td>\n",
              "      <td>business</td>\n",
              "      <td>0</td>\n",
              "      <td>NaN</td>\n",
              "      <td>building a property</td>\n",
              "    </tr>\n",
              "    <tr>\n",
              "      <th>21502</th>\n",
              "      <td>1</td>\n",
              "      <td>NaN</td>\n",
              "      <td>42</td>\n",
              "      <td>secondary education</td>\n",
              "      <td>1</td>\n",
              "      <td>married</td>\n",
              "      <td>0</td>\n",
              "      <td>F</td>\n",
              "      <td>employee</td>\n",
              "      <td>0</td>\n",
              "      <td>NaN</td>\n",
              "      <td>building a real estate</td>\n",
              "    </tr>\n",
              "    <tr>\n",
              "      <th>21510</th>\n",
              "      <td>2</td>\n",
              "      <td>NaN</td>\n",
              "      <td>28</td>\n",
              "      <td>secondary education</td>\n",
              "      <td>1</td>\n",
              "      <td>married</td>\n",
              "      <td>0</td>\n",
              "      <td>F</td>\n",
              "      <td>employee</td>\n",
              "      <td>0</td>\n",
              "      <td>NaN</td>\n",
              "      <td>car purchase</td>\n",
              "    </tr>\n",
              "  </tbody>\n",
              "</table>\n",
              "<p>2174 rows × 12 columns</p>\n",
              "</div>"
            ],
            "text/plain": [
              "       children  days_employed  dob_years            education  education_id  \\\n",
              "12            0            NaN         65  secondary education             1   \n",
              "26            0            NaN         41  secondary education             1   \n",
              "29            0            NaN         63  secondary education             1   \n",
              "41            0            NaN         50  secondary education             1   \n",
              "55            0            NaN         54  secondary education             1   \n",
              "...         ...            ...        ...                  ...           ...   \n",
              "21489         2            NaN         47  Secondary Education             1   \n",
              "21495         1            NaN         50  secondary education             1   \n",
              "21497         0            NaN         48    BACHELOR'S DEGREE             0   \n",
              "21502         1            NaN         42  secondary education             1   \n",
              "21510         2            NaN         28  secondary education             1   \n",
              "\n",
              "           family_status  family_status_id gender    income_type  debt  \\\n",
              "12     civil partnership                 1      M        retiree     0   \n",
              "26               married                 0      M  civil servant     0   \n",
              "29             unmarried                 4      F        retiree     0   \n",
              "41               married                 0      F  civil servant     0   \n",
              "55     civil partnership                 1      F        retiree     1   \n",
              "...                  ...               ...    ...            ...   ...   \n",
              "21489            married                 0      M       business     0   \n",
              "21495  civil partnership                 1      F       employee     0   \n",
              "21497            married                 0      F       business     0   \n",
              "21502            married                 0      F       employee     0   \n",
              "21510            married                 0      F       employee     0   \n",
              "\n",
              "       total_income                   purpose  \n",
              "12              NaN         to have a wedding  \n",
              "26              NaN                 education  \n",
              "29              NaN    building a real estate  \n",
              "41              NaN  second-hand car purchase  \n",
              "55              NaN         to have a wedding  \n",
              "...             ...                       ...  \n",
              "21489           NaN         purchase of a car  \n",
              "21495           NaN          wedding ceremony  \n",
              "21497           NaN       building a property  \n",
              "21502           NaN    building a real estate  \n",
              "21510           NaN              car purchase  \n",
              "\n",
              "[2174 rows x 12 columns]"
            ]
          },
          "execution_count": 7,
          "metadata": {},
          "output_type": "execute_result"
        }
      ],
      "source": [
        "# Veamos la tabla filtrada con valores ausentes de la primera columna donde faltan datos\n",
        "\n",
        "df[df['days_employed'].isna()]\n"
      ]
    },
    {
      "cell_type": "markdown",
      "metadata": {
        "id": "IqKvfGM3cUyF"
      },
      "source": [
        "Los valores ausentes del dato \"days_employed\" parecen ser simetricos con los valores ausentes del dato \"total_income\". El primer filtro con la condicion de valores ausentes para \"days_employed\" arroja 2174 filas (tal como se observo al inicio del análisis). \n",
        "Dado que se conoce que el total de valores ausentes de \"total _income\" tambien es 2174, se aplica la condicion de datos nulos para ambas columnas y se evalua el tamaõ de la tabla"
      ]
    },
    {
      "cell_type": "code",
      "execution_count": null,
      "metadata": {
        "id": "O1KCnqDOcUyF",
        "outputId": "761dba24-d773-468a-84b7-0d834f682a4f"
      },
      "outputs": [
        {
          "data": {
            "text/plain": [
              "(2174, 12)"
            ]
          },
          "execution_count": 8,
          "metadata": {},
          "output_type": "execute_result"
        }
      ],
      "source": [
        "# Apliquemos múltiples condiciones para filtrar datos y veamos el número de filas en la tabla filtrada.\n",
        "\n",
        "df_nan = df[df['days_employed'].isna()& df['total_income'].isna()]\n",
        "df_nan.shape\n"
      ]
    },
    {
      "cell_type": "markdown",
      "metadata": {
        "id": "VPgRe8xFcUyF"
      },
      "source": [
        "**Conclusión intermedia**\n",
        "\n",
        "\n",
        "- El número de filas de la tabla filtrada con ambas condiciones coincide con el numero de filas de la tabla filtrada con una condicion. Es decir que los valores ausentes para 'days_employed' tambien lo son para 'total_income'. \n",
        "\n",
        "- El porcentaje de valores ausentes respecto del total es de un 10%. Es un porcentaje alto para deshacernos de dichos valores, por lo que deberá definirse un criterio para rellenrlos\n",
        "\n",
        "- Exploramos los datos para evaluar si los clientes que presentan datos ausentes en estas dos columnas simultaneamente tienen alguna caracteristica en común.\n",
        "\n",
        "- Para evaluar correlación entre dichos valores nulos y otras variables, se realizan agrupaciones segun distintos criterios para evaluar la concentracion de los datos. Abordaremos las variables: educacion, tipo de empleo y edad de los clientes "
      ]
    },
    {
      "cell_type": "markdown",
      "metadata": {
        "id": "mfxX_6XKcUyF"
      },
      "source": [
        "- Unificamos la columna \"education\", llevando todas las fuentes a minuscula\n",
        "- Creamos un df que contiene solo los registrso con datos ausentes\n",
        "- Evaluar concentracion de dicho Df para educacion y para tipo de ingreso"
      ]
    },
    {
      "cell_type": "code",
      "execution_count": null,
      "metadata": {
        "id": "4LclErN1cUyF",
        "outputId": "5add3dba-8909-462d-f992-8fe2dec98574"
      },
      "outputs": [
        {
          "data": {
            "text/plain": [
              "education\n",
              "bachelor's degree      0.250230\n",
              "primary education      0.009660\n",
              "secondary education    0.708372\n",
              "some college           0.031739\n",
              "Name: education, dtype: float64"
            ]
          },
          "execution_count": 9,
          "metadata": {},
          "output_type": "execute_result"
        }
      ],
      "source": [
        "# Vamos a investigar a los clientes que no tienen datos sobre la característica identificada y la columna con los valores ausentes\n",
        "\n",
        "df['education'] = df['education'].str.lower()\n",
        "df_nan = df[df['days_employed'].isna()& df['total_income'].isna()]\n",
        "df_nan.groupby('education').education.count()/len(df_nan) #analizamos la columna \"education\" para la tabla filtrada\n",
        "#len(df_nan)\n",
        "\n"
      ]
    },
    {
      "cell_type": "code",
      "execution_count": null,
      "metadata": {
        "id": "XSmii6uhcUyF",
        "outputId": "9bde0042-feb3-440f-e570-4450baf8b500"
      },
      "outputs": [
        {
          "data": {
            "text/plain": [
              "income_type\n",
              "business         0.233671\n",
              "civil servant    0.067617\n",
              "employee         0.508280\n",
              "entrepreneur     0.000460\n",
              "retiree          0.189972\n",
              "Name: gender, dtype: float64"
            ]
          },
          "execution_count": 10,
          "metadata": {},
          "output_type": "execute_result"
        }
      ],
      "source": [
        "df_nan.groupby('income_type').gender.count()/len(df_nan)"
      ]
    },
    {
      "cell_type": "markdown",
      "metadata": {
        "id": "8pUNnT24cUyG"
      },
      "source": [
        "Dentro del grupo de clientes con valores ausentes, se observa que: \n",
        "- 70% corresponden a \"secondary education\", seguida por un 25% de \"bachelor's degree\"\n",
        "- 50% corresponden a la categoría \"employee\" \n",
        "\n",
        "Evaluaremos la distribucion el DF entero. \n",
        "\n"
      ]
    },
    {
      "cell_type": "code",
      "execution_count": null,
      "metadata": {
        "id": "s9Hi2oxXcUyG",
        "outputId": "205141c8-ec4a-49bb-aed9-454e73cbcdce"
      },
      "outputs": [
        {
          "data": {
            "text/plain": [
              "income_type\n",
              "business                       0.236237\n",
              "civil servant                  0.067782\n",
              "employee                       0.516562\n",
              "entrepreneur                   0.000093\n",
              "paternity / maternity leave    0.000046\n",
              "retiree                        0.179141\n",
              "student                        0.000046\n",
              "unemployed                     0.000093\n",
              "Name: education, dtype: float64"
            ]
          },
          "execution_count": 11,
          "metadata": {},
          "output_type": "execute_result"
        }
      ],
      "source": [
        "# Comprobando la distribución en el conjunto de datos entero\n",
        "\n",
        "df.groupby('income_type').education.count()/len(df)"
      ]
    },
    {
      "cell_type": "code",
      "execution_count": null,
      "metadata": {
        "id": "rsY2SNtWcUyG",
        "outputId": "95727238-ad55-470d-eb73-c0b114d0c2bc"
      },
      "outputs": [
        {
          "data": {
            "text/plain": [
              "education\n",
              "bachelor's degree      0.244367\n",
              "graduate degree        0.000279\n",
              "primary education      0.013101\n",
              "secondary education    0.707689\n",
              "some college           0.034564\n",
              "Name: education, dtype: float64"
            ]
          },
          "execution_count": 12,
          "metadata": {},
          "output_type": "execute_result"
        }
      ],
      "source": [
        "df.groupby('education').education.count()/len(df)"
      ]
    },
    {
      "cell_type": "markdown",
      "metadata": {
        "id": "-Bn3vU_acUyH"
      },
      "source": [
        "**Conclusión intermedia**\n",
        "\n",
        "La distrubicion del conjunto de datos enteros es muy similar a la de los datos de valores ausentes. Por lo tanto no se puede establecer un patron para dichos ausentes. \n",
        "\n",
        "Los valores ausentes se presentan al azar. \n"
      ]
    },
    {
      "cell_type": "markdown",
      "metadata": {
        "id": "HO-M2pWDcUyH"
      },
      "source": [
        "**Conclusiones**\n",
        "\n",
        "Los valores ausentes se presentan aleatoriamente. \n",
        "\n",
        "Podria deberse a clientes que no han trabajado por lo tanto no cuentan ni con experiencia ni con ingreso.\n",
        "\n",
        "Evaluaremos a continuacion si existe alguna correlacion entre los valores ausentes y otras variables para luego definir un criterio que permita rellenar los valores ausentes"
      ]
    },
    {
      "cell_type": "markdown",
      "metadata": {
        "id": "h9iDSv-5cUyH"
      },
      "source": [
        "\n",
        "<div class=\"alert alert-block alert-info\">\n",
        "<b>Se realizo una division entre los datos que tienen los valores ausentes y el total de todas y se observo que la distribucion es muy similiar en ambos casos</b> <a class=\"tocSkip\"></a>\n",
        "</div>\n"
      ]
    },
    {
      "cell_type": "markdown",
      "metadata": {
        "id": "b9Xu3KWUcUyH"
      },
      "source": [
        "## Transformación de datos\n",
        "\n"
      ]
    },
    {
      "cell_type": "code",
      "execution_count": null,
      "metadata": {
        "id": "r9Uc6yS8cUyH",
        "outputId": "fe26d717-7219-40f9-8620-6b5a8ae6a986"
      },
      "outputs": [
        {
          "data": {
            "text/plain": [
              "array([\"bachelor's degree\", 'secondary education', 'some college',\n",
              "       'primary education', 'graduate degree'], dtype=object)"
            ]
          },
          "execution_count": 13,
          "metadata": {},
          "output_type": "execute_result"
        }
      ],
      "source": [
        "# Veamos todos los valores en la columna de educación para verificar si será necesario corregir la ortografía y qué habrá que corregir exactamente\n",
        "df['education'].unique()"
      ]
    },
    {
      "cell_type": "code",
      "execution_count": null,
      "metadata": {
        "id": "eXJDfcticUyH",
        "scrolled": true
      },
      "outputs": [],
      "source": [
        "# Arregla los registros si es necesario\n",
        "df['education'] = df['education'].str.lower()\n"
      ]
    },
    {
      "cell_type": "code",
      "execution_count": null,
      "metadata": {
        "id": "ew569XxycUyH",
        "outputId": "3bb2be32-890e-47e0-e447-1cde7c471ad7"
      },
      "outputs": [
        {
          "data": {
            "text/plain": [
              "array([\"bachelor's degree\", 'secondary education', 'some college',\n",
              "       'primary education', 'graduate degree'], dtype=object)"
            ]
          },
          "execution_count": 15,
          "metadata": {},
          "output_type": "execute_result"
        }
      ],
      "source": [
        "# Comprobar todos los valores en la columna para asegurarnos de que los hayamos corregido\n",
        "df['education'].unique()\n"
      ]
    },
    {
      "cell_type": "code",
      "execution_count": null,
      "metadata": {
        "id": "ZpUy9A1LcUyI",
        "outputId": "a6e3e219-fad3-4ff8-b5ee-a51af3f7b6aa"
      },
      "outputs": [
        {
          "data": {
            "text/plain": [
              "array([ 1,  0,  3,  2, -1,  4, 20,  5])"
            ]
          },
          "execution_count": 16,
          "metadata": {},
          "output_type": "execute_result"
        }
      ],
      "source": [
        "# Veamos la distribución de los valores en la columna `children`\n",
        "df['children'].unique()"
      ]
    },
    {
      "cell_type": "markdown",
      "metadata": {
        "id": "RBTEJaufcUyI"
      },
      "source": [
        "Los datos en la columna \"children\" presentan dos valores extraños: -1 y 20. Analizamos la tabla filtraba para evaluar que porcentaje de la muestra representan"
      ]
    },
    {
      "cell_type": "code",
      "execution_count": null,
      "metadata": {
        "id": "EbIvNhM1cUyI",
        "outputId": "3e7203cf-6332-4420-f68c-5ab61baff007"
      },
      "outputs": [
        {
          "data": {
            "text/plain": [
              "(123, 12)"
            ]
          },
          "execution_count": 17,
          "metadata": {},
          "output_type": "execute_result"
        }
      ],
      "source": [
        "df_child_conflict = df[(df['children']==-1) | (df['children']==20)]\n",
        "df_child_conflict.shape"
      ]
    },
    {
      "cell_type": "markdown",
      "metadata": {
        "id": "uX2C7w1zcUyI"
      },
      "source": [
        "El total de datos problematicos en la columna \"children\" es de 123 es decir un 0,05% de los datos totales. Para corregir dichos valores asumimos que el -1 tiene un error de signo y el 20 tiene un error de cero adicional. "
      ]
    },
    {
      "cell_type": "code",
      "execution_count": null,
      "metadata": {
        "id": "40T9H7mGcUyI",
        "scrolled": false
      },
      "outputs": [],
      "source": [
        "#eliminamos datos conflictivos de \"children\"\n",
        "\n",
        "df['children'] = df['children'].replace(-1, 1)\n",
        "df['children'] = df['children'].replace(20, 2)"
      ]
    },
    {
      "cell_type": "code",
      "execution_count": null,
      "metadata": {
        "id": "sReLtoaPcUyI",
        "outputId": "e07def23-4f27-44f8-c739-b47fa879f894"
      },
      "outputs": [
        {
          "data": {
            "text/plain": [
              "array([1, 0, 3, 2, 4, 5])"
            ]
          },
          "execution_count": 19,
          "metadata": {},
          "output_type": "execute_result"
        }
      ],
      "source": [
        "# Comprobar la columna `children` de nuevo para asegurarnos de que todo está arreglado\n",
        "\n",
        "df['children'].unique()"
      ]
    },
    {
      "cell_type": "markdown",
      "metadata": {
        "id": "wliQtb9dcUyI"
      },
      "source": [
        "- Comprobamos que se eliminaron los datos conflictivos del la columna \"children\" del df ya que no aparecen mas los valoes -1 y 20\n",
        "\n"
      ]
    },
    {
      "cell_type": "markdown",
      "metadata": {
        "id": "NEcOUwLDcUyJ"
      },
      "source": [
        "\n",
        "- Los datos de 'days_employed' presentan inconvenientes:\n",
        "    - Valores negativos\n",
        "    - Valores positivos extremadamente altos"
      ]
    },
    {
      "cell_type": "code",
      "execution_count": null,
      "metadata": {
        "id": "lg5mVSBFcUyJ",
        "outputId": "85efcaa1-eaa9-4787-853f-25d7183581f4"
      },
      "outputs": [
        {
          "name": "stdout",
          "output_type": "stream",
          "text": [
            "edad minima: 22\n",
            "experiencia minima años: 913.1353350125507\n",
            "experiencia minima años(suponiendo unidad horas): 38.047305625522945\n"
          ]
        }
      ],
      "source": [
        "##Evaluamos los valores positivos de days employed que aparentan ser muy altos\n",
        "df_aux = df[df['dob_years']>0]\n",
        "edad_min = df_aux[df_aux['days_employed']>0]['dob_years'].min()\n",
        "edad_max = df_aux[df_aux['days_employed']>0]['dob_years'].max()\n",
        "exp_min = df_aux[df_aux['days_employed']>0]['days_employed'].min()\n",
        "\n",
        "print(\"edad minima:\", edad_min )\n",
        "print(\"experiencia minima años:\", exp_min/360 )\n",
        "print(\"experiencia minima años(suponiendo unidad horas):\", exp_min/360/24 )\n"
      ]
    },
    {
      "cell_type": "markdown",
      "metadata": {
        "id": "1d5O-N5UcUyJ"
      },
      "source": [
        "- El conjunto de datos con valores de 'days employed' positivos, presenta valore extremadamente altos. De Hecho el valor minimo de experiencia (suponiendo que estuviera expresado en horas) es mayor a la edad minima del conjunto. \n",
        "Dado que se desconoce el motivo del error trataremos estos datos como valores ausentes para luego rellenarlos con el criterio que se defina oportunamente"
      ]
    },
    {
      "cell_type": "code",
      "execution_count": null,
      "metadata": {
        "id": "5Eea2M4xcUyJ"
      },
      "outputs": [],
      "source": [
        "#reemplazo los valores positivos de days employed por NAN para luego tratarlos junto con los otros valores ausentes de days employed\n",
        "\n",
        "df.loc[df['days_employed'] > 0, 'days_employed'] = float('nan')\n"
      ]
    },
    {
      "cell_type": "code",
      "execution_count": null,
      "metadata": {
        "id": "qVFwBnRLcUyJ",
        "outputId": "3d4c8e85-061f-4e11-8718-acf0ec733975"
      },
      "outputs": [
        {
          "data": {
            "text/plain": [
              "(15906, 12)"
            ]
          },
          "execution_count": 22,
          "metadata": {},
          "output_type": "execute_result"
        }
      ],
      "source": [
        "# Encuentra datos problemáticos en `days_employed`, si existen, y calcula el porcentaje\n",
        "df_empl_neg = df[df['days_employed']<0]\n",
        "df_empl_neg.shape\n"
      ]
    },
    {
      "cell_type": "markdown",
      "metadata": {
        "id": "7A5JXoyxcUyJ"
      },
      "source": [
        "\n",
        "Los datos problematicos (valores negativos) son 15809 (de un total de 21542), es decir un 73%. dado que es un porcentaje tan alto, asumimos que se debe a problema tecnico de signo. Procedemos a cambiarle el singo a los datos negativos. \n",
        "A su vez se observa valores de dias muy elevados, lo que hace pensar que los datos pueden estar expresados en horas en lugar de dias. \n"
      ]
    },
    {
      "cell_type": "code",
      "execution_count": null,
      "metadata": {
        "id": "hYTRuZTfcUyJ"
      },
      "outputs": [],
      "source": [
        "#corregimos el signo de \"days_employes\"\n",
        "#def days_to_positive (days_employed):\n",
        "  #return abs(days_employed)\n",
        "\n",
        "#df['days_employed'] = df['days_employed'].apply(days_to_positive)\n",
        "\n",
        "df['days_employed'] = df['days_employed'].abs()\n",
        "\n",
        "\n"
      ]
    },
    {
      "cell_type": "code",
      "execution_count": null,
      "metadata": {
        "id": "jkRbMNtScUyJ",
        "outputId": "49309a0c-babb-4a90-c77e-c0efef613afb"
      },
      "outputs": [
        {
          "data": {
            "text/plain": [
              "24.14163324048118"
            ]
          },
          "execution_count": 24,
          "metadata": {},
          "output_type": "execute_result"
        }
      ],
      "source": [
        "# Comprueba el resultado - asegúrate de que esté arreglado\n",
        "\n",
        "df.sort_values(by= 'days_employed', ascending= True).head()\n",
        "df['days_employed'].min()"
      ]
    },
    {
      "cell_type": "markdown",
      "metadata": {
        "id": "YBHx7DxYcUyK"
      },
      "source": [
        "- el menor valor de days employes es 24, por lo que confirmamos que ya no hay valores negativos\n",
        "\n",
        "- Se analizan a continuacion los datos de la edad de los clientes"
      ]
    },
    {
      "cell_type": "code",
      "execution_count": null,
      "metadata": {
        "id": "Mar51AYncUyK",
        "outputId": "6921f3e1-f205-49e4-d3a0-aaef1e6c0112",
        "scrolled": true
      },
      "outputs": [
        {
          "data": {
            "text/plain": [
              "array([42, 36, 33, 32, 53, 27, 43, 50, 35, 41, 40, 65, 54, 56, 26, 48, 24,\n",
              "       21, 57, 67, 28, 63, 62, 47, 34, 68, 25, 31, 30, 20, 49, 37, 45, 61,\n",
              "       64, 44, 52, 46, 23, 38, 39, 51,  0, 59, 29, 60, 55, 58, 71, 22, 73,\n",
              "       66, 69, 19, 72, 70, 74, 75])"
            ]
          },
          "execution_count": 25,
          "metadata": {},
          "output_type": "execute_result"
        }
      ],
      "source": [
        "# Revisa `dob_years` en busca de valores sospechosos y cuenta el porcentaje\n",
        "\n",
        "df['dob_years'].unique()"
      ]
    },
    {
      "cell_type": "markdown",
      "metadata": {
        "id": "SEs-Zh0-cUyK"
      },
      "source": [
        "\n",
        "\n",
        "- Los valores de edad cero no tienen sentido. Filtramos dichos datos para analizarlos en detalle y evaluar el porcentaje sobre el total de la muestra."
      ]
    },
    {
      "cell_type": "code",
      "execution_count": null,
      "metadata": {
        "id": "klCsVhYAcUyK",
        "outputId": "942978c9-c988-4898-c71a-fab2ad80bc39"
      },
      "outputs": [
        {
          "data": {
            "text/plain": [
              "(101, 12)"
            ]
          },
          "execution_count": 26,
          "metadata": {},
          "output_type": "execute_result"
        }
      ],
      "source": [
        "# Resuelve los problemas en la columna `dob_years`, si existen\n",
        "df[df['dob_years']<=0].shape"
      ]
    },
    {
      "cell_type": "markdown",
      "metadata": {
        "id": "VVctVlaVcUyK"
      },
      "source": [
        "- Tenemos 100 registros con edad cero. dado que no tiene sentido la edad nula, vamos a reemplazar dicho valor con la mediana de edad de la muestra (no se observan valores atipicos de edad)"
      ]
    },
    {
      "cell_type": "code",
      "execution_count": null,
      "metadata": {
        "id": "L4-za5ETcUyK",
        "outputId": "2560c4fd-75bd-4793-b555-5dcbbfa003a4"
      },
      "outputs": [
        {
          "data": {
            "text/plain": [
              "array([42., 36., 33., 32., 53., 27., 43., 50., 35., 41., 40., 65., 54.,\n",
              "       56., 26., 48., 24., 21., 57., 67., 28., 63., 62., 47., 34., 68.,\n",
              "       25., 31., 30., 20., 49., 37., 45., 61., 64., 44., 52., 46., 23.,\n",
              "       38., 39., 51., 59., 29., 60., 55., 58., 71., 22., 73., 66., 69.,\n",
              "       19., 72., 70., 74., 75.])"
            ]
          },
          "execution_count": 27,
          "metadata": {},
          "output_type": "execute_result"
        }
      ],
      "source": [
        "# Comprueba el resultado - asegúrate de que esté arreglado \n",
        "df_years_positivo = df[df['dob_years']>0]\n",
        "\n",
        "years_median = df_years_positivo['dob_years'].median()\n",
        "df['dob_years'] = df['dob_years'].replace(0, years_median)\n",
        "df['dob_years'].unique()\n"
      ]
    },
    {
      "cell_type": "markdown",
      "metadata": {
        "id": "U0Ye6zOucUyK"
      },
      "source": [
        "\n",
        "- Evaluamos los datos de \"family_status\""
      ]
    },
    {
      "cell_type": "code",
      "execution_count": null,
      "metadata": {
        "id": "m-WHExiQcUyK",
        "outputId": "5e5e1b07-feaa-42fb-e427-a8798d01f819"
      },
      "outputs": [
        {
          "data": {
            "text/plain": [
              "array(['married', 'civil partnership', 'widow / widower', 'divorced',\n",
              "       'unmarried'], dtype=object)"
            ]
          },
          "execution_count": 28,
          "metadata": {},
          "output_type": "execute_result"
        }
      ],
      "source": [
        "# Veamos los valores de la columna\n",
        "\n",
        "df['family_status'].unique()"
      ]
    },
    {
      "cell_type": "markdown",
      "metadata": {
        "id": "vPN5shd-cUyL"
      },
      "source": [
        "- No se encuentran valores conflictivos en \"family status\"\n"
      ]
    },
    {
      "cell_type": "markdown",
      "metadata": {
        "id": "ls3dHZfZcUyL"
      },
      "source": [
        "- Evaluamos los datos de \"gender\""
      ]
    },
    {
      "cell_type": "code",
      "execution_count": null,
      "metadata": {
        "id": "qPU_bb7TcUyL",
        "outputId": "5ac13ba2-c941-418a-cb31-52781d2b4e51"
      },
      "outputs": [
        {
          "data": {
            "text/plain": [
              "array(['F', 'M', 'XNA'], dtype=object)"
            ]
          },
          "execution_count": 29,
          "metadata": {},
          "output_type": "execute_result"
        }
      ],
      "source": [
        "# Veamos los valores en la columna\n",
        "\n",
        "df['gender'].unique()"
      ]
    },
    {
      "cell_type": "markdown",
      "metadata": {
        "id": "5C0RfgbEcUyL"
      },
      "source": [
        "- No se encuentran valores conflictivos en \"gender\"\n"
      ]
    },
    {
      "cell_type": "markdown",
      "metadata": {
        "id": "09lZZrPCcUyL"
      },
      "source": [
        "- Evaluamos la columna \"income_type\""
      ]
    },
    {
      "cell_type": "code",
      "execution_count": null,
      "metadata": {
        "id": "nqoU4FGIcUyL",
        "outputId": "2ec1a929-4dab-4d02-c00b-d1493cafa5d3"
      },
      "outputs": [
        {
          "data": {
            "text/plain": [
              "array(['employee', 'retiree', 'business', 'civil servant', 'unemployed',\n",
              "       'entrepreneur', 'student', 'paternity / maternity leave'],\n",
              "      dtype=object)"
            ]
          },
          "execution_count": 30,
          "metadata": {},
          "output_type": "execute_result"
        }
      ],
      "source": [
        "# Veamos los valores en la columna\n",
        "df['income_type'].unique()"
      ]
    },
    {
      "cell_type": "markdown",
      "metadata": {
        "id": "CYYKJ-nZcUyL"
      },
      "source": [
        "- No se encuentran valores conflictivos en \"income_type\" \n",
        "- Evaluamos duplicados en los datos"
      ]
    },
    {
      "cell_type": "code",
      "execution_count": null,
      "metadata": {
        "id": "Sk_bw1ujcUyL",
        "outputId": "1eaadece-14b6-4f3b-8675-aecf77c40ba1"
      },
      "outputs": [
        {
          "data": {
            "text/plain": [
              "71"
            ]
          },
          "execution_count": 31,
          "metadata": {},
          "output_type": "execute_result"
        }
      ],
      "source": [
        "# Comprobar los duplicados\n",
        "\n",
        "df.duplicated().sum()\n"
      ]
    },
    {
      "cell_type": "code",
      "execution_count": null,
      "metadata": {
        "id": "PsMGSAbPcUyM",
        "outputId": "bd8fdaf6-8248-4b63-8e22-1746cc9a1a45"
      },
      "outputs": [
        {
          "data": {
            "text/html": [
              "<div>\n",
              "<style scoped>\n",
              "    .dataframe tbody tr th:only-of-type {\n",
              "        vertical-align: middle;\n",
              "    }\n",
              "\n",
              "    .dataframe tbody tr th {\n",
              "        vertical-align: top;\n",
              "    }\n",
              "\n",
              "    .dataframe thead th {\n",
              "        text-align: right;\n",
              "    }\n",
              "</style>\n",
              "<table border=\"1\" class=\"dataframe\">\n",
              "  <thead>\n",
              "    <tr style=\"text-align: right;\">\n",
              "      <th></th>\n",
              "      <th>children</th>\n",
              "      <th>days_employed</th>\n",
              "      <th>dob_years</th>\n",
              "      <th>education</th>\n",
              "      <th>education_id</th>\n",
              "      <th>family_status</th>\n",
              "      <th>family_status_id</th>\n",
              "      <th>gender</th>\n",
              "      <th>income_type</th>\n",
              "      <th>debt</th>\n",
              "      <th>total_income</th>\n",
              "      <th>purpose</th>\n",
              "    </tr>\n",
              "  </thead>\n",
              "  <tbody>\n",
              "    <tr>\n",
              "      <th>2849</th>\n",
              "      <td>0</td>\n",
              "      <td>NaN</td>\n",
              "      <td>41.0</td>\n",
              "      <td>secondary education</td>\n",
              "      <td>1</td>\n",
              "      <td>married</td>\n",
              "      <td>0</td>\n",
              "      <td>F</td>\n",
              "      <td>employee</td>\n",
              "      <td>0</td>\n",
              "      <td>NaN</td>\n",
              "      <td>purchase of the house for my family</td>\n",
              "    </tr>\n",
              "    <tr>\n",
              "      <th>3290</th>\n",
              "      <td>0</td>\n",
              "      <td>NaN</td>\n",
              "      <td>58.0</td>\n",
              "      <td>secondary education</td>\n",
              "      <td>1</td>\n",
              "      <td>civil partnership</td>\n",
              "      <td>1</td>\n",
              "      <td>F</td>\n",
              "      <td>retiree</td>\n",
              "      <td>0</td>\n",
              "      <td>NaN</td>\n",
              "      <td>to have a wedding</td>\n",
              "    </tr>\n",
              "    <tr>\n",
              "      <th>4182</th>\n",
              "      <td>1</td>\n",
              "      <td>NaN</td>\n",
              "      <td>34.0</td>\n",
              "      <td>bachelor's degree</td>\n",
              "      <td>0</td>\n",
              "      <td>civil partnership</td>\n",
              "      <td>1</td>\n",
              "      <td>F</td>\n",
              "      <td>employee</td>\n",
              "      <td>0</td>\n",
              "      <td>NaN</td>\n",
              "      <td>wedding ceremony</td>\n",
              "    </tr>\n",
              "    <tr>\n",
              "      <th>4851</th>\n",
              "      <td>0</td>\n",
              "      <td>NaN</td>\n",
              "      <td>60.0</td>\n",
              "      <td>secondary education</td>\n",
              "      <td>1</td>\n",
              "      <td>civil partnership</td>\n",
              "      <td>1</td>\n",
              "      <td>F</td>\n",
              "      <td>retiree</td>\n",
              "      <td>0</td>\n",
              "      <td>NaN</td>\n",
              "      <td>wedding ceremony</td>\n",
              "    </tr>\n",
              "    <tr>\n",
              "      <th>5557</th>\n",
              "      <td>0</td>\n",
              "      <td>NaN</td>\n",
              "      <td>58.0</td>\n",
              "      <td>secondary education</td>\n",
              "      <td>1</td>\n",
              "      <td>civil partnership</td>\n",
              "      <td>1</td>\n",
              "      <td>F</td>\n",
              "      <td>retiree</td>\n",
              "      <td>0</td>\n",
              "      <td>NaN</td>\n",
              "      <td>to have a wedding</td>\n",
              "    </tr>\n",
              "    <tr>\n",
              "      <th>...</th>\n",
              "      <td>...</td>\n",
              "      <td>...</td>\n",
              "      <td>...</td>\n",
              "      <td>...</td>\n",
              "      <td>...</td>\n",
              "      <td>...</td>\n",
              "      <td>...</td>\n",
              "      <td>...</td>\n",
              "      <td>...</td>\n",
              "      <td>...</td>\n",
              "      <td>...</td>\n",
              "      <td>...</td>\n",
              "    </tr>\n",
              "    <tr>\n",
              "      <th>20702</th>\n",
              "      <td>0</td>\n",
              "      <td>NaN</td>\n",
              "      <td>64.0</td>\n",
              "      <td>secondary education</td>\n",
              "      <td>1</td>\n",
              "      <td>married</td>\n",
              "      <td>0</td>\n",
              "      <td>F</td>\n",
              "      <td>retiree</td>\n",
              "      <td>0</td>\n",
              "      <td>NaN</td>\n",
              "      <td>supplementary education</td>\n",
              "    </tr>\n",
              "    <tr>\n",
              "      <th>21032</th>\n",
              "      <td>0</td>\n",
              "      <td>NaN</td>\n",
              "      <td>60.0</td>\n",
              "      <td>secondary education</td>\n",
              "      <td>1</td>\n",
              "      <td>married</td>\n",
              "      <td>0</td>\n",
              "      <td>F</td>\n",
              "      <td>retiree</td>\n",
              "      <td>0</td>\n",
              "      <td>NaN</td>\n",
              "      <td>to become educated</td>\n",
              "    </tr>\n",
              "    <tr>\n",
              "      <th>21132</th>\n",
              "      <td>0</td>\n",
              "      <td>NaN</td>\n",
              "      <td>47.0</td>\n",
              "      <td>secondary education</td>\n",
              "      <td>1</td>\n",
              "      <td>married</td>\n",
              "      <td>0</td>\n",
              "      <td>F</td>\n",
              "      <td>employee</td>\n",
              "      <td>0</td>\n",
              "      <td>NaN</td>\n",
              "      <td>housing renovation</td>\n",
              "    </tr>\n",
              "    <tr>\n",
              "      <th>21281</th>\n",
              "      <td>1</td>\n",
              "      <td>NaN</td>\n",
              "      <td>30.0</td>\n",
              "      <td>bachelor's degree</td>\n",
              "      <td>0</td>\n",
              "      <td>married</td>\n",
              "      <td>0</td>\n",
              "      <td>F</td>\n",
              "      <td>employee</td>\n",
              "      <td>0</td>\n",
              "      <td>NaN</td>\n",
              "      <td>buy commercial real estate</td>\n",
              "    </tr>\n",
              "    <tr>\n",
              "      <th>21415</th>\n",
              "      <td>0</td>\n",
              "      <td>NaN</td>\n",
              "      <td>54.0</td>\n",
              "      <td>secondary education</td>\n",
              "      <td>1</td>\n",
              "      <td>married</td>\n",
              "      <td>0</td>\n",
              "      <td>F</td>\n",
              "      <td>retiree</td>\n",
              "      <td>0</td>\n",
              "      <td>NaN</td>\n",
              "      <td>housing transactions</td>\n",
              "    </tr>\n",
              "  </tbody>\n",
              "</table>\n",
              "<p>71 rows × 12 columns</p>\n",
              "</div>"
            ],
            "text/plain": [
              "       children  days_employed  dob_years            education  education_id  \\\n",
              "2849          0            NaN       41.0  secondary education             1   \n",
              "3290          0            NaN       58.0  secondary education             1   \n",
              "4182          1            NaN       34.0    bachelor's degree             0   \n",
              "4851          0            NaN       60.0  secondary education             1   \n",
              "5557          0            NaN       58.0  secondary education             1   \n",
              "...         ...            ...        ...                  ...           ...   \n",
              "20702         0            NaN       64.0  secondary education             1   \n",
              "21032         0            NaN       60.0  secondary education             1   \n",
              "21132         0            NaN       47.0  secondary education             1   \n",
              "21281         1            NaN       30.0    bachelor's degree             0   \n",
              "21415         0            NaN       54.0  secondary education             1   \n",
              "\n",
              "           family_status  family_status_id gender income_type  debt  \\\n",
              "2849             married                 0      F    employee     0   \n",
              "3290   civil partnership                 1      F     retiree     0   \n",
              "4182   civil partnership                 1      F    employee     0   \n",
              "4851   civil partnership                 1      F     retiree     0   \n",
              "5557   civil partnership                 1      F     retiree     0   \n",
              "...                  ...               ...    ...         ...   ...   \n",
              "20702            married                 0      F     retiree     0   \n",
              "21032            married                 0      F     retiree     0   \n",
              "21132            married                 0      F    employee     0   \n",
              "21281            married                 0      F    employee     0   \n",
              "21415            married                 0      F     retiree     0   \n",
              "\n",
              "       total_income                              purpose  \n",
              "2849            NaN  purchase of the house for my family  \n",
              "3290            NaN                    to have a wedding  \n",
              "4182            NaN                     wedding ceremony  \n",
              "4851            NaN                     wedding ceremony  \n",
              "5557            NaN                    to have a wedding  \n",
              "...             ...                                  ...  \n",
              "20702           NaN              supplementary education  \n",
              "21032           NaN                   to become educated  \n",
              "21132           NaN                   housing renovation  \n",
              "21281           NaN           buy commercial real estate  \n",
              "21415           NaN                 housing transactions  \n",
              "\n",
              "[71 rows x 12 columns]"
            ]
          },
          "execution_count": 32,
          "metadata": {},
          "output_type": "execute_result"
        }
      ],
      "source": [
        "# Aborda los duplicados, si existen\n",
        "df[df.duplicated()]\n"
      ]
    },
    {
      "cell_type": "markdown",
      "metadata": {
        "id": "9bgNsfAucUyM"
      },
      "source": [
        "- Encontramos 71 duplicados en los datos que porcedemos a eliminar debido a que representan un minimo porcentaje del total de los datos"
      ]
    },
    {
      "cell_type": "code",
      "execution_count": null,
      "metadata": {
        "id": "ZbS7zQjVcUyM",
        "outputId": "1e467455-e1c2-4e8b-af8a-4ade0f23949d"
      },
      "outputs": [
        {
          "data": {
            "text/plain": [
              "0"
            ]
          },
          "execution_count": 33,
          "metadata": {},
          "output_type": "execute_result"
        }
      ],
      "source": [
        "# Última comprobación para ver si tenemos duplicados\n",
        "df = df.drop_duplicates().reset_index(drop = True)\n",
        "df.duplicated().sum()\n"
      ]
    },
    {
      "cell_type": "code",
      "execution_count": null,
      "metadata": {
        "id": "jJsxJSCEcUyM",
        "outputId": "00c39789-2c99-4111-fc37-e9554cbf122d"
      },
      "outputs": [
        {
          "data": {
            "text/plain": [
              "(21454, 12)"
            ]
          },
          "execution_count": 34,
          "metadata": {},
          "output_type": "execute_result"
        }
      ],
      "source": [
        "# Comprueba el tamaño del conjunto de datos que tienes ahora, después de haber ejecutado estas primeras manipulaciones\n",
        "df.shape"
      ]
    },
    {
      "cell_type": "markdown",
      "metadata": {
        "id": "lDoPG3_5cUyM"
      },
      "source": [
        "- Con la cantidad de filas actuales corroboramos que se han eliminado los duplicados de df"
      ]
    },
    {
      "cell_type": "markdown",
      "metadata": {
        "id": "ma2pTK8pcUyM"
      },
      "source": [
        "\n",
        "Al data set original:\n",
        "- Se corrigieron los datos conflictivos de cantidad de hijos, reemplazando los valores -1 por 1 y los valores 20 por 2 (123 registros)\n",
        "- Se corrigieron los datos conflictivos de edad (valores 0), reemplazandolos por la media de edad de todos los clientes\n",
        "- Se le eliminarion los duplicados (71 registros)\n",
        "\n",
        "\n",
        "A su vez: \n",
        "- Se han corregido los valores negativos de experiencia laboral\n",
        "- Se ha comprobado que los valores nulos en experiencia laboral coinciden con valores nulos en Ingresos\n",
        "- Se han detectado valores muy elevados para datos de dias de experiencia laboral, deberá estudiarse de ser necesario, si se trata de un error en la unidad\n",
        " \n",
        "\n"
      ]
    },
    {
      "cell_type": "markdown",
      "metadata": {
        "id": "N1qHFhCPcUyM"
      },
      "source": [
        "# Trabajar con valores ausentes"
      ]
    },
    {
      "cell_type": "markdown",
      "metadata": {
        "id": "eLRKktlycUyM"
      },
      "source": []
    },
    {
      "cell_type": "code",
      "execution_count": null,
      "metadata": {
        "id": "NH7gZQ84cUyM",
        "outputId": "b1c3f088-f0a6-4a57-bb30-c4662476ec2c"
      },
      "outputs": [
        {
          "data": {
            "text/html": [
              "<div>\n",
              "<style scoped>\n",
              "    .dataframe tbody tr th:only-of-type {\n",
              "        vertical-align: middle;\n",
              "    }\n",
              "\n",
              "    .dataframe tbody tr th {\n",
              "        vertical-align: top;\n",
              "    }\n",
              "\n",
              "    .dataframe thead th {\n",
              "        text-align: right;\n",
              "    }\n",
              "</style>\n",
              "<table border=\"1\" class=\"dataframe\">\n",
              "  <thead>\n",
              "    <tr style=\"text-align: right;\">\n",
              "      <th></th>\n",
              "      <th></th>\n",
              "      <th>gender</th>\n",
              "    </tr>\n",
              "    <tr>\n",
              "      <th>education</th>\n",
              "      <th>education_id</th>\n",
              "      <th></th>\n",
              "    </tr>\n",
              "  </thead>\n",
              "  <tbody>\n",
              "    <tr>\n",
              "      <th>bachelor's degree</th>\n",
              "      <th>0</th>\n",
              "      <td>5250</td>\n",
              "    </tr>\n",
              "    <tr>\n",
              "      <th>graduate degree</th>\n",
              "      <th>4</th>\n",
              "      <td>6</td>\n",
              "    </tr>\n",
              "    <tr>\n",
              "      <th>primary education</th>\n",
              "      <th>3</th>\n",
              "      <td>282</td>\n",
              "    </tr>\n",
              "    <tr>\n",
              "      <th>secondary education</th>\n",
              "      <th>1</th>\n",
              "      <td>15172</td>\n",
              "    </tr>\n",
              "    <tr>\n",
              "      <th>some college</th>\n",
              "      <th>2</th>\n",
              "      <td>744</td>\n",
              "    </tr>\n",
              "  </tbody>\n",
              "</table>\n",
              "</div>"
            ],
            "text/plain": [
              "                                  gender\n",
              "education           education_id        \n",
              "bachelor's degree   0               5250\n",
              "graduate degree     4                  6\n",
              "primary education   3                282\n",
              "secondary education 1              15172\n",
              "some college        2                744"
            ]
          },
          "execution_count": 35,
          "metadata": {},
          "output_type": "execute_result"
        }
      ],
      "source": [
        "# Encuentra los diccionarios\n",
        "\n",
        "df.pivot_table(index = ['education', 'education_id'], values = 'gender', aggfunc = 'count')\n"
      ]
    },
    {
      "cell_type": "code",
      "execution_count": null,
      "metadata": {
        "id": "88ndqmlkcUyN",
        "outputId": "8e89eac6-aaf1-48c4-8cff-768a83779774"
      },
      "outputs": [
        {
          "data": {
            "text/html": [
              "<div>\n",
              "<style scoped>\n",
              "    .dataframe tbody tr th:only-of-type {\n",
              "        vertical-align: middle;\n",
              "    }\n",
              "\n",
              "    .dataframe tbody tr th {\n",
              "        vertical-align: top;\n",
              "    }\n",
              "\n",
              "    .dataframe thead th {\n",
              "        text-align: right;\n",
              "    }\n",
              "</style>\n",
              "<table border=\"1\" class=\"dataframe\">\n",
              "  <thead>\n",
              "    <tr style=\"text-align: right;\">\n",
              "      <th></th>\n",
              "      <th></th>\n",
              "      <th>gender</th>\n",
              "    </tr>\n",
              "    <tr>\n",
              "      <th>family_status</th>\n",
              "      <th>family_status_id</th>\n",
              "      <th></th>\n",
              "    </tr>\n",
              "  </thead>\n",
              "  <tbody>\n",
              "    <tr>\n",
              "      <th>civil partnership</th>\n",
              "      <th>1</th>\n",
              "      <td>4151</td>\n",
              "    </tr>\n",
              "    <tr>\n",
              "      <th>divorced</th>\n",
              "      <th>3</th>\n",
              "      <td>1195</td>\n",
              "    </tr>\n",
              "    <tr>\n",
              "      <th>married</th>\n",
              "      <th>0</th>\n",
              "      <td>12339</td>\n",
              "    </tr>\n",
              "    <tr>\n",
              "      <th>unmarried</th>\n",
              "      <th>4</th>\n",
              "      <td>2810</td>\n",
              "    </tr>\n",
              "    <tr>\n",
              "      <th>widow / widower</th>\n",
              "      <th>2</th>\n",
              "      <td>959</td>\n",
              "    </tr>\n",
              "  </tbody>\n",
              "</table>\n",
              "</div>"
            ],
            "text/plain": [
              "                                    gender\n",
              "family_status     family_status_id        \n",
              "civil partnership 1                   4151\n",
              "divorced          3                   1195\n",
              "married           0                  12339\n",
              "unmarried         4                   2810\n",
              "widow / widower   2                    959"
            ]
          },
          "execution_count": 36,
          "metadata": {},
          "output_type": "execute_result"
        }
      ],
      "source": [
        "\n",
        "df.pivot_table(index = ['family_status', 'family_status_id'], values = 'gender', aggfunc = 'count')"
      ]
    },
    {
      "cell_type": "markdown",
      "metadata": {
        "id": "xv1TdjYUcUyN"
      },
      "source": [
        "Definimos 2 diccionarios para Educacion y Estado civil segun los pares que se observan al generar las tablas dinamicas"
      ]
    },
    {
      "cell_type": "code",
      "execution_count": null,
      "metadata": {
        "id": "oZ5enZhWcUyN"
      },
      "outputs": [],
      "source": [
        "dicc_education = {0 : \"bachelor's degree\", 1: 'secondary education', 2:'some college', 3:'primary education', 4:'graduate degree'}\n",
        "dicc_family_status =  {0 : \"married\", 1: 'civil partnership', 2:'widow widower', 3:'divorced', 4:'unmarried'}"
      ]
    },
    {
      "cell_type": "markdown",
      "metadata": {
        "id": "30ojbL4tcUyN"
      },
      "source": [
        "### Restaurar valores ausentes en `total_income`"
      ]
    },
    {
      "cell_type": "markdown",
      "metadata": {
        "id": "7zEOsS8OcUyN"
      },
      "source": [
        "Se han detectado valores ausentes en las columnas \"days employed\" y \"total_income\".\n",
        "\n",
        "Inicialmente, se abordaran los valores ausentes de la columna ingresos. Para ello se creara un df sin datos ausentes y se evaluara la relacion de distintas variables con el total de ingresos\n"
      ]
    },
    {
      "cell_type": "code",
      "execution_count": null,
      "metadata": {
        "id": "ZHUdn6tvcUyN"
      },
      "outputs": [],
      "source": [
        "# Vamos a escribir una función que calcule la categoría de edad\n",
        "def age_range (dob_years):\n",
        "  if dob_years < 20:\n",
        "    return ' 0 a 20'\n",
        "  if dob_years < 30:\n",
        "    return ' 20 a 30'\n",
        "  if dob_years < 40:\n",
        "    return ' 30 a 40'\n",
        "  if dob_years < 50:\n",
        "    return ' 40 a 50'\n",
        "  if dob_years < 60:\n",
        "    return ' 50 a 60'\n",
        "  return '+60'\n"
      ]
    },
    {
      "cell_type": "code",
      "execution_count": null,
      "metadata": {
        "id": "_cusBuNWcUyN",
        "outputId": "7f33a5e3-e1b5-4f8a-8e93-e497d8e2a4e7"
      },
      "outputs": [
        {
          "data": {
            "text/plain": [
              "' 40 a 50'"
            ]
          },
          "execution_count": 39,
          "metadata": {},
          "output_type": "execute_result"
        }
      ],
      "source": [
        "# Prueba si la función funciona bien\n",
        "age_range(45)"
      ]
    },
    {
      "cell_type": "code",
      "execution_count": null,
      "metadata": {
        "id": "xJKdIg0ecUyN"
      },
      "outputs": [],
      "source": [
        "# Crear una nueva columna basada en la función\n",
        "\n",
        "\n",
        "df['age_range'] = df['dob_years'].apply(age_range)\n",
        "    "
      ]
    },
    {
      "cell_type": "code",
      "execution_count": null,
      "metadata": {
        "id": "clv6JuQ-cUyN",
        "outputId": "ed1888b1-1a80-486f-e524-72f9e9e41943"
      },
      "outputs": [
        {
          "data": {
            "text/html": [
              "<div>\n",
              "<style scoped>\n",
              "    .dataframe tbody tr th:only-of-type {\n",
              "        vertical-align: middle;\n",
              "    }\n",
              "\n",
              "    .dataframe tbody tr th {\n",
              "        vertical-align: top;\n",
              "    }\n",
              "\n",
              "    .dataframe thead th {\n",
              "        text-align: right;\n",
              "    }\n",
              "</style>\n",
              "<table border=\"1\" class=\"dataframe\">\n",
              "  <thead>\n",
              "    <tr style=\"text-align: right;\">\n",
              "      <th></th>\n",
              "      <th>children</th>\n",
              "      <th>days_employed</th>\n",
              "      <th>dob_years</th>\n",
              "      <th>education</th>\n",
              "      <th>education_id</th>\n",
              "      <th>family_status</th>\n",
              "      <th>family_status_id</th>\n",
              "      <th>gender</th>\n",
              "      <th>income_type</th>\n",
              "      <th>debt</th>\n",
              "      <th>total_income</th>\n",
              "      <th>purpose</th>\n",
              "      <th>age_range</th>\n",
              "    </tr>\n",
              "  </thead>\n",
              "  <tbody>\n",
              "    <tr>\n",
              "      <th>0</th>\n",
              "      <td>1</td>\n",
              "      <td>8437.673028</td>\n",
              "      <td>42.0</td>\n",
              "      <td>bachelor's degree</td>\n",
              "      <td>0</td>\n",
              "      <td>married</td>\n",
              "      <td>0</td>\n",
              "      <td>F</td>\n",
              "      <td>employee</td>\n",
              "      <td>0</td>\n",
              "      <td>40620.102</td>\n",
              "      <td>purchase of the house</td>\n",
              "      <td>40 a 50</td>\n",
              "    </tr>\n",
              "    <tr>\n",
              "      <th>1</th>\n",
              "      <td>1</td>\n",
              "      <td>4024.803754</td>\n",
              "      <td>36.0</td>\n",
              "      <td>secondary education</td>\n",
              "      <td>1</td>\n",
              "      <td>married</td>\n",
              "      <td>0</td>\n",
              "      <td>F</td>\n",
              "      <td>employee</td>\n",
              "      <td>0</td>\n",
              "      <td>17932.802</td>\n",
              "      <td>car purchase</td>\n",
              "      <td>30 a 40</td>\n",
              "    </tr>\n",
              "    <tr>\n",
              "      <th>2</th>\n",
              "      <td>0</td>\n",
              "      <td>5623.422610</td>\n",
              "      <td>33.0</td>\n",
              "      <td>secondary education</td>\n",
              "      <td>1</td>\n",
              "      <td>married</td>\n",
              "      <td>0</td>\n",
              "      <td>M</td>\n",
              "      <td>employee</td>\n",
              "      <td>0</td>\n",
              "      <td>23341.752</td>\n",
              "      <td>purchase of the house</td>\n",
              "      <td>30 a 40</td>\n",
              "    </tr>\n",
              "    <tr>\n",
              "      <th>3</th>\n",
              "      <td>3</td>\n",
              "      <td>4124.747207</td>\n",
              "      <td>32.0</td>\n",
              "      <td>secondary education</td>\n",
              "      <td>1</td>\n",
              "      <td>married</td>\n",
              "      <td>0</td>\n",
              "      <td>M</td>\n",
              "      <td>employee</td>\n",
              "      <td>0</td>\n",
              "      <td>42820.568</td>\n",
              "      <td>supplementary education</td>\n",
              "      <td>30 a 40</td>\n",
              "    </tr>\n",
              "    <tr>\n",
              "      <th>4</th>\n",
              "      <td>0</td>\n",
              "      <td>NaN</td>\n",
              "      <td>53.0</td>\n",
              "      <td>secondary education</td>\n",
              "      <td>1</td>\n",
              "      <td>civil partnership</td>\n",
              "      <td>1</td>\n",
              "      <td>F</td>\n",
              "      <td>retiree</td>\n",
              "      <td>0</td>\n",
              "      <td>25378.572</td>\n",
              "      <td>to have a wedding</td>\n",
              "      <td>50 a 60</td>\n",
              "    </tr>\n",
              "  </tbody>\n",
              "</table>\n",
              "</div>"
            ],
            "text/plain": [
              "   children  days_employed  dob_years            education  education_id  \\\n",
              "0         1    8437.673028       42.0    bachelor's degree             0   \n",
              "1         1    4024.803754       36.0  secondary education             1   \n",
              "2         0    5623.422610       33.0  secondary education             1   \n",
              "3         3    4124.747207       32.0  secondary education             1   \n",
              "4         0            NaN       53.0  secondary education             1   \n",
              "\n",
              "       family_status  family_status_id gender income_type  debt  total_income  \\\n",
              "0            married                 0      F    employee     0     40620.102   \n",
              "1            married                 0      F    employee     0     17932.802   \n",
              "2            married                 0      M    employee     0     23341.752   \n",
              "3            married                 0      M    employee     0     42820.568   \n",
              "4  civil partnership                 1      F     retiree     0     25378.572   \n",
              "\n",
              "                   purpose age_range  \n",
              "0    purchase of the house   40 a 50  \n",
              "1             car purchase   30 a 40  \n",
              "2    purchase of the house   30 a 40  \n",
              "3  supplementary education   30 a 40  \n",
              "4        to have a wedding   50 a 60  "
            ]
          },
          "execution_count": 41,
          "metadata": {},
          "output_type": "execute_result"
        }
      ],
      "source": [
        "# Comprobar cómo los valores en la nueva columna\n",
        "\n",
        "df.head()\n"
      ]
    },
    {
      "cell_type": "markdown",
      "metadata": {
        "id": "Md3fAVnpcUyO"
      },
      "source": [
        "Se crea una tabla que solo tenga datos sin valores ausentes. Estos datos se utilizarán para restaurar los valores ausentes."
      ]
    },
    {
      "cell_type": "code",
      "execution_count": null,
      "metadata": {
        "id": "DCGvpQlKcUyO",
        "outputId": "86a466ba-5b78-4cf7-e835-95fb4a9f4885"
      },
      "outputs": [
        {
          "name": "stdout",
          "output_type": "stream",
          "text": [
            "0\n"
          ]
        },
        {
          "data": {
            "text/plain": [
              "0"
            ]
          },
          "execution_count": 42,
          "metadata": {},
          "output_type": "execute_result"
        }
      ],
      "source": [
        "# Crea una tabla sin valores ausentes y muestra algunas de sus filas para asegurarte de que se ve bien\n",
        "df_sin_nan = df[df['days_employed'].notnull()& df['total_income'].notnull()]\n",
        "\n",
        "df_sin_nan.sort_values(by = 'total_income', ascending = True).head()\n",
        "print(len(df_sin_nan[df_sin_nan['total_income'].isna()]))\n",
        "len(df_sin_nan[df_sin_nan['days_employed'].isna()])"
      ]
    },
    {
      "cell_type": "markdown",
      "metadata": {
        "id": "tjLQRm0ecUyO"
      },
      "source": [
        "1) Análisis por tipo de ingreso\n",
        "- Se crea una tabla la media y la mediana de ingresos para los distintos tipo de ingreso y se calcula el desvio porcentual respecto de la media general"
      ]
    },
    {
      "cell_type": "code",
      "execution_count": null,
      "metadata": {
        "id": "-UoTKAatcUyO",
        "outputId": "a7c4d70b-612a-4b2d-e087-fb3621f5ddbb"
      },
      "outputs": [
        {
          "data": {
            "text/html": [
              "<div>\n",
              "<style scoped>\n",
              "    .dataframe tbody tr th:only-of-type {\n",
              "        vertical-align: middle;\n",
              "    }\n",
              "\n",
              "    .dataframe tbody tr th {\n",
              "        vertical-align: top;\n",
              "    }\n",
              "\n",
              "    .dataframe thead tr th {\n",
              "        text-align: left;\n",
              "    }\n",
              "\n",
              "    .dataframe thead tr:last-of-type th {\n",
              "        text-align: right;\n",
              "    }\n",
              "</style>\n",
              "<table border=\"1\" class=\"dataframe\">\n",
              "  <thead>\n",
              "    <tr>\n",
              "      <th></th>\n",
              "      <th colspan=\"2\" halign=\"left\">total_income</th>\n",
              "      <th>porc_mean</th>\n",
              "      <th>porc_median</th>\n",
              "    </tr>\n",
              "    <tr>\n",
              "      <th></th>\n",
              "      <th>mean</th>\n",
              "      <th>median</th>\n",
              "      <th></th>\n",
              "      <th></th>\n",
              "    </tr>\n",
              "    <tr>\n",
              "      <th>income_type</th>\n",
              "      <th></th>\n",
              "      <th></th>\n",
              "      <th></th>\n",
              "      <th></th>\n",
              "    </tr>\n",
              "  </thead>\n",
              "  <tbody>\n",
              "    <tr>\n",
              "      <th>business</th>\n",
              "      <td>32386.793835</td>\n",
              "      <td>27577.2720</td>\n",
              "      <td>16.342282</td>\n",
              "      <td>14.042686</td>\n",
              "    </tr>\n",
              "    <tr>\n",
              "      <th>civil servant</th>\n",
              "      <td>27343.729582</td>\n",
              "      <td>24071.6695</td>\n",
              "      <td>-1.773794</td>\n",
              "      <td>-0.454336</td>\n",
              "    </tr>\n",
              "    <tr>\n",
              "      <th>employee</th>\n",
              "      <td>25820.841683</td>\n",
              "      <td>22815.1035</td>\n",
              "      <td>-7.244427</td>\n",
              "      <td>-5.650723</td>\n",
              "    </tr>\n",
              "    <tr>\n",
              "      <th>entrepreneur</th>\n",
              "      <td>79866.103000</td>\n",
              "      <td>79866.1030</td>\n",
              "      <td>186.901034</td>\n",
              "      <td>230.277226</td>\n",
              "    </tr>\n",
              "    <tr>\n",
              "      <th>paternity / maternity leave</th>\n",
              "      <td>8612.661000</td>\n",
              "      <td>8612.6610</td>\n",
              "      <td>-69.060950</td>\n",
              "      <td>-64.383316</td>\n",
              "    </tr>\n",
              "    <tr>\n",
              "      <th>student</th>\n",
              "      <td>15712.260000</td>\n",
              "      <td>15712.2600</td>\n",
              "      <td>-43.557236</td>\n",
              "      <td>-35.023728</td>\n",
              "    </tr>\n",
              "  </tbody>\n",
              "</table>\n",
              "</div>"
            ],
            "text/plain": [
              "                             total_income               porc_mean porc_median\n",
              "                                     mean      median                        \n",
              "income_type                                                                  \n",
              "business                     32386.793835  27577.2720   16.342282   14.042686\n",
              "civil servant                27343.729582  24071.6695   -1.773794   -0.454336\n",
              "employee                     25820.841683  22815.1035   -7.244427   -5.650723\n",
              "entrepreneur                 79866.103000  79866.1030  186.901034  230.277226\n",
              "paternity / maternity leave   8612.661000   8612.6610  -69.060950  -64.383316\n",
              "student                      15712.260000  15712.2600  -43.557236  -35.023728"
            ]
          },
          "execution_count": 43,
          "metadata": {},
          "output_type": "execute_result"
        }
      ],
      "source": [
        "\n",
        "mean_income_gral = df_sin_nan['total_income'].mean()\n",
        "median_income_gral = df_sin_nan['total_income'].median()\n",
        "type_range_table = df_sin_nan.groupby('income_type').agg({'total_income':['mean', 'median']})\n",
        "type_range_table['porc_mean'] = ((type_range_table['total_income']['mean']/mean_income_gral)-1)*100\n",
        "type_range_table['porc_median'] = ((type_range_table['total_income']['median']/median_income_gral)-1)*100\n",
        "type_range_table"
      ]
    },
    {
      "cell_type": "markdown",
      "metadata": {
        "id": "B-8N_DH8cUyO"
      },
      "source": [
        "Se evalua el peso relativo de cada tipo de ingreso"
      ]
    },
    {
      "cell_type": "code",
      "execution_count": null,
      "metadata": {
        "id": "P8FRZemgcUyO",
        "outputId": "5290fe43-6b17-4b61-c436-a6e3504c3b3d"
      },
      "outputs": [
        {
          "data": {
            "text/plain": [
              "income_type\n",
              "business                       0.287753\n",
              "civil servant                  0.082485\n",
              "employee                       0.629574\n",
              "entrepreneur                   0.000063\n",
              "paternity / maternity leave    0.000063\n",
              "student                        0.000063\n",
              "Name: income_type, dtype: float64"
            ]
          },
          "execution_count": 44,
          "metadata": {},
          "output_type": "execute_result"
        }
      ],
      "source": [
        "df_sin_nan.groupby('income_type')['income_type'].count()/len(df_sin_nan)"
      ]
    },
    {
      "cell_type": "markdown",
      "metadata": {
        "id": "8b2ysPZUcUyO"
      },
      "source": [
        "- Los grupos de \"income type\" con mayor desvio (entrepreneur, paternity, studen), tienen bajo peso relativo en los datos del df \n",
        "\n",
        "2) Análisis por rango etario \n",
        "- Se crea una tabla la media y la mediana de ingresos para los distintos rangos etarios y se calcula el desvio porcentual respecto de la media general. Luego se evalua el peso relativo de cada grupo etario en la muestra"
      ]
    },
    {
      "cell_type": "code",
      "execution_count": null,
      "metadata": {
        "id": "KzARDg4ZcUyO",
        "outputId": "71e33cd9-ecdc-48b4-aac1-e37ddee87092"
      },
      "outputs": [
        {
          "data": {
            "text/html": [
              "<div>\n",
              "<style scoped>\n",
              "    .dataframe tbody tr th:only-of-type {\n",
              "        vertical-align: middle;\n",
              "    }\n",
              "\n",
              "    .dataframe tbody tr th {\n",
              "        vertical-align: top;\n",
              "    }\n",
              "\n",
              "    .dataframe thead tr th {\n",
              "        text-align: left;\n",
              "    }\n",
              "\n",
              "    .dataframe thead tr:last-of-type th {\n",
              "        text-align: right;\n",
              "    }\n",
              "</style>\n",
              "<table border=\"1\" class=\"dataframe\">\n",
              "  <thead>\n",
              "    <tr>\n",
              "      <th></th>\n",
              "      <th colspan=\"2\" halign=\"left\">total_income</th>\n",
              "      <th>porc_mean</th>\n",
              "      <th>porc_median</th>\n",
              "    </tr>\n",
              "    <tr>\n",
              "      <th></th>\n",
              "      <th>mean</th>\n",
              "      <th>median</th>\n",
              "      <th></th>\n",
              "      <th></th>\n",
              "    </tr>\n",
              "    <tr>\n",
              "      <th>age_range</th>\n",
              "      <th></th>\n",
              "      <th></th>\n",
              "      <th></th>\n",
              "      <th></th>\n",
              "    </tr>\n",
              "  </thead>\n",
              "  <tbody>\n",
              "    <tr>\n",
              "      <th>0 a 20</th>\n",
              "      <td>16993.942462</td>\n",
              "      <td>14934.9010</td>\n",
              "      <td>-38.953079</td>\n",
              "      <td>-38.238408</td>\n",
              "    </tr>\n",
              "    <tr>\n",
              "      <th>20 a 30</th>\n",
              "      <td>25598.743252</td>\n",
              "      <td>22812.9535</td>\n",
              "      <td>-8.042265</td>\n",
              "      <td>-5.659614</td>\n",
              "    </tr>\n",
              "    <tr>\n",
              "      <th>30 a 40</th>\n",
              "      <td>28345.798076</td>\n",
              "      <td>24731.4510</td>\n",
              "      <td>1.825912</td>\n",
              "      <td>2.274115</td>\n",
              "    </tr>\n",
              "    <tr>\n",
              "      <th>40 a 50</th>\n",
              "      <td>28552.731786</td>\n",
              "      <td>24795.3485</td>\n",
              "      <td>2.569275</td>\n",
              "      <td>2.538356</td>\n",
              "    </tr>\n",
              "    <tr>\n",
              "      <th>50 a 60</th>\n",
              "      <td>27820.402010</td>\n",
              "      <td>23807.9820</td>\n",
              "      <td>-0.061455</td>\n",
              "      <td>-1.544786</td>\n",
              "    </tr>\n",
              "    <tr>\n",
              "      <th>+60</th>\n",
              "      <td>29055.973440</td>\n",
              "      <td>25195.1730</td>\n",
              "      <td>4.377058</td>\n",
              "      <td>4.191785</td>\n",
              "    </tr>\n",
              "  </tbody>\n",
              "</table>\n",
              "</div>"
            ],
            "text/plain": [
              "           total_income              porc_mean porc_median\n",
              "                   mean      median                       \n",
              "age_range                                                 \n",
              " 0 a 20    16993.942462  14934.9010 -38.953079  -38.238408\n",
              " 20 a 30   25598.743252  22812.9535  -8.042265   -5.659614\n",
              " 30 a 40   28345.798076  24731.4510   1.825912    2.274115\n",
              " 40 a 50   28552.731786  24795.3485   2.569275    2.538356\n",
              " 50 a 60   27820.402010  23807.9820  -0.061455   -1.544786\n",
              "+60        29055.973440  25195.1730   4.377058    4.191785"
            ]
          },
          "execution_count": 45,
          "metadata": {},
          "output_type": "execute_result"
        }
      ],
      "source": [
        "mean_income_gral = df_sin_nan['total_income'].mean()\n",
        "median_income_gral = df_sin_nan['total_income'].median()\n",
        "age_range_table = df_sin_nan.groupby('age_range').agg({'total_income':['mean', 'median']})\n",
        "age_range_table['porc_mean'] = ((age_range_table['total_income']['mean']/mean_income_gral)-1)*100\n",
        "age_range_table['porc_median'] = ((age_range_table['total_income']['median']/median_income_gral)-1)*100\n",
        "age_range_table"
      ]
    },
    {
      "cell_type": "code",
      "execution_count": null,
      "metadata": {
        "id": "zbNwdMvBcUyO",
        "outputId": "b6195546-af98-4a94-eb9a-ae9094f70dff"
      },
      "outputs": [
        {
          "data": {
            "text/plain": [
              "age_range\n",
              " 0 a 20     0.000817\n",
              " 20 a 30    0.180058\n",
              " 30 a 40    0.319313\n",
              " 40 a 50    0.300516\n",
              " 50 a 60    0.168427\n",
              "+60         0.030869\n",
              "Name: education, dtype: float64"
            ]
          },
          "execution_count": 46,
          "metadata": {},
          "output_type": "execute_result"
        }
      ],
      "source": [
        "df_sin_nan.groupby('age_range')['education'].count()/len(df_sin_nan)"
      ]
    },
    {
      "cell_type": "markdown",
      "metadata": {
        "id": "it8EKsfTcUyP"
      },
      "source": [
        "- El grupo de 0 a 20 presenta el mayor desvio pero representa un porcentaje minimo dentro del total de los datos\n",
        "\n",
        "3) Análisis por nivel de educación\n",
        "- Se crea una tabla la media y la mediana de ingresos para los distintos niveles de educacion y se calcula el desvio porcentual respecto de la media general. Luego se evalua el peso relativo de cada grupo etario en la muestra"
      ]
    },
    {
      "cell_type": "code",
      "execution_count": null,
      "metadata": {
        "id": "ob_cE822cUyP",
        "outputId": "da835472-0d0a-4b7f-88cf-659beef5b6b8",
        "scrolled": true
      },
      "outputs": [
        {
          "data": {
            "text/html": [
              "<div>\n",
              "<style scoped>\n",
              "    .dataframe tbody tr th:only-of-type {\n",
              "        vertical-align: middle;\n",
              "    }\n",
              "\n",
              "    .dataframe tbody tr th {\n",
              "        vertical-align: top;\n",
              "    }\n",
              "\n",
              "    .dataframe thead tr th {\n",
              "        text-align: left;\n",
              "    }\n",
              "\n",
              "    .dataframe thead tr:last-of-type th {\n",
              "        text-align: right;\n",
              "    }\n",
              "</style>\n",
              "<table border=\"1\" class=\"dataframe\">\n",
              "  <thead>\n",
              "    <tr>\n",
              "      <th></th>\n",
              "      <th colspan=\"2\" halign=\"left\">total_income</th>\n",
              "      <th>porc_mean</th>\n",
              "      <th>porc_median</th>\n",
              "    </tr>\n",
              "    <tr>\n",
              "      <th></th>\n",
              "      <th>mean</th>\n",
              "      <th>median</th>\n",
              "      <th></th>\n",
              "      <th></th>\n",
              "    </tr>\n",
              "    <tr>\n",
              "      <th>education</th>\n",
              "      <th></th>\n",
              "      <th></th>\n",
              "      <th></th>\n",
              "      <th></th>\n",
              "    </tr>\n",
              "  </thead>\n",
              "  <tbody>\n",
              "    <tr>\n",
              "      <th>bachelor's degree</th>\n",
              "      <td>33866.375230</td>\n",
              "      <td>28744.4340</td>\n",
              "      <td>21.657345</td>\n",
              "      <td>18.869352</td>\n",
              "    </tr>\n",
              "    <tr>\n",
              "      <th>graduate degree</th>\n",
              "      <td>27772.929500</td>\n",
              "      <td>25161.5835</td>\n",
              "      <td>-0.231990</td>\n",
              "      <td>4.052880</td>\n",
              "    </tr>\n",
              "    <tr>\n",
              "      <th>primary education</th>\n",
              "      <td>22990.762982</td>\n",
              "      <td>20823.9590</td>\n",
              "      <td>-17.410849</td>\n",
              "      <td>-13.884875</td>\n",
              "    </tr>\n",
              "    <tr>\n",
              "      <th>secondary education</th>\n",
              "      <td>25498.606991</td>\n",
              "      <td>22673.4220</td>\n",
              "      <td>-8.401982</td>\n",
              "      <td>-6.236631</td>\n",
              "    </tr>\n",
              "    <tr>\n",
              "      <th>some college</th>\n",
              "      <td>29423.635397</td>\n",
              "      <td>26119.0075</td>\n",
              "      <td>5.697800</td>\n",
              "      <td>8.012198</td>\n",
              "    </tr>\n",
              "  </tbody>\n",
              "</table>\n",
              "</div>"
            ],
            "text/plain": [
              "                     total_income              porc_mean porc_median\n",
              "                             mean      median                       \n",
              "education                                                           \n",
              "bachelor's degree    33866.375230  28744.4340  21.657345   18.869352\n",
              "graduate degree      27772.929500  25161.5835  -0.231990    4.052880\n",
              "primary education    22990.762982  20823.9590 -17.410849  -13.884875\n",
              "secondary education  25498.606991  22673.4220  -8.401982   -6.236631\n",
              "some college         29423.635397  26119.0075   5.697800    8.012198"
            ]
          },
          "execution_count": 47,
          "metadata": {},
          "output_type": "execute_result"
        }
      ],
      "source": [
        "\n",
        "educ_table = df_sin_nan.groupby('education').agg({'total_income':['mean', 'median']})\n",
        "mean_income_gral = df_sin_nan['total_income'].mean()\n",
        "median_income_gral = df_sin_nan['total_income'].median()\n",
        "educ_table['porc_mean'] = ((educ_table['total_income']['mean']/mean_income_gral)-1)*100\n",
        "educ_table['porc_median'] = ((educ_table['total_income']['median']/median_income_gral)-1)*100\n",
        "educ_table"
      ]
    },
    {
      "cell_type": "code",
      "execution_count": null,
      "metadata": {
        "id": "VKyDZwvYcUyP",
        "outputId": "640883cf-510a-4aec-fbc0-68a42e81eaa8"
      },
      "outputs": [
        {
          "name": "stdout",
          "output_type": "stream",
          "text": [
            "education\n",
            "bachelor's degree      0.263737\n",
            "graduate degree        0.000251\n",
            "primary education      0.010562\n",
            "secondary education    0.685213\n",
            "some college           0.040236\n",
            "Name: education, dtype: float64\n"
          ]
        }
      ],
      "source": [
        "##evaluamos peso relativo de aquellos valores que mas se alejan de la muestra\n",
        "print(df_sin_nan.groupby('education')['education'].count()/len(df_sin_nan))\n"
      ]
    },
    {
      "cell_type": "markdown",
      "metadata": {
        "id": "WmNMk2fkcUyP"
      },
      "source": [
        "- El grupo de mayor peso dentro de la muestra (secondary education) presenta un desvio relativamente bajo (-8%)\n",
        "\n",
        "4) Análisis por days employed\n"
      ]
    },
    {
      "cell_type": "code",
      "execution_count": null,
      "metadata": {
        "id": "vecKIKbucUyP"
      },
      "outputs": [],
      "source": [
        "##agrupamos por days employed. Para poder evaluar la concentracion agrupamos por años (aumiendo que los datos estan en horas)\n",
        "#Creamos una columna para la cantidad e años\n",
        "import numpy as np\n",
        "df[\"years_employed\"] = df['days_employed']/360\n",
        "\n",
        "def years_range (years_employed):\n",
        "  if years_employed < 1:\n",
        "    return ' 0 a 1'\n",
        "  if years_employed < 2:\n",
        "    return ' 1 a 2'\n",
        "  if years_employed < 3:\n",
        "    return ' 2 a 3'\n",
        "  if years_employed < 4:\n",
        "    return ' 3 a 4' \n",
        "  if years_employed < 5:\n",
        "    return ' 4 a 5'\n",
        "  if years_employed < 6:\n",
        "    return ' 5 a 6'\n",
        "  if years_employed < 7:\n",
        "    return ' 6 a 8'\n",
        "  if years_employed < 8:\n",
        "    return ' 8 a 10'\n",
        "  return '+10'\n",
        "\n",
        "df['years_range'] = df['years_employed'].apply(years_range)\n",
        "\n",
        "\n"
      ]
    },
    {
      "cell_type": "code",
      "execution_count": null,
      "metadata": {
        "id": "LOlKEgVYcUyP",
        "outputId": "8bb697ac-a294-45de-b4f3-12e98a23585a"
      },
      "outputs": [
        {
          "data": {
            "text/html": [
              "<div>\n",
              "<style scoped>\n",
              "    .dataframe tbody tr th:only-of-type {\n",
              "        vertical-align: middle;\n",
              "    }\n",
              "\n",
              "    .dataframe tbody tr th {\n",
              "        vertical-align: top;\n",
              "    }\n",
              "\n",
              "    .dataframe thead tr th {\n",
              "        text-align: left;\n",
              "    }\n",
              "\n",
              "    .dataframe thead tr:last-of-type th {\n",
              "        text-align: right;\n",
              "    }\n",
              "</style>\n",
              "<table border=\"1\" class=\"dataframe\">\n",
              "  <thead>\n",
              "    <tr>\n",
              "      <th></th>\n",
              "      <th colspan=\"2\" halign=\"left\">total_income</th>\n",
              "      <th>porc_mean</th>\n",
              "      <th>porc_median</th>\n",
              "    </tr>\n",
              "    <tr>\n",
              "      <th></th>\n",
              "      <th>mean</th>\n",
              "      <th>median</th>\n",
              "      <th></th>\n",
              "      <th></th>\n",
              "    </tr>\n",
              "    <tr>\n",
              "      <th>years_range</th>\n",
              "      <th></th>\n",
              "      <th></th>\n",
              "      <th></th>\n",
              "      <th></th>\n",
              "    </tr>\n",
              "  </thead>\n",
              "  <tbody>\n",
              "    <tr>\n",
              "      <th>0 a 1</th>\n",
              "      <td>25995.908712</td>\n",
              "      <td>22806.7830</td>\n",
              "      <td>-6.615538</td>\n",
              "      <td>-5.685131</td>\n",
              "    </tr>\n",
              "    <tr>\n",
              "      <th>1 a 2</th>\n",
              "      <td>26873.151018</td>\n",
              "      <td>23777.8560</td>\n",
              "      <td>-3.464242</td>\n",
              "      <td>-1.669369</td>\n",
              "    </tr>\n",
              "    <tr>\n",
              "      <th>2 a 3</th>\n",
              "      <td>26637.266217</td>\n",
              "      <td>23034.5440</td>\n",
              "      <td>-4.311605</td>\n",
              "      <td>-4.743251</td>\n",
              "    </tr>\n",
              "    <tr>\n",
              "      <th>3 a 4</th>\n",
              "      <td>28093.007525</td>\n",
              "      <td>24781.2430</td>\n",
              "      <td>0.917819</td>\n",
              "      <td>2.480025</td>\n",
              "    </tr>\n",
              "    <tr>\n",
              "      <th>4 a 5</th>\n",
              "      <td>27781.749112</td>\n",
              "      <td>24226.2940</td>\n",
              "      <td>-0.200307</td>\n",
              "      <td>0.185096</td>\n",
              "    </tr>\n",
              "    <tr>\n",
              "      <th>5 a 6</th>\n",
              "      <td>29027.012245</td>\n",
              "      <td>24815.0895</td>\n",
              "      <td>4.273021</td>\n",
              "      <td>2.619993</td>\n",
              "    </tr>\n",
              "    <tr>\n",
              "      <th>6 a 8</th>\n",
              "      <td>29037.926014</td>\n",
              "      <td>24705.9550</td>\n",
              "      <td>4.312226</td>\n",
              "      <td>2.168680</td>\n",
              "    </tr>\n",
              "    <tr>\n",
              "      <th>8 a 10</th>\n",
              "      <td>29221.175710</td>\n",
              "      <td>24828.9160</td>\n",
              "      <td>4.970510</td>\n",
              "      <td>2.677171</td>\n",
              "    </tr>\n",
              "    <tr>\n",
              "      <th>+10</th>\n",
              "      <td>28641.650416</td>\n",
              "      <td>24910.5110</td>\n",
              "      <td>2.888695</td>\n",
              "      <td>3.014598</td>\n",
              "    </tr>\n",
              "  </tbody>\n",
              "</table>\n",
              "</div>"
            ],
            "text/plain": [
              "             total_income             porc_mean porc_median\n",
              "                     mean      median                      \n",
              "years_range                                                \n",
              " 0 a 1       25995.908712  22806.7830 -6.615538   -5.685131\n",
              " 1 a 2       26873.151018  23777.8560 -3.464242   -1.669369\n",
              " 2 a 3       26637.266217  23034.5440 -4.311605   -4.743251\n",
              " 3 a 4       28093.007525  24781.2430  0.917819    2.480025\n",
              " 4 a 5       27781.749112  24226.2940 -0.200307    0.185096\n",
              " 5 a 6       29027.012245  24815.0895  4.273021    2.619993\n",
              " 6 a 8       29037.926014  24705.9550  4.312226    2.168680\n",
              " 8 a 10      29221.175710  24828.9160  4.970510    2.677171\n",
              "+10          28641.650416  24910.5110  2.888695    3.014598"
            ]
          },
          "execution_count": 50,
          "metadata": {},
          "output_type": "execute_result"
        }
      ],
      "source": [
        "df_sin_nan = df[df['days_employed'].notnull()& df['total_income'].notnull()]\n",
        "\n",
        "days_table = df_sin_nan.groupby('years_range').agg({'total_income':['mean', 'median']})\n",
        "mean_income_gral = df_sin_nan['total_income'].mean()\n",
        "median_income_gral = df_sin_nan['total_income'].median()\n",
        "days_table['porc_mean'] = ((days_table['total_income']['mean']/mean_income_gral)-1)*100\n",
        "days_table['porc_median'] = ((days_table['total_income']['median']/median_income_gral)-1)*100\n",
        "days_table"
      ]
    },
    {
      "cell_type": "code",
      "execution_count": null,
      "metadata": {
        "id": "BQVmDCz7cUyP",
        "outputId": "4b1cb545-25c5-419b-e8fa-9fff3f40275c"
      },
      "outputs": [
        {
          "name": "stdout",
          "output_type": "stream",
          "text": [
            "years_range\n",
            " 0 a 1     0.113605\n",
            " 1 a 2     0.124418\n",
            " 2 a 3     0.117440\n",
            " 3 a 4     0.098139\n",
            " 4 a 5     0.084434\n",
            " 5 a 6     0.065258\n",
            " 6 a 8     0.058657\n",
            " 8 a 10    0.051616\n",
            "+10        0.286433\n",
            "Name: years_range, dtype: float64\n"
          ]
        }
      ],
      "source": [
        "print(df_sin_nan.groupby('years_range')['years_range'].count()/len(df_sin_nan))\n"
      ]
    },
    {
      "cell_type": "code",
      "execution_count": null,
      "metadata": {
        "id": "u7njWfCZcUyP",
        "outputId": "4f4e3712-7670-4032-d032-356466d1e986"
      },
      "outputs": [
        {
          "name": "stdout",
          "output_type": "stream",
          "text": [
            "media:  27837.509633848862\n",
            "media:  24181.535000000003\n"
          ]
        }
      ],
      "source": [
        "mean_income_gral = df_sin_nan['total_income'].mean()\n",
        "median_income_gral = df_sin_nan['total_income'].median()\n",
        "print(\"media: \", mean_income_gral)\n",
        "print(\"media: \", median_income_gral)\n"
      ]
    },
    {
      "cell_type": "markdown",
      "metadata": {
        "id": "echs4ge3cUyQ"
      },
      "source": [
        "\n",
        "- La media y la mediana no difieren significativamente, por lo que deducimos que no hay presencia de valores atipico. Por este motivo, podemos tomar la media para rellenar valores ausentes.\n",
        "\n",
        "- Se utilizara la variable \"income type' para rellenar los valores de income ausentes\n",
        "\n"
      ]
    },
    {
      "cell_type": "markdown",
      "metadata": {
        "id": "Yfc-VIhicUyQ"
      },
      "source": [
        "- Creamos una funcion que permita completar los datos ausentes de ingreso con la media de los days_employes\n"
      ]
    },
    {
      "cell_type": "code",
      "execution_count": null,
      "metadata": {
        "id": "y1CBN4_ucUyQ",
        "outputId": "4c47f99f-6b41-45f4-b7f2-99863dc73b94"
      },
      "outputs": [
        {
          "name": "stdout",
          "output_type": "stream",
          "text": [
            "25820.84168324344\n"
          ]
        }
      ],
      "source": [
        "\n",
        "\n",
        "df_mean_type = df.groupby('income_type')['total_income'].mean()\n",
        "\n",
        "def fill_nan_income (row, criterio, diccionario):\n",
        "    criterio = row[criterio]\n",
        "    income = row['total_income']\n",
        "  \n",
        "    if  np.isnan(income):\n",
        "        return diccionario[criterio]\n",
        "\n",
        "    return income\n",
        "\n",
        "##pruebo funcion\n",
        "row_values = ['employee', float('nan') ]\n",
        "row_columns = ['income_type', 'total_income']\n",
        "row = pd.Series(data = row_values, index = row_columns)\n",
        "print(fill_nan_income (row, 'income_type', df_mean_type))\n",
        "\n"
      ]
    },
    {
      "cell_type": "code",
      "execution_count": null,
      "metadata": {
        "id": "7VkzZ-JVcUyQ",
        "outputId": "04f6d943-adfd-48d1-bdfb-cb8eec6add79"
      },
      "outputs": [
        {
          "data": {
            "text/plain": [
              "income_type\n",
              "business                       32386.793835\n",
              "civil servant                  27343.729582\n",
              "employee                       25820.841683\n",
              "entrepreneur                   79866.103000\n",
              "paternity / maternity leave     8612.661000\n",
              "retiree                        21940.394503\n",
              "student                        15712.260000\n",
              "unemployed                     21014.360500\n",
              "Name: total_income, dtype: float64"
            ]
          },
          "execution_count": 54,
          "metadata": {},
          "output_type": "execute_result"
        }
      ],
      "source": [
        "df_mean_type"
      ]
    },
    {
      "cell_type": "markdown",
      "metadata": {
        "id": "iIBsIbG7cUyQ"
      },
      "source": [
        "<div class=\"alert alert-block alert-info\">\n",
        "Los valores altos fueron transformados a NAN\n",
        "    </div>"
      ]
    },
    {
      "cell_type": "code",
      "execution_count": null,
      "metadata": {
        "id": "CyCDnyZvcUyQ"
      },
      "outputs": [],
      "source": [
        "#APlicamos la funcion a todo el DF\n",
        "\n",
        "df['total_income'] = df.apply(lambda fila: fill_nan_income(fila, 'income_type', df_mean_type), axis = 1)\n"
      ]
    },
    {
      "cell_type": "code",
      "execution_count": null,
      "metadata": {
        "id": "zU_YnKGJcUyQ",
        "outputId": "524f43f0-d61c-4f2c-c2ae-a711cd2d0b98"
      },
      "outputs": [
        {
          "data": {
            "text/plain": [
              "0"
            ]
          },
          "execution_count": 56,
          "metadata": {},
          "output_type": "execute_result"
        }
      ],
      "source": [
        "df['total_income'].isna().sum()\n"
      ]
    },
    {
      "cell_type": "code",
      "execution_count": null,
      "metadata": {
        "id": "Zqzwr-ODcUyQ",
        "outputId": "200bd526-4dc7-485b-8ec8-1a6f446c4188"
      },
      "outputs": [
        {
          "name": "stdout",
          "output_type": "stream",
          "text": [
            "<class 'pandas.core.frame.DataFrame'>\n",
            "RangeIndex: 21454 entries, 0 to 21453\n",
            "Data columns (total 15 columns):\n",
            " #   Column            Non-Null Count  Dtype  \n",
            "---  ------            --------------  -----  \n",
            " 0   children          21454 non-null  int64  \n",
            " 1   days_employed     15906 non-null  float64\n",
            " 2   dob_years         21454 non-null  float64\n",
            " 3   education         21454 non-null  object \n",
            " 4   education_id      21454 non-null  int64  \n",
            " 5   family_status     21454 non-null  object \n",
            " 6   family_status_id  21454 non-null  int64  \n",
            " 7   gender            21454 non-null  object \n",
            " 8   income_type       21454 non-null  object \n",
            " 9   debt              21454 non-null  int64  \n",
            " 10  total_income      21454 non-null  float64\n",
            " 11  purpose           21454 non-null  object \n",
            " 12  age_range         21454 non-null  object \n",
            " 13  years_employed    15906 non-null  float64\n",
            " 14  years_range       21454 non-null  object \n",
            "dtypes: float64(4), int64(4), object(7)\n",
            "memory usage: 2.5+ MB\n"
          ]
        }
      ],
      "source": [
        "# Comprobar el número de entradas en las columnas\n",
        "\n",
        "df.info()"
      ]
    },
    {
      "cell_type": "markdown",
      "metadata": {
        "id": "cFJiPVYocUyQ"
      },
      "source": [
        "###  Restaurar valores en `days_employed`"
      ]
    },
    {
      "cell_type": "markdown",
      "metadata": {
        "id": "5-siDZn-cUyQ"
      },
      "source": [
        "\n",
        "- Se crea una tabla con la media y la mediana \"days employed\" para los distintos rangos etarios y para los distintos niveles de educacion. Se analiza el desvio respecto de la media y mediana general\n"
      ]
    },
    {
      "cell_type": "code",
      "execution_count": null,
      "metadata": {
        "id": "gTW8QtjXcUyR",
        "outputId": "e771dd21-a200-45ba-9882-bce69244a208",
        "pycharm": {
          "name": "#%%\n"
        },
        "scrolled": true
      },
      "outputs": [
        {
          "name": "stdout",
          "output_type": "stream",
          "text": [
            "2353.0159319988766\n",
            "1630.0193809778218\n"
          ]
        },
        {
          "data": {
            "text/html": [
              "<div>\n",
              "<style scoped>\n",
              "    .dataframe tbody tr th:only-of-type {\n",
              "        vertical-align: middle;\n",
              "    }\n",
              "\n",
              "    .dataframe tbody tr th {\n",
              "        vertical-align: top;\n",
              "    }\n",
              "\n",
              "    .dataframe thead tr th {\n",
              "        text-align: left;\n",
              "    }\n",
              "\n",
              "    .dataframe thead tr:last-of-type th {\n",
              "        text-align: right;\n",
              "    }\n",
              "</style>\n",
              "<table border=\"1\" class=\"dataframe\">\n",
              "  <thead>\n",
              "    <tr>\n",
              "      <th></th>\n",
              "      <th colspan=\"2\" halign=\"left\">days_employed</th>\n",
              "      <th>porc_mean</th>\n",
              "      <th>porc_median</th>\n",
              "    </tr>\n",
              "    <tr>\n",
              "      <th></th>\n",
              "      <th>mean</th>\n",
              "      <th>median</th>\n",
              "      <th></th>\n",
              "      <th></th>\n",
              "    </tr>\n",
              "    <tr>\n",
              "      <th>age_range</th>\n",
              "      <th></th>\n",
              "      <th></th>\n",
              "      <th></th>\n",
              "      <th></th>\n",
              "    </tr>\n",
              "  </thead>\n",
              "  <tbody>\n",
              "    <tr>\n",
              "      <th>0 a 20</th>\n",
              "      <td>633.678086</td>\n",
              "      <td>724.492610</td>\n",
              "      <td>-73.069537</td>\n",
              "      <td>-55.553129</td>\n",
              "    </tr>\n",
              "    <tr>\n",
              "      <th>20 a 30</th>\n",
              "      <td>1212.543927</td>\n",
              "      <td>999.575144</td>\n",
              "      <td>-48.468520</td>\n",
              "      <td>-38.677101</td>\n",
              "    </tr>\n",
              "    <tr>\n",
              "      <th>30 a 40</th>\n",
              "      <td>2026.411457</td>\n",
              "      <td>1589.781401</td>\n",
              "      <td>-13.880249</td>\n",
              "      <td>-2.468558</td>\n",
              "    </tr>\n",
              "    <tr>\n",
              "      <th>40 a 50</th>\n",
              "      <td>2724.978063</td>\n",
              "      <td>2009.652768</td>\n",
              "      <td>15.807888</td>\n",
              "      <td>23.290115</td>\n",
              "    </tr>\n",
              "    <tr>\n",
              "      <th>50 a 60</th>\n",
              "      <td>3260.836218</td>\n",
              "      <td>2261.863018</td>\n",
              "      <td>38.581136</td>\n",
              "      <td>38.762952</td>\n",
              "    </tr>\n",
              "    <tr>\n",
              "      <th>+60</th>\n",
              "      <td>3854.966662</td>\n",
              "      <td>2669.073965</td>\n",
              "      <td>63.830878</td>\n",
              "      <td>63.744922</td>\n",
              "    </tr>\n",
              "  </tbody>\n",
              "</table>\n",
              "</div>"
            ],
            "text/plain": [
              "          days_employed               porc_mean porc_median\n",
              "                   mean       median                       \n",
              "age_range                                                  \n",
              " 0 a 20      633.678086   724.492610 -73.069537  -55.553129\n",
              " 20 a 30    1212.543927   999.575144 -48.468520  -38.677101\n",
              " 30 a 40    2026.411457  1589.781401 -13.880249   -2.468558\n",
              " 40 a 50    2724.978063  2009.652768  15.807888   23.290115\n",
              " 50 a 60    3260.836218  2261.863018  38.581136   38.762952\n",
              "+60         3854.966662  2669.073965  63.830878   63.744922"
            ]
          },
          "execution_count": 58,
          "metadata": {},
          "output_type": "execute_result"
        }
      ],
      "source": [
        "# Distribución de las medianas de `days_employed` en función de los parámetros identificados\n",
        "\n",
        "df_sin_nan_days = df[df['days_employed'].notnull()]\n",
        "df_sin_nan_days.sort_values(by = 'days_employed', ascending = True).head()\n",
        "\n",
        "years_table_days = df_sin_nan_days.groupby('age_range').agg({'days_employed':['mean', 'median']})\n",
        "mean_days_employed = df_sin_nan_days['days_employed'].mean()\n",
        "median_days_employed = df_sin_nan_days['days_employed'].median()\n",
        "years_table_days['porc_mean'] = ((years_table_days['days_employed']['mean']/mean_days_employed)-1)*100\n",
        "years_table_days['porc_median'] = ((years_table_days['days_employed']['median']/median_days_employed)-1)*100\n",
        "\n",
        "print(mean_days_employed)\n",
        "print(median_days_employed)\n",
        "years_table_days\n"
      ]
    },
    {
      "cell_type": "code",
      "execution_count": null,
      "metadata": {
        "id": "nTuct7BVcUyR",
        "outputId": "db054b20-c095-4bb1-f203-e1bb19b5520f"
      },
      "outputs": [
        {
          "data": {
            "text/plain": [
              "age_range\n",
              " 0 a 20     0.000817\n",
              " 20 a 30    0.180058\n",
              " 30 a 40    0.319313\n",
              " 40 a 50    0.300516\n",
              " 50 a 60    0.168427\n",
              "+60         0.030869\n",
              "Name: age_range, dtype: float64"
            ]
          },
          "execution_count": 59,
          "metadata": {},
          "output_type": "execute_result"
        }
      ],
      "source": [
        "df_sin_nan_days.groupby('age_range')['age_range'].count()/len(df_sin_nan_days)"
      ]
    },
    {
      "cell_type": "code",
      "execution_count": null,
      "metadata": {
        "id": "PWquM-XrcUyR",
        "outputId": "50907800-db01-4956-abf1-40db058408ad"
      },
      "outputs": [
        {
          "data": {
            "text/html": [
              "<div>\n",
              "<style scoped>\n",
              "    .dataframe tbody tr th:only-of-type {\n",
              "        vertical-align: middle;\n",
              "    }\n",
              "\n",
              "    .dataframe tbody tr th {\n",
              "        vertical-align: top;\n",
              "    }\n",
              "\n",
              "    .dataframe thead tr th {\n",
              "        text-align: left;\n",
              "    }\n",
              "\n",
              "    .dataframe thead tr:last-of-type th {\n",
              "        text-align: right;\n",
              "    }\n",
              "</style>\n",
              "<table border=\"1\" class=\"dataframe\">\n",
              "  <thead>\n",
              "    <tr>\n",
              "      <th></th>\n",
              "      <th colspan=\"2\" halign=\"left\">days_employed</th>\n",
              "      <th>porc_mean</th>\n",
              "      <th>porc_median</th>\n",
              "    </tr>\n",
              "    <tr>\n",
              "      <th></th>\n",
              "      <th>mean</th>\n",
              "      <th>median</th>\n",
              "      <th></th>\n",
              "      <th></th>\n",
              "    </tr>\n",
              "    <tr>\n",
              "      <th>education</th>\n",
              "      <th></th>\n",
              "      <th></th>\n",
              "      <th></th>\n",
              "      <th></th>\n",
              "    </tr>\n",
              "  </thead>\n",
              "  <tbody>\n",
              "    <tr>\n",
              "      <th>bachelor's degree</th>\n",
              "      <td>2277.818710</td>\n",
              "      <td>1611.056758</td>\n",
              "      <td>-3.195780</td>\n",
              "      <td>-1.163337</td>\n",
              "    </tr>\n",
              "    <tr>\n",
              "      <th>graduate degree</th>\n",
              "      <td>3520.186537</td>\n",
              "      <td>3851.735057</td>\n",
              "      <td>49.603175</td>\n",
              "      <td>136.299955</td>\n",
              "    </tr>\n",
              "    <tr>\n",
              "      <th>primary education</th>\n",
              "      <td>1940.672957</td>\n",
              "      <td>1189.581396</td>\n",
              "      <td>-17.524020</td>\n",
              "      <td>-27.020414</td>\n",
              "    </tr>\n",
              "    <tr>\n",
              "      <th>secondary education</th>\n",
              "      <td>2434.270703</td>\n",
              "      <td>1684.271101</td>\n",
              "      <td>3.453218</td>\n",
              "      <td>3.328287</td>\n",
              "    </tr>\n",
              "    <tr>\n",
              "      <th>some college</th>\n",
              "      <td>1563.112086</td>\n",
              "      <td>1148.776820</td>\n",
              "      <td>-33.569847</td>\n",
              "      <td>-29.523732</td>\n",
              "    </tr>\n",
              "  </tbody>\n",
              "</table>\n",
              "</div>"
            ],
            "text/plain": [
              "                    days_employed               porc_mean porc_median\n",
              "                             mean       median                       \n",
              "education                                                            \n",
              "bachelor's degree     2277.818710  1611.056758  -3.195780   -1.163337\n",
              "graduate degree       3520.186537  3851.735057  49.603175  136.299955\n",
              "primary education     1940.672957  1189.581396 -17.524020  -27.020414\n",
              "secondary education   2434.270703  1684.271101   3.453218    3.328287\n",
              "some college          1563.112086  1148.776820 -33.569847  -29.523732"
            ]
          },
          "execution_count": 60,
          "metadata": {},
          "output_type": "execute_result"
        }
      ],
      "source": [
        "# Distribución de las medianas de `days_employed` en función de los parámetros identificados\n",
        "df_sin_nan_days = df[df['days_employed'].notnull()]\n",
        "df_sin_nan_days.sort_values(by = 'days_employed', ascending = True).head()\n",
        "educ_table_days = df_sin_nan_days.groupby('education').agg({'days_employed':['mean', 'median']})\n",
        "mean_days_employed = df_sin_nan_days['days_employed'].mean()\n",
        "median_days_employed = df_sin_nan_days['days_employed'].median()\n",
        "educ_table_days['porc_mean'] = ((educ_table_days['days_employed']['mean']/mean_days_employed)-1)*100\n",
        "educ_table_days['porc_median'] = ((educ_table_days['days_employed']['median']/median_days_employed)-1)*100\n",
        "educ_table_days\n"
      ]
    },
    {
      "cell_type": "code",
      "execution_count": null,
      "metadata": {
        "id": "DFOBlBwycUyR",
        "outputId": "ef21be47-fae5-43ca-8404-15f1ebf2a9f3"
      },
      "outputs": [
        {
          "data": {
            "text/plain": [
              "education\n",
              "bachelor's degree      0.263737\n",
              "graduate degree        0.000251\n",
              "primary education      0.010562\n",
              "secondary education    0.685213\n",
              "some college           0.040236\n",
              "Name: education, dtype: float64"
            ]
          },
          "execution_count": 61,
          "metadata": {},
          "output_type": "execute_result"
        }
      ],
      "source": [
        "df_sin_nan_days.groupby('education')['education'].count()/len(df_sin_nan_days)"
      ]
    },
    {
      "cell_type": "markdown",
      "metadata": {
        "id": "lT1mZCqccUyR"
      },
      "source": [
        "- Se observa una fuerte dispersion en los datos agrupados por grupo etario, con un peso retalivo de cada grupo muy similar.\n",
        "- La mayor concentracion de datos agrupados por educacion se da en \"secondary education\". Este grupo cuenta con un desvio mucho menor al observado en la agrupacion por grupos etarios\n",
        "- Dado que la media difiere significativamente de la mediana, se utilizara la mediana para restaurar valores ausentes de days_employed."
      ]
    },
    {
      "cell_type": "code",
      "execution_count": null,
      "metadata": {
        "id": "JFzQ0gqHcUyR",
        "outputId": "271e411e-2726-46be-fdc4-9ec2ab6e3f91"
      },
      "outputs": [
        {
          "name": "stdout",
          "output_type": "stream",
          "text": [
            "999.575143988219\n"
          ]
        }
      ],
      "source": [
        "\n",
        "\n",
        "df_median_age = df_sin_nan.groupby('age_range')['days_employed'].median()\n",
        "\n",
        "def fill_nan_days (row, criterio, diccionario):\n",
        "    age_range = row[criterio]\n",
        "    days_employed = row['days_employed']\n",
        "  \n",
        "    if  np.isnan(days_employed):\n",
        "        return diccionario[age_range]\n",
        "\n",
        "    return days_employed\n",
        "\n",
        "\n",
        "# Comprueba si funciona\n",
        "\n",
        "row_values = [' 20 a 30', float('nan') ]\n",
        "row_columns = ['age_range', 'days_employed']\n",
        "row = pd.Series(data = row_values, index = row_columns)\n",
        "print(fill_nan_days(row, 'age_range', df_median_age))\n",
        "\n"
      ]
    },
    {
      "cell_type": "code",
      "execution_count": null,
      "metadata": {
        "id": "JRpDfzvJcUyS"
      },
      "outputs": [],
      "source": [
        "# Aplicar la función al income_type\n",
        "\n",
        "df['days_employed'] = df.apply(lambda fila: fill_nan_days(fila, 'age_range', df_median_age), axis = 1)\n",
        "\n"
      ]
    },
    {
      "cell_type": "code",
      "execution_count": null,
      "metadata": {
        "id": "JrbM9oOCcUyS",
        "outputId": "dc089f2e-c9aa-4c3c-f3ec-9ceee7a2a788"
      },
      "outputs": [
        {
          "data": {
            "text/plain": [
              "0"
            ]
          },
          "execution_count": 64,
          "metadata": {},
          "output_type": "execute_result"
        }
      ],
      "source": [
        "# Comprueba si la función funcionó\n",
        "\n",
        "df['days_employed'].isna().sum()"
      ]
    },
    {
      "cell_type": "markdown",
      "metadata": {
        "id": "vQtMyh_HcUyS"
      },
      "source": [
        "Comprobamos que el número total de valores en la columna 'days_employed' coincida con el número de valores en otras columnas"
      ]
    },
    {
      "cell_type": "code",
      "execution_count": null,
      "metadata": {
        "id": "lliUaZn2cUyS",
        "outputId": "6bbf9e63-66d3-41cf-af03-42121609a079"
      },
      "outputs": [
        {
          "name": "stdout",
          "output_type": "stream",
          "text": [
            "<class 'pandas.core.frame.DataFrame'>\n",
            "RangeIndex: 21454 entries, 0 to 21453\n",
            "Data columns (total 15 columns):\n",
            " #   Column            Non-Null Count  Dtype  \n",
            "---  ------            --------------  -----  \n",
            " 0   children          21454 non-null  int64  \n",
            " 1   days_employed     21454 non-null  float64\n",
            " 2   dob_years         21454 non-null  float64\n",
            " 3   education         21454 non-null  object \n",
            " 4   education_id      21454 non-null  int64  \n",
            " 5   family_status     21454 non-null  object \n",
            " 6   family_status_id  21454 non-null  int64  \n",
            " 7   gender            21454 non-null  object \n",
            " 8   income_type       21454 non-null  object \n",
            " 9   debt              21454 non-null  int64  \n",
            " 10  total_income      21454 non-null  float64\n",
            " 11  purpose           21454 non-null  object \n",
            " 12  age_range         21454 non-null  object \n",
            " 13  years_employed    15906 non-null  float64\n",
            " 14  years_range       21454 non-null  object \n",
            "dtypes: float64(4), int64(4), object(7)\n",
            "memory usage: 2.5+ MB\n"
          ]
        }
      ],
      "source": [
        "# Comprueba las entradas en todas las columnas: asegúrate de que hayamos corregido todos los valores ausentes\n",
        "df.info()"
      ]
    },
    {
      "cell_type": "markdown",
      "metadata": {
        "id": "PiWeLXy6cUyS"
      },
      "source": [
        "## Clasificación de datos\n",
        "\n",
        "Para responder las preguntas formuladas se evaluaran la tasa de pago en funcion a la cantidad de hijos, la sitaucion familiar, el nivel de ingresos y el propósito del credito\n"
      ]
    },
    {
      "cell_type": "markdown",
      "metadata": {
        "id": "cWOmDAHScUyS"
      },
      "source": [
        "Vamos a comprobar los valores únicos de los datos que vamos a evaluar "
      ]
    },
    {
      "cell_type": "code",
      "execution_count": null,
      "metadata": {
        "id": "4YawaQ5hcUyS",
        "outputId": "339ae4e0-6903-4f3e-e66f-085e054b0ac2"
      },
      "outputs": [
        {
          "data": {
            "text/plain": [
              "array([40620.102, 17932.802, 23341.752, ..., 14347.61 , 39054.888,\n",
              "       13127.587])"
            ]
          },
          "execution_count": 66,
          "metadata": {},
          "output_type": "execute_result"
        }
      ],
      "source": [
        "# Comprobar los valores únicos\n",
        "df['family_status'].unique()\n",
        "df['children'].unique()\n",
        "df['purpose'].unique()\n",
        "df['total_income'].unique()"
      ]
    },
    {
      "cell_type": "markdown",
      "metadata": {
        "id": "2v8UObZncUyS"
      },
      "source": [
        "- Dada la gran cantidad de registros tanto en la columna de ingreso total como en la columna de proposito, se le asignara una categoria para poder analizar los datos con mayor facilidad"
      ]
    },
    {
      "cell_type": "code",
      "execution_count": null,
      "metadata": {
        "id": "Y0ysejf1cUyS"
      },
      "outputs": [],
      "source": [
        "# Escribamos una función para clasificar los datos en función de temas comunes\n",
        "#se crea una funcion para agrupar niveles de ingreso\n",
        "\n",
        "def income_group(total_income):\n",
        "    \n",
        "    if total_income <= 25000:\n",
        "        return 'de 0K a 25K'\n",
        "    if total_income <= 75000:\n",
        "        return 'de 25K a 75K'\n",
        "    if total_income <= 125000:\n",
        "        return 'de 75K a 125K'\n",
        "    return '+ 125K'\n",
        "\n"
      ]
    },
    {
      "cell_type": "code",
      "execution_count": null,
      "metadata": {
        "id": "VBHdb_dqcUyS"
      },
      "outputs": [],
      "source": [
        "# Crea una columna con las categorías y cuenta los valores en ellas\n",
        "\n",
        "df['income_group'] = df['total_income'].apply(income_group)\n"
      ]
    },
    {
      "cell_type": "code",
      "execution_count": null,
      "metadata": {
        "id": "1eBt4gdncUyS",
        "outputId": "4f951bd1-3f5a-4e64-f4e7-1564049e8505"
      },
      "outputs": [
        {
          "data": {
            "text/html": [
              "<div>\n",
              "<style scoped>\n",
              "    .dataframe tbody tr th:only-of-type {\n",
              "        vertical-align: middle;\n",
              "    }\n",
              "\n",
              "    .dataframe tbody tr th {\n",
              "        vertical-align: top;\n",
              "    }\n",
              "\n",
              "    .dataframe thead th {\n",
              "        text-align: right;\n",
              "    }\n",
              "</style>\n",
              "<table border=\"1\" class=\"dataframe\">\n",
              "  <thead>\n",
              "    <tr style=\"text-align: right;\">\n",
              "      <th></th>\n",
              "      <th>children</th>\n",
              "      <th>days_employed</th>\n",
              "      <th>dob_years</th>\n",
              "      <th>education</th>\n",
              "      <th>education_id</th>\n",
              "      <th>family_status</th>\n",
              "      <th>family_status_id</th>\n",
              "      <th>gender</th>\n",
              "      <th>income_type</th>\n",
              "      <th>debt</th>\n",
              "      <th>total_income</th>\n",
              "      <th>purpose</th>\n",
              "      <th>age_range</th>\n",
              "      <th>years_employed</th>\n",
              "      <th>years_range</th>\n",
              "      <th>income_group</th>\n",
              "      <th>purpose_group</th>\n",
              "    </tr>\n",
              "  </thead>\n",
              "  <tbody>\n",
              "    <tr>\n",
              "      <th>0</th>\n",
              "      <td>1</td>\n",
              "      <td>8437.673028</td>\n",
              "      <td>42.0</td>\n",
              "      <td>bachelor's degree</td>\n",
              "      <td>0</td>\n",
              "      <td>married</td>\n",
              "      <td>0</td>\n",
              "      <td>F</td>\n",
              "      <td>employee</td>\n",
              "      <td>0</td>\n",
              "      <td>40620.102</td>\n",
              "      <td>purchase of the house</td>\n",
              "      <td>40 a 50</td>\n",
              "      <td>23.437981</td>\n",
              "      <td>+10</td>\n",
              "      <td>de 25K a 75K</td>\n",
              "      <td>real estate</td>\n",
              "    </tr>\n",
              "    <tr>\n",
              "      <th>1</th>\n",
              "      <td>1</td>\n",
              "      <td>4024.803754</td>\n",
              "      <td>36.0</td>\n",
              "      <td>secondary education</td>\n",
              "      <td>1</td>\n",
              "      <td>married</td>\n",
              "      <td>0</td>\n",
              "      <td>F</td>\n",
              "      <td>employee</td>\n",
              "      <td>0</td>\n",
              "      <td>17932.802</td>\n",
              "      <td>car purchase</td>\n",
              "      <td>30 a 40</td>\n",
              "      <td>11.180010</td>\n",
              "      <td>+10</td>\n",
              "      <td>de 0K a 25K</td>\n",
              "      <td>car purchase</td>\n",
              "    </tr>\n",
              "    <tr>\n",
              "      <th>2</th>\n",
              "      <td>0</td>\n",
              "      <td>5623.422610</td>\n",
              "      <td>33.0</td>\n",
              "      <td>secondary education</td>\n",
              "      <td>1</td>\n",
              "      <td>married</td>\n",
              "      <td>0</td>\n",
              "      <td>M</td>\n",
              "      <td>employee</td>\n",
              "      <td>0</td>\n",
              "      <td>23341.752</td>\n",
              "      <td>purchase of the house</td>\n",
              "      <td>30 a 40</td>\n",
              "      <td>15.620618</td>\n",
              "      <td>+10</td>\n",
              "      <td>de 0K a 25K</td>\n",
              "      <td>real estate</td>\n",
              "    </tr>\n",
              "    <tr>\n",
              "      <th>3</th>\n",
              "      <td>3</td>\n",
              "      <td>4124.747207</td>\n",
              "      <td>32.0</td>\n",
              "      <td>secondary education</td>\n",
              "      <td>1</td>\n",
              "      <td>married</td>\n",
              "      <td>0</td>\n",
              "      <td>M</td>\n",
              "      <td>employee</td>\n",
              "      <td>0</td>\n",
              "      <td>42820.568</td>\n",
              "      <td>supplementary education</td>\n",
              "      <td>30 a 40</td>\n",
              "      <td>11.457631</td>\n",
              "      <td>+10</td>\n",
              "      <td>de 25K a 75K</td>\n",
              "      <td>education</td>\n",
              "    </tr>\n",
              "    <tr>\n",
              "      <th>4</th>\n",
              "      <td>0</td>\n",
              "      <td>2261.863018</td>\n",
              "      <td>53.0</td>\n",
              "      <td>secondary education</td>\n",
              "      <td>1</td>\n",
              "      <td>civil partnership</td>\n",
              "      <td>1</td>\n",
              "      <td>F</td>\n",
              "      <td>retiree</td>\n",
              "      <td>0</td>\n",
              "      <td>25378.572</td>\n",
              "      <td>to have a wedding</td>\n",
              "      <td>50 a 60</td>\n",
              "      <td>NaN</td>\n",
              "      <td>+10</td>\n",
              "      <td>de 25K a 75K</td>\n",
              "      <td>wedding</td>\n",
              "    </tr>\n",
              "  </tbody>\n",
              "</table>\n",
              "</div>"
            ],
            "text/plain": [
              "   children  days_employed  dob_years            education  education_id  \\\n",
              "0         1    8437.673028       42.0    bachelor's degree             0   \n",
              "1         1    4024.803754       36.0  secondary education             1   \n",
              "2         0    5623.422610       33.0  secondary education             1   \n",
              "3         3    4124.747207       32.0  secondary education             1   \n",
              "4         0    2261.863018       53.0  secondary education             1   \n",
              "\n",
              "       family_status  family_status_id gender income_type  debt  total_income  \\\n",
              "0            married                 0      F    employee     0     40620.102   \n",
              "1            married                 0      F    employee     0     17932.802   \n",
              "2            married                 0      M    employee     0     23341.752   \n",
              "3            married                 0      M    employee     0     42820.568   \n",
              "4  civil partnership                 1      F     retiree     0     25378.572   \n",
              "\n",
              "                   purpose age_range  years_employed years_range  \\\n",
              "0    purchase of the house   40 a 50       23.437981         +10   \n",
              "1             car purchase   30 a 40       11.180010         +10   \n",
              "2    purchase of the house   30 a 40       15.620618         +10   \n",
              "3  supplementary education   30 a 40       11.457631         +10   \n",
              "4        to have a wedding   50 a 60             NaN         +10   \n",
              "\n",
              "   income_group purpose_group  \n",
              "0  de 25K a 75K   real estate  \n",
              "1   de 0K a 25K  car purchase  \n",
              "2   de 0K a 25K   real estate  \n",
              "3  de 25K a 75K     education  \n",
              "4  de 25K a 75K       wedding  "
            ]
          },
          "execution_count": 81,
          "metadata": {},
          "output_type": "execute_result"
        }
      ],
      "source": [
        "# Revisar todos los datos numéricos en la columna seleccionada para la clasificación\n",
        "df.head()"
      ]
    },
    {
      "cell_type": "code",
      "execution_count": null,
      "metadata": {
        "id": "dFIGHsi_cUyS",
        "outputId": "8d6244a0-98cf-4cbc-f7bf-8843433edb4e"
      },
      "outputs": [
        {
          "data": {
            "text/plain": [
              "array(['purchase of the house', 'car purchase', 'supplementary education',\n",
              "       'to have a wedding', 'housing transactions', 'education',\n",
              "       'having a wedding', 'purchase of the house for my family',\n",
              "       'buy real estate', 'buy commercial real estate',\n",
              "       'buy residential real estate', 'construction of own property',\n",
              "       'property', 'building a property', 'buying a second-hand car',\n",
              "       'buying my own car', 'transactions with commercial real estate',\n",
              "       'building a real estate', 'housing',\n",
              "       'transactions with my real estate', 'cars', 'to become educated',\n",
              "       'second-hand car purchase', 'getting an education', 'car',\n",
              "       'wedding ceremony', 'to get a supplementary education',\n",
              "       'purchase of my own house', 'real estate transactions',\n",
              "       'getting higher education', 'to own a car', 'purchase of a car',\n",
              "       'profile education', 'university education',\n",
              "       'buying property for renting out', 'to buy a car',\n",
              "       'housing renovation', 'going to university'], dtype=object)"
            ]
          },
          "execution_count": 73,
          "metadata": {},
          "output_type": "execute_result"
        }
      ],
      "source": [
        "# Crear una columna con categorías\n",
        "df['purpose'].unique()"
      ]
    },
    {
      "cell_type": "code",
      "execution_count": null,
      "metadata": {
        "id": "fxmYrRHvcUyT",
        "outputId": "56602e2d-ad7e-4f60-c7a0-c4a69e0823e9"
      },
      "outputs": [
        {
          "data": {
            "text/plain": [
              "'car purchase'"
            ]
          },
          "execution_count": 74,
          "metadata": {},
          "output_type": "execute_result"
        }
      ],
      "source": [
        "# Crear una función para clasificar en diferentes grupos numéricos basándose en rangos\n",
        "\n",
        "\n",
        "\n",
        "def agrupar_purpose (purpose):\n",
        "    \n",
        "    \n",
        "    if ('education' or 'educated' or 'university') in purpose:\n",
        "        return \"education\"\n",
        "    if 'car' in purpose:\n",
        "        return \"car purchase\"\n",
        "    if 'wedding' in purpose:\n",
        "        return \"wedding\"\n",
        "    return \"real estate\"\n",
        "\n",
        "agrupar_purpose('get a car')"
      ]
    },
    {
      "cell_type": "code",
      "execution_count": null,
      "metadata": {
        "id": "SUFm6L82cUyT",
        "outputId": "faf87509-ec74-48a6-a4d0-ff6de5ff35de"
      },
      "outputs": [
        {
          "data": {
            "text/html": [
              "<div>\n",
              "<style scoped>\n",
              "    .dataframe tbody tr th:only-of-type {\n",
              "        vertical-align: middle;\n",
              "    }\n",
              "\n",
              "    .dataframe tbody tr th {\n",
              "        vertical-align: top;\n",
              "    }\n",
              "\n",
              "    .dataframe thead th {\n",
              "        text-align: right;\n",
              "    }\n",
              "</style>\n",
              "<table border=\"1\" class=\"dataframe\">\n",
              "  <thead>\n",
              "    <tr style=\"text-align: right;\">\n",
              "      <th></th>\n",
              "      <th>children</th>\n",
              "      <th>days_employed</th>\n",
              "      <th>dob_years</th>\n",
              "      <th>education</th>\n",
              "      <th>education_id</th>\n",
              "      <th>family_status</th>\n",
              "      <th>family_status_id</th>\n",
              "      <th>gender</th>\n",
              "      <th>income_type</th>\n",
              "      <th>debt</th>\n",
              "      <th>total_income</th>\n",
              "      <th>purpose</th>\n",
              "      <th>age_range</th>\n",
              "      <th>years_employed</th>\n",
              "      <th>years_range</th>\n",
              "      <th>income_group</th>\n",
              "      <th>purpose_group</th>\n",
              "    </tr>\n",
              "  </thead>\n",
              "  <tbody>\n",
              "    <tr>\n",
              "      <th>0</th>\n",
              "      <td>1</td>\n",
              "      <td>8437.673028</td>\n",
              "      <td>42.0</td>\n",
              "      <td>bachelor's degree</td>\n",
              "      <td>0</td>\n",
              "      <td>married</td>\n",
              "      <td>0</td>\n",
              "      <td>F</td>\n",
              "      <td>employee</td>\n",
              "      <td>0</td>\n",
              "      <td>40620.102</td>\n",
              "      <td>purchase of the house</td>\n",
              "      <td>40 a 50</td>\n",
              "      <td>23.437981</td>\n",
              "      <td>+10</td>\n",
              "      <td>de 25K a 75K</td>\n",
              "      <td>real estate</td>\n",
              "    </tr>\n",
              "    <tr>\n",
              "      <th>1</th>\n",
              "      <td>1</td>\n",
              "      <td>4024.803754</td>\n",
              "      <td>36.0</td>\n",
              "      <td>secondary education</td>\n",
              "      <td>1</td>\n",
              "      <td>married</td>\n",
              "      <td>0</td>\n",
              "      <td>F</td>\n",
              "      <td>employee</td>\n",
              "      <td>0</td>\n",
              "      <td>17932.802</td>\n",
              "      <td>car purchase</td>\n",
              "      <td>30 a 40</td>\n",
              "      <td>11.180010</td>\n",
              "      <td>+10</td>\n",
              "      <td>de 0K a 25K</td>\n",
              "      <td>car purchase</td>\n",
              "    </tr>\n",
              "    <tr>\n",
              "      <th>2</th>\n",
              "      <td>0</td>\n",
              "      <td>5623.422610</td>\n",
              "      <td>33.0</td>\n",
              "      <td>secondary education</td>\n",
              "      <td>1</td>\n",
              "      <td>married</td>\n",
              "      <td>0</td>\n",
              "      <td>M</td>\n",
              "      <td>employee</td>\n",
              "      <td>0</td>\n",
              "      <td>23341.752</td>\n",
              "      <td>purchase of the house</td>\n",
              "      <td>30 a 40</td>\n",
              "      <td>15.620618</td>\n",
              "      <td>+10</td>\n",
              "      <td>de 0K a 25K</td>\n",
              "      <td>real estate</td>\n",
              "    </tr>\n",
              "    <tr>\n",
              "      <th>3</th>\n",
              "      <td>3</td>\n",
              "      <td>4124.747207</td>\n",
              "      <td>32.0</td>\n",
              "      <td>secondary education</td>\n",
              "      <td>1</td>\n",
              "      <td>married</td>\n",
              "      <td>0</td>\n",
              "      <td>M</td>\n",
              "      <td>employee</td>\n",
              "      <td>0</td>\n",
              "      <td>42820.568</td>\n",
              "      <td>supplementary education</td>\n",
              "      <td>30 a 40</td>\n",
              "      <td>11.457631</td>\n",
              "      <td>+10</td>\n",
              "      <td>de 25K a 75K</td>\n",
              "      <td>education</td>\n",
              "    </tr>\n",
              "    <tr>\n",
              "      <th>4</th>\n",
              "      <td>0</td>\n",
              "      <td>2261.863018</td>\n",
              "      <td>53.0</td>\n",
              "      <td>secondary education</td>\n",
              "      <td>1</td>\n",
              "      <td>civil partnership</td>\n",
              "      <td>1</td>\n",
              "      <td>F</td>\n",
              "      <td>retiree</td>\n",
              "      <td>0</td>\n",
              "      <td>25378.572</td>\n",
              "      <td>to have a wedding</td>\n",
              "      <td>50 a 60</td>\n",
              "      <td>NaN</td>\n",
              "      <td>+10</td>\n",
              "      <td>de 25K a 75K</td>\n",
              "      <td>wedding</td>\n",
              "    </tr>\n",
              "  </tbody>\n",
              "</table>\n",
              "</div>"
            ],
            "text/plain": [
              "   children  days_employed  dob_years            education  education_id  \\\n",
              "0         1    8437.673028       42.0    bachelor's degree             0   \n",
              "1         1    4024.803754       36.0  secondary education             1   \n",
              "2         0    5623.422610       33.0  secondary education             1   \n",
              "3         3    4124.747207       32.0  secondary education             1   \n",
              "4         0    2261.863018       53.0  secondary education             1   \n",
              "\n",
              "       family_status  family_status_id gender income_type  debt  total_income  \\\n",
              "0            married                 0      F    employee     0     40620.102   \n",
              "1            married                 0      F    employee     0     17932.802   \n",
              "2            married                 0      M    employee     0     23341.752   \n",
              "3            married                 0      M    employee     0     42820.568   \n",
              "4  civil partnership                 1      F     retiree     0     25378.572   \n",
              "\n",
              "                   purpose age_range  years_employed years_range  \\\n",
              "0    purchase of the house   40 a 50       23.437981         +10   \n",
              "1             car purchase   30 a 40       11.180010         +10   \n",
              "2    purchase of the house   30 a 40       15.620618         +10   \n",
              "3  supplementary education   30 a 40       11.457631         +10   \n",
              "4        to have a wedding   50 a 60             NaN         +10   \n",
              "\n",
              "   income_group purpose_group  \n",
              "0  de 25K a 75K   real estate  \n",
              "1   de 0K a 25K  car purchase  \n",
              "2   de 0K a 25K   real estate  \n",
              "3  de 25K a 75K     education  \n",
              "4  de 25K a 75K       wedding  "
            ]
          },
          "execution_count": 75,
          "metadata": {},
          "output_type": "execute_result"
        }
      ],
      "source": [
        "df['purpose_group'] = df['purpose'].apply(agrupar_purpose)\n",
        "df.head()"
      ]
    },
    {
      "cell_type": "markdown",
      "metadata": {
        "id": "mwFERz1McUyT"
      },
      "source": [
        "## Comprobación de las hipótesis\n"
      ]
    },
    {
      "cell_type": "markdown",
      "metadata": {
        "id": "dDGo5GwWcUyT"
      },
      "source": [
        "Evaluamos las tasas de incumplimiento de los distintos grupos"
      ]
    },
    {
      "cell_type": "code",
      "execution_count": null,
      "metadata": {
        "id": "-Y0f5aLMcUyT",
        "outputId": "d2e55bd8-8f00-4602-a329-3576a835877b"
      },
      "outputs": [
        {
          "data": {
            "text/html": [
              "<div>\n",
              "<style scoped>\n",
              "    .dataframe tbody tr th:only-of-type {\n",
              "        vertical-align: middle;\n",
              "    }\n",
              "\n",
              "    .dataframe tbody tr th {\n",
              "        vertical-align: top;\n",
              "    }\n",
              "\n",
              "    .dataframe thead tr th {\n",
              "        text-align: left;\n",
              "    }\n",
              "\n",
              "    .dataframe thead tr:last-of-type th {\n",
              "        text-align: right;\n",
              "    }\n",
              "</style>\n",
              "<table border=\"1\" class=\"dataframe\">\n",
              "  <thead>\n",
              "    <tr>\n",
              "      <th></th>\n",
              "      <th colspan=\"2\" halign=\"left\">debt</th>\n",
              "      <th>rate</th>\n",
              "    </tr>\n",
              "    <tr>\n",
              "      <th></th>\n",
              "      <th>sum</th>\n",
              "      <th>count</th>\n",
              "      <th></th>\n",
              "    </tr>\n",
              "    <tr>\n",
              "      <th>purpose_group</th>\n",
              "      <th></th>\n",
              "      <th></th>\n",
              "      <th></th>\n",
              "    </tr>\n",
              "  </thead>\n",
              "  <tbody>\n",
              "    <tr>\n",
              "      <th>car purchase</th>\n",
              "      <td>403</td>\n",
              "      <td>4306</td>\n",
              "      <td>9.359034</td>\n",
              "    </tr>\n",
              "    <tr>\n",
              "      <th>education</th>\n",
              "      <td>288</td>\n",
              "      <td>3109</td>\n",
              "      <td>9.263429</td>\n",
              "    </tr>\n",
              "    <tr>\n",
              "      <th>real estate</th>\n",
              "      <td>864</td>\n",
              "      <td>11715</td>\n",
              "      <td>7.375160</td>\n",
              "    </tr>\n",
              "    <tr>\n",
              "      <th>wedding</th>\n",
              "      <td>186</td>\n",
              "      <td>2324</td>\n",
              "      <td>8.003442</td>\n",
              "    </tr>\n",
              "  </tbody>\n",
              "</table>\n",
              "</div>"
            ],
            "text/plain": [
              "              debt             rate\n",
              "               sum  count          \n",
              "purpose_group                      \n",
              "car purchase   403   4306  9.359034\n",
              "education      288   3109  9.263429\n",
              "real estate    864  11715  7.375160\n",
              "wedding        186   2324  8.003442"
            ]
          },
          "execution_count": 76,
          "metadata": {},
          "output_type": "execute_result"
        }
      ],
      "source": [
        "##evaluamos tasa de deuda por proposito\n",
        "debt_by_purpose = df.groupby('purpose_group').agg({'debt':['sum', 'count']})\n",
        "debt_by_purpose['rate'] = debt_by_purpose['debt']['sum']/debt_by_purpose['debt']['count']*100\n",
        "debt_by_purpose"
      ]
    },
    {
      "cell_type": "markdown",
      "metadata": {
        "id": "V_adCjX5cUyT",
        "scrolled": true
      },
      "source": [
        "- La tasa de deuda es relativamente similar para los distintos propositos del credito\n"
      ]
    },
    {
      "cell_type": "code",
      "execution_count": null,
      "metadata": {
        "id": "RgCsqCUscUyT",
        "outputId": "a43a0859-4447-4ffe-a0f0-4dd4d70d55c3"
      },
      "outputs": [
        {
          "data": {
            "text/html": [
              "<div>\n",
              "<style scoped>\n",
              "    .dataframe tbody tr th:only-of-type {\n",
              "        vertical-align: middle;\n",
              "    }\n",
              "\n",
              "    .dataframe tbody tr th {\n",
              "        vertical-align: top;\n",
              "    }\n",
              "\n",
              "    .dataframe thead tr th {\n",
              "        text-align: left;\n",
              "    }\n",
              "\n",
              "    .dataframe thead tr:last-of-type th {\n",
              "        text-align: right;\n",
              "    }\n",
              "</style>\n",
              "<table border=\"1\" class=\"dataframe\">\n",
              "  <thead>\n",
              "    <tr>\n",
              "      <th></th>\n",
              "      <th colspan=\"2\" halign=\"left\">debt</th>\n",
              "      <th>rate</th>\n",
              "    </tr>\n",
              "    <tr>\n",
              "      <th></th>\n",
              "      <th>sum</th>\n",
              "      <th>count</th>\n",
              "      <th></th>\n",
              "    </tr>\n",
              "    <tr>\n",
              "      <th>children</th>\n",
              "      <th></th>\n",
              "      <th></th>\n",
              "      <th></th>\n",
              "    </tr>\n",
              "  </thead>\n",
              "  <tbody>\n",
              "    <tr>\n",
              "      <th>0</th>\n",
              "      <td>1063</td>\n",
              "      <td>14091</td>\n",
              "      <td>7.543822</td>\n",
              "    </tr>\n",
              "    <tr>\n",
              "      <th>1</th>\n",
              "      <td>445</td>\n",
              "      <td>4855</td>\n",
              "      <td>9.165808</td>\n",
              "    </tr>\n",
              "    <tr>\n",
              "      <th>2</th>\n",
              "      <td>202</td>\n",
              "      <td>2128</td>\n",
              "      <td>9.492481</td>\n",
              "    </tr>\n",
              "    <tr>\n",
              "      <th>3</th>\n",
              "      <td>27</td>\n",
              "      <td>330</td>\n",
              "      <td>8.181818</td>\n",
              "    </tr>\n",
              "    <tr>\n",
              "      <th>4</th>\n",
              "      <td>4</td>\n",
              "      <td>41</td>\n",
              "      <td>9.756098</td>\n",
              "    </tr>\n",
              "    <tr>\n",
              "      <th>5</th>\n",
              "      <td>0</td>\n",
              "      <td>9</td>\n",
              "      <td>0.000000</td>\n",
              "    </tr>\n",
              "  </tbody>\n",
              "</table>\n",
              "</div>"
            ],
            "text/plain": [
              "          debt             rate\n",
              "           sum  count          \n",
              "children                       \n",
              "0         1063  14091  7.543822\n",
              "1          445   4855  9.165808\n",
              "2          202   2128  9.492481\n",
              "3           27    330  8.181818\n",
              "4            4     41  9.756098\n",
              "5            0      9  0.000000"
            ]
          },
          "execution_count": 77,
          "metadata": {},
          "output_type": "execute_result"
        }
      ],
      "source": [
        "debt_by_children = df.groupby('children').agg({'debt':['sum', 'count']})\n",
        "debt_by_children['rate'] = debt_by_children['debt']['sum']/debt_by_children['debt']['count']*100\n",
        "debt_by_children"
      ]
    },
    {
      "cell_type": "markdown",
      "metadata": {
        "id": "B-wijut9cUyT"
      },
      "source": [
        "- La tasa de deuda es relativamente similar para las distintas cantidad de hijos de los clientes\n",
        "\n"
      ]
    },
    {
      "cell_type": "code",
      "execution_count": null,
      "metadata": {
        "id": "xmFUYDaPcUyT",
        "outputId": "ad8793b5-6a68-4fc5-b941-23ec0b17d008"
      },
      "outputs": [
        {
          "data": {
            "text/html": [
              "<div>\n",
              "<style scoped>\n",
              "    .dataframe tbody tr th:only-of-type {\n",
              "        vertical-align: middle;\n",
              "    }\n",
              "\n",
              "    .dataframe tbody tr th {\n",
              "        vertical-align: top;\n",
              "    }\n",
              "\n",
              "    .dataframe thead tr th {\n",
              "        text-align: left;\n",
              "    }\n",
              "\n",
              "    .dataframe thead tr:last-of-type th {\n",
              "        text-align: right;\n",
              "    }\n",
              "</style>\n",
              "<table border=\"1\" class=\"dataframe\">\n",
              "  <thead>\n",
              "    <tr>\n",
              "      <th></th>\n",
              "      <th colspan=\"2\" halign=\"left\">debt</th>\n",
              "      <th>rate</th>\n",
              "    </tr>\n",
              "    <tr>\n",
              "      <th></th>\n",
              "      <th>sum</th>\n",
              "      <th>count</th>\n",
              "      <th></th>\n",
              "    </tr>\n",
              "    <tr>\n",
              "      <th>family_status</th>\n",
              "      <th></th>\n",
              "      <th></th>\n",
              "      <th></th>\n",
              "    </tr>\n",
              "  </thead>\n",
              "  <tbody>\n",
              "    <tr>\n",
              "      <th>civil partnership</th>\n",
              "      <td>388</td>\n",
              "      <td>4151</td>\n",
              "      <td>9.347145</td>\n",
              "    </tr>\n",
              "    <tr>\n",
              "      <th>divorced</th>\n",
              "      <td>85</td>\n",
              "      <td>1195</td>\n",
              "      <td>7.112971</td>\n",
              "    </tr>\n",
              "    <tr>\n",
              "      <th>married</th>\n",
              "      <td>931</td>\n",
              "      <td>12339</td>\n",
              "      <td>7.545182</td>\n",
              "    </tr>\n",
              "    <tr>\n",
              "      <th>unmarried</th>\n",
              "      <td>274</td>\n",
              "      <td>2810</td>\n",
              "      <td>9.750890</td>\n",
              "    </tr>\n",
              "    <tr>\n",
              "      <th>widow / widower</th>\n",
              "      <td>63</td>\n",
              "      <td>959</td>\n",
              "      <td>6.569343</td>\n",
              "    </tr>\n",
              "  </tbody>\n",
              "</table>\n",
              "</div>"
            ],
            "text/plain": [
              "                  debt             rate\n",
              "                   sum  count          \n",
              "family_status                          \n",
              "civil partnership  388   4151  9.347145\n",
              "divorced            85   1195  7.112971\n",
              "married            931  12339  7.545182\n",
              "unmarried          274   2810  9.750890\n",
              "widow / widower     63    959  6.569343"
            ]
          },
          "execution_count": 78,
          "metadata": {},
          "output_type": "execute_result"
        }
      ],
      "source": [
        "debt_by_family_status = df.groupby('family_status').agg({'debt':['sum', 'count']})\n",
        "debt_by_family_status['rate'] = debt_by_family_status['debt']['sum']/debt_by_family_status['debt']['count']*100\n",
        "debt_by_family_status"
      ]
    },
    {
      "cell_type": "markdown",
      "metadata": {
        "id": "zw9yz3STcUyT"
      },
      "source": [
        "- Los clientes unidos civilmente y los no casados presentan tasas de deuda levemente superiores a los demas grupos"
      ]
    },
    {
      "cell_type": "code",
      "execution_count": null,
      "metadata": {
        "id": "c6mmV-MScUyT",
        "outputId": "8cb450ea-70d1-4521-daea-0537162dfb1f",
        "scrolled": true
      },
      "outputs": [
        {
          "data": {
            "text/html": [
              "<div>\n",
              "<style scoped>\n",
              "    .dataframe tbody tr th:only-of-type {\n",
              "        vertical-align: middle;\n",
              "    }\n",
              "\n",
              "    .dataframe tbody tr th {\n",
              "        vertical-align: top;\n",
              "    }\n",
              "\n",
              "    .dataframe thead tr th {\n",
              "        text-align: left;\n",
              "    }\n",
              "\n",
              "    .dataframe thead tr:last-of-type th {\n",
              "        text-align: right;\n",
              "    }\n",
              "</style>\n",
              "<table border=\"1\" class=\"dataframe\">\n",
              "  <thead>\n",
              "    <tr>\n",
              "      <th></th>\n",
              "      <th colspan=\"2\" halign=\"left\">debt</th>\n",
              "      <th>rate</th>\n",
              "    </tr>\n",
              "    <tr>\n",
              "      <th></th>\n",
              "      <th>sum</th>\n",
              "      <th>count</th>\n",
              "      <th></th>\n",
              "    </tr>\n",
              "    <tr>\n",
              "      <th>income_group</th>\n",
              "      <th></th>\n",
              "      <th></th>\n",
              "      <th></th>\n",
              "    </tr>\n",
              "  </thead>\n",
              "  <tbody>\n",
              "    <tr>\n",
              "      <th>+ 125K</th>\n",
              "      <td>4</td>\n",
              "      <td>44</td>\n",
              "      <td>9.090909</td>\n",
              "    </tr>\n",
              "    <tr>\n",
              "      <th>de 0K a 25K</th>\n",
              "      <td>931</td>\n",
              "      <td>11134</td>\n",
              "      <td>8.361775</td>\n",
              "    </tr>\n",
              "    <tr>\n",
              "      <th>de 25K a 75K</th>\n",
              "      <td>794</td>\n",
              "      <td>10031</td>\n",
              "      <td>7.915462</td>\n",
              "    </tr>\n",
              "    <tr>\n",
              "      <th>de 75K a 125K</th>\n",
              "      <td>12</td>\n",
              "      <td>245</td>\n",
              "      <td>4.897959</td>\n",
              "    </tr>\n",
              "  </tbody>\n",
              "</table>\n",
              "</div>"
            ],
            "text/plain": [
              "              debt             rate\n",
              "               sum  count          \n",
              "income_group                       \n",
              "+ 125K           4     44  9.090909\n",
              "de 0K a 25K    931  11134  8.361775\n",
              "de 25K a 75K   794  10031  7.915462\n",
              "de 75K a 125K   12    245  4.897959"
            ]
          },
          "execution_count": 82,
          "metadata": {},
          "output_type": "execute_result"
        }
      ],
      "source": [
        "##Evaluamos las tasas de deuda segun ingresos\n",
        "\n",
        "debt_by_income = df.groupby('income_group').agg({'debt':['sum', 'count']})\n",
        "debt_by_income['rate'] = debt_by_income['debt']['sum']/debt_by_income['debt']['count']*100\n",
        "debt_by_income"
      ]
    },
    {
      "cell_type": "markdown",
      "metadata": {
        "id": "z05PWW8dcUyU"
      },
      "source": [
        "- Al evaluar los deudores segun los niveles de ingresos se observa que aquellos con menores ingresos cuentan la las mayores tasas de deuda. Cabe resaltar que para ingresos superiores a 1250 mil, la tasa resulto algo superior pero dado que la muestra es pequeña en relaciona las otras, no puede establecerse un patron a partir de ella. "
      ]
    },
    {
      "cell_type": "markdown",
      "metadata": {
        "id": "PASj9TFFcUyW"
      },
      "source": [
        "**¿Existe una correlación entre tener hijos y pagar a tiempo?**"
      ]
    },
    {
      "cell_type": "markdown",
      "metadata": {
        "id": "ZfgN7LaCcUyW"
      },
      "source": [
        "La tasa de deudores para los grupos analizamos por cantidad de hijos son relativamente similares, por lo que no se puede afirmar que el pago a tiempo dependa de la cantidad de hijos\n",
        "\n"
      ]
    },
    {
      "cell_type": "markdown",
      "metadata": {
        "id": "PmaWpii_cUyW"
      },
      "source": [
        "**¿Existe una correlación entre la situación familiar y el pago a tiempo?**"
      ]
    },
    {
      "cell_type": "markdown",
      "metadata": {
        "id": "4T1PVha4cUyW"
      },
      "source": [
        "\n",
        "- Los clientes unidos civilmente y los no casados presentan tasas de deuda levemente superiores a los demas grupos. sin embargo la diferencia es leve y no permite afirmar que exista un patron relacionado al estado civil de los clientes"
      ]
    },
    {
      "cell_type": "markdown",
      "metadata": {
        "id": "gGu4GFDdcUyW"
      },
      "source": [
        "**¿Existe una correlación entre el nivel de ingresos y el pago a tiempo?**"
      ]
    },
    {
      "cell_type": "markdown",
      "metadata": {
        "id": "fpTKzjFXcUyX"
      },
      "source": [
        "Al evaluar los deudores segun los niveles de ingresos se observa que aquellos con menores ingresos cuentan la las mayores tasas de deuda. Cabe resaltar que para ingresos superiores a 300 mil, la tasa resulto del 50% pero dado que la muestra es muy pequeña (solo 2 clientes), no se considerara para establecer una relacion con el nivel de ingresos.\n"
      ]
    },
    {
      "cell_type": "markdown",
      "metadata": {
        "id": "7Q0VReO5cUyX"
      },
      "source": [
        "**¿Cómo afecta el propósito del crédito a la tasa de incumplimiento?**"
      ]
    },
    {
      "cell_type": "markdown",
      "metadata": {
        "id": "6XozAaukcUyX"
      },
      "source": [
        "La tasa de deuda es levemente superior para propositos relacionados con educacion y compra de autos. Sin embargo la diferencia de tasas no es demasiado significativa como para establecer un patron de dependencia entra dicahas categorias"
      ]
    },
    {
      "cell_type": "markdown",
      "metadata": {
        "id": "t8bF1VIAcUyX"
      },
      "source": [
        "# Conclusión general \n",
        "\n",
        "\n"
      ]
    },
    {
      "cell_type": "markdown",
      "metadata": {
        "id": "Jf_VgfB2cUyX"
      },
      "source": [
        "Inicialmente se trabajo en el procesamiento de datos: \n",
        "\n",
        "- Se le eliminaron los datos conflictivos de cantidad de hijos:  alos valores -1 se los reemplazo por 1 y a los valores 20 se los reemplazo por 2 (asuemiento que se trato de algun tipo de error de tipeo o tecnico)\n",
        "- Se le eliminaron los datos conflictivos de edad (valores 0), que fueron reemplazados por el valor medio de la edad\n",
        "- Se le eliminarion los duplicados (71 registros)\n",
        "- Los valores extremadamente grandes de experiencia laboral, fueron reemplazados por NAN, para luego ser tratados junto con el resto de los valores ausentes para dicha variable\n",
        "- Los valores ausentes de ingresos fueron rellenados de acuerdo a la media de ingresos para los ditintos tipos de ingresos\n",
        "- Los valores ausentes de experiencia fueron rellenados de acuerdo a la media de ingresos para los ditintosrangos etarios\n",
        "\n",
        "\n",
        "A su vez se pudo determinar que:\n",
        "\n",
        "- los valores negativos de experiencia laboral se debian a problemas tecnicos de signo por lo que se procedio a corregir los mismos\n",
        "- los valores nulos en experiencia laboral eran simetricos con valores nulos en Ingresos, no encontrasndose ningun patron para la aparicion de dichos registros\n",
        "\n",
        "Del analisis de las tasas de incumplimiento de pago, se concluyo que:\n",
        "\n",
        "- La mayor tasa de incumplimiento de pago se da en clientes de menores ingresos\n",
        "- Para el resto de las variables analizadas (proposito, cantidad de hijos y estado civil), no se pude identificar un patron entre dichas variables y la tasa de incumplimiento de pago de deuda"
      ]
    },
    {
      "cell_type": "code",
      "execution_count": null,
      "metadata": {
        "id": "i-kxiT1TcUyX"
      },
      "outputs": [],
      "source": []
    }
  ],
  "metadata": {
    "ExecuteTimeLog": [
      {
        "duration": 2741,
        "start_time": "2021-10-21T01:08:49.480Z"
      },
      {
        "duration": 52,
        "start_time": "2021-10-21T01:08:53.315Z"
      },
      {
        "duration": 49,
        "start_time": "2021-10-21T01:08:57.432Z"
      },
      {
        "duration": 70,
        "start_time": "2021-10-21T01:09:07.706Z"
      }
    ],
    "colab": {
      "include_colab_link": true,
      "provenance": []
    },
    "kernelspec": {
      "display_name": "Python 3 (ipykernel)",
      "language": "python",
      "name": "python3"
    },
    "language_info": {
      "codemirror_mode": {
        "name": "ipython",
        "version": 3
      },
      "file_extension": ".py",
      "mimetype": "text/x-python",
      "name": "python",
      "nbconvert_exporter": "python",
      "pygments_lexer": "ipython3",
      "version": "3.9.5"
    },
    "toc": {
      "base_numbering": 1,
      "nav_menu": {},
      "number_sections": true,
      "sideBar": true,
      "skip_h1_title": true,
      "title_cell": "Table of Contents",
      "title_sidebar": "Contents",
      "toc_cell": false,
      "toc_position": {},
      "toc_section_display": true,
      "toc_window_display": false
    }
  },
  "nbformat": 4,
  "nbformat_minor": 0
}
