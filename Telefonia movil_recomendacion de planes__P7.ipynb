{
 "cells": [
  {
   "cell_type": "markdown",
   "metadata": {},
   "source": [
    "# Descripción del proyecto\n",
    "\n",
    "La compañía móvil Megaline no está satisfecha al ver que muchos de sus clientes utilizan planes heredados. Quieren desarrollar un modelo que pueda analizar el comportamiento de los clientes y recomendar uno de los nuevos planes de Megaline: Smart o Ultra.\n",
    "\n",
    "Se tiene acceso a los datos de comportamiento de los suscriptores que ya se han cambiado a los planes nuevos. (los datos ya están procesado)\n"
   ]
  },
  {
   "cell_type": "markdown",
   "metadata": {},
   "source": [
    "# Tabla de contenidos\n",
    "\n",
    "* [1- Importación de librerias y carga de datos](#chapter1)\n",
    "    * [Se cargan las librerías necesarias](#section_1_1)\n",
    "    * [Se cargan los datos proporcionados](#section_1_2)\n",
    "    \n",
    "* [2 - Seleccion del modelo](#chapter2)\n",
    "\n",
    "    * [Se segmentan los datos en tres conjuntos de entrenamiento, validación y prueba](#section_2_1)\n",
    "    * [Se evalúa la calidad de los diferentes modelos de clasificación: se entrenarán los modelos con el conjunto de datos de entrenamiento y se calculará su nivel de exactitud (accuracy) con el conjunto de validación](#section_2_2)\n",
    "       -  Modelo árbol de decisión: utilizando un ciclo FOR, se buscará el valor de profundidad del arbol que permita obtener el mayor valor accuracy\n",
    "       - Modelo bosque aleatorio: utilizando dos ciclos FOR, se buscará el valor de profundidad del árbol y la cantidad de estimadores que permitan obtener el mayor valor accuracy\n",
    "       - Regresion logística: se calculará el valor del score para el modelo  \n",
    "    * [Se selecciona el modelo con mayor exactitud y se evalúa su calidad utilizando el conjunto de prueba](#section_2_3)\n",
    "    \n",
    "    \n",
    "* [3- Prueba de cordura](#chapter3)\n",
    "    \n",
    "     \n",
    "* [4- Conclusiones](#chapter4)"
   ]
  },
  {
   "cell_type": "markdown",
   "metadata": {},
   "source": [
    "# 1- Importación de librerias y carga de datos <a class=\"anchor\" id=\"chapter1\"></a>\n"
   ]
  },
  {
   "cell_type": "markdown",
   "metadata": {},
   "source": [
    " 1_1 Importación de las librerias <a class=\"anchor\" id=\"section_1_1\"></a>\n",
    " "
   ]
  },
  {
   "cell_type": "code",
   "execution_count": 1,
   "metadata": {},
   "outputs": [],
   "source": [
    "#Se importan las librerias\n",
    "\n",
    "import pandas as pd\n",
    "import numpy as np\n",
    "from sklearn.model_selection import train_test_split \n",
    "from sklearn.metrics import accuracy_score\n",
    "from sklearn.tree import DecisionTreeClassifier\n",
    "from sklearn.ensemble import RandomForestClassifier\n",
    "from sklearn.linear_model import LogisticRegression\n"
   ]
  },
  {
   "cell_type": "markdown",
   "metadata": {},
   "source": [
    " 1_2 Carga y analisis prelimiar de los datos <a class=\"anchor\" id=\"section_1_2\"></a>"
   ]
  },
  {
   "cell_type": "code",
   "execution_count": 2,
   "metadata": {},
   "outputs": [],
   "source": [
    "#Se cargan los datos\n",
    "\n",
    "df = pd.read_csv('/datasets/users_behavior.csv')"
   ]
  },
  {
   "cell_type": "code",
   "execution_count": 3,
   "metadata": {},
   "outputs": [
    {
     "data": {
      "text/html": [
       "<div>\n",
       "<style scoped>\n",
       "    .dataframe tbody tr th:only-of-type {\n",
       "        vertical-align: middle;\n",
       "    }\n",
       "\n",
       "    .dataframe tbody tr th {\n",
       "        vertical-align: top;\n",
       "    }\n",
       "\n",
       "    .dataframe thead th {\n",
       "        text-align: right;\n",
       "    }\n",
       "</style>\n",
       "<table border=\"1\" class=\"dataframe\">\n",
       "  <thead>\n",
       "    <tr style=\"text-align: right;\">\n",
       "      <th></th>\n",
       "      <th>calls</th>\n",
       "      <th>minutes</th>\n",
       "      <th>messages</th>\n",
       "      <th>mb_used</th>\n",
       "      <th>is_ultra</th>\n",
       "    </tr>\n",
       "  </thead>\n",
       "  <tbody>\n",
       "    <tr>\n",
       "      <th>0</th>\n",
       "      <td>40.0</td>\n",
       "      <td>311.90</td>\n",
       "      <td>83.0</td>\n",
       "      <td>19915.42</td>\n",
       "      <td>0</td>\n",
       "    </tr>\n",
       "    <tr>\n",
       "      <th>1</th>\n",
       "      <td>85.0</td>\n",
       "      <td>516.75</td>\n",
       "      <td>56.0</td>\n",
       "      <td>22696.96</td>\n",
       "      <td>0</td>\n",
       "    </tr>\n",
       "    <tr>\n",
       "      <th>2</th>\n",
       "      <td>77.0</td>\n",
       "      <td>467.66</td>\n",
       "      <td>86.0</td>\n",
       "      <td>21060.45</td>\n",
       "      <td>0</td>\n",
       "    </tr>\n",
       "    <tr>\n",
       "      <th>3</th>\n",
       "      <td>106.0</td>\n",
       "      <td>745.53</td>\n",
       "      <td>81.0</td>\n",
       "      <td>8437.39</td>\n",
       "      <td>1</td>\n",
       "    </tr>\n",
       "    <tr>\n",
       "      <th>4</th>\n",
       "      <td>66.0</td>\n",
       "      <td>418.74</td>\n",
       "      <td>1.0</td>\n",
       "      <td>14502.75</td>\n",
       "      <td>0</td>\n",
       "    </tr>\n",
       "  </tbody>\n",
       "</table>\n",
       "</div>"
      ],
      "text/plain": [
       "   calls  minutes  messages   mb_used  is_ultra\n",
       "0   40.0   311.90      83.0  19915.42         0\n",
       "1   85.0   516.75      56.0  22696.96         0\n",
       "2   77.0   467.66      86.0  21060.45         0\n",
       "3  106.0   745.53      81.0   8437.39         1\n",
       "4   66.0   418.74       1.0  14502.75         0"
      ]
     },
     "execution_count": 3,
     "metadata": {},
     "output_type": "execute_result"
    }
   ],
   "source": [
    "df.head()"
   ]
  },
  {
   "cell_type": "code",
   "execution_count": 4,
   "metadata": {},
   "outputs": [
    {
     "name": "stdout",
     "output_type": "stream",
     "text": [
      "<class 'pandas.core.frame.DataFrame'>\n",
      "RangeIndex: 3214 entries, 0 to 3213\n",
      "Data columns (total 5 columns):\n",
      " #   Column    Non-Null Count  Dtype  \n",
      "---  ------    --------------  -----  \n",
      " 0   calls     3214 non-null   float64\n",
      " 1   minutes   3214 non-null   float64\n",
      " 2   messages  3214 non-null   float64\n",
      " 3   mb_used   3214 non-null   float64\n",
      " 4   is_ultra  3214 non-null   int64  \n",
      "dtypes: float64(4), int64(1)\n",
      "memory usage: 125.7 KB\n"
     ]
    }
   ],
   "source": [
    "df.info()\n"
   ]
  },
  {
   "cell_type": "markdown",
   "metadata": {},
   "source": [
    "Los datos proporcionados cuentan con 5 variables segun se describe a continuación:\n",
    "\n",
    "- сalls: número de llamadas,\n",
    "- minutes: duración total de la llamada en minutos,\n",
    "- messages: número de mensajes de texto,\n",
    "- mb_used: Tráfico de Internet utilizado en MB,\n",
    "- is_ultra: plan para el mes actual (Ultra - 1, Smart - 0)."
   ]
  },
  {
   "cell_type": "markdown",
   "metadata": {},
   "source": [
    "\n",
    "# 2 - Selección del modelo <a class=\"anchor\" id=\"chapter2\"></a>"
   ]
  },
  {
   "cell_type": "markdown",
   "metadata": {},
   "source": [
    " 2_1 Segmentacion de datos <a class=\"anchor\" id=\"section_2_1\"></a>"
   ]
  },
  {
   "cell_type": "code",
   "execution_count": 5,
   "metadata": {},
   "outputs": [],
   "source": [
    "# Se segmentan los datos en tres conjuntos (entrenamiento (60%), validacion (20%)y prueba (20%)). El tipo de plan es la variable objetivo\n",
    "\n",
    "features = df.drop(['is_ultra'], axis=1)\n",
    "target = df['is_ultra']\n",
    "\n",
    "features_train, features_valid, target_train, target_valid = train_test_split(features, target, test_size = 0.4, random_state= 12345)\n",
    "features_test, features_valid, target_test, target_valid  =train_test_split(features_valid, target_valid, test_size = 0.5, random_state= 12345)\n"
   ]
  },
  {
   "cell_type": "markdown",
   "metadata": {},
   "source": [
    "2_2 Análisis y selección del modelo <a class=\"anchor\" id=\"section_2_2\"></a>"
   ]
  },
  {
   "cell_type": "markdown",
   "metadata": {},
   "source": [
    "* MODELO ARBOL DE DECISION. \n",
    "\n",
    "Se busca el valor del hiperparametro \"max_depth\" que permita obtener el mayor valor de exactitud"
   ]
  },
  {
   "cell_type": "code",
   "execution_count": 6,
   "metadata": {},
   "outputs": [
    {
     "name": "stdout",
     "output_type": "stream",
     "text": [
      "Mejor modelo 'Arbol de decision':\n",
      "Exactitud: 0.7993779160186625  Profundidad: 7\n"
     ]
    }
   ],
   "source": [
    "# Evaluacion Modelo Arbol de decision. \n",
    "\n",
    "best_model_decision_tree = None\n",
    "best_result_decision_tree = 0\n",
    "best_depth_decision_tree  = 0\n",
    "for depth in range(1, 12):\n",
    "    model = DecisionTreeClassifier(random_state=12345, max_depth= depth) #se crea el modelo con la profundidad depth\n",
    "    model.fit(features_train, target_train) # se entrena el modelo \n",
    "    predictions = model.predict(features_valid) # se obtienen las predicciones del modelo\n",
    "    result = accuracy_score(target_valid, predictions) # se calcula la exactitud\n",
    "    if result > best_result_decision_tree:\n",
    "        best_model_decision_tree = model # guarda el modelo que corresponde a la mejor puntuacion de accuracy\n",
    "        best_result_decision_tree = result # guarda la mejor puntuacion de accuracy\n",
    "        best_depth_decision_tree = depth # guarda la profundidad que corresponde a la mejor puntuacion de accuracy\n",
    "\n",
    "print(\"Mejor modelo 'Arbol de decision':\")\n",
    "print(\"Exactitud:\", best_result_decision_tree, \"\", \"Profundidad:\",  best_depth_decision_tree )\n"
   ]
  },
  {
   "cell_type": "markdown",
   "metadata": {},
   "source": [
    "* MODELO BOSQUE ALEATORIO\n",
    "\n",
    "Se busca el valor de los hiperparametros \"max_depth\" y \"n_estimators\" que permitan obtener el mayor valor de exactitud"
   ]
  },
  {
   "cell_type": "code",
   "execution_count": 7,
   "metadata": {},
   "outputs": [
    {
     "name": "stdout",
     "output_type": "stream",
     "text": [
      "Mejor modelo 'Bosque Aleatorio':\n",
      "Exactitud: 0.8133748055987559  Profundidad: 9 n_estimators: 6\n"
     ]
    }
   ],
   "source": [
    "#Evaluacion Modelo de bosque aleatorio\n",
    "\n",
    "best_score_random_forest = 0\n",
    "best_est_random_forest = 0\n",
    "best_depth_random_forest = 0\n",
    "for est in range(1, 14): # selecciona el rango del hiperparámetro\n",
    "    for depth in range(1,12):\n",
    "        model = RandomForestClassifier(random_state=54321, max_depth= depth, n_estimators=est) # configura el número de árboles\n",
    "        model.fit(features_train, target_train) # entrena el modelo en el conjunto de entrenamiento\n",
    "        score = model.score(features_valid, target_valid) # calcula la puntuación de accuracy en el conjunto de validación\n",
    "        if score > best_score_random_forest:\n",
    "            best_score_random_forest = score# guarda la mejor puntuación de accuracy en el conjunto de validación\n",
    "            best_est_random_forest = est# guarda el número de estimadores que corresponden a la mejor puntuación de accuracy\n",
    "            best_depth_random_forest = depth # guarda la la profundidad que corresponde a la mejor puntacion den accuracy\n",
    "\n",
    "print(\"Mejor modelo 'Bosque Aleatorio':\")\n",
    "print(\"Exactitud:\", best_score_random_forest, \"\", \"Profundidad:\",  best_depth_random_forest, \"n_estimators:\", best_est_random_forest)\n",
    "\n",
    "\n"
   ]
  },
  {
   "cell_type": "markdown",
   "metadata": {},
   "source": [
    "* MODELO REGRESION LOGISTICA\n",
    "\n",
    "    - Se calcula el valor de accuracy para el modelo "
   ]
  },
  {
   "cell_type": "code",
   "execution_count": 8,
   "metadata": {},
   "outputs": [
    {
     "name": "stdout",
     "output_type": "stream",
     "text": [
      "Exactitud del modelo de regresión logística en el conjunto de validación: 0.7402799377916018\n"
     ]
    }
   ],
   "source": [
    "#Evaluacion Regresion logistica\n",
    "\n",
    "\n",
    "model = LogisticRegression(random_state=54321, solver='liblinear')  # se inicializa el constructor de regresión logística con los parámetros random_state=54321 y solver='liblinear'\n",
    "model.fit(features_train, target_train) # se entrena el modelo en el conjunto de entrenamiento\n",
    "score_valid = model.score(features_valid, target_valid) # se calcula la puntuación de accuracy en el conjunto de validación\n",
    "\n",
    "print(\"Exactitud del modelo de regresión logística en el conjunto de validación:\", score_valid)\n",
    "\n"
   ]
  },
  {
   "cell_type": "markdown",
   "metadata": {},
   "source": [
    "- El modelo de arbol de decision y el de random forest arrojan un valor de exactitud muy similar de 0,8. Dado que el modelo de arbol de decision es mas sencillo, optamos por este ultimo para predecir los valores deseados"
   ]
  },
  {
   "cell_type": "markdown",
   "metadata": {},
   "source": [
    "2_3 Comprobación de la calidad del modelo <a class=\"anchor\" id=\"section_2_3\"></a>\n",
    "\n",
    "    - Se comprueba la calidad del modelo seleccionado utilizando el conjunto de prueba"
   ]
  },
  {
   "cell_type": "code",
   "execution_count": 9,
   "metadata": {},
   "outputs": [
    {
     "name": "stdout",
     "output_type": "stream",
     "text": [
      "0.7822706065318819\n"
     ]
    }
   ],
   "source": [
    "# Se comprueba la calidad del modelo seleccionado utilizando el conjunto de prueba\n",
    "\n",
    "model = DecisionTreeClassifier(random_state=12345, max_depth= best_depth_decision_tree) # se crea un modelo con la profundidad proporcionada\n",
    "model.fit(features_train, target_train) # se entrena el modelo \n",
    "predictions = model.predict(features_test) # se obtienen las predicciones del modelo para el conjunto de prueba\n",
    "result = accuracy_score(target_test, predictions) #  se calcula la exactitud\n",
    "print(result)"
   ]
  },
  {
   "cell_type": "markdown",
   "metadata": {},
   "source": [
    "- La exactitud del modelo seleccionado para el conjunto de prieba es de 0,78. Dicho valor se encuentra por encima del umbral de 0,75 solicitado.\n",
    "\n"
   ]
  },
  {
   "cell_type": "markdown",
   "metadata": {},
   "source": [
    "\n",
    "# 3 - Prueba de cordura <a class=\"anchor\" id=\"chapter3\"></a>"
   ]
  },
  {
   "cell_type": "code",
   "execution_count": 10,
   "metadata": {},
   "outputs": [
    {
     "name": "stdout",
     "output_type": "stream",
     "text": [
      "Exactitud de prueba de cordura: 0.4665629860031104\n"
     ]
    }
   ],
   "source": [
    "#Prueba de cordura\n",
    "\n",
    "predictions = pd.Series(np.random.choice([0, 1], size=len(target_test)), index=target_test.index)\n",
    "\n",
    "score = model.score(features_test, predictions)\n",
    "print(\"Exactitud de prueba de cordura:\", score)\n"
   ]
  },
  {
   "cell_type": "markdown",
   "metadata": {},
   "source": [
    "- La prueba de cordura arroja un valor de exactitud inferior al obtenido con el modelo de árbol de decisión seleccionado, por lo tanto se concluye que el modelo cuenta con una calidad adecuada para estimar los parametros ya que es superior a la de asignar valores 1 y 0 al azar\n",
    "\n",
    "\n"
   ]
  },
  {
   "cell_type": "markdown",
   "metadata": {},
   "source": [
    "# 4 - Conclusiones <a class=\"anchor\" id=\"chapter4\"></a>\n",
    "\n",
    "- Al evaluar la exactitud de los modelos analizados, el árbol de decisión y el bosque aleatorio arrojaron un valor muy similar en torno a 0,8 y superior al de la regresión logística. \n",
    "\n",
    "- Dado que el modelo de árbol de decisión es mas sencillo que el de bosque aleatorio, optamos por este último para predecir los valores deseados \n",
    "\n",
    "- La profundidad del arbol de decisión para el modelo con mayor exactitud resulto en un valor de 7\n",
    "\n",
    "- Al comprobar la calidad del modelo en el conjunto de prueba se obtuvo un valore de exactitud del modelo seleccionado de 0,78. Dicho valor se encuentra por encima del umbral de 0,75 solicitado.\n",
    "\n",
    "- Prueba de cordura del modelo seleccionado. Utilizando como valores de predicción unos y ceros aleatoriamente, se obtuvo un valor de exactirud de 0,51. Por lo tanto el modelo seleccionado paso la prueba ya que su valor de exactitud es superior al de la prueba de cordura.\n",
    "\n",
    "\n",
    "    "
   ]
  }
 ],
 "metadata": {
  "kernelspec": {
   "display_name": "Python 3 (ipykernel)",
   "language": "python",
   "name": "python3"
  },
  "language_info": {
   "codemirror_mode": {
    "name": "ipython",
    "version": 3
   },
   "file_extension": ".py",
   "mimetype": "text/x-python",
   "name": "python",
   "nbconvert_exporter": "python",
   "pygments_lexer": "ipython3",
   "version": "3.9.5"
  },
  "toc": {
   "base_numbering": 1,
   "nav_menu": {},
   "number_sections": true,
   "sideBar": true,
   "skip_h1_title": true,
   "title_cell": "Table of Contents",
   "title_sidebar": "Contents",
   "toc_cell": false,
   "toc_position": {},
   "toc_section_display": true,
   "toc_window_display": false
  }
 },
 "nbformat": 4,
 "nbformat_minor": 2
}
