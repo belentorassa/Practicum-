{
 "cells": [
  {
   "cell_type": "markdown",
   "metadata": {},
   "source": [
    "**Descripción del proyecto**\n",
    "\n",
    "Megaline es una empresa de telecomunicaciones que  ofrece a sus clientes dos tarifas de prepago, Surf y Ultimate. El departamento comercial quiere saber cuál de los planes genera más ingresos para ajustar el presupuesto de publicidad.\n",
    "\n",
    "Se realizará un análisis preliminar de las tarifas basado en una selección relativamente pequeña de 500 clientes para los cuales se conoce: de dónde son, qué tarifa usan y la cantidad de llamadas que hicieron y los mensajes de texto que enviaron en 2018. \n",
    "\n",
    "Se analizará el comportamiento de los clientes y se determinará qué tarifa de prepago genera más ingresos. Y si los ingresos de los clientes de New York difiere de aquellos de otras cuidades\n",
    "\n",
    "Descripción de las tarifas.\n",
    "\n",
    "Nota: Megaline redondea los segundos a minutos y los megabytes a gigabytes. Para llamadas, cada llamada individual se redondea: incluso si la llamada duró solo un segundo, se contará como un minuto. Para tráfico web, las sesiones web individuales no se redondean. En vez de esto, el total del mes se redondea hacia arriba. Si alguien usa 1025 megabytes este mes, se le cobrarán 2 gigabytes.\n",
    "\n",
    "* Surf\n",
    "\n",
    "    * Pago mensual: 20$\n",
    "    \n",
    "        * 500 minutos al mes, 50 SMS y 15 GB de datos\n",
    "        \n",
    "        * Si se exceden los límites del paquete:\n",
    "            1 minuto: 3 centavos\n",
    "            1 SMS: 3 centavos\n",
    "            1 GB de datos: 10$\n",
    "            \n",
    "* Ultimate\n",
    "    * Pago mensual: 70$\n",
    "    \n",
    "        * 3000 minutos al mes, 1000 SMS y 30 GB de datos\n",
    "        \n",
    "        * Si se exceden los límites del paquete:\n",
    "            1 minuto: 1 centavo\n",
    "            1 SMS: 1 centavo\n",
    "            1 GB de datos: 7$\n",
    "\n",
    "Para llevar a cabo el proyecto, se realizan una serie de pasos según se describe a continuación: \n",
    "\n",
    "Paso 1. Análisis de la información general.\n",
    "\n",
    "Se cargarán los archivos con la información de la muestra de clientes y se estudiara la información general\n",
    "\n",
    "Paso 2. Procesamiento de datos\n",
    "\n",
    "Se prepara los datos para el análisis. Se corrigen tipo de datos y se evalúa la necesidad de procesar  datos conflictivos \n",
    "\n",
    "Para cada usuario, se busca:\n",
    "•\tEl número de llamadas realizadas y minutos utilizados al mes\n",
    "•\tLa cantidad de los SMS enviados por mes.\n",
    "•\tEl volumen de datos por mes.\n",
    "•\tLos ingresos mensuales de cada usuario (resta el límite del paquete gratuito del número total de llamadas, SMS y datos; multiplica el resultado por el valor de tarifa de llamadas; agrega el cargo mensual según la tarifa de llamadas)\n",
    "\n",
    "Paso 3. Análisis de los datos\n",
    "\n",
    "Se describe el comportamiento de los clientes: los minutos, SMS y volumen de datos que requieren los usuarios de cada tarifa por mes. Se calcula la media, la varianza y la desviación estándar. Se trazan histogramas y se describen las distribuciones. Se trazan graficos para estudiar la evolución de las variables en el tiempo.\n",
    "\n",
    "Paso 4. Prueba las hipótesis. \n",
    "\n",
    "Para dar respuesta a la relación entre promedio de ingresos, se realiza prueba de hipótesis sobre las siguientes afirmaciones:\n",
    "\n",
    "•\tEl ingreso promedio de los usuarios de las tarifas Ultimate y Surf difiere.\n",
    "\n",
    "•\tEl ingreso promedio de los usuarios en el área de estados Nueva York-Nueva Jersey es diferente al de los usuarios de otras regiones.\n",
    "\n",
    "Paso 5. Conclusión general\n"
   ]
  },
  {
   "cell_type": "markdown",
   "metadata": {},
   "source": [
    "**Paso 1**\n",
    "- Importación cargando las librerias "
   ]
  },
  {
   "cell_type": "code",
   "execution_count": 1,
   "metadata": {},
   "outputs": [],
   "source": [
    "import pandas as pd\n",
    "import numpy as np\n",
    "from scipy import stats as st\n",
    "import matplotlib.pyplot as plt "
   ]
  },
  {
   "cell_type": "markdown",
   "metadata": {},
   "source": [
    " - Cargamos los archivos que contienen los datos y estudiamos informacion general"
   ]
  },
  {
   "cell_type": "code",
   "execution_count": 2,
   "metadata": {},
   "outputs": [],
   "source": [
    "calls = pd.read_csv('/datasets/megaline_calls.csv')"
   ]
  },
  {
   "cell_type": "code",
   "execution_count": 3,
   "metadata": {},
   "outputs": [
    {
     "data": {
      "text/html": [
       "<div>\n",
       "<style scoped>\n",
       "    .dataframe tbody tr th:only-of-type {\n",
       "        vertical-align: middle;\n",
       "    }\n",
       "\n",
       "    .dataframe tbody tr th {\n",
       "        vertical-align: top;\n",
       "    }\n",
       "\n",
       "    .dataframe thead th {\n",
       "        text-align: right;\n",
       "    }\n",
       "</style>\n",
       "<table border=\"1\" class=\"dataframe\">\n",
       "  <thead>\n",
       "    <tr style=\"text-align: right;\">\n",
       "      <th></th>\n",
       "      <th>id</th>\n",
       "      <th>user_id</th>\n",
       "      <th>call_date</th>\n",
       "      <th>duration</th>\n",
       "    </tr>\n",
       "  </thead>\n",
       "  <tbody>\n",
       "    <tr>\n",
       "      <th>0</th>\n",
       "      <td>1000_93</td>\n",
       "      <td>1000</td>\n",
       "      <td>2018-12-27</td>\n",
       "      <td>8.52</td>\n",
       "    </tr>\n",
       "    <tr>\n",
       "      <th>1</th>\n",
       "      <td>1000_145</td>\n",
       "      <td>1000</td>\n",
       "      <td>2018-12-27</td>\n",
       "      <td>13.66</td>\n",
       "    </tr>\n",
       "    <tr>\n",
       "      <th>2</th>\n",
       "      <td>1000_247</td>\n",
       "      <td>1000</td>\n",
       "      <td>2018-12-27</td>\n",
       "      <td>14.48</td>\n",
       "    </tr>\n",
       "    <tr>\n",
       "      <th>3</th>\n",
       "      <td>1000_309</td>\n",
       "      <td>1000</td>\n",
       "      <td>2018-12-28</td>\n",
       "      <td>5.76</td>\n",
       "    </tr>\n",
       "    <tr>\n",
       "      <th>4</th>\n",
       "      <td>1000_380</td>\n",
       "      <td>1000</td>\n",
       "      <td>2018-12-30</td>\n",
       "      <td>4.22</td>\n",
       "    </tr>\n",
       "  </tbody>\n",
       "</table>\n",
       "</div>"
      ],
      "text/plain": [
       "         id  user_id   call_date  duration\n",
       "0   1000_93     1000  2018-12-27      8.52\n",
       "1  1000_145     1000  2018-12-27     13.66\n",
       "2  1000_247     1000  2018-12-27     14.48\n",
       "3  1000_309     1000  2018-12-28      5.76\n",
       "4  1000_380     1000  2018-12-30      4.22"
      ]
     },
     "execution_count": 3,
     "metadata": {},
     "output_type": "execute_result"
    }
   ],
   "source": [
    "calls.head()"
   ]
  },
  {
   "cell_type": "code",
   "execution_count": 4,
   "metadata": {},
   "outputs": [
    {
     "name": "stdout",
     "output_type": "stream",
     "text": [
      "<class 'pandas.core.frame.DataFrame'>\n",
      "RangeIndex: 137735 entries, 0 to 137734\n",
      "Data columns (total 4 columns):\n",
      " #   Column     Non-Null Count   Dtype  \n",
      "---  ------     --------------   -----  \n",
      " 0   id         137735 non-null  object \n",
      " 1   user_id    137735 non-null  int64  \n",
      " 2   call_date  137735 non-null  object \n",
      " 3   duration   137735 non-null  float64\n",
      "dtypes: float64(1), int64(1), object(2)\n",
      "memory usage: 4.2+ MB\n"
     ]
    }
   ],
   "source": [
    "calls.info()"
   ]
  },
  {
   "cell_type": "markdown",
   "metadata": {},
   "source": [
    "- El dataset de llamadas no presenta valores ausentes. El formato de la columna call_date debe ser corregido al tipo dateTime"
   ]
  },
  {
   "cell_type": "code",
   "execution_count": 5,
   "metadata": {},
   "outputs": [
    {
     "name": "stdout",
     "output_type": "stream",
     "text": [
      "<class 'pandas.core.frame.DataFrame'>\n",
      "RangeIndex: 137735 entries, 0 to 137734\n",
      "Data columns (total 4 columns):\n",
      " #   Column     Non-Null Count   Dtype         \n",
      "---  ------     --------------   -----         \n",
      " 0   id         137735 non-null  object        \n",
      " 1   user_id    137735 non-null  int64         \n",
      " 2   call_date  137735 non-null  datetime64[ns]\n",
      " 3   duration   137735 non-null  float64       \n",
      "dtypes: datetime64[ns](1), float64(1), int64(1), object(1)\n",
      "memory usage: 4.2+ MB\n"
     ]
    }
   ],
   "source": [
    "# Cambiamos el tipo de datos de call_date a fecha y verificamos\n",
    "calls['call_date'] = pd.to_datetime(calls['call_date'], format = '%Y-%m-%d')\n",
    "calls.info()"
   ]
  },
  {
   "cell_type": "code",
   "execution_count": 6,
   "metadata": {},
   "outputs": [
    {
     "data": {
      "text/html": [
       "<div>\n",
       "<style scoped>\n",
       "    .dataframe tbody tr th:only-of-type {\n",
       "        vertical-align: middle;\n",
       "    }\n",
       "\n",
       "    .dataframe tbody tr th {\n",
       "        vertical-align: top;\n",
       "    }\n",
       "\n",
       "    .dataframe thead th {\n",
       "        text-align: right;\n",
       "    }\n",
       "</style>\n",
       "<table border=\"1\" class=\"dataframe\">\n",
       "  <thead>\n",
       "    <tr style=\"text-align: right;\">\n",
       "      <th></th>\n",
       "      <th>id</th>\n",
       "      <th>user_id</th>\n",
       "      <th>call_date</th>\n",
       "      <th>duration</th>\n",
       "      <th>month</th>\n",
       "      <th>duration_round</th>\n",
       "    </tr>\n",
       "  </thead>\n",
       "  <tbody>\n",
       "    <tr>\n",
       "      <th>0</th>\n",
       "      <td>1000_93</td>\n",
       "      <td>1000</td>\n",
       "      <td>2018-12-27</td>\n",
       "      <td>8.52</td>\n",
       "      <td>12</td>\n",
       "      <td>9.0</td>\n",
       "    </tr>\n",
       "    <tr>\n",
       "      <th>1</th>\n",
       "      <td>1000_145</td>\n",
       "      <td>1000</td>\n",
       "      <td>2018-12-27</td>\n",
       "      <td>13.66</td>\n",
       "      <td>12</td>\n",
       "      <td>14.0</td>\n",
       "    </tr>\n",
       "    <tr>\n",
       "      <th>2</th>\n",
       "      <td>1000_247</td>\n",
       "      <td>1000</td>\n",
       "      <td>2018-12-27</td>\n",
       "      <td>14.48</td>\n",
       "      <td>12</td>\n",
       "      <td>15.0</td>\n",
       "    </tr>\n",
       "    <tr>\n",
       "      <th>3</th>\n",
       "      <td>1000_309</td>\n",
       "      <td>1000</td>\n",
       "      <td>2018-12-28</td>\n",
       "      <td>5.76</td>\n",
       "      <td>12</td>\n",
       "      <td>6.0</td>\n",
       "    </tr>\n",
       "    <tr>\n",
       "      <th>4</th>\n",
       "      <td>1000_380</td>\n",
       "      <td>1000</td>\n",
       "      <td>2018-12-30</td>\n",
       "      <td>4.22</td>\n",
       "      <td>12</td>\n",
       "      <td>5.0</td>\n",
       "    </tr>\n",
       "  </tbody>\n",
       "</table>\n",
       "</div>"
      ],
      "text/plain": [
       "         id  user_id  call_date  duration  month  duration_round\n",
       "0   1000_93     1000 2018-12-27      8.52     12             9.0\n",
       "1  1000_145     1000 2018-12-27     13.66     12            14.0\n",
       "2  1000_247     1000 2018-12-27     14.48     12            15.0\n",
       "3  1000_309     1000 2018-12-28      5.76     12             6.0\n",
       "4  1000_380     1000 2018-12-30      4.22     12             5.0"
      ]
     },
     "execution_count": 6,
     "metadata": {},
     "output_type": "execute_result"
    }
   ],
   "source": [
    "#Agregamos columnas con mes de la llamada y la duracion de los segundos redondeada hacia arriba\n",
    "calls['month'] = pd.DatetimeIndex(calls['call_date']).month\n",
    "calls['duration_round'] = np.ceil(calls['duration'])\n",
    "calls.head()"
   ]
  },
  {
   "cell_type": "code",
   "execution_count": 7,
   "metadata": {},
   "outputs": [
    {
     "data": {
      "text/html": [
       "<div>\n",
       "<style scoped>\n",
       "    .dataframe tbody tr th:only-of-type {\n",
       "        vertical-align: middle;\n",
       "    }\n",
       "\n",
       "    .dataframe tbody tr th {\n",
       "        vertical-align: top;\n",
       "    }\n",
       "\n",
       "    .dataframe thead tr th {\n",
       "        text-align: left;\n",
       "    }\n",
       "\n",
       "    .dataframe thead tr:last-of-type th {\n",
       "        text-align: right;\n",
       "    }\n",
       "</style>\n",
       "<table border=\"1\" class=\"dataframe\">\n",
       "  <thead>\n",
       "    <tr>\n",
       "      <th></th>\n",
       "      <th></th>\n",
       "      <th>sum</th>\n",
       "      <th>count</th>\n",
       "    </tr>\n",
       "    <tr>\n",
       "      <th></th>\n",
       "      <th></th>\n",
       "      <th>duration_round</th>\n",
       "      <th>duration_round</th>\n",
       "    </tr>\n",
       "    <tr>\n",
       "      <th>user_id</th>\n",
       "      <th>month</th>\n",
       "      <th></th>\n",
       "      <th></th>\n",
       "    </tr>\n",
       "  </thead>\n",
       "  <tbody>\n",
       "    <tr>\n",
       "      <th>1000</th>\n",
       "      <th>12</th>\n",
       "      <td>124.0</td>\n",
       "      <td>16</td>\n",
       "    </tr>\n",
       "    <tr>\n",
       "      <th rowspan=\"4\" valign=\"top\">1001</th>\n",
       "      <th>8</th>\n",
       "      <td>182.0</td>\n",
       "      <td>27</td>\n",
       "    </tr>\n",
       "    <tr>\n",
       "      <th>9</th>\n",
       "      <td>315.0</td>\n",
       "      <td>49</td>\n",
       "    </tr>\n",
       "    <tr>\n",
       "      <th>10</th>\n",
       "      <td>393.0</td>\n",
       "      <td>65</td>\n",
       "    </tr>\n",
       "    <tr>\n",
       "      <th>11</th>\n",
       "      <td>426.0</td>\n",
       "      <td>64</td>\n",
       "    </tr>\n",
       "  </tbody>\n",
       "</table>\n",
       "</div>"
      ],
      "text/plain": [
       "                         sum          count\n",
       "              duration_round duration_round\n",
       "user_id month                              \n",
       "1000    12             124.0             16\n",
       "1001    8              182.0             27\n",
       "        9              315.0             49\n",
       "        10             393.0             65\n",
       "        11             426.0             64"
      ]
     },
     "execution_count": 7,
     "metadata": {},
     "output_type": "execute_result"
    }
   ],
   "source": [
    "#Agrupamos los datos por usuarios y mes, calculando el total de minutos y la cantidad de llamadas\n",
    "\n",
    "calls_table = calls.pivot_table(index=['user_id', 'month'], values = 'duration_round', aggfunc= ['sum', 'count'])\n",
    "calls_table.head()"
   ]
  },
  {
   "cell_type": "code",
   "execution_count": 8,
   "metadata": {},
   "outputs": [
    {
     "data": {
      "text/html": [
       "<div>\n",
       "<style scoped>\n",
       "    .dataframe tbody tr th:only-of-type {\n",
       "        vertical-align: middle;\n",
       "    }\n",
       "\n",
       "    .dataframe tbody tr th {\n",
       "        vertical-align: top;\n",
       "    }\n",
       "\n",
       "    .dataframe thead th {\n",
       "        text-align: right;\n",
       "    }\n",
       "</style>\n",
       "<table border=\"1\" class=\"dataframe\">\n",
       "  <thead>\n",
       "    <tr style=\"text-align: right;\">\n",
       "      <th></th>\n",
       "      <th>user_id</th>\n",
       "      <th>month</th>\n",
       "      <th>call_duration</th>\n",
       "      <th>call_count</th>\n",
       "    </tr>\n",
       "  </thead>\n",
       "  <tbody>\n",
       "    <tr>\n",
       "      <th>0</th>\n",
       "      <td>1000</td>\n",
       "      <td>12</td>\n",
       "      <td>124.0</td>\n",
       "      <td>16</td>\n",
       "    </tr>\n",
       "    <tr>\n",
       "      <th>1</th>\n",
       "      <td>1001</td>\n",
       "      <td>8</td>\n",
       "      <td>182.0</td>\n",
       "      <td>27</td>\n",
       "    </tr>\n",
       "    <tr>\n",
       "      <th>2</th>\n",
       "      <td>1001</td>\n",
       "      <td>9</td>\n",
       "      <td>315.0</td>\n",
       "      <td>49</td>\n",
       "    </tr>\n",
       "    <tr>\n",
       "      <th>3</th>\n",
       "      <td>1001</td>\n",
       "      <td>10</td>\n",
       "      <td>393.0</td>\n",
       "      <td>65</td>\n",
       "    </tr>\n",
       "    <tr>\n",
       "      <th>4</th>\n",
       "      <td>1001</td>\n",
       "      <td>11</td>\n",
       "      <td>426.0</td>\n",
       "      <td>64</td>\n",
       "    </tr>\n",
       "  </tbody>\n",
       "</table>\n",
       "</div>"
      ],
      "text/plain": [
       "   user_id  month  call_duration  call_count\n",
       "0     1000     12          124.0          16\n",
       "1     1001      8          182.0          27\n",
       "2     1001      9          315.0          49\n",
       "3     1001     10          393.0          65\n",
       "4     1001     11          426.0          64"
      ]
     },
     "execution_count": 8,
     "metadata": {},
     "output_type": "execute_result"
    }
   ],
   "source": [
    "#ajustamos el nombre de las columnas\n",
    "calls_table = calls_table.reset_index()\n",
    "calls_table.columns= ['user_id','month','call_duration','call_count']\n",
    "calls_table.head()"
   ]
  },
  {
   "cell_type": "markdown",
   "metadata": {},
   "source": [
    "- Nota: la cantidad de llamadas contempla aquellas con tiempo de duracion 0. En el caso de necesitar calcular promedios de duración de llamadas deberian evaluarse eliminar dichos valores. Para el analisis a continuacion no afectan los calculos dado que se suman los totales mensuales "
   ]
  },
  {
   "cell_type": "code",
   "execution_count": 9,
   "metadata": {},
   "outputs": [],
   "source": [
    "#cargamos datos de uso de internet\n",
    "internet = pd.read_csv('/datasets/megaline_internet.csv')"
   ]
  },
  {
   "cell_type": "code",
   "execution_count": 10,
   "metadata": {},
   "outputs": [
    {
     "name": "stdout",
     "output_type": "stream",
     "text": [
      "<class 'pandas.core.frame.DataFrame'>\n",
      "RangeIndex: 104825 entries, 0 to 104824\n",
      "Data columns (total 4 columns):\n",
      " #   Column        Non-Null Count   Dtype  \n",
      "---  ------        --------------   -----  \n",
      " 0   id            104825 non-null  object \n",
      " 1   user_id       104825 non-null  int64  \n",
      " 2   session_date  104825 non-null  object \n",
      " 3   mb_used       104825 non-null  float64\n",
      "dtypes: float64(1), int64(1), object(2)\n",
      "memory usage: 3.2+ MB\n"
     ]
    }
   ],
   "source": [
    "internet.info()\n"
   ]
  },
  {
   "cell_type": "code",
   "execution_count": 11,
   "metadata": {},
   "outputs": [
    {
     "data": {
      "text/html": [
       "<div>\n",
       "<style scoped>\n",
       "    .dataframe tbody tr th:only-of-type {\n",
       "        vertical-align: middle;\n",
       "    }\n",
       "\n",
       "    .dataframe tbody tr th {\n",
       "        vertical-align: top;\n",
       "    }\n",
       "\n",
       "    .dataframe thead th {\n",
       "        text-align: right;\n",
       "    }\n",
       "</style>\n",
       "<table border=\"1\" class=\"dataframe\">\n",
       "  <thead>\n",
       "    <tr style=\"text-align: right;\">\n",
       "      <th></th>\n",
       "      <th>id</th>\n",
       "      <th>user_id</th>\n",
       "      <th>session_date</th>\n",
       "      <th>mb_used</th>\n",
       "      <th>month_i</th>\n",
       "    </tr>\n",
       "  </thead>\n",
       "  <tbody>\n",
       "    <tr>\n",
       "      <th>0</th>\n",
       "      <td>1000_13</td>\n",
       "      <td>1000</td>\n",
       "      <td>2018-12-29</td>\n",
       "      <td>89.86</td>\n",
       "      <td>12</td>\n",
       "    </tr>\n",
       "    <tr>\n",
       "      <th>1</th>\n",
       "      <td>1000_204</td>\n",
       "      <td>1000</td>\n",
       "      <td>2018-12-31</td>\n",
       "      <td>0.00</td>\n",
       "      <td>12</td>\n",
       "    </tr>\n",
       "    <tr>\n",
       "      <th>2</th>\n",
       "      <td>1000_379</td>\n",
       "      <td>1000</td>\n",
       "      <td>2018-12-28</td>\n",
       "      <td>660.40</td>\n",
       "      <td>12</td>\n",
       "    </tr>\n",
       "    <tr>\n",
       "      <th>3</th>\n",
       "      <td>1000_413</td>\n",
       "      <td>1000</td>\n",
       "      <td>2018-12-26</td>\n",
       "      <td>270.99</td>\n",
       "      <td>12</td>\n",
       "    </tr>\n",
       "    <tr>\n",
       "      <th>4</th>\n",
       "      <td>1000_442</td>\n",
       "      <td>1000</td>\n",
       "      <td>2018-12-27</td>\n",
       "      <td>880.22</td>\n",
       "      <td>12</td>\n",
       "    </tr>\n",
       "  </tbody>\n",
       "</table>\n",
       "</div>"
      ],
      "text/plain": [
       "         id  user_id session_date  mb_used  month_i\n",
       "0   1000_13     1000   2018-12-29    89.86       12\n",
       "1  1000_204     1000   2018-12-31     0.00       12\n",
       "2  1000_379     1000   2018-12-28   660.40       12\n",
       "3  1000_413     1000   2018-12-26   270.99       12\n",
       "4  1000_442     1000   2018-12-27   880.22       12"
      ]
     },
     "execution_count": 11,
     "metadata": {},
     "output_type": "execute_result"
    }
   ],
   "source": [
    "#corregimos el tipo de dato de 'session_date' a dateTime y agregamos columna con el mes\n",
    "internet['session_date']= pd.to_datetime(internet['session_date'], format = '%Y-%m-%d')\n",
    "internet['month_i'] = pd.DatetimeIndex(internet['session_date']).month\n",
    "internet.head()"
   ]
  },
  {
   "cell_type": "code",
   "execution_count": 12,
   "metadata": {},
   "outputs": [
    {
     "data": {
      "text/html": [
       "<div>\n",
       "<style scoped>\n",
       "    .dataframe tbody tr th:only-of-type {\n",
       "        vertical-align: middle;\n",
       "    }\n",
       "\n",
       "    .dataframe tbody tr th {\n",
       "        vertical-align: top;\n",
       "    }\n",
       "\n",
       "    .dataframe thead th {\n",
       "        text-align: right;\n",
       "    }\n",
       "</style>\n",
       "<table border=\"1\" class=\"dataframe\">\n",
       "  <thead>\n",
       "    <tr style=\"text-align: right;\">\n",
       "      <th></th>\n",
       "      <th>user_id</th>\n",
       "      <th>month_i</th>\n",
       "      <th>mb_used</th>\n",
       "    </tr>\n",
       "  </thead>\n",
       "  <tbody>\n",
       "    <tr>\n",
       "      <th>0</th>\n",
       "      <td>1000</td>\n",
       "      <td>12</td>\n",
       "      <td>1901.47</td>\n",
       "    </tr>\n",
       "    <tr>\n",
       "      <th>1</th>\n",
       "      <td>1001</td>\n",
       "      <td>8</td>\n",
       "      <td>6919.15</td>\n",
       "    </tr>\n",
       "    <tr>\n",
       "      <th>2</th>\n",
       "      <td>1001</td>\n",
       "      <td>9</td>\n",
       "      <td>13314.82</td>\n",
       "    </tr>\n",
       "    <tr>\n",
       "      <th>3</th>\n",
       "      <td>1001</td>\n",
       "      <td>10</td>\n",
       "      <td>22330.49</td>\n",
       "    </tr>\n",
       "    <tr>\n",
       "      <th>4</th>\n",
       "      <td>1001</td>\n",
       "      <td>11</td>\n",
       "      <td>18504.30</td>\n",
       "    </tr>\n",
       "  </tbody>\n",
       "</table>\n",
       "</div>"
      ],
      "text/plain": [
       "   user_id  month_i   mb_used\n",
       "0     1000       12   1901.47\n",
       "1     1001        8   6919.15\n",
       "2     1001        9  13314.82\n",
       "3     1001       10  22330.49\n",
       "4     1001       11  18504.30"
      ]
     },
     "execution_count": 12,
     "metadata": {},
     "output_type": "execute_result"
    }
   ],
   "source": [
    "#agrupamos por usuario por mes\n",
    "internet_table = internet.pivot_table(index=['user_id', 'month_i'], values = 'mb_used', aggfunc= ['sum'])\n",
    "internet_table=internet_table.reset_index()\n",
    "internet_table.columns = ['user_id', 'month_i', 'mb_used']\n",
    "internet_table.head()"
   ]
  },
  {
   "cell_type": "code",
   "execution_count": 13,
   "metadata": {},
   "outputs": [
    {
     "data": {
      "text/html": [
       "<div>\n",
       "<style scoped>\n",
       "    .dataframe tbody tr th:only-of-type {\n",
       "        vertical-align: middle;\n",
       "    }\n",
       "\n",
       "    .dataframe tbody tr th {\n",
       "        vertical-align: top;\n",
       "    }\n",
       "\n",
       "    .dataframe thead th {\n",
       "        text-align: right;\n",
       "    }\n",
       "</style>\n",
       "<table border=\"1\" class=\"dataframe\">\n",
       "  <thead>\n",
       "    <tr style=\"text-align: right;\">\n",
       "      <th></th>\n",
       "      <th>user_id</th>\n",
       "      <th>month_i</th>\n",
       "      <th>mb_used</th>\n",
       "      <th>gb_used</th>\n",
       "    </tr>\n",
       "  </thead>\n",
       "  <tbody>\n",
       "    <tr>\n",
       "      <th>0</th>\n",
       "      <td>1000</td>\n",
       "      <td>12</td>\n",
       "      <td>1901.47</td>\n",
       "      <td>2.0</td>\n",
       "    </tr>\n",
       "    <tr>\n",
       "      <th>1</th>\n",
       "      <td>1001</td>\n",
       "      <td>8</td>\n",
       "      <td>6919.15</td>\n",
       "      <td>7.0</td>\n",
       "    </tr>\n",
       "    <tr>\n",
       "      <th>2</th>\n",
       "      <td>1001</td>\n",
       "      <td>9</td>\n",
       "      <td>13314.82</td>\n",
       "      <td>14.0</td>\n",
       "    </tr>\n",
       "    <tr>\n",
       "      <th>3</th>\n",
       "      <td>1001</td>\n",
       "      <td>10</td>\n",
       "      <td>22330.49</td>\n",
       "      <td>22.0</td>\n",
       "    </tr>\n",
       "    <tr>\n",
       "      <th>4</th>\n",
       "      <td>1001</td>\n",
       "      <td>11</td>\n",
       "      <td>18504.30</td>\n",
       "      <td>19.0</td>\n",
       "    </tr>\n",
       "  </tbody>\n",
       "</table>\n",
       "</div>"
      ],
      "text/plain": [
       "   user_id  month_i   mb_used  gb_used\n",
       "0     1000       12   1901.47      2.0\n",
       "1     1001        8   6919.15      7.0\n",
       "2     1001        9  13314.82     14.0\n",
       "3     1001       10  22330.49     22.0\n",
       "4     1001       11  18504.30     19.0"
      ]
     },
     "execution_count": 13,
     "metadata": {},
     "output_type": "execute_result"
    }
   ],
   "source": [
    "#Agregamos una columna con los GB consumidos al mes (redondeados al entero superior)\n",
    "internet_table['gb_used'] = np.ceil(internet_table['mb_used']/1024)\n",
    "internet_table.head()"
   ]
  },
  {
   "cell_type": "code",
   "execution_count": 14,
   "metadata": {},
   "outputs": [
    {
     "data": {
      "text/html": [
       "<div>\n",
       "<style scoped>\n",
       "    .dataframe tbody tr th:only-of-type {\n",
       "        vertical-align: middle;\n",
       "    }\n",
       "\n",
       "    .dataframe tbody tr th {\n",
       "        vertical-align: top;\n",
       "    }\n",
       "\n",
       "    .dataframe thead th {\n",
       "        text-align: right;\n",
       "    }\n",
       "</style>\n",
       "<table border=\"1\" class=\"dataframe\">\n",
       "  <thead>\n",
       "    <tr style=\"text-align: right;\">\n",
       "      <th></th>\n",
       "      <th>user_id</th>\n",
       "      <th>month</th>\n",
       "      <th>call_duration</th>\n",
       "      <th>call_count</th>\n",
       "      <th>month_i</th>\n",
       "      <th>mb_used</th>\n",
       "      <th>gb_used</th>\n",
       "    </tr>\n",
       "  </thead>\n",
       "  <tbody>\n",
       "    <tr>\n",
       "      <th>0</th>\n",
       "      <td>1000</td>\n",
       "      <td>12.0</td>\n",
       "      <td>124.0</td>\n",
       "      <td>16.0</td>\n",
       "      <td>12.0</td>\n",
       "      <td>1901.47</td>\n",
       "      <td>2.0</td>\n",
       "    </tr>\n",
       "    <tr>\n",
       "      <th>1</th>\n",
       "      <td>1001</td>\n",
       "      <td>8.0</td>\n",
       "      <td>182.0</td>\n",
       "      <td>27.0</td>\n",
       "      <td>8.0</td>\n",
       "      <td>6919.15</td>\n",
       "      <td>7.0</td>\n",
       "    </tr>\n",
       "    <tr>\n",
       "      <th>2</th>\n",
       "      <td>1001</td>\n",
       "      <td>9.0</td>\n",
       "      <td>315.0</td>\n",
       "      <td>49.0</td>\n",
       "      <td>9.0</td>\n",
       "      <td>13314.82</td>\n",
       "      <td>14.0</td>\n",
       "    </tr>\n",
       "    <tr>\n",
       "      <th>3</th>\n",
       "      <td>1001</td>\n",
       "      <td>10.0</td>\n",
       "      <td>393.0</td>\n",
       "      <td>65.0</td>\n",
       "      <td>10.0</td>\n",
       "      <td>22330.49</td>\n",
       "      <td>22.0</td>\n",
       "    </tr>\n",
       "    <tr>\n",
       "      <th>4</th>\n",
       "      <td>1001</td>\n",
       "      <td>11.0</td>\n",
       "      <td>426.0</td>\n",
       "      <td>64.0</td>\n",
       "      <td>11.0</td>\n",
       "      <td>18504.30</td>\n",
       "      <td>19.0</td>\n",
       "    </tr>\n",
       "  </tbody>\n",
       "</table>\n",
       "</div>"
      ],
      "text/plain": [
       "   user_id  month  call_duration  call_count  month_i   mb_used  gb_used\n",
       "0     1000   12.0          124.0        16.0     12.0   1901.47      2.0\n",
       "1     1001    8.0          182.0        27.0      8.0   6919.15      7.0\n",
       "2     1001    9.0          315.0        49.0      9.0  13314.82     14.0\n",
       "3     1001   10.0          393.0        65.0     10.0  22330.49     22.0\n",
       "4     1001   11.0          426.0        64.0     11.0  18504.30     19.0"
      ]
     },
     "execution_count": 14,
     "metadata": {},
     "output_type": "execute_result"
    }
   ],
   "source": [
    "#Unificamos tablas con informacion de llamadas y de internet)\n",
    "complete= calls_table.merge(internet_table,left_on= ['user_id', 'month'], right_on = ['user_id', 'month_i'], how = 'outer')\n",
    "complete.head()\n",
    "\n"
   ]
  },
  {
   "cell_type": "code",
   "execution_count": 15,
   "metadata": {},
   "outputs": [
    {
     "name": "stdout",
     "output_type": "stream",
     "text": [
      "<class 'pandas.core.frame.DataFrame'>\n",
      "Int64Index: 2292 entries, 0 to 2291\n",
      "Data columns (total 7 columns):\n",
      " #   Column         Non-Null Count  Dtype  \n",
      "---  ------         --------------  -----  \n",
      " 0   user_id        2292 non-null   int64  \n",
      " 1   month          2258 non-null   float64\n",
      " 2   call_duration  2258 non-null   float64\n",
      " 3   call_count     2258 non-null   float64\n",
      " 4   month_i        2277 non-null   float64\n",
      " 5   mb_used        2277 non-null   float64\n",
      " 6   gb_used        2277 non-null   float64\n",
      "dtypes: float64(6), int64(1)\n",
      "memory usage: 143.2 KB\n"
     ]
    }
   ],
   "source": [
    "complete.info()"
   ]
  },
  {
   "cell_type": "code",
   "execution_count": 16,
   "metadata": {},
   "outputs": [
    {
     "name": "stdout",
     "output_type": "stream",
     "text": [
      "<class 'pandas.core.frame.DataFrame'>\n",
      "Int64Index: 2292 entries, 0 to 2291\n",
      "Data columns (total 7 columns):\n",
      " #   Column         Non-Null Count  Dtype  \n",
      "---  ------         --------------  -----  \n",
      " 0   user_id        2292 non-null   int64  \n",
      " 1   month          2292 non-null   float64\n",
      " 2   call_duration  2258 non-null   float64\n",
      " 3   call_count     2258 non-null   float64\n",
      " 4   month_i        2277 non-null   float64\n",
      " 5   mb_used        2277 non-null   float64\n",
      " 6   gb_used        2277 non-null   float64\n",
      "dtypes: float64(6), int64(1)\n",
      "memory usage: 143.2 KB\n"
     ]
    }
   ],
   "source": [
    "#rellenamos ausentes de  'month' con los valores de la columna de 'month_i' (corresponden a meses en los que solo se utilizo internet u no llamadas)\n",
    "complete['month'] = complete['month'].fillna(complete['month_i'])\n",
    "complete.info()"
   ]
  },
  {
   "cell_type": "code",
   "execution_count": 17,
   "metadata": {},
   "outputs": [],
   "source": [
    "#Cargamos la inforamcion de mensajes enviados\n",
    "messages = pd.read_csv('/datasets/megaline_messages.csv')"
   ]
  },
  {
   "cell_type": "code",
   "execution_count": 18,
   "metadata": {},
   "outputs": [
    {
     "name": "stdout",
     "output_type": "stream",
     "text": [
      "<class 'pandas.core.frame.DataFrame'>\n",
      "RangeIndex: 76051 entries, 0 to 76050\n",
      "Data columns (total 3 columns):\n",
      " #   Column        Non-Null Count  Dtype \n",
      "---  ------        --------------  ----- \n",
      " 0   id            76051 non-null  object\n",
      " 1   user_id       76051 non-null  int64 \n",
      " 2   message_date  76051 non-null  object\n",
      "dtypes: int64(1), object(2)\n",
      "memory usage: 1.7+ MB\n"
     ]
    }
   ],
   "source": [
    "messages.info()"
   ]
  },
  {
   "cell_type": "markdown",
   "metadata": {},
   "source": [
    "- La informacion de mensajes no presenta valores ausentes. El formato de la fecha debe ser corregido al tipo de dato adecuado"
   ]
  },
  {
   "cell_type": "code",
   "execution_count": 19,
   "metadata": {},
   "outputs": [
    {
     "data": {
      "text/html": [
       "<div>\n",
       "<style scoped>\n",
       "    .dataframe tbody tr th:only-of-type {\n",
       "        vertical-align: middle;\n",
       "    }\n",
       "\n",
       "    .dataframe tbody tr th {\n",
       "        vertical-align: top;\n",
       "    }\n",
       "\n",
       "    .dataframe thead th {\n",
       "        text-align: right;\n",
       "    }\n",
       "</style>\n",
       "<table border=\"1\" class=\"dataframe\">\n",
       "  <thead>\n",
       "    <tr style=\"text-align: right;\">\n",
       "      <th></th>\n",
       "      <th>id</th>\n",
       "      <th>user_id</th>\n",
       "      <th>message_date</th>\n",
       "      <th>month_m</th>\n",
       "    </tr>\n",
       "  </thead>\n",
       "  <tbody>\n",
       "    <tr>\n",
       "      <th>0</th>\n",
       "      <td>1000_125</td>\n",
       "      <td>1000</td>\n",
       "      <td>2018-12-27</td>\n",
       "      <td>12</td>\n",
       "    </tr>\n",
       "    <tr>\n",
       "      <th>1</th>\n",
       "      <td>1000_160</td>\n",
       "      <td>1000</td>\n",
       "      <td>2018-12-31</td>\n",
       "      <td>12</td>\n",
       "    </tr>\n",
       "    <tr>\n",
       "      <th>2</th>\n",
       "      <td>1000_223</td>\n",
       "      <td>1000</td>\n",
       "      <td>2018-12-31</td>\n",
       "      <td>12</td>\n",
       "    </tr>\n",
       "    <tr>\n",
       "      <th>3</th>\n",
       "      <td>1000_251</td>\n",
       "      <td>1000</td>\n",
       "      <td>2018-12-27</td>\n",
       "      <td>12</td>\n",
       "    </tr>\n",
       "    <tr>\n",
       "      <th>4</th>\n",
       "      <td>1000_255</td>\n",
       "      <td>1000</td>\n",
       "      <td>2018-12-26</td>\n",
       "      <td>12</td>\n",
       "    </tr>\n",
       "  </tbody>\n",
       "</table>\n",
       "</div>"
      ],
      "text/plain": [
       "         id  user_id message_date  month_m\n",
       "0  1000_125     1000   2018-12-27       12\n",
       "1  1000_160     1000   2018-12-31       12\n",
       "2  1000_223     1000   2018-12-31       12\n",
       "3  1000_251     1000   2018-12-27       12\n",
       "4  1000_255     1000   2018-12-26       12"
      ]
     },
     "execution_count": 19,
     "metadata": {},
     "output_type": "execute_result"
    }
   ],
   "source": [
    "#convertimos tipo de dato a fecha y agregamos columna con el mes de la llamada\n",
    "messages['message_date']= pd.to_datetime(messages['message_date'], format = '%Y-%m-%d')\n",
    "messages['month_m'] = pd.DatetimeIndex(messages['message_date']).month\n",
    "messages.head()"
   ]
  },
  {
   "cell_type": "code",
   "execution_count": 20,
   "metadata": {},
   "outputs": [
    {
     "data": {
      "text/html": [
       "<div>\n",
       "<style scoped>\n",
       "    .dataframe tbody tr th:only-of-type {\n",
       "        vertical-align: middle;\n",
       "    }\n",
       "\n",
       "    .dataframe tbody tr th {\n",
       "        vertical-align: top;\n",
       "    }\n",
       "\n",
       "    .dataframe thead th {\n",
       "        text-align: right;\n",
       "    }\n",
       "</style>\n",
       "<table border=\"1\" class=\"dataframe\">\n",
       "  <thead>\n",
       "    <tr style=\"text-align: right;\">\n",
       "      <th></th>\n",
       "      <th>user_id</th>\n",
       "      <th>month_m</th>\n",
       "      <th>messages</th>\n",
       "    </tr>\n",
       "  </thead>\n",
       "  <tbody>\n",
       "    <tr>\n",
       "      <th>0</th>\n",
       "      <td>1000</td>\n",
       "      <td>12</td>\n",
       "      <td>11</td>\n",
       "    </tr>\n",
       "    <tr>\n",
       "      <th>1</th>\n",
       "      <td>1001</td>\n",
       "      <td>8</td>\n",
       "      <td>30</td>\n",
       "    </tr>\n",
       "    <tr>\n",
       "      <th>2</th>\n",
       "      <td>1001</td>\n",
       "      <td>9</td>\n",
       "      <td>44</td>\n",
       "    </tr>\n",
       "    <tr>\n",
       "      <th>3</th>\n",
       "      <td>1001</td>\n",
       "      <td>10</td>\n",
       "      <td>53</td>\n",
       "    </tr>\n",
       "    <tr>\n",
       "      <th>4</th>\n",
       "      <td>1001</td>\n",
       "      <td>11</td>\n",
       "      <td>36</td>\n",
       "    </tr>\n",
       "  </tbody>\n",
       "</table>\n",
       "</div>"
      ],
      "text/plain": [
       "   user_id  month_m  messages\n",
       "0     1000       12        11\n",
       "1     1001        8        30\n",
       "2     1001        9        44\n",
       "3     1001       10        53\n",
       "4     1001       11        36"
      ]
     },
     "execution_count": 20,
     "metadata": {},
     "output_type": "execute_result"
    }
   ],
   "source": [
    "#ajustamos nombres de las columnas\n",
    "message_table = messages.pivot_table(index=['user_id', 'month_m'], values = 'id', aggfunc= 'count')\n",
    "message_table=message_table.reset_index()\n",
    "message_table.columns = ['user_id', 'month_m', 'messages']\n",
    "message_table.head()"
   ]
  },
  {
   "cell_type": "code",
   "execution_count": 21,
   "metadata": {},
   "outputs": [
    {
     "data": {
      "text/html": [
       "<div>\n",
       "<style scoped>\n",
       "    .dataframe tbody tr th:only-of-type {\n",
       "        vertical-align: middle;\n",
       "    }\n",
       "\n",
       "    .dataframe tbody tr th {\n",
       "        vertical-align: top;\n",
       "    }\n",
       "\n",
       "    .dataframe thead th {\n",
       "        text-align: right;\n",
       "    }\n",
       "</style>\n",
       "<table border=\"1\" class=\"dataframe\">\n",
       "  <thead>\n",
       "    <tr style=\"text-align: right;\">\n",
       "      <th></th>\n",
       "      <th>user_id</th>\n",
       "      <th>month</th>\n",
       "      <th>call_duration</th>\n",
       "      <th>call_count</th>\n",
       "      <th>month_i</th>\n",
       "      <th>mb_used</th>\n",
       "      <th>gb_used</th>\n",
       "      <th>month_m</th>\n",
       "      <th>messages</th>\n",
       "    </tr>\n",
       "  </thead>\n",
       "  <tbody>\n",
       "    <tr>\n",
       "      <th>0</th>\n",
       "      <td>1000</td>\n",
       "      <td>12.0</td>\n",
       "      <td>124.0</td>\n",
       "      <td>16.0</td>\n",
       "      <td>12.0</td>\n",
       "      <td>1901.47</td>\n",
       "      <td>2.0</td>\n",
       "      <td>12.0</td>\n",
       "      <td>11.0</td>\n",
       "    </tr>\n",
       "    <tr>\n",
       "      <th>1</th>\n",
       "      <td>1001</td>\n",
       "      <td>8.0</td>\n",
       "      <td>182.0</td>\n",
       "      <td>27.0</td>\n",
       "      <td>8.0</td>\n",
       "      <td>6919.15</td>\n",
       "      <td>7.0</td>\n",
       "      <td>8.0</td>\n",
       "      <td>30.0</td>\n",
       "    </tr>\n",
       "    <tr>\n",
       "      <th>2</th>\n",
       "      <td>1001</td>\n",
       "      <td>9.0</td>\n",
       "      <td>315.0</td>\n",
       "      <td>49.0</td>\n",
       "      <td>9.0</td>\n",
       "      <td>13314.82</td>\n",
       "      <td>14.0</td>\n",
       "      <td>9.0</td>\n",
       "      <td>44.0</td>\n",
       "    </tr>\n",
       "    <tr>\n",
       "      <th>3</th>\n",
       "      <td>1001</td>\n",
       "      <td>10.0</td>\n",
       "      <td>393.0</td>\n",
       "      <td>65.0</td>\n",
       "      <td>10.0</td>\n",
       "      <td>22330.49</td>\n",
       "      <td>22.0</td>\n",
       "      <td>10.0</td>\n",
       "      <td>53.0</td>\n",
       "    </tr>\n",
       "    <tr>\n",
       "      <th>4</th>\n",
       "      <td>1001</td>\n",
       "      <td>11.0</td>\n",
       "      <td>426.0</td>\n",
       "      <td>64.0</td>\n",
       "      <td>11.0</td>\n",
       "      <td>18504.30</td>\n",
       "      <td>19.0</td>\n",
       "      <td>11.0</td>\n",
       "      <td>36.0</td>\n",
       "    </tr>\n",
       "  </tbody>\n",
       "</table>\n",
       "</div>"
      ],
      "text/plain": [
       "   user_id  month  call_duration  call_count  month_i   mb_used  gb_used  \\\n",
       "0     1000   12.0          124.0        16.0     12.0   1901.47      2.0   \n",
       "1     1001    8.0          182.0        27.0      8.0   6919.15      7.0   \n",
       "2     1001    9.0          315.0        49.0      9.0  13314.82     14.0   \n",
       "3     1001   10.0          393.0        65.0     10.0  22330.49     22.0   \n",
       "4     1001   11.0          426.0        64.0     11.0  18504.30     19.0   \n",
       "\n",
       "   month_m  messages  \n",
       "0     12.0      11.0  \n",
       "1      8.0      30.0  \n",
       "2      9.0      44.0  \n",
       "3     10.0      53.0  \n",
       "4     11.0      36.0  "
      ]
     },
     "execution_count": 21,
     "metadata": {},
     "output_type": "execute_result"
    }
   ],
   "source": [
    "#unificamos tablas con informacion de llamadas y consumo de internet, con la de mensajes enviados\n",
    "complete2 = complete.merge(message_table,left_on= ['user_id', 'month'], right_on = ['user_id', 'month_m'], how = 'outer')\n",
    "complete2.head()\n",
    "\n"
   ]
  },
  {
   "cell_type": "code",
   "execution_count": 22,
   "metadata": {},
   "outputs": [
    {
     "name": "stdout",
     "output_type": "stream",
     "text": [
      "<class 'pandas.core.frame.DataFrame'>\n",
      "Int64Index: 2293 entries, 0 to 2292\n",
      "Data columns (total 9 columns):\n",
      " #   Column         Non-Null Count  Dtype  \n",
      "---  ------         --------------  -----  \n",
      " 0   user_id        2293 non-null   int64  \n",
      " 1   month          2292 non-null   float64\n",
      " 2   call_duration  2258 non-null   float64\n",
      " 3   call_count     2258 non-null   float64\n",
      " 4   month_i        2277 non-null   float64\n",
      " 5   mb_used        2277 non-null   float64\n",
      " 6   gb_used        2277 non-null   float64\n",
      " 7   month_m        1806 non-null   float64\n",
      " 8   messages       1806 non-null   float64\n",
      "dtypes: float64(8), int64(1)\n",
      "memory usage: 179.1 KB\n"
     ]
    }
   ],
   "source": [
    "complete2.info()"
   ]
  },
  {
   "cell_type": "code",
   "execution_count": 23,
   "metadata": {},
   "outputs": [
    {
     "name": "stdout",
     "output_type": "stream",
     "text": [
      "<class 'pandas.core.frame.DataFrame'>\n",
      "Int64Index: 2293 entries, 0 to 2292\n",
      "Data columns (total 9 columns):\n",
      " #   Column         Non-Null Count  Dtype  \n",
      "---  ------         --------------  -----  \n",
      " 0   user_id        2293 non-null   int64  \n",
      " 1   month          2293 non-null   float64\n",
      " 2   call_duration  2258 non-null   float64\n",
      " 3   call_count     2258 non-null   float64\n",
      " 4   month_i        2277 non-null   float64\n",
      " 5   mb_used        2277 non-null   float64\n",
      " 6   gb_used        2277 non-null   float64\n",
      " 7   month_m        1806 non-null   float64\n",
      " 8   messages       1806 non-null   float64\n",
      "dtypes: float64(8), int64(1)\n",
      "memory usage: 179.1 KB\n"
     ]
    }
   ],
   "source": [
    "#completamos valores ausentes de month con datos de month_m (corresponden a meses donde solo hubo consumo de mensaje)\n",
    "complete2['month'] = complete2['month'].fillna(complete2['month_m'])\n",
    "complete2.info()"
   ]
  },
  {
   "cell_type": "code",
   "execution_count": 24,
   "metadata": {},
   "outputs": [],
   "source": [
    "#cargamos informacion de planes\n",
    "plans = pd.read_csv('/datasets/megaline_plans.csv')"
   ]
  },
  {
   "cell_type": "code",
   "execution_count": 25,
   "metadata": {},
   "outputs": [
    {
     "data": {
      "text/html": [
       "<div>\n",
       "<style scoped>\n",
       "    .dataframe tbody tr th:only-of-type {\n",
       "        vertical-align: middle;\n",
       "    }\n",
       "\n",
       "    .dataframe tbody tr th {\n",
       "        vertical-align: top;\n",
       "    }\n",
       "\n",
       "    .dataframe thead th {\n",
       "        text-align: right;\n",
       "    }\n",
       "</style>\n",
       "<table border=\"1\" class=\"dataframe\">\n",
       "  <thead>\n",
       "    <tr style=\"text-align: right;\">\n",
       "      <th></th>\n",
       "      <th>messages_included</th>\n",
       "      <th>mb_per_month_included</th>\n",
       "      <th>minutes_included</th>\n",
       "      <th>usd_monthly_pay</th>\n",
       "      <th>usd_per_gb</th>\n",
       "      <th>usd_per_message</th>\n",
       "      <th>usd_per_minute</th>\n",
       "      <th>plan_name</th>\n",
       "    </tr>\n",
       "  </thead>\n",
       "  <tbody>\n",
       "    <tr>\n",
       "      <th>0</th>\n",
       "      <td>50</td>\n",
       "      <td>15360</td>\n",
       "      <td>500</td>\n",
       "      <td>20</td>\n",
       "      <td>10</td>\n",
       "      <td>0.03</td>\n",
       "      <td>0.03</td>\n",
       "      <td>surf</td>\n",
       "    </tr>\n",
       "    <tr>\n",
       "      <th>1</th>\n",
       "      <td>1000</td>\n",
       "      <td>30720</td>\n",
       "      <td>3000</td>\n",
       "      <td>70</td>\n",
       "      <td>7</td>\n",
       "      <td>0.01</td>\n",
       "      <td>0.01</td>\n",
       "      <td>ultimate</td>\n",
       "    </tr>\n",
       "  </tbody>\n",
       "</table>\n",
       "</div>"
      ],
      "text/plain": [
       "   messages_included  mb_per_month_included  minutes_included  \\\n",
       "0                 50                  15360               500   \n",
       "1               1000                  30720              3000   \n",
       "\n",
       "   usd_monthly_pay  usd_per_gb  usd_per_message  usd_per_minute plan_name  \n",
       "0               20          10             0.03            0.03      surf  \n",
       "1               70           7             0.01            0.01  ultimate  "
      ]
     },
     "execution_count": 25,
     "metadata": {},
     "output_type": "execute_result"
    }
   ],
   "source": [
    "plans.head()"
   ]
  },
  {
   "cell_type": "code",
   "execution_count": 26,
   "metadata": {},
   "outputs": [],
   "source": [
    "#cargamos informacion de los usuarios\n",
    "users = pd.read_csv('/datasets/megaline_users.csv')"
   ]
  },
  {
   "cell_type": "code",
   "execution_count": 27,
   "metadata": {},
   "outputs": [
    {
     "name": "stdout",
     "output_type": "stream",
     "text": [
      "<class 'pandas.core.frame.DataFrame'>\n",
      "RangeIndex: 500 entries, 0 to 499\n",
      "Data columns (total 8 columns):\n",
      " #   Column      Non-Null Count  Dtype \n",
      "---  ------      --------------  ----- \n",
      " 0   user_id     500 non-null    int64 \n",
      " 1   first_name  500 non-null    object\n",
      " 2   last_name   500 non-null    object\n",
      " 3   age         500 non-null    int64 \n",
      " 4   city        500 non-null    object\n",
      " 5   reg_date    500 non-null    object\n",
      " 6   plan        500 non-null    object\n",
      " 7   churn_date  34 non-null     object\n",
      "dtypes: int64(2), object(6)\n",
      "memory usage: 31.4+ KB\n"
     ]
    }
   ],
   "source": [
    "users.info()"
   ]
  },
  {
   "cell_type": "code",
   "execution_count": 28,
   "metadata": {},
   "outputs": [
    {
     "data": {
      "text/html": [
       "<div>\n",
       "<style scoped>\n",
       "    .dataframe tbody tr th:only-of-type {\n",
       "        vertical-align: middle;\n",
       "    }\n",
       "\n",
       "    .dataframe tbody tr th {\n",
       "        vertical-align: top;\n",
       "    }\n",
       "\n",
       "    .dataframe thead th {\n",
       "        text-align: right;\n",
       "    }\n",
       "</style>\n",
       "<table border=\"1\" class=\"dataframe\">\n",
       "  <thead>\n",
       "    <tr style=\"text-align: right;\">\n",
       "      <th></th>\n",
       "      <th>user_id</th>\n",
       "      <th>first_name</th>\n",
       "      <th>last_name</th>\n",
       "      <th>age</th>\n",
       "      <th>city</th>\n",
       "      <th>reg_date</th>\n",
       "      <th>plan</th>\n",
       "      <th>churn_date</th>\n",
       "    </tr>\n",
       "  </thead>\n",
       "  <tbody>\n",
       "    <tr>\n",
       "      <th>0</th>\n",
       "      <td>1000</td>\n",
       "      <td>Anamaria</td>\n",
       "      <td>Bauer</td>\n",
       "      <td>45</td>\n",
       "      <td>Atlanta-Sandy Springs-Roswell, GA MSA</td>\n",
       "      <td>2018-12-24</td>\n",
       "      <td>ultimate</td>\n",
       "      <td>NaN</td>\n",
       "    </tr>\n",
       "    <tr>\n",
       "      <th>1</th>\n",
       "      <td>1001</td>\n",
       "      <td>Mickey</td>\n",
       "      <td>Wilkerson</td>\n",
       "      <td>28</td>\n",
       "      <td>Seattle-Tacoma-Bellevue, WA MSA</td>\n",
       "      <td>2018-08-13</td>\n",
       "      <td>surf</td>\n",
       "      <td>NaN</td>\n",
       "    </tr>\n",
       "    <tr>\n",
       "      <th>2</th>\n",
       "      <td>1002</td>\n",
       "      <td>Carlee</td>\n",
       "      <td>Hoffman</td>\n",
       "      <td>36</td>\n",
       "      <td>Las Vegas-Henderson-Paradise, NV MSA</td>\n",
       "      <td>2018-10-21</td>\n",
       "      <td>surf</td>\n",
       "      <td>NaN</td>\n",
       "    </tr>\n",
       "    <tr>\n",
       "      <th>3</th>\n",
       "      <td>1003</td>\n",
       "      <td>Reynaldo</td>\n",
       "      <td>Jenkins</td>\n",
       "      <td>52</td>\n",
       "      <td>Tulsa, OK MSA</td>\n",
       "      <td>2018-01-28</td>\n",
       "      <td>surf</td>\n",
       "      <td>NaN</td>\n",
       "    </tr>\n",
       "    <tr>\n",
       "      <th>4</th>\n",
       "      <td>1004</td>\n",
       "      <td>Leonila</td>\n",
       "      <td>Thompson</td>\n",
       "      <td>40</td>\n",
       "      <td>Seattle-Tacoma-Bellevue, WA MSA</td>\n",
       "      <td>2018-05-23</td>\n",
       "      <td>surf</td>\n",
       "      <td>NaN</td>\n",
       "    </tr>\n",
       "  </tbody>\n",
       "</table>\n",
       "</div>"
      ],
      "text/plain": [
       "   user_id first_name  last_name  age                                   city  \\\n",
       "0     1000   Anamaria      Bauer   45  Atlanta-Sandy Springs-Roswell, GA MSA   \n",
       "1     1001     Mickey  Wilkerson   28        Seattle-Tacoma-Bellevue, WA MSA   \n",
       "2     1002     Carlee    Hoffman   36   Las Vegas-Henderson-Paradise, NV MSA   \n",
       "3     1003   Reynaldo    Jenkins   52                          Tulsa, OK MSA   \n",
       "4     1004    Leonila   Thompson   40        Seattle-Tacoma-Bellevue, WA MSA   \n",
       "\n",
       "     reg_date      plan churn_date  \n",
       "0  2018-12-24  ultimate        NaN  \n",
       "1  2018-08-13      surf        NaN  \n",
       "2  2018-10-21      surf        NaN  \n",
       "3  2018-01-28      surf        NaN  \n",
       "4  2018-05-23      surf        NaN  "
      ]
     },
     "execution_count": 28,
     "metadata": {},
     "output_type": "execute_result"
    }
   ],
   "source": [
    "users.head()"
   ]
  },
  {
   "cell_type": "code",
   "execution_count": 29,
   "metadata": {},
   "outputs": [],
   "source": [
    "#Agregamos a la tabla con datos de consumo, los datos de los usuarios\n",
    "complete3 = complete2.merge(users, on='user_id', how = 'left')"
   ]
  },
  {
   "cell_type": "code",
   "execution_count": 30,
   "metadata": {},
   "outputs": [
    {
     "data": {
      "text/html": [
       "<div>\n",
       "<style scoped>\n",
       "    .dataframe tbody tr th:only-of-type {\n",
       "        vertical-align: middle;\n",
       "    }\n",
       "\n",
       "    .dataframe tbody tr th {\n",
       "        vertical-align: top;\n",
       "    }\n",
       "\n",
       "    .dataframe thead th {\n",
       "        text-align: right;\n",
       "    }\n",
       "</style>\n",
       "<table border=\"1\" class=\"dataframe\">\n",
       "  <thead>\n",
       "    <tr style=\"text-align: right;\">\n",
       "      <th></th>\n",
       "      <th>user_id</th>\n",
       "      <th>month</th>\n",
       "      <th>call_duration</th>\n",
       "      <th>call_count</th>\n",
       "      <th>month_i</th>\n",
       "      <th>mb_used</th>\n",
       "      <th>gb_used</th>\n",
       "      <th>month_m</th>\n",
       "      <th>messages</th>\n",
       "      <th>first_name</th>\n",
       "      <th>last_name</th>\n",
       "      <th>age</th>\n",
       "      <th>city</th>\n",
       "      <th>reg_date</th>\n",
       "      <th>plan</th>\n",
       "      <th>churn_date</th>\n",
       "    </tr>\n",
       "  </thead>\n",
       "  <tbody>\n",
       "    <tr>\n",
       "      <th>0</th>\n",
       "      <td>1000</td>\n",
       "      <td>12.0</td>\n",
       "      <td>124.0</td>\n",
       "      <td>16.0</td>\n",
       "      <td>12.0</td>\n",
       "      <td>1901.47</td>\n",
       "      <td>2.0</td>\n",
       "      <td>12.0</td>\n",
       "      <td>11.0</td>\n",
       "      <td>Anamaria</td>\n",
       "      <td>Bauer</td>\n",
       "      <td>45</td>\n",
       "      <td>Atlanta-Sandy Springs-Roswell, GA MSA</td>\n",
       "      <td>2018-12-24</td>\n",
       "      <td>ultimate</td>\n",
       "      <td>NaN</td>\n",
       "    </tr>\n",
       "    <tr>\n",
       "      <th>1</th>\n",
       "      <td>1001</td>\n",
       "      <td>8.0</td>\n",
       "      <td>182.0</td>\n",
       "      <td>27.0</td>\n",
       "      <td>8.0</td>\n",
       "      <td>6919.15</td>\n",
       "      <td>7.0</td>\n",
       "      <td>8.0</td>\n",
       "      <td>30.0</td>\n",
       "      <td>Mickey</td>\n",
       "      <td>Wilkerson</td>\n",
       "      <td>28</td>\n",
       "      <td>Seattle-Tacoma-Bellevue, WA MSA</td>\n",
       "      <td>2018-08-13</td>\n",
       "      <td>surf</td>\n",
       "      <td>NaN</td>\n",
       "    </tr>\n",
       "    <tr>\n",
       "      <th>2</th>\n",
       "      <td>1001</td>\n",
       "      <td>9.0</td>\n",
       "      <td>315.0</td>\n",
       "      <td>49.0</td>\n",
       "      <td>9.0</td>\n",
       "      <td>13314.82</td>\n",
       "      <td>14.0</td>\n",
       "      <td>9.0</td>\n",
       "      <td>44.0</td>\n",
       "      <td>Mickey</td>\n",
       "      <td>Wilkerson</td>\n",
       "      <td>28</td>\n",
       "      <td>Seattle-Tacoma-Bellevue, WA MSA</td>\n",
       "      <td>2018-08-13</td>\n",
       "      <td>surf</td>\n",
       "      <td>NaN</td>\n",
       "    </tr>\n",
       "    <tr>\n",
       "      <th>3</th>\n",
       "      <td>1001</td>\n",
       "      <td>10.0</td>\n",
       "      <td>393.0</td>\n",
       "      <td>65.0</td>\n",
       "      <td>10.0</td>\n",
       "      <td>22330.49</td>\n",
       "      <td>22.0</td>\n",
       "      <td>10.0</td>\n",
       "      <td>53.0</td>\n",
       "      <td>Mickey</td>\n",
       "      <td>Wilkerson</td>\n",
       "      <td>28</td>\n",
       "      <td>Seattle-Tacoma-Bellevue, WA MSA</td>\n",
       "      <td>2018-08-13</td>\n",
       "      <td>surf</td>\n",
       "      <td>NaN</td>\n",
       "    </tr>\n",
       "    <tr>\n",
       "      <th>4</th>\n",
       "      <td>1001</td>\n",
       "      <td>11.0</td>\n",
       "      <td>426.0</td>\n",
       "      <td>64.0</td>\n",
       "      <td>11.0</td>\n",
       "      <td>18504.30</td>\n",
       "      <td>19.0</td>\n",
       "      <td>11.0</td>\n",
       "      <td>36.0</td>\n",
       "      <td>Mickey</td>\n",
       "      <td>Wilkerson</td>\n",
       "      <td>28</td>\n",
       "      <td>Seattle-Tacoma-Bellevue, WA MSA</td>\n",
       "      <td>2018-08-13</td>\n",
       "      <td>surf</td>\n",
       "      <td>NaN</td>\n",
       "    </tr>\n",
       "  </tbody>\n",
       "</table>\n",
       "</div>"
      ],
      "text/plain": [
       "   user_id  month  call_duration  call_count  month_i   mb_used  gb_used  \\\n",
       "0     1000   12.0          124.0        16.0     12.0   1901.47      2.0   \n",
       "1     1001    8.0          182.0        27.0      8.0   6919.15      7.0   \n",
       "2     1001    9.0          315.0        49.0      9.0  13314.82     14.0   \n",
       "3     1001   10.0          393.0        65.0     10.0  22330.49     22.0   \n",
       "4     1001   11.0          426.0        64.0     11.0  18504.30     19.0   \n",
       "\n",
       "   month_m  messages first_name  last_name  age  \\\n",
       "0     12.0      11.0   Anamaria      Bauer   45   \n",
       "1      8.0      30.0     Mickey  Wilkerson   28   \n",
       "2      9.0      44.0     Mickey  Wilkerson   28   \n",
       "3     10.0      53.0     Mickey  Wilkerson   28   \n",
       "4     11.0      36.0     Mickey  Wilkerson   28   \n",
       "\n",
       "                                    city    reg_date      plan churn_date  \n",
       "0  Atlanta-Sandy Springs-Roswell, GA MSA  2018-12-24  ultimate        NaN  \n",
       "1        Seattle-Tacoma-Bellevue, WA MSA  2018-08-13      surf        NaN  \n",
       "2        Seattle-Tacoma-Bellevue, WA MSA  2018-08-13      surf        NaN  \n",
       "3        Seattle-Tacoma-Bellevue, WA MSA  2018-08-13      surf        NaN  \n",
       "4        Seattle-Tacoma-Bellevue, WA MSA  2018-08-13      surf        NaN  "
      ]
     },
     "execution_count": 30,
     "metadata": {},
     "output_type": "execute_result"
    }
   ],
   "source": [
    "complete3.head()\n"
   ]
  },
  {
   "cell_type": "code",
   "execution_count": 31,
   "metadata": {
    "scrolled": true
   },
   "outputs": [
    {
     "name": "stdout",
     "output_type": "stream",
     "text": [
      "<class 'pandas.core.frame.DataFrame'>\n",
      "Int64Index: 2293 entries, 0 to 2292\n",
      "Data columns (total 16 columns):\n",
      " #   Column         Non-Null Count  Dtype  \n",
      "---  ------         --------------  -----  \n",
      " 0   user_id        2293 non-null   int64  \n",
      " 1   month          2293 non-null   float64\n",
      " 2   call_duration  2258 non-null   float64\n",
      " 3   call_count     2258 non-null   float64\n",
      " 4   month_i        2277 non-null   float64\n",
      " 5   mb_used        2277 non-null   float64\n",
      " 6   gb_used        2277 non-null   float64\n",
      " 7   month_m        1806 non-null   float64\n",
      " 8   messages       1806 non-null   float64\n",
      " 9   first_name     2293 non-null   object \n",
      " 10  last_name      2293 non-null   object \n",
      " 11  age            2293 non-null   int64  \n",
      " 12  city           2293 non-null   object \n",
      " 13  reg_date       2293 non-null   object \n",
      " 14  plan           2293 non-null   object \n",
      " 15  churn_date     158 non-null    object \n",
      "dtypes: float64(8), int64(2), object(6)\n",
      "memory usage: 304.5+ KB\n"
     ]
    }
   ],
   "source": [
    "#analizamos informacion de la tabla\n",
    "complete3.info()"
   ]
  },
  {
   "cell_type": "code",
   "execution_count": 32,
   "metadata": {},
   "outputs": [
    {
     "name": "stdout",
     "output_type": "stream",
     "text": [
      "<class 'pandas.core.frame.DataFrame'>\n",
      "Int64Index: 2293 entries, 0 to 2292\n",
      "Data columns (total 16 columns):\n",
      " #   Column         Non-Null Count  Dtype  \n",
      "---  ------         --------------  -----  \n",
      " 0   user_id        2293 non-null   int64  \n",
      " 1   month          2293 non-null   float64\n",
      " 2   call_duration  2293 non-null   float64\n",
      " 3   call_count     2258 non-null   float64\n",
      " 4   month_i        2277 non-null   float64\n",
      " 5   mb_used        2277 non-null   float64\n",
      " 6   gb_used        2293 non-null   float64\n",
      " 7   month_m        1806 non-null   float64\n",
      " 8   messages       2293 non-null   float64\n",
      " 9   first_name     2293 non-null   object \n",
      " 10  last_name      2293 non-null   object \n",
      " 11  age            2293 non-null   int64  \n",
      " 12  city           2293 non-null   object \n",
      " 13  reg_date       2293 non-null   object \n",
      " 14  plan           2293 non-null   object \n",
      " 15  churn_date     158 non-null    object \n",
      "dtypes: float64(8), int64(2), object(6)\n",
      "memory usage: 304.5+ KB\n"
     ]
    }
   ],
   "source": [
    "# Rellenamos valores ausentes de consumos de las columnas de interes con ceros\n",
    "complete3['call_duration'] = complete3['call_duration'].fillna(0)\n",
    "complete3['gb_used'] = complete3['gb_used'].fillna(0)\n",
    "complete3['messages'] = complete3['messages'].fillna(0)\n",
    "complete3.info()"
   ]
  },
  {
   "cell_type": "code",
   "execution_count": 33,
   "metadata": {},
   "outputs": [
    {
     "data": {
      "text/html": [
       "<div>\n",
       "<style scoped>\n",
       "    .dataframe tbody tr th:only-of-type {\n",
       "        vertical-align: middle;\n",
       "    }\n",
       "\n",
       "    .dataframe tbody tr th {\n",
       "        vertical-align: top;\n",
       "    }\n",
       "\n",
       "    .dataframe thead th {\n",
       "        text-align: right;\n",
       "    }\n",
       "</style>\n",
       "<table border=\"1\" class=\"dataframe\">\n",
       "  <thead>\n",
       "    <tr style=\"text-align: right;\">\n",
       "      <th></th>\n",
       "      <th>user_id</th>\n",
       "      <th>month</th>\n",
       "      <th>call_duration</th>\n",
       "      <th>call_count</th>\n",
       "      <th>month_i</th>\n",
       "      <th>mb_used</th>\n",
       "      <th>gb_used</th>\n",
       "      <th>month_m</th>\n",
       "      <th>messages</th>\n",
       "      <th>first_name</th>\n",
       "      <th>last_name</th>\n",
       "      <th>age</th>\n",
       "      <th>city</th>\n",
       "      <th>reg_date</th>\n",
       "      <th>plan</th>\n",
       "      <th>churn_date</th>\n",
       "    </tr>\n",
       "  </thead>\n",
       "  <tbody>\n",
       "    <tr>\n",
       "      <th>0</th>\n",
       "      <td>1000</td>\n",
       "      <td>12.0</td>\n",
       "      <td>124.0</td>\n",
       "      <td>16.0</td>\n",
       "      <td>12.0</td>\n",
       "      <td>1901.47</td>\n",
       "      <td>2.0</td>\n",
       "      <td>12.0</td>\n",
       "      <td>11.0</td>\n",
       "      <td>Anamaria</td>\n",
       "      <td>Bauer</td>\n",
       "      <td>45</td>\n",
       "      <td>Atlanta-Sandy Springs-Roswell, GA MSA</td>\n",
       "      <td>2018-12-24</td>\n",
       "      <td>ultimate</td>\n",
       "      <td>NaN</td>\n",
       "    </tr>\n",
       "    <tr>\n",
       "      <th>1</th>\n",
       "      <td>1001</td>\n",
       "      <td>8.0</td>\n",
       "      <td>182.0</td>\n",
       "      <td>27.0</td>\n",
       "      <td>8.0</td>\n",
       "      <td>6919.15</td>\n",
       "      <td>7.0</td>\n",
       "      <td>8.0</td>\n",
       "      <td>30.0</td>\n",
       "      <td>Mickey</td>\n",
       "      <td>Wilkerson</td>\n",
       "      <td>28</td>\n",
       "      <td>Seattle-Tacoma-Bellevue, WA MSA</td>\n",
       "      <td>2018-08-13</td>\n",
       "      <td>surf</td>\n",
       "      <td>NaN</td>\n",
       "    </tr>\n",
       "    <tr>\n",
       "      <th>2</th>\n",
       "      <td>1001</td>\n",
       "      <td>9.0</td>\n",
       "      <td>315.0</td>\n",
       "      <td>49.0</td>\n",
       "      <td>9.0</td>\n",
       "      <td>13314.82</td>\n",
       "      <td>14.0</td>\n",
       "      <td>9.0</td>\n",
       "      <td>44.0</td>\n",
       "      <td>Mickey</td>\n",
       "      <td>Wilkerson</td>\n",
       "      <td>28</td>\n",
       "      <td>Seattle-Tacoma-Bellevue, WA MSA</td>\n",
       "      <td>2018-08-13</td>\n",
       "      <td>surf</td>\n",
       "      <td>NaN</td>\n",
       "    </tr>\n",
       "  </tbody>\n",
       "</table>\n",
       "</div>"
      ],
      "text/plain": [
       "   user_id  month  call_duration  call_count  month_i   mb_used  gb_used  \\\n",
       "0     1000   12.0          124.0        16.0     12.0   1901.47      2.0   \n",
       "1     1001    8.0          182.0        27.0      8.0   6919.15      7.0   \n",
       "2     1001    9.0          315.0        49.0      9.0  13314.82     14.0   \n",
       "\n",
       "   month_m  messages first_name  last_name  age  \\\n",
       "0     12.0      11.0   Anamaria      Bauer   45   \n",
       "1      8.0      30.0     Mickey  Wilkerson   28   \n",
       "2      9.0      44.0     Mickey  Wilkerson   28   \n",
       "\n",
       "                                    city    reg_date      plan churn_date  \n",
       "0  Atlanta-Sandy Springs-Roswell, GA MSA  2018-12-24  ultimate        NaN  \n",
       "1        Seattle-Tacoma-Bellevue, WA MSA  2018-08-13      surf        NaN  \n",
       "2        Seattle-Tacoma-Bellevue, WA MSA  2018-08-13      surf        NaN  "
      ]
     },
     "execution_count": 33,
     "metadata": {},
     "output_type": "execute_result"
    }
   ],
   "source": [
    "complete3.head(3)"
   ]
  },
  {
   "cell_type": "code",
   "execution_count": 34,
   "metadata": {},
   "outputs": [
    {
     "data": {
      "text/html": [
       "<div>\n",
       "<style scoped>\n",
       "    .dataframe tbody tr th:only-of-type {\n",
       "        vertical-align: middle;\n",
       "    }\n",
       "\n",
       "    .dataframe tbody tr th {\n",
       "        vertical-align: top;\n",
       "    }\n",
       "\n",
       "    .dataframe thead th {\n",
       "        text-align: right;\n",
       "    }\n",
       "</style>\n",
       "<table border=\"1\" class=\"dataframe\">\n",
       "  <thead>\n",
       "    <tr style=\"text-align: right;\">\n",
       "      <th></th>\n",
       "      <th>user_id</th>\n",
       "      <th>month</th>\n",
       "      <th>call_duration</th>\n",
       "      <th>call_count</th>\n",
       "      <th>month_i</th>\n",
       "      <th>mb_used</th>\n",
       "      <th>gb_used</th>\n",
       "      <th>month_m</th>\n",
       "      <th>messages</th>\n",
       "      <th>first_name</th>\n",
       "      <th>last_name</th>\n",
       "      <th>age</th>\n",
       "      <th>city</th>\n",
       "      <th>reg_date</th>\n",
       "      <th>plan</th>\n",
       "      <th>churn_date</th>\n",
       "    </tr>\n",
       "  </thead>\n",
       "  <tbody>\n",
       "    <tr>\n",
       "      <th>0</th>\n",
       "      <td>1000</td>\n",
       "      <td>12.0</td>\n",
       "      <td>124.0</td>\n",
       "      <td>16.0</td>\n",
       "      <td>12.0</td>\n",
       "      <td>1901.47</td>\n",
       "      <td>2.0</td>\n",
       "      <td>12.0</td>\n",
       "      <td>11.0</td>\n",
       "      <td>Anamaria</td>\n",
       "      <td>Bauer</td>\n",
       "      <td>45</td>\n",
       "      <td>Atlanta-Sandy Springs-Roswell, GA MSA</td>\n",
       "      <td>2018-12-24</td>\n",
       "      <td>ultimate</td>\n",
       "      <td>NaN</td>\n",
       "    </tr>\n",
       "    <tr>\n",
       "      <th>19</th>\n",
       "      <td>1006</td>\n",
       "      <td>11.0</td>\n",
       "      <td>10.0</td>\n",
       "      <td>2.0</td>\n",
       "      <td>11.0</td>\n",
       "      <td>2068.37</td>\n",
       "      <td>3.0</td>\n",
       "      <td>11.0</td>\n",
       "      <td>15.0</td>\n",
       "      <td>Jesusa</td>\n",
       "      <td>Bradford</td>\n",
       "      <td>73</td>\n",
       "      <td>San Francisco-Oakland-Berkeley, CA MSA</td>\n",
       "      <td>2018-11-27</td>\n",
       "      <td>ultimate</td>\n",
       "      <td>2018-12-18</td>\n",
       "    </tr>\n",
       "    <tr>\n",
       "      <th>20</th>\n",
       "      <td>1006</td>\n",
       "      <td>12.0</td>\n",
       "      <td>59.0</td>\n",
       "      <td>9.0</td>\n",
       "      <td>12.0</td>\n",
       "      <td>32118.82</td>\n",
       "      <td>32.0</td>\n",
       "      <td>12.0</td>\n",
       "      <td>139.0</td>\n",
       "      <td>Jesusa</td>\n",
       "      <td>Bradford</td>\n",
       "      <td>73</td>\n",
       "      <td>San Francisco-Oakland-Berkeley, CA MSA</td>\n",
       "      <td>2018-11-27</td>\n",
       "      <td>ultimate</td>\n",
       "      <td>2018-12-18</td>\n",
       "    </tr>\n",
       "    <tr>\n",
       "      <th>26</th>\n",
       "      <td>1008</td>\n",
       "      <td>10.0</td>\n",
       "      <td>476.0</td>\n",
       "      <td>71.0</td>\n",
       "      <td>10.0</td>\n",
       "      <td>17106.99</td>\n",
       "      <td>17.0</td>\n",
       "      <td>10.0</td>\n",
       "      <td>21.0</td>\n",
       "      <td>Emely</td>\n",
       "      <td>Hoffman</td>\n",
       "      <td>53</td>\n",
       "      <td>Orlando-Kissimmee-Sanford, FL MSA</td>\n",
       "      <td>2018-08-03</td>\n",
       "      <td>ultimate</td>\n",
       "      <td>NaN</td>\n",
       "    </tr>\n",
       "    <tr>\n",
       "      <th>27</th>\n",
       "      <td>1008</td>\n",
       "      <td>11.0</td>\n",
       "      <td>446.0</td>\n",
       "      <td>63.0</td>\n",
       "      <td>11.0</td>\n",
       "      <td>23676.72</td>\n",
       "      <td>24.0</td>\n",
       "      <td>11.0</td>\n",
       "      <td>37.0</td>\n",
       "      <td>Emely</td>\n",
       "      <td>Hoffman</td>\n",
       "      <td>53</td>\n",
       "      <td>Orlando-Kissimmee-Sanford, FL MSA</td>\n",
       "      <td>2018-08-03</td>\n",
       "      <td>ultimate</td>\n",
       "      <td>NaN</td>\n",
       "    </tr>\n",
       "  </tbody>\n",
       "</table>\n",
       "</div>"
      ],
      "text/plain": [
       "    user_id  month  call_duration  call_count  month_i   mb_used  gb_used  \\\n",
       "0      1000   12.0          124.0        16.0     12.0   1901.47      2.0   \n",
       "19     1006   11.0           10.0         2.0     11.0   2068.37      3.0   \n",
       "20     1006   12.0           59.0         9.0     12.0  32118.82     32.0   \n",
       "26     1008   10.0          476.0        71.0     10.0  17106.99     17.0   \n",
       "27     1008   11.0          446.0        63.0     11.0  23676.72     24.0   \n",
       "\n",
       "    month_m  messages first_name last_name  age  \\\n",
       "0      12.0      11.0   Anamaria     Bauer   45   \n",
       "19     11.0      15.0     Jesusa  Bradford   73   \n",
       "20     12.0     139.0     Jesusa  Bradford   73   \n",
       "26     10.0      21.0      Emely   Hoffman   53   \n",
       "27     11.0      37.0      Emely   Hoffman   53   \n",
       "\n",
       "                                      city    reg_date      plan  churn_date  \n",
       "0    Atlanta-Sandy Springs-Roswell, GA MSA  2018-12-24  ultimate         NaN  \n",
       "19  San Francisco-Oakland-Berkeley, CA MSA  2018-11-27  ultimate  2018-12-18  \n",
       "20  San Francisco-Oakland-Berkeley, CA MSA  2018-11-27  ultimate  2018-12-18  \n",
       "26       Orlando-Kissimmee-Sanford, FL MSA  2018-08-03  ultimate         NaN  \n",
       "27       Orlando-Kissimmee-Sanford, FL MSA  2018-08-03  ultimate         NaN  "
      ]
     },
     "execution_count": 34,
     "metadata": {},
     "output_type": "execute_result"
    }
   ],
   "source": [
    "#segmentamos el dataset por tipo de plan\n",
    "ultimate = complete3[complete3['plan']=='ultimate']\n",
    "ultimate.head()"
   ]
  },
  {
   "cell_type": "code",
   "execution_count": 35,
   "metadata": {
    "scrolled": true
   },
   "outputs": [
    {
     "data": {
      "text/html": [
       "<div>\n",
       "<style scoped>\n",
       "    .dataframe tbody tr th:only-of-type {\n",
       "        vertical-align: middle;\n",
       "    }\n",
       "\n",
       "    .dataframe tbody tr th {\n",
       "        vertical-align: top;\n",
       "    }\n",
       "\n",
       "    .dataframe thead th {\n",
       "        text-align: right;\n",
       "    }\n",
       "</style>\n",
       "<table border=\"1\" class=\"dataframe\">\n",
       "  <thead>\n",
       "    <tr style=\"text-align: right;\">\n",
       "      <th></th>\n",
       "      <th>user_id</th>\n",
       "      <th>month</th>\n",
       "      <th>call_duration</th>\n",
       "      <th>call_count</th>\n",
       "      <th>month_i</th>\n",
       "      <th>mb_used</th>\n",
       "      <th>gb_used</th>\n",
       "      <th>month_m</th>\n",
       "      <th>messages</th>\n",
       "      <th>first_name</th>\n",
       "      <th>last_name</th>\n",
       "      <th>age</th>\n",
       "      <th>city</th>\n",
       "      <th>reg_date</th>\n",
       "      <th>plan</th>\n",
       "      <th>churn_date</th>\n",
       "    </tr>\n",
       "  </thead>\n",
       "  <tbody>\n",
       "    <tr>\n",
       "      <th>1</th>\n",
       "      <td>1001</td>\n",
       "      <td>8.0</td>\n",
       "      <td>182.0</td>\n",
       "      <td>27.0</td>\n",
       "      <td>8.0</td>\n",
       "      <td>6919.15</td>\n",
       "      <td>7.0</td>\n",
       "      <td>8.0</td>\n",
       "      <td>30.0</td>\n",
       "      <td>Mickey</td>\n",
       "      <td>Wilkerson</td>\n",
       "      <td>28</td>\n",
       "      <td>Seattle-Tacoma-Bellevue, WA MSA</td>\n",
       "      <td>2018-08-13</td>\n",
       "      <td>surf</td>\n",
       "      <td>NaN</td>\n",
       "    </tr>\n",
       "    <tr>\n",
       "      <th>2</th>\n",
       "      <td>1001</td>\n",
       "      <td>9.0</td>\n",
       "      <td>315.0</td>\n",
       "      <td>49.0</td>\n",
       "      <td>9.0</td>\n",
       "      <td>13314.82</td>\n",
       "      <td>14.0</td>\n",
       "      <td>9.0</td>\n",
       "      <td>44.0</td>\n",
       "      <td>Mickey</td>\n",
       "      <td>Wilkerson</td>\n",
       "      <td>28</td>\n",
       "      <td>Seattle-Tacoma-Bellevue, WA MSA</td>\n",
       "      <td>2018-08-13</td>\n",
       "      <td>surf</td>\n",
       "      <td>NaN</td>\n",
       "    </tr>\n",
       "    <tr>\n",
       "      <th>3</th>\n",
       "      <td>1001</td>\n",
       "      <td>10.0</td>\n",
       "      <td>393.0</td>\n",
       "      <td>65.0</td>\n",
       "      <td>10.0</td>\n",
       "      <td>22330.49</td>\n",
       "      <td>22.0</td>\n",
       "      <td>10.0</td>\n",
       "      <td>53.0</td>\n",
       "      <td>Mickey</td>\n",
       "      <td>Wilkerson</td>\n",
       "      <td>28</td>\n",
       "      <td>Seattle-Tacoma-Bellevue, WA MSA</td>\n",
       "      <td>2018-08-13</td>\n",
       "      <td>surf</td>\n",
       "      <td>NaN</td>\n",
       "    </tr>\n",
       "    <tr>\n",
       "      <th>4</th>\n",
       "      <td>1001</td>\n",
       "      <td>11.0</td>\n",
       "      <td>426.0</td>\n",
       "      <td>64.0</td>\n",
       "      <td>11.0</td>\n",
       "      <td>18504.30</td>\n",
       "      <td>19.0</td>\n",
       "      <td>11.0</td>\n",
       "      <td>36.0</td>\n",
       "      <td>Mickey</td>\n",
       "      <td>Wilkerson</td>\n",
       "      <td>28</td>\n",
       "      <td>Seattle-Tacoma-Bellevue, WA MSA</td>\n",
       "      <td>2018-08-13</td>\n",
       "      <td>surf</td>\n",
       "      <td>NaN</td>\n",
       "    </tr>\n",
       "    <tr>\n",
       "      <th>5</th>\n",
       "      <td>1001</td>\n",
       "      <td>12.0</td>\n",
       "      <td>412.0</td>\n",
       "      <td>56.0</td>\n",
       "      <td>12.0</td>\n",
       "      <td>19369.18</td>\n",
       "      <td>19.0</td>\n",
       "      <td>12.0</td>\n",
       "      <td>44.0</td>\n",
       "      <td>Mickey</td>\n",
       "      <td>Wilkerson</td>\n",
       "      <td>28</td>\n",
       "      <td>Seattle-Tacoma-Bellevue, WA MSA</td>\n",
       "      <td>2018-08-13</td>\n",
       "      <td>surf</td>\n",
       "      <td>NaN</td>\n",
       "    </tr>\n",
       "  </tbody>\n",
       "</table>\n",
       "</div>"
      ],
      "text/plain": [
       "   user_id  month  call_duration  call_count  month_i   mb_used  gb_used  \\\n",
       "1     1001    8.0          182.0        27.0      8.0   6919.15      7.0   \n",
       "2     1001    9.0          315.0        49.0      9.0  13314.82     14.0   \n",
       "3     1001   10.0          393.0        65.0     10.0  22330.49     22.0   \n",
       "4     1001   11.0          426.0        64.0     11.0  18504.30     19.0   \n",
       "5     1001   12.0          412.0        56.0     12.0  19369.18     19.0   \n",
       "\n",
       "   month_m  messages first_name  last_name  age  \\\n",
       "1      8.0      30.0     Mickey  Wilkerson   28   \n",
       "2      9.0      44.0     Mickey  Wilkerson   28   \n",
       "3     10.0      53.0     Mickey  Wilkerson   28   \n",
       "4     11.0      36.0     Mickey  Wilkerson   28   \n",
       "5     12.0      44.0     Mickey  Wilkerson   28   \n",
       "\n",
       "                              city    reg_date  plan churn_date  \n",
       "1  Seattle-Tacoma-Bellevue, WA MSA  2018-08-13  surf        NaN  \n",
       "2  Seattle-Tacoma-Bellevue, WA MSA  2018-08-13  surf        NaN  \n",
       "3  Seattle-Tacoma-Bellevue, WA MSA  2018-08-13  surf        NaN  \n",
       "4  Seattle-Tacoma-Bellevue, WA MSA  2018-08-13  surf        NaN  \n",
       "5  Seattle-Tacoma-Bellevue, WA MSA  2018-08-13  surf        NaN  "
      ]
     },
     "execution_count": 35,
     "metadata": {},
     "output_type": "execute_result"
    }
   ],
   "source": [
    "surf = complete3[complete3['plan']=='surf']\n",
    "surf.head()\n"
   ]
  },
  {
   "cell_type": "markdown",
   "metadata": {},
   "source": [
    "**Paso 3** \n",
    "\n",
    "Analisis de datos"
   ]
  },
  {
   "cell_type": "code",
   "execution_count": 36,
   "metadata": {},
   "outputs": [
    {
     "data": {
      "text/plain": [
       "<matplotlib.legend.Legend at 0x7efbcc5eac10>"
      ]
     },
     "execution_count": 36,
     "metadata": {},
     "output_type": "execute_result"
    },
    {
     "data": {
      "image/png": "[encoded data removed]",
      "text/plain": [
       "<Figure size 432x288 with 1 Axes>"
      ]
     },
     "metadata": {
      "needs_background": "light"
     },
     "output_type": "display_data"
    }
   ],
   "source": [
    "#Distribucion de minutos de llamas por mes por tipo de plan\n",
    "surf['call_duration'].hist(label = 'Surf')\n",
    "ultimate['call_duration'].hist(label = 'Ultimate')\n",
    "\n",
    "plt.xlabel('Minutes')\n",
    "plt.ylabel('Number of users')\n",
    "plt.title('Minutes per month per user')\n",
    "plt.legend(loc= 5)"
   ]
  },
  {
   "cell_type": "code",
   "execution_count": 37,
   "metadata": {},
   "outputs": [
    {
     "name": "stdout",
     "output_type": "stream",
     "text": [
      "Media de llamadas Surf: 429\n",
      "Varianza de llamadas Surf: 54933\n",
      "Desvio de llamadas Surf: 234\n",
      "\n",
      "Media de llamadas Ultimate: 430\n",
      "Varianza de llamadas Ultimate: 57764\n",
      "Desvio de llamadas Ultimate: 240\n"
     ]
    }
   ],
   "source": [
    "print('Media de llamadas Surf:', round(np.mean(surf['call_duration'])))\n",
    "print('Varianza de llamadas Surf:', round(np.var(surf['call_duration'])))\n",
    "print('Desvio de llamadas Surf:', round(np.std(surf['call_duration'])))\n",
    "print()\n",
    "\n",
    "print('Media de llamadas Ultimate:', round(np.mean(ultimate['call_duration'])))\n",
    "print('Varianza de llamadas Ultimate:', round(np.var(ultimate['call_duration'])))\n",
    "print('Desvio de llamadas Ultimate:', round(np.std(ultimate['call_duration'])))\n",
    "\n"
   ]
  },
  {
   "cell_type": "markdown",
   "metadata": {},
   "source": [
    "- Ambas tarifas tienen una distribucion de consumo de minutos de llamadas similar. La media de consumo es similar aunque el desvio estandar es levemente superios para el caso de tarifa ultimate."
   ]
  },
  {
   "cell_type": "code",
   "execution_count": 38,
   "metadata": {},
   "outputs": [
    {
     "data": {
      "text/plain": [
       "<matplotlib.legend.Legend at 0x7efbcc539af0>"
      ]
     },
     "execution_count": 38,
     "metadata": {},
     "output_type": "execute_result"
    },
    {
     "data": {
      "image/png": "[encoded data removed]",
      "text/plain": [
       "<Figure size 432x288 with 1 Axes>"
      ]
     },
     "metadata": {
      "needs_background": "light"
     },
     "output_type": "display_data"
    }
   ],
   "source": [
    "#Distribucion de gb utilizados por mes por tipo de plan\n",
    "surf['gb_used'].hist(label = 'Surf')\n",
    "ultimate['gb_used'].hist(label = 'Ultimate')\n",
    "\n",
    "plt.xlabel('GB')\n",
    "plt.ylabel('Number of users')\n",
    "plt.title('GB per month per user')\n",
    "plt.legend(loc= 5)"
   ]
  },
  {
   "cell_type": "code",
   "execution_count": 39,
   "metadata": {},
   "outputs": [
    {
     "name": "stdout",
     "output_type": "stream",
     "text": [
      "Media de GB  Surf: 17\n",
      "Varianza de GB  Surf: 62\n",
      "Desvio de GB  Surf: 8\n",
      "\n",
      "Media de GB Ultimate: 17\n",
      "Varianza de GB  Ultimate: 59\n",
      "Desvio de GB  Ultimate: 8\n"
     ]
    }
   ],
   "source": [
    "print('Media de GB  Surf:', round(np.mean(surf['gb_used'])))\n",
    "print('Varianza de GB  Surf:', round(np.var(surf['gb_used'])))\n",
    "print('Desvio de GB  Surf:', round(np.std(surf['gb_used'])))\n",
    "print()\n",
    "print('Media de GB Ultimate:', round(np.mean(ultimate['gb_used'])))\n",
    "print('Varianza de GB  Ultimate:', round(np.var(ultimate['gb_used'])))\n",
    "print('Desvio de GB  Ultimate:', round(np.std(ultimate['gb_used'])))"
   ]
  },
  {
   "cell_type": "markdown",
   "metadata": {},
   "source": [
    "- Ambas tarifas tienen una distribucion de consumo de GB similar, con una media y un desvío estandard practicamente igual."
   ]
  },
  {
   "cell_type": "code",
   "execution_count": 40,
   "metadata": {},
   "outputs": [
    {
     "data": {
      "text/plain": [
       "<matplotlib.legend.Legend at 0x7efbcc414bb0>"
      ]
     },
     "execution_count": 40,
     "metadata": {},
     "output_type": "execute_result"
    },
    {
     "data": {
      "image/png": "[encoded data removed]",
      "text/plain": [
       "<Figure size 432x288 with 1 Axes>"
      ]
     },
     "metadata": {
      "needs_background": "light"
     },
     "output_type": "display_data"
    }
   ],
   "source": [
    "#Distribucion de SMS utilizados por mes por tipo de plan\n",
    "surf['messages'].hist(label = 'Surf')\n",
    "ultimate['messages'].hist(label = 'Ultimate')\n",
    "\n",
    "plt.xlabel('Messajes')\n",
    "plt.ylabel('Number of users')\n",
    "plt.title('Messages per month per user')\n",
    "plt.legend(loc= 5)"
   ]
  },
  {
   "cell_type": "code",
   "execution_count": 41,
   "metadata": {},
   "outputs": [
    {
     "name": "stdout",
     "output_type": "stream",
     "text": [
      "Media de SMS Surf: 31\n",
      "Varianza de SMS Surf: 1126\n",
      "Desvio de SMS Surf: 34\n",
      "\n",
      "Media de SMS Ultimate: 38\n",
      "Varianza de SMS Ultimate: 1207\n",
      "Desvio de SMS Ultimate: 35\n"
     ]
    }
   ],
   "source": [
    "print('Media de SMS Surf:', round(np.mean(surf['messages'])))\n",
    "print('Varianza de SMS Surf:', round(np.var(surf['messages'])))\n",
    "print('Desvio de SMS Surf:', round(np.std(surf['messages'])))\n",
    "print()\n",
    "print('Media de SMS Ultimate:', round(np.mean(ultimate['messages'])))\n",
    "print('Varianza de SMS Ultimate:', round(np.var(ultimate['messages'])))\n",
    "print('Desvio de SMS Ultimate:', round(np.std(ultimate['messages'])))"
   ]
  },
  {
   "cell_type": "markdown",
   "metadata": {},
   "source": [
    "- Ambas tarifas tienen una distribucion de consumo de mensajes relativamente similar. Los usuario de la tarifa ULtimate cuentan con una media de consumo superior y un desvio standard superior a aquellos usuarios de Surf"
   ]
  },
  {
   "cell_type": "markdown",
   "metadata": {},
   "source": [
    "- Analisis de evolucion en el tiempo"
   ]
  },
  {
   "cell_type": "code",
   "execution_count": 42,
   "metadata": {},
   "outputs": [
    {
     "data": {
      "text/plain": [
       "<matplotlib.legend.Legend at 0x7efbcc33f370>"
      ]
     },
     "execution_count": 42,
     "metadata": {},
     "output_type": "execute_result"
    },
    {
     "data": {
      "image/png": "[encoded data removed]",
      "text/plain": [
       "<Figure size 432x288 with 1 Axes>"
      ]
     },
     "metadata": {
      "needs_background": "light"
     },
     "output_type": "display_data"
    }
   ],
   "source": [
    "#Analisis de envolucion de consumo de llamadas a lo largo del año por tipo de plan\n",
    "surf.groupby('month')['call_duration'].sum().plot(label = 'surf')\n",
    "ultimate.groupby('month')['call_duration'].sum().plot(label = 'ultimate')\n",
    "\n",
    "plt.xlabel('Month')\n",
    "plt.ylabel('Minutes')\n",
    "plt.title('Minutes per month')\n",
    "plt.legend(loc= 6)"
   ]
  },
  {
   "cell_type": "code",
   "execution_count": 43,
   "metadata": {},
   "outputs": [
    {
     "data": {
      "text/plain": [
       "157"
      ]
     },
     "execution_count": 43,
     "metadata": {},
     "output_type": "execute_result"
    },
    {
     "data": {
      "image/png": "[encoded data removed]",
      "text/plain": [
       "<Figure size 432x288 with 1 Axes>"
      ]
     },
     "metadata": {
      "needs_background": "light"
     },
     "output_type": "display_data"
    }
   ],
   "source": [
    "#Analisis de envolucion de consumo de llamadas a lo largo del año por tipo de plan (promedio por usuario)\n",
    "\n",
    "surf_users = len(surf['user_id'].unique())\n",
    "ultimate_users = len(ultimate['user_id'].unique())\n",
    "\n",
    "(surf.groupby('month')['call_duration'].sum()/surf_users).plot(label = 'surf')\n",
    "(ultimate.groupby('month')['call_duration'].sum()/ultimate_users).plot(label = 'ultimate')\n",
    "\n",
    "plt.xlabel('Month')\n",
    "plt.ylabel('Minutes')\n",
    "plt.title('Minutes per month _ Average per user')\n",
    "plt.legend(loc= 6)\n",
    "ultimate_users"
   ]
  },
  {
   "cell_type": "markdown",
   "metadata": {},
   "source": [
    "- Ambas tarifas cuentan con un consumo promedio de minutos de llamada por usuario similar a lo largo del año. Se observa un patron de consumo creciente en volumen desde el inicio del año hacia el fianl del mismo"
   ]
  },
  {
   "cell_type": "code",
   "execution_count": 44,
   "metadata": {},
   "outputs": [
    {
     "data": {
      "text/plain": [
       "<matplotlib.legend.Legend at 0x7efbcc29fbe0>"
      ]
     },
     "execution_count": 44,
     "metadata": {},
     "output_type": "execute_result"
    },
    {
     "data": {
      "image/png": "[encoded data removed]",
      "text/plain": [
       "<Figure size 432x288 with 1 Axes>"
      ]
     },
     "metadata": {
      "needs_background": "light"
     },
     "output_type": "display_data"
    }
   ],
   "source": [
    "#Analisis de envolucion de consumo de GB a lo largo del año por tipo de plan\n",
    "surf.groupby('month')['gb_used'].sum().plot(label = 'surf')\n",
    "ultimate.groupby('month')['gb_used'].sum().plot(label = 'ultimate')\n",
    "\n",
    "plt.xlabel('Month')\n",
    "plt.ylabel('GB')\n",
    "plt.title('GB per month')\n",
    "plt.legend(loc= 4)"
   ]
  },
  {
   "cell_type": "code",
   "execution_count": 45,
   "metadata": {
    "scrolled": true
   },
   "outputs": [
    {
     "data": {
      "text/plain": [
       "<matplotlib.legend.Legend at 0x7efbcc20fcd0>"
      ]
     },
     "execution_count": 45,
     "metadata": {},
     "output_type": "execute_result"
    },
    {
     "data": {
      "image/png": "[encoded data removed]",
      "text/plain": [
       "<Figure size 432x288 with 1 Axes>"
      ]
     },
     "metadata": {
      "needs_background": "light"
     },
     "output_type": "display_data"
    }
   ],
   "source": [
    "#Analisis de envolucion de consumo de GB a lo largo del año por tipo de plan (promedio por usuario)\n",
    "(surf.groupby('month')['gb_used'].sum()/surf_users).plot(label = 'surf')\n",
    "(ultimate.groupby('month')['gb_used'].sum()/ultimate_users).plot(label = 'ultimate')\n",
    "\n",
    "plt.xlabel('Month')\n",
    "plt.ylabel('GB')\n",
    "plt.title('GB per month')\n",
    "plt.legend(loc= 4)"
   ]
  },
  {
   "cell_type": "markdown",
   "metadata": {},
   "source": [
    "- Ambas tarifas cuentan con un consumo promedio de internet por usuario similar a lo largo del año. Se observa un patron de consumo creciente en volumen desde el inicio del año hacia el fianl del mismo"
   ]
  },
  {
   "cell_type": "code",
   "execution_count": 46,
   "metadata": {},
   "outputs": [
    {
     "data": {
      "text/plain": [
       "<matplotlib.legend.Legend at 0x7efbcc18eac0>"
      ]
     },
     "execution_count": 46,
     "metadata": {},
     "output_type": "execute_result"
    },
    {
     "data": {
      "image/png": "[encoded data removed]",
      "text/plain": [
       "<Figure size 432x288 with 1 Axes>"
      ]
     },
     "metadata": {
      "needs_background": "light"
     },
     "output_type": "display_data"
    }
   ],
   "source": [
    "#Analisis de envolucion de consumo de mensajes a lo largo del año por tipo de plan\n",
    "surf.groupby('month')['messages'].sum().plot(label = 'surf')\n",
    "ultimate.groupby('month')['messages'].sum().plot(label = 'ultimate')\n",
    "\n",
    "plt.xlabel('Month')\n",
    "plt.ylabel('Messages')\n",
    "plt.title('Messages per month')\n",
    "plt.legend(loc= 4)"
   ]
  },
  {
   "cell_type": "code",
   "execution_count": 47,
   "metadata": {},
   "outputs": [
    {
     "data": {
      "text/plain": [
       "<matplotlib.legend.Legend at 0x7efbcc150850>"
      ]
     },
     "execution_count": 47,
     "metadata": {},
     "output_type": "execute_result"
    },
    {
     "data": {
      "image/png": "[encoded data removed]",
      "text/plain": [
       "<Figure size 432x288 with 1 Axes>"
      ]
     },
     "metadata": {
      "needs_background": "light"
     },
     "output_type": "display_data"
    }
   ],
   "source": [
    "#Analisis de envolucion de consumo de mensajes a lo largo del año por tipo de plan - promedio por usuario\n",
    "(surf.groupby('month')['messages'].sum()/surf_users).plot(label = 'surf')\n",
    "(ultimate.groupby('month')['messages'].sum()/ultimate_users).plot(label = 'ultimate')\n",
    "\n",
    "plt.xlabel('Month')\n",
    "plt.ylabel('Messages')\n",
    "plt.title('Messages per month')\n",
    "plt.legend(loc= 4)"
   ]
  },
  {
   "cell_type": "markdown",
   "metadata": {},
   "source": [
    "- Se observa un patron de consumo creciente en volumen desde el inicio del año hacia el fianl del mismo. El volumen de mensajes por usuario promedio es superior en el caso de usuarios de la tarifa Ultimate"
   ]
  },
  {
   "cell_type": "markdown",
   "metadata": {},
   "source": [
    "**Calculo de costos por consumos extras**"
   ]
  },
  {
   "cell_type": "code",
   "execution_count": 48,
   "metadata": {},
   "outputs": [],
   "source": [
    "##Definimos una funcion para calcular los costos excedentes\n",
    "\n",
    "def excedent_cost (row, max_limit, excedent_cost, parametro):\n",
    "    consumo_mes = row[parametro]\n",
    "    if consumo_mes - max_limit > 0:\n",
    "        costo_extra = (consumo_mes - max_limit)*excedent_cost\n",
    "    else:\n",
    "        costo_extra = 0\n",
    "    return costo_extra\n",
    "\n"
   ]
  },
  {
   "cell_type": "code",
   "execution_count": 49,
   "metadata": {},
   "outputs": [
    {
     "name": "stderr",
     "output_type": "stream",
     "text": [
      "/tmp/ipykernel_113/1529099311.py:7: SettingWithCopyWarning: \n",
      "A value is trying to be set on a copy of a slice from a DataFrame.\n",
      "Try using .loc[row_indexer,col_indexer] = value instead\n",
      "\n",
      "See the caveats in the documentation: https://pandas.pydata.org/pandas-docs/stable/user_guide/indexing.html#returning-a-view-versus-a-copy\n",
      "  surf['min_cost'] = surf.apply(lambda aux: excedent_cost(aux, surf_min_limit, surf_min_cost, parameter), axis=1)\n",
      "/tmp/ipykernel_113/1529099311.py:8: SettingWithCopyWarning: \n",
      "A value is trying to be set on a copy of a slice from a DataFrame.\n",
      "Try using .loc[row_indexer,col_indexer] = value instead\n",
      "\n",
      "See the caveats in the documentation: https://pandas.pydata.org/pandas-docs/stable/user_guide/indexing.html#returning-a-view-versus-a-copy\n",
      "  ultimate['min_cost'] = ultimate.apply(lambda aux: excedent_cost(aux, ultimate_min_limit, ultimate_min_cost, parameter), axis=1)\n"
     ]
    }
   ],
   "source": [
    "#Aplicamos la funcion para calcular costo por minuto excedente en las tablas de datos de surf y de ultimate\n",
    "parameter = 'call_duration'\n",
    "surf_min_limit = 500\n",
    "surf_min_cost = 0.03\n",
    "ultimate_min_limit = 3000\n",
    "ultimate_min_cost = 0.01\n",
    "surf['min_cost'] = surf.apply(lambda aux: excedent_cost(aux, surf_min_limit, surf_min_cost, parameter), axis=1)\n",
    "ultimate['min_cost'] = ultimate.apply(lambda aux: excedent_cost(aux, ultimate_min_limit, ultimate_min_cost, parameter), axis=1)"
   ]
  },
  {
   "cell_type": "code",
   "execution_count": 50,
   "metadata": {},
   "outputs": [],
   "source": [
    "#surf.sort_values(by='call_duration', ascending = False) "
   ]
  },
  {
   "cell_type": "code",
   "execution_count": 51,
   "metadata": {},
   "outputs": [
    {
     "name": "stderr",
     "output_type": "stream",
     "text": [
      "/tmp/ipykernel_113/49652172.py:7: SettingWithCopyWarning: \n",
      "A value is trying to be set on a copy of a slice from a DataFrame.\n",
      "Try using .loc[row_indexer,col_indexer] = value instead\n",
      "\n",
      "See the caveats in the documentation: https://pandas.pydata.org/pandas-docs/stable/user_guide/indexing.html#returning-a-view-versus-a-copy\n",
      "  surf['gb_cost'] = surf.apply(lambda aux: excedent_cost(aux, surf_gb_limit, surf_gb_cost, parameter), axis=1)\n",
      "/tmp/ipykernel_113/49652172.py:8: SettingWithCopyWarning: \n",
      "A value is trying to be set on a copy of a slice from a DataFrame.\n",
      "Try using .loc[row_indexer,col_indexer] = value instead\n",
      "\n",
      "See the caveats in the documentation: https://pandas.pydata.org/pandas-docs/stable/user_guide/indexing.html#returning-a-view-versus-a-copy\n",
      "  ultimate['gb_cost'] = ultimate.apply(lambda aux: excedent_cost(aux, ultimate_gb_limit, ultimate_gb_cost, parameter), axis=1)\n"
     ]
    }
   ],
   "source": [
    "#Aplicamos la funcion para calcular costo por gb excedente en las tablas de datos de surf y de ultimate\n",
    "parameter = 'gb_used'\n",
    "surf_gb_limit = 15\n",
    "surf_gb_cost = 10\n",
    "ultimate_gb_limit = 30\n",
    "ultimate_gb_cost = 7\n",
    "surf['gb_cost'] = surf.apply(lambda aux: excedent_cost(aux, surf_gb_limit, surf_gb_cost, parameter), axis=1)\n",
    "ultimate['gb_cost'] = ultimate.apply(lambda aux: excedent_cost(aux, ultimate_gb_limit, ultimate_gb_cost, parameter), axis=1)"
   ]
  },
  {
   "cell_type": "code",
   "execution_count": 52,
   "metadata": {},
   "outputs": [],
   "source": [
    "#surf.sort_values(by='gb_used', ascending = False) "
   ]
  },
  {
   "cell_type": "code",
   "execution_count": 53,
   "metadata": {},
   "outputs": [
    {
     "name": "stderr",
     "output_type": "stream",
     "text": [
      "/tmp/ipykernel_113/1685733361.py:7: SettingWithCopyWarning: \n",
      "A value is trying to be set on a copy of a slice from a DataFrame.\n",
      "Try using .loc[row_indexer,col_indexer] = value instead\n",
      "\n",
      "See the caveats in the documentation: https://pandas.pydata.org/pandas-docs/stable/user_guide/indexing.html#returning-a-view-versus-a-copy\n",
      "  surf['sms_cost'] = surf.apply(lambda aux: excedent_cost(aux, surf_sms_limit, surf_sms_cost, parameter), axis=1)\n",
      "/tmp/ipykernel_113/1685733361.py:8: SettingWithCopyWarning: \n",
      "A value is trying to be set on a copy of a slice from a DataFrame.\n",
      "Try using .loc[row_indexer,col_indexer] = value instead\n",
      "\n",
      "See the caveats in the documentation: https://pandas.pydata.org/pandas-docs/stable/user_guide/indexing.html#returning-a-view-versus-a-copy\n",
      "  ultimate['sms_cost'] = ultimate.apply(lambda aux: excedent_cost(aux, ultimate_sms_limit, ultimate_sms_cost, parameter), axis=1)\n"
     ]
    }
   ],
   "source": [
    "#aplicamos la funcion para calcular costo de SMS excedente en las tablas de surf y de ultimate\n",
    "parameter = 'messages'\n",
    "surf_sms_limit = 50\n",
    "surf_sms_cost = 0.03\n",
    "ultimate_sms_limit = 1000\n",
    "ultimate_sms_cost = 0.01\n",
    "surf['sms_cost'] = surf.apply(lambda aux: excedent_cost(aux, surf_sms_limit, surf_sms_cost, parameter), axis=1)\n",
    "ultimate['sms_cost'] = ultimate.apply(lambda aux: excedent_cost(aux, ultimate_sms_limit, ultimate_sms_cost, parameter), axis=1)"
   ]
  },
  {
   "cell_type": "code",
   "execution_count": 54,
   "metadata": {},
   "outputs": [],
   "source": [
    "#surf.sort_values(by='messages', ascending = False).head()"
   ]
  },
  {
   "cell_type": "markdown",
   "metadata": {},
   "source": [
    "- Calculo de ingresos mensuales totales por mes por usuario"
   ]
  },
  {
   "cell_type": "code",
   "execution_count": 55,
   "metadata": {
    "scrolled": true
   },
   "outputs": [
    {
     "name": "stderr",
     "output_type": "stream",
     "text": [
      "/tmp/ipykernel_113/2600446437.py:3: SettingWithCopyWarning: \n",
      "A value is trying to be set on a copy of a slice from a DataFrame.\n",
      "Try using .loc[row_indexer,col_indexer] = value instead\n",
      "\n",
      "See the caveats in the documentation: https://pandas.pydata.org/pandas-docs/stable/user_guide/indexing.html#returning-a-view-versus-a-copy\n",
      "  surf['total_income'] = surf['min_cost']+surf['gb_cost']+surf['sms_cost']+ surf_fijo\n"
     ]
    },
    {
     "data": {
      "text/html": [
       "<div>\n",
       "<style scoped>\n",
       "    .dataframe tbody tr th:only-of-type {\n",
       "        vertical-align: middle;\n",
       "    }\n",
       "\n",
       "    .dataframe tbody tr th {\n",
       "        vertical-align: top;\n",
       "    }\n",
       "\n",
       "    .dataframe thead th {\n",
       "        text-align: right;\n",
       "    }\n",
       "</style>\n",
       "<table border=\"1\" class=\"dataframe\">\n",
       "  <thead>\n",
       "    <tr style=\"text-align: right;\">\n",
       "      <th></th>\n",
       "      <th>user_id</th>\n",
       "      <th>month</th>\n",
       "      <th>call_duration</th>\n",
       "      <th>call_count</th>\n",
       "      <th>month_i</th>\n",
       "      <th>mb_used</th>\n",
       "      <th>gb_used</th>\n",
       "      <th>month_m</th>\n",
       "      <th>messages</th>\n",
       "      <th>first_name</th>\n",
       "      <th>last_name</th>\n",
       "      <th>age</th>\n",
       "      <th>city</th>\n",
       "      <th>reg_date</th>\n",
       "      <th>plan</th>\n",
       "      <th>churn_date</th>\n",
       "      <th>min_cost</th>\n",
       "      <th>gb_cost</th>\n",
       "      <th>sms_cost</th>\n",
       "      <th>total_income</th>\n",
       "    </tr>\n",
       "  </thead>\n",
       "  <tbody>\n",
       "    <tr>\n",
       "      <th>1</th>\n",
       "      <td>1001</td>\n",
       "      <td>8.0</td>\n",
       "      <td>182.0</td>\n",
       "      <td>27.0</td>\n",
       "      <td>8.0</td>\n",
       "      <td>6919.15</td>\n",
       "      <td>7.0</td>\n",
       "      <td>8.0</td>\n",
       "      <td>30.0</td>\n",
       "      <td>Mickey</td>\n",
       "      <td>Wilkerson</td>\n",
       "      <td>28</td>\n",
       "      <td>Seattle-Tacoma-Bellevue, WA MSA</td>\n",
       "      <td>2018-08-13</td>\n",
       "      <td>surf</td>\n",
       "      <td>NaN</td>\n",
       "      <td>0.0</td>\n",
       "      <td>0.0</td>\n",
       "      <td>0.00</td>\n",
       "      <td>20.00</td>\n",
       "    </tr>\n",
       "    <tr>\n",
       "      <th>2</th>\n",
       "      <td>1001</td>\n",
       "      <td>9.0</td>\n",
       "      <td>315.0</td>\n",
       "      <td>49.0</td>\n",
       "      <td>9.0</td>\n",
       "      <td>13314.82</td>\n",
       "      <td>14.0</td>\n",
       "      <td>9.0</td>\n",
       "      <td>44.0</td>\n",
       "      <td>Mickey</td>\n",
       "      <td>Wilkerson</td>\n",
       "      <td>28</td>\n",
       "      <td>Seattle-Tacoma-Bellevue, WA MSA</td>\n",
       "      <td>2018-08-13</td>\n",
       "      <td>surf</td>\n",
       "      <td>NaN</td>\n",
       "      <td>0.0</td>\n",
       "      <td>0.0</td>\n",
       "      <td>0.00</td>\n",
       "      <td>20.00</td>\n",
       "    </tr>\n",
       "    <tr>\n",
       "      <th>3</th>\n",
       "      <td>1001</td>\n",
       "      <td>10.0</td>\n",
       "      <td>393.0</td>\n",
       "      <td>65.0</td>\n",
       "      <td>10.0</td>\n",
       "      <td>22330.49</td>\n",
       "      <td>22.0</td>\n",
       "      <td>10.0</td>\n",
       "      <td>53.0</td>\n",
       "      <td>Mickey</td>\n",
       "      <td>Wilkerson</td>\n",
       "      <td>28</td>\n",
       "      <td>Seattle-Tacoma-Bellevue, WA MSA</td>\n",
       "      <td>2018-08-13</td>\n",
       "      <td>surf</td>\n",
       "      <td>NaN</td>\n",
       "      <td>0.0</td>\n",
       "      <td>70.0</td>\n",
       "      <td>0.09</td>\n",
       "      <td>90.09</td>\n",
       "    </tr>\n",
       "    <tr>\n",
       "      <th>4</th>\n",
       "      <td>1001</td>\n",
       "      <td>11.0</td>\n",
       "      <td>426.0</td>\n",
       "      <td>64.0</td>\n",
       "      <td>11.0</td>\n",
       "      <td>18504.30</td>\n",
       "      <td>19.0</td>\n",
       "      <td>11.0</td>\n",
       "      <td>36.0</td>\n",
       "      <td>Mickey</td>\n",
       "      <td>Wilkerson</td>\n",
       "      <td>28</td>\n",
       "      <td>Seattle-Tacoma-Bellevue, WA MSA</td>\n",
       "      <td>2018-08-13</td>\n",
       "      <td>surf</td>\n",
       "      <td>NaN</td>\n",
       "      <td>0.0</td>\n",
       "      <td>40.0</td>\n",
       "      <td>0.00</td>\n",
       "      <td>60.00</td>\n",
       "    </tr>\n",
       "    <tr>\n",
       "      <th>5</th>\n",
       "      <td>1001</td>\n",
       "      <td>12.0</td>\n",
       "      <td>412.0</td>\n",
       "      <td>56.0</td>\n",
       "      <td>12.0</td>\n",
       "      <td>19369.18</td>\n",
       "      <td>19.0</td>\n",
       "      <td>12.0</td>\n",
       "      <td>44.0</td>\n",
       "      <td>Mickey</td>\n",
       "      <td>Wilkerson</td>\n",
       "      <td>28</td>\n",
       "      <td>Seattle-Tacoma-Bellevue, WA MSA</td>\n",
       "      <td>2018-08-13</td>\n",
       "      <td>surf</td>\n",
       "      <td>NaN</td>\n",
       "      <td>0.0</td>\n",
       "      <td>40.0</td>\n",
       "      <td>0.00</td>\n",
       "      <td>60.00</td>\n",
       "    </tr>\n",
       "  </tbody>\n",
       "</table>\n",
       "</div>"
      ],
      "text/plain": [
       "   user_id  month  call_duration  call_count  month_i   mb_used  gb_used  \\\n",
       "1     1001    8.0          182.0        27.0      8.0   6919.15      7.0   \n",
       "2     1001    9.0          315.0        49.0      9.0  13314.82     14.0   \n",
       "3     1001   10.0          393.0        65.0     10.0  22330.49     22.0   \n",
       "4     1001   11.0          426.0        64.0     11.0  18504.30     19.0   \n",
       "5     1001   12.0          412.0        56.0     12.0  19369.18     19.0   \n",
       "\n",
       "   month_m  messages first_name  last_name  age  \\\n",
       "1      8.0      30.0     Mickey  Wilkerson   28   \n",
       "2      9.0      44.0     Mickey  Wilkerson   28   \n",
       "3     10.0      53.0     Mickey  Wilkerson   28   \n",
       "4     11.0      36.0     Mickey  Wilkerson   28   \n",
       "5     12.0      44.0     Mickey  Wilkerson   28   \n",
       "\n",
       "                              city    reg_date  plan churn_date  min_cost  \\\n",
       "1  Seattle-Tacoma-Bellevue, WA MSA  2018-08-13  surf        NaN       0.0   \n",
       "2  Seattle-Tacoma-Bellevue, WA MSA  2018-08-13  surf        NaN       0.0   \n",
       "3  Seattle-Tacoma-Bellevue, WA MSA  2018-08-13  surf        NaN       0.0   \n",
       "4  Seattle-Tacoma-Bellevue, WA MSA  2018-08-13  surf        NaN       0.0   \n",
       "5  Seattle-Tacoma-Bellevue, WA MSA  2018-08-13  surf        NaN       0.0   \n",
       "\n",
       "   gb_cost  sms_cost  total_income  \n",
       "1      0.0      0.00         20.00  \n",
       "2      0.0      0.00         20.00  \n",
       "3     70.0      0.09         90.09  \n",
       "4     40.0      0.00         60.00  \n",
       "5     40.0      0.00         60.00  "
      ]
     },
     "execution_count": 55,
     "metadata": {},
     "output_type": "execute_result"
    }
   ],
   "source": [
    "#Calculo de ingresos totale para la tarifa SURF\n",
    "surf_fijo = 20\n",
    "surf['total_income'] = surf['min_cost']+surf['gb_cost']+surf['sms_cost']+ surf_fijo\n",
    "surf.head()"
   ]
  },
  {
   "cell_type": "code",
   "execution_count": 56,
   "metadata": {},
   "outputs": [
    {
     "name": "stderr",
     "output_type": "stream",
     "text": [
      "/tmp/ipykernel_113/3172717367.py:3: SettingWithCopyWarning: \n",
      "A value is trying to be set on a copy of a slice from a DataFrame.\n",
      "Try using .loc[row_indexer,col_indexer] = value instead\n",
      "\n",
      "See the caveats in the documentation: https://pandas.pydata.org/pandas-docs/stable/user_guide/indexing.html#returning-a-view-versus-a-copy\n",
      "  ultimate['total_income'] = ultimate['min_cost']+ultimate['gb_cost']+ultimate['sms_cost']+ ultimate_fijo\n"
     ]
    },
    {
     "data": {
      "text/html": [
       "<div>\n",
       "<style scoped>\n",
       "    .dataframe tbody tr th:only-of-type {\n",
       "        vertical-align: middle;\n",
       "    }\n",
       "\n",
       "    .dataframe tbody tr th {\n",
       "        vertical-align: top;\n",
       "    }\n",
       "\n",
       "    .dataframe thead th {\n",
       "        text-align: right;\n",
       "    }\n",
       "</style>\n",
       "<table border=\"1\" class=\"dataframe\">\n",
       "  <thead>\n",
       "    <tr style=\"text-align: right;\">\n",
       "      <th></th>\n",
       "      <th>user_id</th>\n",
       "      <th>month</th>\n",
       "      <th>call_duration</th>\n",
       "      <th>call_count</th>\n",
       "      <th>month_i</th>\n",
       "      <th>mb_used</th>\n",
       "      <th>gb_used</th>\n",
       "      <th>month_m</th>\n",
       "      <th>messages</th>\n",
       "      <th>first_name</th>\n",
       "      <th>last_name</th>\n",
       "      <th>age</th>\n",
       "      <th>city</th>\n",
       "      <th>reg_date</th>\n",
       "      <th>plan</th>\n",
       "      <th>churn_date</th>\n",
       "      <th>min_cost</th>\n",
       "      <th>gb_cost</th>\n",
       "      <th>sms_cost</th>\n",
       "      <th>total_income</th>\n",
       "    </tr>\n",
       "  </thead>\n",
       "  <tbody>\n",
       "    <tr>\n",
       "      <th>0</th>\n",
       "      <td>1000</td>\n",
       "      <td>12.0</td>\n",
       "      <td>124.0</td>\n",
       "      <td>16.0</td>\n",
       "      <td>12.0</td>\n",
       "      <td>1901.47</td>\n",
       "      <td>2.0</td>\n",
       "      <td>12.0</td>\n",
       "      <td>11.0</td>\n",
       "      <td>Anamaria</td>\n",
       "      <td>Bauer</td>\n",
       "      <td>45</td>\n",
       "      <td>Atlanta-Sandy Springs-Roswell, GA MSA</td>\n",
       "      <td>2018-12-24</td>\n",
       "      <td>ultimate</td>\n",
       "      <td>NaN</td>\n",
       "      <td>0</td>\n",
       "      <td>0.0</td>\n",
       "      <td>0</td>\n",
       "      <td>70.0</td>\n",
       "    </tr>\n",
       "    <tr>\n",
       "      <th>19</th>\n",
       "      <td>1006</td>\n",
       "      <td>11.0</td>\n",
       "      <td>10.0</td>\n",
       "      <td>2.0</td>\n",
       "      <td>11.0</td>\n",
       "      <td>2068.37</td>\n",
       "      <td>3.0</td>\n",
       "      <td>11.0</td>\n",
       "      <td>15.0</td>\n",
       "      <td>Jesusa</td>\n",
       "      <td>Bradford</td>\n",
       "      <td>73</td>\n",
       "      <td>San Francisco-Oakland-Berkeley, CA MSA</td>\n",
       "      <td>2018-11-27</td>\n",
       "      <td>ultimate</td>\n",
       "      <td>2018-12-18</td>\n",
       "      <td>0</td>\n",
       "      <td>0.0</td>\n",
       "      <td>0</td>\n",
       "      <td>70.0</td>\n",
       "    </tr>\n",
       "    <tr>\n",
       "      <th>20</th>\n",
       "      <td>1006</td>\n",
       "      <td>12.0</td>\n",
       "      <td>59.0</td>\n",
       "      <td>9.0</td>\n",
       "      <td>12.0</td>\n",
       "      <td>32118.82</td>\n",
       "      <td>32.0</td>\n",
       "      <td>12.0</td>\n",
       "      <td>139.0</td>\n",
       "      <td>Jesusa</td>\n",
       "      <td>Bradford</td>\n",
       "      <td>73</td>\n",
       "      <td>San Francisco-Oakland-Berkeley, CA MSA</td>\n",
       "      <td>2018-11-27</td>\n",
       "      <td>ultimate</td>\n",
       "      <td>2018-12-18</td>\n",
       "      <td>0</td>\n",
       "      <td>14.0</td>\n",
       "      <td>0</td>\n",
       "      <td>84.0</td>\n",
       "    </tr>\n",
       "    <tr>\n",
       "      <th>26</th>\n",
       "      <td>1008</td>\n",
       "      <td>10.0</td>\n",
       "      <td>476.0</td>\n",
       "      <td>71.0</td>\n",
       "      <td>10.0</td>\n",
       "      <td>17106.99</td>\n",
       "      <td>17.0</td>\n",
       "      <td>10.0</td>\n",
       "      <td>21.0</td>\n",
       "      <td>Emely</td>\n",
       "      <td>Hoffman</td>\n",
       "      <td>53</td>\n",
       "      <td>Orlando-Kissimmee-Sanford, FL MSA</td>\n",
       "      <td>2018-08-03</td>\n",
       "      <td>ultimate</td>\n",
       "      <td>NaN</td>\n",
       "      <td>0</td>\n",
       "      <td>0.0</td>\n",
       "      <td>0</td>\n",
       "      <td>70.0</td>\n",
       "    </tr>\n",
       "    <tr>\n",
       "      <th>27</th>\n",
       "      <td>1008</td>\n",
       "      <td>11.0</td>\n",
       "      <td>446.0</td>\n",
       "      <td>63.0</td>\n",
       "      <td>11.0</td>\n",
       "      <td>23676.72</td>\n",
       "      <td>24.0</td>\n",
       "      <td>11.0</td>\n",
       "      <td>37.0</td>\n",
       "      <td>Emely</td>\n",
       "      <td>Hoffman</td>\n",
       "      <td>53</td>\n",
       "      <td>Orlando-Kissimmee-Sanford, FL MSA</td>\n",
       "      <td>2018-08-03</td>\n",
       "      <td>ultimate</td>\n",
       "      <td>NaN</td>\n",
       "      <td>0</td>\n",
       "      <td>0.0</td>\n",
       "      <td>0</td>\n",
       "      <td>70.0</td>\n",
       "    </tr>\n",
       "  </tbody>\n",
       "</table>\n",
       "</div>"
      ],
      "text/plain": [
       "    user_id  month  call_duration  call_count  month_i   mb_used  gb_used  \\\n",
       "0      1000   12.0          124.0        16.0     12.0   1901.47      2.0   \n",
       "19     1006   11.0           10.0         2.0     11.0   2068.37      3.0   \n",
       "20     1006   12.0           59.0         9.0     12.0  32118.82     32.0   \n",
       "26     1008   10.0          476.0        71.0     10.0  17106.99     17.0   \n",
       "27     1008   11.0          446.0        63.0     11.0  23676.72     24.0   \n",
       "\n",
       "    month_m  messages first_name last_name  age  \\\n",
       "0      12.0      11.0   Anamaria     Bauer   45   \n",
       "19     11.0      15.0     Jesusa  Bradford   73   \n",
       "20     12.0     139.0     Jesusa  Bradford   73   \n",
       "26     10.0      21.0      Emely   Hoffman   53   \n",
       "27     11.0      37.0      Emely   Hoffman   53   \n",
       "\n",
       "                                      city    reg_date      plan  churn_date  \\\n",
       "0    Atlanta-Sandy Springs-Roswell, GA MSA  2018-12-24  ultimate         NaN   \n",
       "19  San Francisco-Oakland-Berkeley, CA MSA  2018-11-27  ultimate  2018-12-18   \n",
       "20  San Francisco-Oakland-Berkeley, CA MSA  2018-11-27  ultimate  2018-12-18   \n",
       "26       Orlando-Kissimmee-Sanford, FL MSA  2018-08-03  ultimate         NaN   \n",
       "27       Orlando-Kissimmee-Sanford, FL MSA  2018-08-03  ultimate         NaN   \n",
       "\n",
       "    min_cost  gb_cost  sms_cost  total_income  \n",
       "0          0      0.0         0          70.0  \n",
       "19         0      0.0         0          70.0  \n",
       "20         0     14.0         0          84.0  \n",
       "26         0      0.0         0          70.0  \n",
       "27         0      0.0         0          70.0  "
      ]
     },
     "execution_count": 56,
     "metadata": {},
     "output_type": "execute_result"
    }
   ],
   "source": [
    "#Calculo de ingresos totale para la tarifa Ultimate\n",
    "ultimate_fijo = 70\n",
    "ultimate['total_income'] = ultimate['min_cost']+ultimate['gb_cost']+ultimate['sms_cost']+ ultimate_fijo\n",
    "ultimate.head()"
   ]
  },
  {
   "cell_type": "markdown",
   "metadata": {},
   "source": [
    "- Análisis de la ingresos por tipo de plan"
   ]
  },
  {
   "cell_type": "code",
   "execution_count": 57,
   "metadata": {},
   "outputs": [
    {
     "data": {
      "text/plain": [
       "count    1573.000000\n",
       "mean       60.706408\n",
       "std        55.388042\n",
       "min        20.000000\n",
       "25%        20.000000\n",
       "50%        40.360000\n",
       "75%        80.360000\n",
       "max       590.370000\n",
       "Name: total_income, dtype: float64"
      ]
     },
     "execution_count": 57,
     "metadata": {},
     "output_type": "execute_result"
    },
    {
     "data": {
      "image/png": "[encoded data removed]",
      "text/plain": [
       "<Figure size 432x288 with 1 Axes>"
      ]
     },
     "metadata": {
      "needs_background": "light"
     },
     "output_type": "display_data"
    }
   ],
   "source": [
    "#Ingresos tarifa SURF\n",
    "\n",
    "Q1 = surf['total_income'].quantile(0.25)\n",
    "Q3 = surf['total_income'].quantile(0.75)\n",
    "IQR = Q3 - Q1\n",
    "\n",
    "surf.boxplot(column = 'total_income')\n",
    "plt.hlines(y = Q1-1.5*IQR, xmin=0.9, xmax = 1.1 , color = 'red')\n",
    "plt.hlines(y = Q3+1.5*IQR, xmin=0.9, xmax = 1.1 , color = 'red')\n",
    "plt.ylim(-85, 180)\n",
    "plt.title('Surf income per user per month')\n",
    "plt.ylabel('$')\n",
    "surf['total_income'].describe()"
   ]
  },
  {
   "cell_type": "markdown",
   "metadata": {},
   "source": [
    "- Los valores de ingresos de usuarios de Surf, estan fuertemente concentrados en valores mas pequeños que la mediana(el valor teorico del bigote inferior, esta muy por debajo del valor minimo de 20). \n",
    "- Presentan valores de ingresos atipicos por encima del quantile 75%\n",
    "- Los valore de ingresos presentan una desviacion standard significativa respecto de la media"
   ]
  },
  {
   "cell_type": "code",
   "execution_count": 58,
   "metadata": {},
   "outputs": [
    {
     "data": {
      "text/plain": [
       "count    720.000000\n",
       "mean      72.313889\n",
       "std       11.395108\n",
       "min       70.000000\n",
       "25%       70.000000\n",
       "50%       70.000000\n",
       "75%       70.000000\n",
       "max      182.000000\n",
       "Name: total_income, dtype: float64"
      ]
     },
     "execution_count": 58,
     "metadata": {},
     "output_type": "execute_result"
    },
    {
     "data": {
      "image/png": "[encoded data removed]",
      "text/plain": [
       "<Figure size 432x288 with 1 Axes>"
      ]
     },
     "metadata": {
      "needs_background": "light"
     },
     "output_type": "display_data"
    }
   ],
   "source": [
    "#ingresos tarifa Ultimate\n",
    "\n",
    "Q1 = ultimate['total_income'].quantile(0.25)\n",
    "Q3 = ultimate['total_income'].quantile(0.75)\n",
    "IQR = Q3 - Q1\n",
    "\n",
    "ultimate.boxplot(column = 'total_income')\n",
    "plt.hlines(y = Q1-1.5*IQR, xmin=0.9, xmax = 1.1 , color = 'red')\n",
    "plt.hlines(y = Q3+1.5*IQR, xmin=0.9, xmax = 1.1 , color = 'red')\n",
    "plt.ylim(55, 85)\n",
    "plt.title('Ulitmate income per user per month')\n",
    "plt.ylabel('$')\n",
    "ultimate['total_income'].describe()\n"
   ]
  },
  {
   "cell_type": "markdown",
   "metadata": {},
   "source": [
    "- Los valores de ingresos de usuarios de la tarifa Ultimate, están fuertemente concentrados en torno a la mediana de valores, presentando una desviacion standard respecto de la media muy pequeña"
   ]
  },
  {
   "cell_type": "markdown",
   "metadata": {},
   "source": [
    "- Paso 4. **Prueba de hipostesis:**\n",
    "\n",
    "\n",
    "Caso 1:\n",
    "\n",
    "Hipoteisis nula: la media de ultimate y de surf son iguales\n",
    "\n",
    "Hipotesis alternativa: la media de ultimate y de surf son distintas\n",
    "\n",
    "Nivel de significancia alpha = 5%"
   ]
  },
  {
   "cell_type": "code",
   "execution_count": 59,
   "metadata": {},
   "outputs": [],
   "source": [
    "#Evaluamos la hipotesis de igualdad de medias de ambas tarifas\n",
    "results_fee = st.ttest_ind(ultimate['total_income'],surf['total_income'] )"
   ]
  },
  {
   "cell_type": "code",
   "execution_count": 60,
   "metadata": {},
   "outputs": [
    {
     "name": "stdout",
     "output_type": "stream",
     "text": [
      "p-value:  2.862674510698644e-08\n",
      "Rechazamos la hipótesis nula\n"
     ]
    }
   ],
   "source": [
    "alpha = 0.05\n",
    "print('p-value: ', results_fee.pvalue)\n",
    "\n",
    "if (results_fee.pvalue  < alpha):\n",
    "    print(\"Rechazamos la hipótesis nula\")\n",
    "else:\n",
    "    print(\"No rechazamos la hipótesis nula\") "
   ]
  },
  {
   "cell_type": "markdown",
   "metadata": {},
   "source": [
    "- Dado que pvalue < alpha , se rechaza la hipotesis nula. Por lo tanto no podemos concluir con  un nivel de confianza del 95% que las medias de ingresos mensuales por usuario difieren entre ambas tarifas"
   ]
  },
  {
   "cell_type": "markdown",
   "metadata": {},
   "source": [
    "- Caso 2: Prueba de hipostesis:\n",
    "\n",
    "Hipoteisis nula: el ingreso promedio de usuarios en new york es igual a la de otras ciudades\n",
    "\n",
    "Hipotesis alternativa: el ingreso promedio de usuarios en new york es distinta a la de otras ciudades\n",
    "\n",
    "Nivel de significancia alpha = 5%"
   ]
  },
  {
   "cell_type": "code",
   "execution_count": 61,
   "metadata": {},
   "outputs": [],
   "source": [
    "#Creamos un df con los datos de ambas tarifas\n",
    "df1 = ultimate[['total_income', 'city', 'user_id']]\n",
    "df2 = surf[['total_income', 'city', 'user_id']]\n",
    "income_all = df1.append(df2)\n"
   ]
  },
  {
   "cell_type": "code",
   "execution_count": 62,
   "metadata": {},
   "outputs": [],
   "source": [
    "#Creamos un df para los usuarios de New york y otro para el resto\n",
    "new_york = income_all[income_all['city']=='New York-Newark-Jersey City, NY-NJ-PA MSA']\n",
    "other = income_all[~(income_all['city']=='New York-Newark-Jersey City, NY-NJ-PA MSA')]"
   ]
  },
  {
   "cell_type": "code",
   "execution_count": 63,
   "metadata": {},
   "outputs": [
    {
     "name": "stdout",
     "output_type": "stream",
     "text": [
      "p-value:  0.04355743162134274\n",
      "Rechazamos la hipótesis nula\n"
     ]
    }
   ],
   "source": [
    "#Probamos la hipostesis de la igualdad de medias\n",
    "results_city = st.ttest_ind(new_york['total_income'] ,other['total_income'] )\n",
    "\n",
    "alpha = 0.05\n",
    "print('p-value: ', results_city.pvalue)\n",
    "\n",
    "if (results_city.pvalue  < alpha):\n",
    "    print(\"Rechazamos la hipótesis nula\")\n",
    "else:\n",
    "    print(\"No rechazamos la hipótesis nula\") "
   ]
  },
  {
   "cell_type": "markdown",
   "metadata": {},
   "source": [
    "- Dado que pvalue< alpha , se rechaza la hipotesis nula y se acepta la hipostetis alternativa. Podemos asegurar con una confianza del 95% que las medias de ingresos mensuales por cliente son distintas para New York en comparacion con el resto de las cuidades"
   ]
  },
  {
   "cell_type": "markdown",
   "metadata": {},
   "source": [
    "# Resumen y conclusiones.\n",
    "\n",
    "Para el procesamiento de datos se realizaron ajuste y se agregaron columnas necesarias: \n",
    "\n",
    "* Se ajustaron el tipo de datos de las columnas conteniendo fechas al tipo Daytime\n",
    "* Se agregaron las columnas necesarias para el análisis de los datos: mes en que se realizaron las llamadas, se enviaron los sms y se consumieron GB. A su vez se redondearon los consumos individuales de llamadas y mensuales de gb\n",
    "* Se crearon tablas para consolidar la información de consumo por usuario por mes.\n",
    "* Se unificaron las tablas con toda la información de consumos por mes y se agrega la información de tipo de plan. A esta tabla resultante, se le completan los nombres de usuarios ausentes y se rellenan los valores de consumos ausentes por ceros\n",
    "\n",
    "Para el analisis de datos, se segmentaron los datos por tipo de plan y se trazaron histogramas de consumo. Se calcularon medias, varianzas y desvíos, concluyendo que:\n",
    "\n",
    "* La duración de las llamadas de usuarios de ambos planes tiene una distribución similar, con una media similiar (429 vs 430) y un desvío standard levemente superior para el  caso de los usuarios de ultimate (234 vs 240)\n",
    "* El consumo de internet de ambos planes tiene una distribución similar, con una media y un desvío estándar similares entre si (media en torno a 17 y desvío standard en torno a 8)\n",
    "* La cantidad de sms enviados por mes, tiene una distribución similar para los usuarios de ambos planes, con una media superior para el caso de usuarios de ultimate (31 vs 38) y un desvío standard relativamente similar (34 vs 35)\n",
    "\n",
    "A su vez, se trazaron graficos de lineas para analizar la evolucion de consumos en el tiempo, concluyendo que:\n",
    "Los consumos de minutos de llamada, mensajes y gb, aumentan desde el inicio alcanzando un pico hacia el final del año. Dicho comportamiento es semejante para ambos tipo de plan.\n",
    "\n",
    "En cuanto al consumo promedio por usuario, el mismo es similar para el consumo de minutos y gb. EL consumo de mensajes por usuario es superior para el caso de tarifa Ultimate, en especial hacia los ultimos meses del año.\n",
    "\n",
    "Se trazaron diagramas de caja para la media de ingresos. A partir de los mismos se concluyó que:\n",
    "\n",
    "- Los valores de ingresos de usuarios de Surf, estan fuertemente concentrados en valores mas pequeños que la mediana de 61$, con una desviacion standard significativa respecto de la media 55$\n",
    "\n",
    "\n",
    "- Los valores de ingresos de usuarios de la tarifa Ultimate, están fuertemente concentrados en torno a la mediana de valores de 70$, presentando una desviacion standard respecto de la media pequeña de 11$\n",
    "\n",
    "**Prueba de hipótesis**\n",
    "\n",
    "Se creo una función para calcular el costo de los consumos excedentes de cada plan. Se aplica la función a la tabla, generando nuevas columnas de costo adicionales. Con dicha información se calcula el ingreso total por cliente por mes\n",
    "\n",
    "Caso 1.\n",
    "Hipótesis Nula: la media de ingresos mensuales por cliente Ultimate es igual a la de los clientes surf\n",
    "\n",
    "Hipótesis alternativa: la media de ingresos mensuales por cliente Ultimate es distinta a la de los clientes surf\n",
    "\n",
    "Se realizó una prueba ttest de igualdad de medias para ambas poblaciones, con Alpha igual a 5%. Dado que el pvalue obtenido es menor a alpha , se rechaza la hipótesis nula. Se puede afirmar con un nivel de confianza del 95% que las medias de ingreso difieren según el tipo de tarifa.\n",
    "\n",
    "Caso 2.\n",
    "Hipótesis Nula: la media de ingresos mensuales por cliente de New York es igual a la de los clientes del resto de las cuidades.\n",
    "\n",
    "Hipótesis alternativa: : la media de ingresos mensuales por cliente de New York es distinta a la de los clientes del resto de las cuidades\n",
    "\n",
    "Se realizó una prueba ttest de igualdad de medias para ambas poblaciones, con alpha igual a 5%. Dado que el pvalue obtenido es menor a alpha,  se rechaza la hipótesis nula. Se puede afirmar con un nivel de confianza del 95% que la media de ingresos mensuales por cliente de New york difiere de aquella del resto de las cuidades\n"
   ]
  }
 ],
 "metadata": {
  "kernelspec": {
   "display_name": "Python 3 (ipykernel)",
   "language": "python",
   "name": "python3"
  },
  "language_info": {
   "codemirror_mode": {
    "name": "ipython",
    "version": 3
   },
   "file_extension": ".py",
   "mimetype": "text/x-python",
   "name": "python",
   "nbconvert_exporter": "python",
   "pygments_lexer": "ipython3",
   "version": "3.9.5"
  },
  "toc": {
   "base_numbering": 1,
   "nav_menu": {},
   "number_sections": true,
   "sideBar": true,
   "skip_h1_title": true,
   "title_cell": "Table of Contents",
   "title_sidebar": "Contents",
   "toc_cell": false,
   "toc_position": {},
   "toc_section_display": true,
   "toc_window_display": false
  }
 },
 "nbformat": 4,
 "nbformat_minor": 2
}
